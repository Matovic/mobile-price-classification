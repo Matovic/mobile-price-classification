{
 "cells": [
  {
   "cell_type": "markdown",
   "metadata": {},
   "source": [
    "# Mobile price classification with multilayer perceptron\n",
    "## Tensorflow\n",
    "Erik Matovič and Jakub Horvat\n",
    "\n",
    "[Dataset](https://www.kaggle.com/datasets/iabhishekofficial/mobile-price-classification?select=train.csv)\n",
    "\n",
    "Predict a price range indicating how high the price is\n",
    "\n",
    "### 0. Imports"
   ]
  },
  {
   "cell_type": "code",
   "execution_count": 2,
   "metadata": {},
   "outputs": [],
   "source": [
    "from utils import split_train_val\n",
    "import tensorflow as tf\n",
    "from tensorflow import keras\n",
    "import pandas as pd\n",
    "import wandb\n",
    "from wandb.keras import WandbMetricsLogger, WandbModelCheckpoint\n",
    "from sklearn.model_selection import train_test_split\n",
    "from utils import check_null_values, print_sum_null, rescale, split_data\n",
    "import numpy as np"
   ]
  },
  {
   "cell_type": "code",
   "execution_count": 3,
   "metadata": {},
   "outputs": [
    {
     "name": "stdout",
     "output_type": "stream",
     "text": [
      "2.11.0\n",
      "Num GPUs Available:  0\n",
      "tf.Tensor(1276.0834, shape=(), dtype=float32)\n",
      "[]\n"
     ]
    }
   ],
   "source": [
    "config = tf.compat.v1.ConfigProto()\n",
    "config.gpu_options.allow_growth = True\n",
    "session = tf.compat.v1.Session(config=config)\n",
    "\n",
    "print(tf.__version__)\n",
    "print(\"Num GPUs Available: \", len(tf.config.list_physical_devices('GPU')))\n",
    "print(tf.reduce_sum(tf.random.normal([1000, 1000])))\n",
    "print(tf.config.list_physical_devices('GPU'))\n"
   ]
  },
  {
   "cell_type": "code",
   "execution_count": 4,
   "metadata": {},
   "outputs": [
    {
     "name": "stderr",
     "output_type": "stream",
     "text": [
      "wandb: Currently logged in as: jakub-horvat56 (testsd). Use `wandb login --relogin` to force relogin\n"
     ]
    },
    {
     "data": {
      "text/plain": "<IPython.core.display.HTML object>",
      "text/html": "wandb version 0.14.0 is available!  To upgrade, please run:\n $ pip install wandb --upgrade"
     },
     "metadata": {},
     "output_type": "display_data"
    },
    {
     "data": {
      "text/plain": "<IPython.core.display.HTML object>",
      "text/html": "Tracking run with wandb version 0.13.4"
     },
     "metadata": {},
     "output_type": "display_data"
    },
    {
     "data": {
      "text/plain": "<IPython.core.display.HTML object>",
      "text/html": "Run data is saved locally in <code>D:\\skola\\ING\\LS2023\\NSIETE\\mobile-price-classification\\src\\wandb\\run-20230329_015714-iiw6arjk</code>"
     },
     "metadata": {},
     "output_type": "display_data"
    },
    {
     "data": {
      "text/plain": "<IPython.core.display.HTML object>",
      "text/html": "Syncing run <strong><a href=\"https://wandb.ai/testsd/nsiete1/runs/iiw6arjk\" target=\"_blank\">whole-pond-59</a></strong> to <a href=\"https://wandb.ai/testsd/nsiete1\" target=\"_blank\">Weights & Biases</a> (<a href=\"https://wandb.me/run\" target=\"_blank\">docs</a>)<br/>"
     },
     "metadata": {},
     "output_type": "display_data"
    }
   ],
   "source": [
    "wandb.login()\n",
    "run=wandb.init(project=\"nsiete1\")"
   ]
  },
  {
   "cell_type": "markdown",
   "metadata": {},
   "source": [
    "### 1. Data Preprocessing\n",
    "\n",
    "Based on [exploratory data analysis](EDA.ipynb) test set does not have target variable price_range. We split our dataset into train-dev-test."
   ]
  },
  {
   "cell_type": "code",
   "execution_count": 5,
   "metadata": {},
   "outputs": [
    {
     "name": "stdout",
     "output_type": "stream",
     "text": [
      "(1800, 21) (200, 21)\n"
     ]
    }
   ],
   "source": [
    "# read datasets\n",
    "df_train = pd.read_csv('../data/train.csv', sep=',')\n",
    "df_test = df_train[-200:]\n",
    "df_train = df_train[:-200]\n",
    "print(df_train.shape,df_test.shape)\n"
   ]
  },
  {
   "cell_type": "code",
   "execution_count": 6,
   "metadata": {},
   "outputs": [
    {
     "name": "stdout",
     "output_type": "stream",
     "text": [
      "[1 2 2 ... 0 1 2]\n"
     ]
    }
   ],
   "source": [
    "x_train = df_train.values[:, :-1]       #vsetko okrem price range\n",
    "x_train = x_train.astype('float32')     # input data as floats\n",
    "#x_train\n",
    "y_train = df_train.values[:, -1]  # price range\n",
    "y_train = y_train.astype('int')\n",
    "print(y_train)"
   ]
  },
  {
   "cell_type": "code",
   "execution_count": 7,
   "metadata": {},
   "outputs": [
    {
     "name": "stdout",
     "output_type": "stream",
     "text": [
      "[0 1 3 3 1 2 1 0 0 1 0 1 0 0 1 3 3 1 0 2 0 3 1 2 2 1 2 3 3 0 0 1 2 2 2 1 2\n",
      " 1 0 2 3 0 0 3 0 3 0 0 3 3 0 3 0 0 0 0 3 3 2 0 0 0 0 3 0 2 3 2 3 3 2 3 1 0\n",
      " 2 0 0 1 1 1 2 2 0 0 3 0 1 2 0 3 1 0 0 3 0 1 0 3 3 0 1 2 2 2 3 0 1 3 3 1 3\n",
      " 0 1 0 0 2 1 0 2 0 3 1 0 2 1 2 1 3 0 2 3 1 1 1 2 1 3 2 2 2 2 3 1 0 0 0 0 2\n",
      " 1 2 1 0 1 3 0 3 0 3 3 1 2 0 2 1 1 0 2 1 0 2 2 1 0 3 1 3 0 2 1 1 1 1 2 2 1\n",
      " 3 1 0 1 1 0 3 0 3 3 0 2 3 0 3]\n"
     ]
    }
   ],
   "source": [
    "x_test = df_test.values[:, :-1]       #vsetko okrem price range\n",
    "x_test = x_test.astype('float32')     # input data as floats\n",
    "#x_test\n",
    "y_test = df_test.values[:, -1]  # price range\n",
    "y_test = y_test.astype('int')\n",
    "print(y_test)"
   ]
  },
  {
   "cell_type": "code",
   "execution_count": 8,
   "metadata": {},
   "outputs": [
    {
     "name": "stdout",
     "output_type": "stream",
     "text": [
      "(1620, 20) (180, 20) (1620,) (180,)\n",
      "[[0. 0. 1. 0.]\n",
      " [0. 1. 0. 0.]\n",
      " [0. 1. 0. 0.]\n",
      " ...\n",
      " [0. 0. 0. 1.]\n",
      " [0. 1. 0. 0.]\n",
      " [0. 1. 0. 0.]]\n"
     ]
    }
   ],
   "source": [
    "x_train,x_val,y_train,y_val = train_test_split(x_train,y_train,test_size=0.1) #,random_state=52\n",
    "print(x_train.shape,x_val.shape,y_train.shape,y_val.shape)\n",
    "class_labels = [0, 1, 2, 3]\n",
    "y_cat_train = tf.keras.utils.to_categorical(y_train, num_classes=len(class_labels))\n",
    "y_cat_val = tf.keras.utils.to_categorical(y_val, num_classes=len(class_labels))\n",
    "y_cat_test = tf.keras.utils.to_categorical(y_test, num_classes=len(class_labels))\n",
    "print(y_cat_train)"
   ]
  },
  {
   "cell_type": "code",
   "execution_count": 9,
   "metadata": {},
   "outputs": [],
   "source": [
    "#Define Layers and Dropout of MLP\n",
    "hidden_size = 256\n",
    "model = keras.Sequential([\n",
    "    keras.layers.Dense(hidden_size,input_shape=(20,),activation='relu'),\n",
    "    keras.layers.Dropout(0.05),\n",
    "    keras.layers.Dense(hidden_size,activation='relu'),\n",
    "    keras.layers.Dropout(0.05),\n",
    "    keras.layers.Dense(hidden_size,activation='relu'),\n",
    "    keras.layers.Dropout(0.05),\n",
    "    keras.layers.Dense(hidden_size,activation='relu'),\n",
    "    keras.layers.Dropout(0.05),\n",
    "    keras.layers.Dense(4,activation='sigmoid') #activation='sigmoid'\n",
    "])\n"
   ]
  },
  {
   "cell_type": "code",
   "execution_count": 10,
   "metadata": {},
   "outputs": [],
   "source": [
    "#best learning rate\n",
    "lr = 0.03648030109469176\n",
    "#definition of optimizer\n",
    "optimizer = tf.keras.optimizers.Adam(learning_rate=lr)\n",
    "#configuration of model for training\n",
    "model.compile(optimizer=optimizer,\n",
    "              loss='categorical_crossentropy',\n",
    "              metrics=['accuracy','mse']\n",
    "              )"
   ]
  },
  {
   "cell_type": "code",
   "execution_count": 11,
   "metadata": {},
   "outputs": [
    {
     "name": "stderr",
     "output_type": "stream",
     "text": [
      "WARNING:absl:Found untraced functions such as _update_step_xla while saving (showing 1 of 1). These functions will not be directly callable after loading.\n"
     ]
    },
    {
     "name": "stdout",
     "output_type": "stream",
     "text": [
      "INFO:tensorflow:Assets written to: models\\assets\n"
     ]
    },
    {
     "name": "stderr",
     "output_type": "stream",
     "text": [
      "INFO:tensorflow:Assets written to: models\\assets\n",
      "wandb: Adding directory to artifact (.\\models)... Done. 0.1s\n",
      "WARNING:absl:Found untraced functions such as _update_step_xla while saving (showing 1 of 1). These functions will not be directly callable after loading.\n"
     ]
    },
    {
     "name": "stdout",
     "output_type": "stream",
     "text": [
      "INFO:tensorflow:Assets written to: models\\assets\n"
     ]
    },
    {
     "name": "stderr",
     "output_type": "stream",
     "text": [
      "INFO:tensorflow:Assets written to: models\\assets\n",
      "wandb: Adding directory to artifact (.\\models)... Done. 0.1s\n",
      "WARNING:absl:Found untraced functions such as _update_step_xla while saving (showing 1 of 1). These functions will not be directly callable after loading.\n"
     ]
    },
    {
     "name": "stdout",
     "output_type": "stream",
     "text": [
      "INFO:tensorflow:Assets written to: models\\assets\n"
     ]
    },
    {
     "name": "stderr",
     "output_type": "stream",
     "text": [
      "INFO:tensorflow:Assets written to: models\\assets\n",
      "wandb: Adding directory to artifact (.\\models)... Done. 0.0s\n",
      "WARNING:absl:Found untraced functions such as _update_step_xla while saving (showing 1 of 1). These functions will not be directly callable after loading.\n"
     ]
    },
    {
     "name": "stdout",
     "output_type": "stream",
     "text": [
      "INFO:tensorflow:Assets written to: models\\assets\n"
     ]
    },
    {
     "name": "stderr",
     "output_type": "stream",
     "text": [
      "INFO:tensorflow:Assets written to: models\\assets\n",
      "wandb: Adding directory to artifact (.\\models)... Done. 0.1s\n",
      "WARNING:absl:Found untraced functions such as _update_step_xla while saving (showing 1 of 1). These functions will not be directly callable after loading.\n"
     ]
    },
    {
     "name": "stdout",
     "output_type": "stream",
     "text": [
      "INFO:tensorflow:Assets written to: models\\assets\n"
     ]
    },
    {
     "name": "stderr",
     "output_type": "stream",
     "text": [
      "INFO:tensorflow:Assets written to: models\\assets\n",
      "wandb: Adding directory to artifact (.\\models)... Done. 0.1s\n",
      "WARNING:absl:Found untraced functions such as _update_step_xla while saving (showing 1 of 1). These functions will not be directly callable after loading.\n"
     ]
    },
    {
     "name": "stdout",
     "output_type": "stream",
     "text": [
      "INFO:tensorflow:Assets written to: models\\assets\n"
     ]
    },
    {
     "name": "stderr",
     "output_type": "stream",
     "text": [
      "INFO:tensorflow:Assets written to: models\\assets\n",
      "wandb: Adding directory to artifact (.\\models)... Done. 0.0s\n",
      "WARNING:absl:Found untraced functions such as _update_step_xla while saving (showing 1 of 1). These functions will not be directly callable after loading.\n"
     ]
    },
    {
     "name": "stdout",
     "output_type": "stream",
     "text": [
      "INFO:tensorflow:Assets written to: models\\assets\n"
     ]
    },
    {
     "name": "stderr",
     "output_type": "stream",
     "text": [
      "INFO:tensorflow:Assets written to: models\\assets\n",
      "wandb: Adding directory to artifact (.\\models)... Done. 0.1s\n",
      "WARNING:absl:Found untraced functions such as _update_step_xla while saving (showing 1 of 1). These functions will not be directly callable after loading.\n"
     ]
    },
    {
     "name": "stdout",
     "output_type": "stream",
     "text": [
      "INFO:tensorflow:Assets written to: models\\assets\n"
     ]
    },
    {
     "name": "stderr",
     "output_type": "stream",
     "text": [
      "INFO:tensorflow:Assets written to: models\\assets\n",
      "wandb: Adding directory to artifact (.\\models)... Done. 0.0s\n",
      "WARNING:absl:Found untraced functions such as _update_step_xla while saving (showing 1 of 1). These functions will not be directly callable after loading.\n"
     ]
    },
    {
     "name": "stdout",
     "output_type": "stream",
     "text": [
      "INFO:tensorflow:Assets written to: models\\assets\n"
     ]
    },
    {
     "name": "stderr",
     "output_type": "stream",
     "text": [
      "INFO:tensorflow:Assets written to: models\\assets\n",
      "wandb: Adding directory to artifact (.\\models)... Done. 0.1s\n",
      "WARNING:absl:Found untraced functions such as _update_step_xla while saving (showing 1 of 1). These functions will not be directly callable after loading.\n"
     ]
    },
    {
     "name": "stdout",
     "output_type": "stream",
     "text": [
      "INFO:tensorflow:Assets written to: models\\assets\n"
     ]
    },
    {
     "name": "stderr",
     "output_type": "stream",
     "text": [
      "INFO:tensorflow:Assets written to: models\\assets\n",
      "wandb: Adding directory to artifact (.\\models)... Done. 0.1s\n",
      "WARNING:absl:Found untraced functions such as _update_step_xla while saving (showing 1 of 1). These functions will not be directly callable after loading.\n"
     ]
    },
    {
     "name": "stdout",
     "output_type": "stream",
     "text": [
      "INFO:tensorflow:Assets written to: models\\assets\n"
     ]
    },
    {
     "name": "stderr",
     "output_type": "stream",
     "text": [
      "INFO:tensorflow:Assets written to: models\\assets\n",
      "wandb: Adding directory to artifact (.\\models)... Done. 0.1s\n",
      "WARNING:absl:Found untraced functions such as _update_step_xla while saving (showing 1 of 1). These functions will not be directly callable after loading.\n"
     ]
    },
    {
     "name": "stdout",
     "output_type": "stream",
     "text": [
      "INFO:tensorflow:Assets written to: models\\assets\n"
     ]
    },
    {
     "name": "stderr",
     "output_type": "stream",
     "text": [
      "INFO:tensorflow:Assets written to: models\\assets\n",
      "wandb: Adding directory to artifact (.\\models)... Done. 0.0s\n",
      "WARNING:absl:Found untraced functions such as _update_step_xla while saving (showing 1 of 1). These functions will not be directly callable after loading.\n"
     ]
    },
    {
     "name": "stdout",
     "output_type": "stream",
     "text": [
      "INFO:tensorflow:Assets written to: models\\assets\n"
     ]
    },
    {
     "name": "stderr",
     "output_type": "stream",
     "text": [
      "INFO:tensorflow:Assets written to: models\\assets\n",
      "wandb: Adding directory to artifact (.\\models)... Done. 0.1s\n",
      "WARNING:absl:Found untraced functions such as _update_step_xla while saving (showing 1 of 1). These functions will not be directly callable after loading.\n"
     ]
    },
    {
     "name": "stdout",
     "output_type": "stream",
     "text": [
      "INFO:tensorflow:Assets written to: models\\assets\n"
     ]
    },
    {
     "name": "stderr",
     "output_type": "stream",
     "text": [
      "INFO:tensorflow:Assets written to: models\\assets\n",
      "wandb: Adding directory to artifact (.\\models)... Done. 0.1s\n",
      "WARNING:absl:Found untraced functions such as _update_step_xla while saving (showing 1 of 1). These functions will not be directly callable after loading.\n"
     ]
    },
    {
     "name": "stdout",
     "output_type": "stream",
     "text": [
      "INFO:tensorflow:Assets written to: models\\assets\n"
     ]
    },
    {
     "name": "stderr",
     "output_type": "stream",
     "text": [
      "INFO:tensorflow:Assets written to: models\\assets\n",
      "wandb: Adding directory to artifact (.\\models)... Done. 0.1s\n",
      "WARNING:absl:Found untraced functions such as _update_step_xla while saving (showing 1 of 1). These functions will not be directly callable after loading.\n"
     ]
    },
    {
     "name": "stdout",
     "output_type": "stream",
     "text": [
      "INFO:tensorflow:Assets written to: models\\assets\n"
     ]
    },
    {
     "name": "stderr",
     "output_type": "stream",
     "text": [
      "INFO:tensorflow:Assets written to: models\\assets\n",
      "wandb: Adding directory to artifact (.\\models)... Done. 0.0s\n",
      "WARNING:absl:Found untraced functions such as _update_step_xla while saving (showing 1 of 1). These functions will not be directly callable after loading.\n"
     ]
    },
    {
     "name": "stdout",
     "output_type": "stream",
     "text": [
      "INFO:tensorflow:Assets written to: models\\assets\n"
     ]
    },
    {
     "name": "stderr",
     "output_type": "stream",
     "text": [
      "INFO:tensorflow:Assets written to: models\\assets\n",
      "wandb: Adding directory to artifact (.\\models)... Done. 0.0s\n",
      "WARNING:absl:Found untraced functions such as _update_step_xla while saving (showing 1 of 1). These functions will not be directly callable after loading.\n"
     ]
    },
    {
     "name": "stdout",
     "output_type": "stream",
     "text": [
      "INFO:tensorflow:Assets written to: models\\assets\n"
     ]
    },
    {
     "name": "stderr",
     "output_type": "stream",
     "text": [
      "INFO:tensorflow:Assets written to: models\\assets\n",
      "wandb: Adding directory to artifact (.\\models)... Done. 0.1s\n",
      "WARNING:absl:Found untraced functions such as _update_step_xla while saving (showing 1 of 1). These functions will not be directly callable after loading.\n"
     ]
    },
    {
     "name": "stdout",
     "output_type": "stream",
     "text": [
      "INFO:tensorflow:Assets written to: models\\assets\n"
     ]
    },
    {
     "name": "stderr",
     "output_type": "stream",
     "text": [
      "INFO:tensorflow:Assets written to: models\\assets\n",
      "wandb: Adding directory to artifact (.\\models)... Done. 0.0s\n",
      "WARNING:absl:Found untraced functions such as _update_step_xla while saving (showing 1 of 1). These functions will not be directly callable after loading.\n"
     ]
    },
    {
     "name": "stdout",
     "output_type": "stream",
     "text": [
      "INFO:tensorflow:Assets written to: models\\assets\n"
     ]
    },
    {
     "name": "stderr",
     "output_type": "stream",
     "text": [
      "INFO:tensorflow:Assets written to: models\\assets\n",
      "wandb: Adding directory to artifact (.\\models)... Done. 0.0s\n",
      "WARNING:absl:Found untraced functions such as _update_step_xla while saving (showing 1 of 1). These functions will not be directly callable after loading.\n"
     ]
    },
    {
     "name": "stdout",
     "output_type": "stream",
     "text": [
      "INFO:tensorflow:Assets written to: models\\assets\n"
     ]
    },
    {
     "name": "stderr",
     "output_type": "stream",
     "text": [
      "INFO:tensorflow:Assets written to: models\\assets\n",
      "wandb: Adding directory to artifact (.\\models)... Done. 0.1s\n",
      "WARNING:absl:Found untraced functions such as _update_step_xla while saving (showing 1 of 1). These functions will not be directly callable after loading.\n"
     ]
    },
    {
     "name": "stdout",
     "output_type": "stream",
     "text": [
      "INFO:tensorflow:Assets written to: models\\assets\n"
     ]
    },
    {
     "name": "stderr",
     "output_type": "stream",
     "text": [
      "INFO:tensorflow:Assets written to: models\\assets\n",
      "wandb: Adding directory to artifact (.\\models)... Done. 0.0s\n",
      "WARNING:absl:Found untraced functions such as _update_step_xla while saving (showing 1 of 1). These functions will not be directly callable after loading.\n"
     ]
    },
    {
     "name": "stdout",
     "output_type": "stream",
     "text": [
      "INFO:tensorflow:Assets written to: models\\assets\n"
     ]
    },
    {
     "name": "stderr",
     "output_type": "stream",
     "text": [
      "INFO:tensorflow:Assets written to: models\\assets\n",
      "wandb: Adding directory to artifact (.\\models)... Done. 0.1s\n",
      "WARNING:absl:Found untraced functions such as _update_step_xla while saving (showing 1 of 1). These functions will not be directly callable after loading.\n"
     ]
    },
    {
     "name": "stdout",
     "output_type": "stream",
     "text": [
      "INFO:tensorflow:Assets written to: models\\assets\n"
     ]
    },
    {
     "name": "stderr",
     "output_type": "stream",
     "text": [
      "INFO:tensorflow:Assets written to: models\\assets\n",
      "wandb: Adding directory to artifact (.\\models)... Done. 0.1s\n",
      "WARNING:absl:Found untraced functions such as _update_step_xla while saving (showing 1 of 1). These functions will not be directly callable after loading.\n"
     ]
    },
    {
     "name": "stdout",
     "output_type": "stream",
     "text": [
      "INFO:tensorflow:Assets written to: models\\assets\n"
     ]
    },
    {
     "name": "stderr",
     "output_type": "stream",
     "text": [
      "INFO:tensorflow:Assets written to: models\\assets\n",
      "wandb: Adding directory to artifact (.\\models)... Done. 0.1s\n",
      "WARNING:absl:Found untraced functions such as _update_step_xla while saving (showing 1 of 1). These functions will not be directly callable after loading.\n"
     ]
    },
    {
     "name": "stdout",
     "output_type": "stream",
     "text": [
      "INFO:tensorflow:Assets written to: models\\assets\n"
     ]
    },
    {
     "name": "stderr",
     "output_type": "stream",
     "text": [
      "INFO:tensorflow:Assets written to: models\\assets\n",
      "wandb: Adding directory to artifact (.\\models)... Done. 0.1s\n",
      "WARNING:absl:Found untraced functions such as _update_step_xla while saving (showing 1 of 1). These functions will not be directly callable after loading.\n"
     ]
    },
    {
     "name": "stdout",
     "output_type": "stream",
     "text": [
      "INFO:tensorflow:Assets written to: models\\assets\n"
     ]
    },
    {
     "name": "stderr",
     "output_type": "stream",
     "text": [
      "INFO:tensorflow:Assets written to: models\\assets\n",
      "wandb: Adding directory to artifact (.\\models)... Done. 0.0s\n",
      "WARNING:absl:Found untraced functions such as _update_step_xla while saving (showing 1 of 1). These functions will not be directly callable after loading.\n"
     ]
    },
    {
     "name": "stdout",
     "output_type": "stream",
     "text": [
      "INFO:tensorflow:Assets written to: models\\assets\n"
     ]
    },
    {
     "name": "stderr",
     "output_type": "stream",
     "text": [
      "INFO:tensorflow:Assets written to: models\\assets\n",
      "wandb: Adding directory to artifact (.\\models)... Done. 0.0s\n",
      "WARNING:absl:Found untraced functions such as _update_step_xla while saving (showing 1 of 1). These functions will not be directly callable after loading.\n"
     ]
    },
    {
     "name": "stdout",
     "output_type": "stream",
     "text": [
      "INFO:tensorflow:Assets written to: models\\assets\n"
     ]
    },
    {
     "name": "stderr",
     "output_type": "stream",
     "text": [
      "INFO:tensorflow:Assets written to: models\\assets\n",
      "wandb: Adding directory to artifact (.\\models)... Done. 0.0s\n",
      "WARNING:absl:Found untraced functions such as _update_step_xla while saving (showing 1 of 1). These functions will not be directly callable after loading.\n"
     ]
    },
    {
     "name": "stdout",
     "output_type": "stream",
     "text": [
      "INFO:tensorflow:Assets written to: models\\assets\n"
     ]
    },
    {
     "name": "stderr",
     "output_type": "stream",
     "text": [
      "INFO:tensorflow:Assets written to: models\\assets\n",
      "wandb: Adding directory to artifact (.\\models)... Done. 0.0s\n",
      "WARNING:absl:Found untraced functions such as _update_step_xla while saving (showing 1 of 1). These functions will not be directly callable after loading.\n"
     ]
    },
    {
     "name": "stdout",
     "output_type": "stream",
     "text": [
      "INFO:tensorflow:Assets written to: models\\assets\n"
     ]
    },
    {
     "name": "stderr",
     "output_type": "stream",
     "text": [
      "INFO:tensorflow:Assets written to: models\\assets\n",
      "wandb: Adding directory to artifact (.\\models)... Done. 0.0s\n",
      "WARNING:absl:Found untraced functions such as _update_step_xla while saving (showing 1 of 1). These functions will not be directly callable after loading.\n"
     ]
    },
    {
     "name": "stdout",
     "output_type": "stream",
     "text": [
      "INFO:tensorflow:Assets written to: models\\assets\n"
     ]
    },
    {
     "name": "stderr",
     "output_type": "stream",
     "text": [
      "INFO:tensorflow:Assets written to: models\\assets\n",
      "wandb: Adding directory to artifact (.\\models)... Done. 0.0s\n",
      "WARNING:absl:Found untraced functions such as _update_step_xla while saving (showing 1 of 1). These functions will not be directly callable after loading.\n"
     ]
    },
    {
     "name": "stdout",
     "output_type": "stream",
     "text": [
      "INFO:tensorflow:Assets written to: models\\assets\n"
     ]
    },
    {
     "name": "stderr",
     "output_type": "stream",
     "text": [
      "INFO:tensorflow:Assets written to: models\\assets\n",
      "wandb: Adding directory to artifact (.\\models)... Done. 0.0s\n",
      "WARNING:absl:Found untraced functions such as _update_step_xla while saving (showing 1 of 1). These functions will not be directly callable after loading.\n"
     ]
    },
    {
     "name": "stdout",
     "output_type": "stream",
     "text": [
      "INFO:tensorflow:Assets written to: models\\assets\n"
     ]
    },
    {
     "name": "stderr",
     "output_type": "stream",
     "text": [
      "INFO:tensorflow:Assets written to: models\\assets\n",
      "wandb: Adding directory to artifact (.\\models)... Done. 0.0s\n",
      "WARNING:absl:Found untraced functions such as _update_step_xla while saving (showing 1 of 1). These functions will not be directly callable after loading.\n"
     ]
    },
    {
     "name": "stdout",
     "output_type": "stream",
     "text": [
      "INFO:tensorflow:Assets written to: models\\assets\n"
     ]
    },
    {
     "name": "stderr",
     "output_type": "stream",
     "text": [
      "INFO:tensorflow:Assets written to: models\\assets\n",
      "wandb: Adding directory to artifact (.\\models)... Done. 0.0s\n",
      "WARNING:absl:Found untraced functions such as _update_step_xla while saving (showing 1 of 1). These functions will not be directly callable after loading.\n"
     ]
    },
    {
     "name": "stdout",
     "output_type": "stream",
     "text": [
      "INFO:tensorflow:Assets written to: models\\assets\n"
     ]
    },
    {
     "name": "stderr",
     "output_type": "stream",
     "text": [
      "INFO:tensorflow:Assets written to: models\\assets\n",
      "wandb: Adding directory to artifact (.\\models)... Done. 0.0s\n",
      "WARNING:absl:Found untraced functions such as _update_step_xla while saving (showing 1 of 1). These functions will not be directly callable after loading.\n"
     ]
    },
    {
     "name": "stdout",
     "output_type": "stream",
     "text": [
      "INFO:tensorflow:Assets written to: models\\assets\n"
     ]
    },
    {
     "name": "stderr",
     "output_type": "stream",
     "text": [
      "INFO:tensorflow:Assets written to: models\\assets\n",
      "wandb: Adding directory to artifact (.\\models)... Done. 0.0s\n",
      "WARNING:absl:Found untraced functions such as _update_step_xla while saving (showing 1 of 1). These functions will not be directly callable after loading.\n"
     ]
    },
    {
     "name": "stdout",
     "output_type": "stream",
     "text": [
      "INFO:tensorflow:Assets written to: models\\assets\n"
     ]
    },
    {
     "name": "stderr",
     "output_type": "stream",
     "text": [
      "INFO:tensorflow:Assets written to: models\\assets\n",
      "wandb: Adding directory to artifact (.\\models)... Done. 0.0s\n",
      "WARNING:absl:Found untraced functions such as _update_step_xla while saving (showing 1 of 1). These functions will not be directly callable after loading.\n"
     ]
    },
    {
     "name": "stdout",
     "output_type": "stream",
     "text": [
      "INFO:tensorflow:Assets written to: models\\assets\n"
     ]
    },
    {
     "name": "stderr",
     "output_type": "stream",
     "text": [
      "INFO:tensorflow:Assets written to: models\\assets\n",
      "wandb: Adding directory to artifact (.\\models)... Done. 0.0s\n",
      "WARNING:absl:Found untraced functions such as _update_step_xla while saving (showing 1 of 1). These functions will not be directly callable after loading.\n"
     ]
    },
    {
     "name": "stdout",
     "output_type": "stream",
     "text": [
      "INFO:tensorflow:Assets written to: models\\assets\n"
     ]
    },
    {
     "name": "stderr",
     "output_type": "stream",
     "text": [
      "INFO:tensorflow:Assets written to: models\\assets\n",
      "wandb: Adding directory to artifact (.\\models)... Done. 0.0s\n",
      "WARNING:absl:Found untraced functions such as _update_step_xla while saving (showing 1 of 1). These functions will not be directly callable after loading.\n"
     ]
    },
    {
     "name": "stdout",
     "output_type": "stream",
     "text": [
      "INFO:tensorflow:Assets written to: models\\assets\n"
     ]
    },
    {
     "name": "stderr",
     "output_type": "stream",
     "text": [
      "INFO:tensorflow:Assets written to: models\\assets\n",
      "wandb: Adding directory to artifact (.\\models)... Done. 0.0s\n",
      "WARNING:absl:Found untraced functions such as _update_step_xla while saving (showing 1 of 1). These functions will not be directly callable after loading.\n"
     ]
    },
    {
     "name": "stdout",
     "output_type": "stream",
     "text": [
      "INFO:tensorflow:Assets written to: models\\assets\n"
     ]
    },
    {
     "name": "stderr",
     "output_type": "stream",
     "text": [
      "INFO:tensorflow:Assets written to: models\\assets\n",
      "wandb: Adding directory to artifact (.\\models)... Done. 0.1s\n",
      "WARNING:absl:Found untraced functions such as _update_step_xla while saving (showing 1 of 1). These functions will not be directly callable after loading.\n"
     ]
    },
    {
     "name": "stdout",
     "output_type": "stream",
     "text": [
      "INFO:tensorflow:Assets written to: models\\assets\n"
     ]
    },
    {
     "name": "stderr",
     "output_type": "stream",
     "text": [
      "INFO:tensorflow:Assets written to: models\\assets\n",
      "wandb: Adding directory to artifact (.\\models)... Done. 0.0s\n",
      "WARNING:absl:Found untraced functions such as _update_step_xla while saving (showing 1 of 1). These functions will not be directly callable after loading.\n"
     ]
    },
    {
     "name": "stdout",
     "output_type": "stream",
     "text": [
      "INFO:tensorflow:Assets written to: models\\assets\n"
     ]
    },
    {
     "name": "stderr",
     "output_type": "stream",
     "text": [
      "INFO:tensorflow:Assets written to: models\\assets\n",
      "wandb: Adding directory to artifact (.\\models)... Done. 0.0s\n",
      "WARNING:absl:Found untraced functions such as _update_step_xla while saving (showing 1 of 1). These functions will not be directly callable after loading.\n"
     ]
    },
    {
     "name": "stdout",
     "output_type": "stream",
     "text": [
      "INFO:tensorflow:Assets written to: models\\assets\n"
     ]
    },
    {
     "name": "stderr",
     "output_type": "stream",
     "text": [
      "INFO:tensorflow:Assets written to: models\\assets\n",
      "wandb: Adding directory to artifact (.\\models)... Done. 0.1s\n",
      "WARNING:absl:Found untraced functions such as _update_step_xla while saving (showing 1 of 1). These functions will not be directly callable after loading.\n"
     ]
    },
    {
     "name": "stdout",
     "output_type": "stream",
     "text": [
      "INFO:tensorflow:Assets written to: models\\assets\n"
     ]
    },
    {
     "name": "stderr",
     "output_type": "stream",
     "text": [
      "INFO:tensorflow:Assets written to: models\\assets\n",
      "wandb: Adding directory to artifact (.\\models)... Done. 0.0s\n",
      "WARNING:absl:Found untraced functions such as _update_step_xla while saving (showing 1 of 1). These functions will not be directly callable after loading.\n"
     ]
    },
    {
     "name": "stdout",
     "output_type": "stream",
     "text": [
      "INFO:tensorflow:Assets written to: models\\assets\n"
     ]
    },
    {
     "name": "stderr",
     "output_type": "stream",
     "text": [
      "INFO:tensorflow:Assets written to: models\\assets\n",
      "wandb: Adding directory to artifact (.\\models)... Done. 0.0s\n",
      "WARNING:absl:Found untraced functions such as _update_step_xla while saving (showing 1 of 1). These functions will not be directly callable after loading.\n"
     ]
    },
    {
     "name": "stdout",
     "output_type": "stream",
     "text": [
      "INFO:tensorflow:Assets written to: models\\assets\n"
     ]
    },
    {
     "name": "stderr",
     "output_type": "stream",
     "text": [
      "INFO:tensorflow:Assets written to: models\\assets\n",
      "wandb: Adding directory to artifact (.\\models)... Done. 0.0s\n",
      "WARNING:absl:Found untraced functions such as _update_step_xla while saving (showing 1 of 1). These functions will not be directly callable after loading.\n"
     ]
    },
    {
     "name": "stdout",
     "output_type": "stream",
     "text": [
      "INFO:tensorflow:Assets written to: models\\assets\n"
     ]
    },
    {
     "name": "stderr",
     "output_type": "stream",
     "text": [
      "INFO:tensorflow:Assets written to: models\\assets\n",
      "wandb: Adding directory to artifact (.\\models)... Done. 0.1s\n",
      "WARNING:absl:Found untraced functions such as _update_step_xla while saving (showing 1 of 1). These functions will not be directly callable after loading.\n"
     ]
    },
    {
     "name": "stdout",
     "output_type": "stream",
     "text": [
      "INFO:tensorflow:Assets written to: models\\assets\n"
     ]
    },
    {
     "name": "stderr",
     "output_type": "stream",
     "text": [
      "INFO:tensorflow:Assets written to: models\\assets\n",
      "wandb: Adding directory to artifact (.\\models)... Done. 0.1s\n",
      "WARNING:absl:Found untraced functions such as _update_step_xla while saving (showing 1 of 1). These functions will not be directly callable after loading.\n"
     ]
    },
    {
     "name": "stdout",
     "output_type": "stream",
     "text": [
      "INFO:tensorflow:Assets written to: models\\assets\n"
     ]
    },
    {
     "name": "stderr",
     "output_type": "stream",
     "text": [
      "INFO:tensorflow:Assets written to: models\\assets\n",
      "wandb: Adding directory to artifact (.\\models)... Done. 0.0s\n",
      "WARNING:absl:Found untraced functions such as _update_step_xla while saving (showing 1 of 1). These functions will not be directly callable after loading.\n"
     ]
    },
    {
     "name": "stdout",
     "output_type": "stream",
     "text": [
      "INFO:tensorflow:Assets written to: models\\assets\n"
     ]
    },
    {
     "name": "stderr",
     "output_type": "stream",
     "text": [
      "INFO:tensorflow:Assets written to: models\\assets\n",
      "wandb: Adding directory to artifact (.\\models)... Done. 0.0s\n",
      "WARNING:absl:Found untraced functions such as _update_step_xla while saving (showing 1 of 1). These functions will not be directly callable after loading.\n"
     ]
    },
    {
     "name": "stdout",
     "output_type": "stream",
     "text": [
      "INFO:tensorflow:Assets written to: models\\assets\n"
     ]
    },
    {
     "name": "stderr",
     "output_type": "stream",
     "text": [
      "INFO:tensorflow:Assets written to: models\\assets\n",
      "wandb: Adding directory to artifact (.\\models)... Done. 0.0s\n",
      "WARNING:absl:Found untraced functions such as _update_step_xla while saving (showing 1 of 1). These functions will not be directly callable after loading.\n"
     ]
    },
    {
     "name": "stdout",
     "output_type": "stream",
     "text": [
      "INFO:tensorflow:Assets written to: models\\assets\n"
     ]
    },
    {
     "name": "stderr",
     "output_type": "stream",
     "text": [
      "INFO:tensorflow:Assets written to: models\\assets\n",
      "wandb: Adding directory to artifact (.\\models)... Done. 0.1s\n",
      "WARNING:absl:Found untraced functions such as _update_step_xla while saving (showing 1 of 1). These functions will not be directly callable after loading.\n"
     ]
    },
    {
     "name": "stdout",
     "output_type": "stream",
     "text": [
      "INFO:tensorflow:Assets written to: models\\assets\n"
     ]
    },
    {
     "name": "stderr",
     "output_type": "stream",
     "text": [
      "INFO:tensorflow:Assets written to: models\\assets\n",
      "wandb: Adding directory to artifact (.\\models)... Done. 0.0s\n",
      "WARNING:absl:Found untraced functions such as _update_step_xla while saving (showing 1 of 1). These functions will not be directly callable after loading.\n"
     ]
    },
    {
     "name": "stdout",
     "output_type": "stream",
     "text": [
      "INFO:tensorflow:Assets written to: models\\assets\n"
     ]
    },
    {
     "name": "stderr",
     "output_type": "stream",
     "text": [
      "INFO:tensorflow:Assets written to: models\\assets\n",
      "wandb: Adding directory to artifact (.\\models)... Done. 0.0s\n",
      "WARNING:absl:Found untraced functions such as _update_step_xla while saving (showing 1 of 1). These functions will not be directly callable after loading.\n"
     ]
    },
    {
     "name": "stdout",
     "output_type": "stream",
     "text": [
      "INFO:tensorflow:Assets written to: models\\assets\n"
     ]
    },
    {
     "name": "stderr",
     "output_type": "stream",
     "text": [
      "INFO:tensorflow:Assets written to: models\\assets\n",
      "wandb: Adding directory to artifact (.\\models)... Done. 0.0s\n",
      "WARNING:absl:Found untraced functions such as _update_step_xla while saving (showing 1 of 1). These functions will not be directly callable after loading.\n"
     ]
    },
    {
     "name": "stdout",
     "output_type": "stream",
     "text": [
      "INFO:tensorflow:Assets written to: models\\assets\n"
     ]
    },
    {
     "name": "stderr",
     "output_type": "stream",
     "text": [
      "INFO:tensorflow:Assets written to: models\\assets\n",
      "wandb: Adding directory to artifact (.\\models)... Done. 0.0s\n",
      "WARNING:absl:Found untraced functions such as _update_step_xla while saving (showing 1 of 1). These functions will not be directly callable after loading.\n"
     ]
    },
    {
     "name": "stdout",
     "output_type": "stream",
     "text": [
      "INFO:tensorflow:Assets written to: models\\assets\n"
     ]
    },
    {
     "name": "stderr",
     "output_type": "stream",
     "text": [
      "INFO:tensorflow:Assets written to: models\\assets\n",
      "wandb: Adding directory to artifact (.\\models)... Done. 0.1s\n",
      "WARNING:absl:Found untraced functions such as _update_step_xla while saving (showing 1 of 1). These functions will not be directly callable after loading.\n"
     ]
    },
    {
     "name": "stdout",
     "output_type": "stream",
     "text": [
      "INFO:tensorflow:Assets written to: models\\assets\n"
     ]
    },
    {
     "name": "stderr",
     "output_type": "stream",
     "text": [
      "INFO:tensorflow:Assets written to: models\\assets\n",
      "wandb: Adding directory to artifact (.\\models)... Done. 0.1s\n",
      "WARNING:absl:Found untraced functions such as _update_step_xla while saving (showing 1 of 1). These functions will not be directly callable after loading.\n"
     ]
    },
    {
     "name": "stdout",
     "output_type": "stream",
     "text": [
      "INFO:tensorflow:Assets written to: models\\assets\n"
     ]
    },
    {
     "name": "stderr",
     "output_type": "stream",
     "text": [
      "INFO:tensorflow:Assets written to: models\\assets\n",
      "wandb: Adding directory to artifact (.\\models)... Done. 0.1s\n",
      "WARNING:absl:Found untraced functions such as _update_step_xla while saving (showing 1 of 1). These functions will not be directly callable after loading.\n"
     ]
    },
    {
     "name": "stdout",
     "output_type": "stream",
     "text": [
      "INFO:tensorflow:Assets written to: models\\assets\n"
     ]
    },
    {
     "name": "stderr",
     "output_type": "stream",
     "text": [
      "INFO:tensorflow:Assets written to: models\\assets\n",
      "wandb: Adding directory to artifact (.\\models)... Done. 0.0s\n",
      "WARNING:absl:Found untraced functions such as _update_step_xla while saving (showing 1 of 1). These functions will not be directly callable after loading.\n"
     ]
    },
    {
     "name": "stdout",
     "output_type": "stream",
     "text": [
      "INFO:tensorflow:Assets written to: models\\assets\n"
     ]
    },
    {
     "name": "stderr",
     "output_type": "stream",
     "text": [
      "INFO:tensorflow:Assets written to: models\\assets\n",
      "wandb: Adding directory to artifact (.\\models)... Done. 0.0s\n",
      "WARNING:absl:Found untraced functions such as _update_step_xla while saving (showing 1 of 1). These functions will not be directly callable after loading.\n"
     ]
    },
    {
     "name": "stdout",
     "output_type": "stream",
     "text": [
      "INFO:tensorflow:Assets written to: models\\assets\n"
     ]
    },
    {
     "name": "stderr",
     "output_type": "stream",
     "text": [
      "INFO:tensorflow:Assets written to: models\\assets\n",
      "wandb: Adding directory to artifact (.\\models)... Done. 0.0s\n",
      "WARNING:absl:Found untraced functions such as _update_step_xla while saving (showing 1 of 1). These functions will not be directly callable after loading.\n"
     ]
    },
    {
     "name": "stdout",
     "output_type": "stream",
     "text": [
      "INFO:tensorflow:Assets written to: models\\assets\n"
     ]
    },
    {
     "name": "stderr",
     "output_type": "stream",
     "text": [
      "INFO:tensorflow:Assets written to: models\\assets\n",
      "wandb: Adding directory to artifact (.\\models)... Done. 0.0s\n",
      "WARNING:absl:Found untraced functions such as _update_step_xla while saving (showing 1 of 1). These functions will not be directly callable after loading.\n"
     ]
    },
    {
     "name": "stdout",
     "output_type": "stream",
     "text": [
      "INFO:tensorflow:Assets written to: models\\assets\n"
     ]
    },
    {
     "name": "stderr",
     "output_type": "stream",
     "text": [
      "INFO:tensorflow:Assets written to: models\\assets\n",
      "wandb: Adding directory to artifact (.\\models)... Done. 0.1s\n",
      "WARNING:absl:Found untraced functions such as _update_step_xla while saving (showing 1 of 1). These functions will not be directly callable after loading.\n"
     ]
    },
    {
     "name": "stdout",
     "output_type": "stream",
     "text": [
      "INFO:tensorflow:Assets written to: models\\assets\n"
     ]
    },
    {
     "name": "stderr",
     "output_type": "stream",
     "text": [
      "INFO:tensorflow:Assets written to: models\\assets\n",
      "wandb: Adding directory to artifact (.\\models)... Done. 0.0s\n",
      "WARNING:absl:Found untraced functions such as _update_step_xla while saving (showing 1 of 1). These functions will not be directly callable after loading.\n"
     ]
    },
    {
     "name": "stdout",
     "output_type": "stream",
     "text": [
      "INFO:tensorflow:Assets written to: models\\assets\n"
     ]
    },
    {
     "name": "stderr",
     "output_type": "stream",
     "text": [
      "INFO:tensorflow:Assets written to: models\\assets\n",
      "wandb: Adding directory to artifact (.\\models)... Done. 0.1s\n",
      "WARNING:absl:Found untraced functions such as _update_step_xla while saving (showing 1 of 1). These functions will not be directly callable after loading.\n"
     ]
    },
    {
     "name": "stdout",
     "output_type": "stream",
     "text": [
      "INFO:tensorflow:Assets written to: models\\assets\n"
     ]
    },
    {
     "name": "stderr",
     "output_type": "stream",
     "text": [
      "INFO:tensorflow:Assets written to: models\\assets\n",
      "wandb: Adding directory to artifact (.\\models)... Done. 0.0s\n",
      "WARNING:absl:Found untraced functions such as _update_step_xla while saving (showing 1 of 1). These functions will not be directly callable after loading.\n"
     ]
    },
    {
     "name": "stdout",
     "output_type": "stream",
     "text": [
      "INFO:tensorflow:Assets written to: models\\assets\n"
     ]
    },
    {
     "name": "stderr",
     "output_type": "stream",
     "text": [
      "INFO:tensorflow:Assets written to: models\\assets\n",
      "wandb: Adding directory to artifact (.\\models)... Done. 0.0s\n",
      "WARNING:absl:Found untraced functions such as _update_step_xla while saving (showing 1 of 1). These functions will not be directly callable after loading.\n"
     ]
    },
    {
     "name": "stdout",
     "output_type": "stream",
     "text": [
      "INFO:tensorflow:Assets written to: models\\assets\n"
     ]
    },
    {
     "name": "stderr",
     "output_type": "stream",
     "text": [
      "INFO:tensorflow:Assets written to: models\\assets\n",
      "wandb: Adding directory to artifact (.\\models)... Done. 0.0s\n",
      "WARNING:absl:Found untraced functions such as _update_step_xla while saving (showing 1 of 1). These functions will not be directly callable after loading.\n"
     ]
    },
    {
     "name": "stdout",
     "output_type": "stream",
     "text": [
      "INFO:tensorflow:Assets written to: models\\assets\n"
     ]
    },
    {
     "name": "stderr",
     "output_type": "stream",
     "text": [
      "INFO:tensorflow:Assets written to: models\\assets\n",
      "wandb: Adding directory to artifact (.\\models)... Done. 0.0s\n",
      "WARNING:absl:Found untraced functions such as _update_step_xla while saving (showing 1 of 1). These functions will not be directly callable after loading.\n"
     ]
    },
    {
     "name": "stdout",
     "output_type": "stream",
     "text": [
      "INFO:tensorflow:Assets written to: models\\assets\n"
     ]
    },
    {
     "name": "stderr",
     "output_type": "stream",
     "text": [
      "INFO:tensorflow:Assets written to: models\\assets\n",
      "wandb: Adding directory to artifact (.\\models)... Done. 0.0s\n",
      "WARNING:absl:Found untraced functions such as _update_step_xla while saving (showing 1 of 1). These functions will not be directly callable after loading.\n"
     ]
    },
    {
     "name": "stdout",
     "output_type": "stream",
     "text": [
      "INFO:tensorflow:Assets written to: models\\assets\n"
     ]
    },
    {
     "name": "stderr",
     "output_type": "stream",
     "text": [
      "INFO:tensorflow:Assets written to: models\\assets\n",
      "wandb: Adding directory to artifact (.\\models)... Done. 0.1s\n",
      "WARNING:absl:Found untraced functions such as _update_step_xla while saving (showing 1 of 1). These functions will not be directly callable after loading.\n"
     ]
    },
    {
     "name": "stdout",
     "output_type": "stream",
     "text": [
      "INFO:tensorflow:Assets written to: models\\assets\n"
     ]
    },
    {
     "name": "stderr",
     "output_type": "stream",
     "text": [
      "INFO:tensorflow:Assets written to: models\\assets\n",
      "wandb: Adding directory to artifact (.\\models)... Done. 0.1s\n",
      "WARNING:absl:Found untraced functions such as _update_step_xla while saving (showing 1 of 1). These functions will not be directly callable after loading.\n"
     ]
    },
    {
     "name": "stdout",
     "output_type": "stream",
     "text": [
      "INFO:tensorflow:Assets written to: models\\assets\n"
     ]
    },
    {
     "name": "stderr",
     "output_type": "stream",
     "text": [
      "INFO:tensorflow:Assets written to: models\\assets\n",
      "wandb: Adding directory to artifact (.\\models)... Done. 0.1s\n",
      "WARNING:absl:Found untraced functions such as _update_step_xla while saving (showing 1 of 1). These functions will not be directly callable after loading.\n"
     ]
    },
    {
     "name": "stdout",
     "output_type": "stream",
     "text": [
      "INFO:tensorflow:Assets written to: models\\assets\n"
     ]
    },
    {
     "name": "stderr",
     "output_type": "stream",
     "text": [
      "INFO:tensorflow:Assets written to: models\\assets\n",
      "wandb: Adding directory to artifact (.\\models)... Done. 0.0s\n",
      "WARNING:absl:Found untraced functions such as _update_step_xla while saving (showing 1 of 1). These functions will not be directly callable after loading.\n"
     ]
    },
    {
     "name": "stdout",
     "output_type": "stream",
     "text": [
      "INFO:tensorflow:Assets written to: models\\assets\n"
     ]
    },
    {
     "name": "stderr",
     "output_type": "stream",
     "text": [
      "INFO:tensorflow:Assets written to: models\\assets\n",
      "wandb: Adding directory to artifact (.\\models)... Done. 0.1s\n",
      "WARNING:absl:Found untraced functions such as _update_step_xla while saving (showing 1 of 1). These functions will not be directly callable after loading.\n"
     ]
    },
    {
     "name": "stdout",
     "output_type": "stream",
     "text": [
      "INFO:tensorflow:Assets written to: models\\assets\n"
     ]
    },
    {
     "name": "stderr",
     "output_type": "stream",
     "text": [
      "INFO:tensorflow:Assets written to: models\\assets\n",
      "wandb: Adding directory to artifact (.\\models)... Done. 0.0s\n",
      "WARNING:absl:Found untraced functions such as _update_step_xla while saving (showing 1 of 1). These functions will not be directly callable after loading.\n"
     ]
    },
    {
     "name": "stdout",
     "output_type": "stream",
     "text": [
      "INFO:tensorflow:Assets written to: models\\assets\n"
     ]
    },
    {
     "name": "stderr",
     "output_type": "stream",
     "text": [
      "INFO:tensorflow:Assets written to: models\\assets\n",
      "wandb: Adding directory to artifact (.\\models)... Done. 0.0s\n",
      "WARNING:absl:Found untraced functions such as _update_step_xla while saving (showing 1 of 1). These functions will not be directly callable after loading.\n"
     ]
    },
    {
     "name": "stdout",
     "output_type": "stream",
     "text": [
      "INFO:tensorflow:Assets written to: models\\assets\n"
     ]
    },
    {
     "name": "stderr",
     "output_type": "stream",
     "text": [
      "INFO:tensorflow:Assets written to: models\\assets\n",
      "wandb: Adding directory to artifact (.\\models)... Done. 0.1s\n",
      "WARNING:absl:Found untraced functions such as _update_step_xla while saving (showing 1 of 1). These functions will not be directly callable after loading.\n"
     ]
    },
    {
     "name": "stdout",
     "output_type": "stream",
     "text": [
      "INFO:tensorflow:Assets written to: models\\assets\n"
     ]
    },
    {
     "name": "stderr",
     "output_type": "stream",
     "text": [
      "INFO:tensorflow:Assets written to: models\\assets\n",
      "wandb: Adding directory to artifact (.\\models)... Done. 0.0s\n",
      "WARNING:absl:Found untraced functions such as _update_step_xla while saving (showing 1 of 1). These functions will not be directly callable after loading.\n"
     ]
    },
    {
     "name": "stdout",
     "output_type": "stream",
     "text": [
      "INFO:tensorflow:Assets written to: models\\assets\n"
     ]
    },
    {
     "name": "stderr",
     "output_type": "stream",
     "text": [
      "INFO:tensorflow:Assets written to: models\\assets\n",
      "wandb: Adding directory to artifact (.\\models)... Done. 0.0s\n",
      "WARNING:absl:Found untraced functions such as _update_step_xla while saving (showing 1 of 1). These functions will not be directly callable after loading.\n"
     ]
    },
    {
     "name": "stdout",
     "output_type": "stream",
     "text": [
      "INFO:tensorflow:Assets written to: models\\assets\n"
     ]
    },
    {
     "name": "stderr",
     "output_type": "stream",
     "text": [
      "INFO:tensorflow:Assets written to: models\\assets\n",
      "wandb: Adding directory to artifact (.\\models)... Done. 0.0s\n",
      "WARNING:absl:Found untraced functions such as _update_step_xla while saving (showing 1 of 1). These functions will not be directly callable after loading.\n"
     ]
    },
    {
     "name": "stdout",
     "output_type": "stream",
     "text": [
      "INFO:tensorflow:Assets written to: models\\assets\n"
     ]
    },
    {
     "name": "stderr",
     "output_type": "stream",
     "text": [
      "INFO:tensorflow:Assets written to: models\\assets\n",
      "wandb: Adding directory to artifact (.\\models)... Done. 0.0s\n",
      "WARNING:absl:Found untraced functions such as _update_step_xla while saving (showing 1 of 1). These functions will not be directly callable after loading.\n"
     ]
    },
    {
     "name": "stdout",
     "output_type": "stream",
     "text": [
      "INFO:tensorflow:Assets written to: models\\assets\n"
     ]
    },
    {
     "name": "stderr",
     "output_type": "stream",
     "text": [
      "INFO:tensorflow:Assets written to: models\\assets\n",
      "wandb: Adding directory to artifact (.\\models)... Done. 0.0s\n",
      "WARNING:absl:Found untraced functions such as _update_step_xla while saving (showing 1 of 1). These functions will not be directly callable after loading.\n"
     ]
    },
    {
     "name": "stdout",
     "output_type": "stream",
     "text": [
      "INFO:tensorflow:Assets written to: models\\assets\n"
     ]
    },
    {
     "name": "stderr",
     "output_type": "stream",
     "text": [
      "INFO:tensorflow:Assets written to: models\\assets\n",
      "wandb: Adding directory to artifact (.\\models)... Done. 0.0s\n",
      "WARNING:absl:Found untraced functions such as _update_step_xla while saving (showing 1 of 1). These functions will not be directly callable after loading.\n"
     ]
    },
    {
     "name": "stdout",
     "output_type": "stream",
     "text": [
      "INFO:tensorflow:Assets written to: models\\assets\n"
     ]
    },
    {
     "name": "stderr",
     "output_type": "stream",
     "text": [
      "INFO:tensorflow:Assets written to: models\\assets\n",
      "wandb: Adding directory to artifact (.\\models)... Done. 0.0s\n",
      "WARNING:absl:Found untraced functions such as _update_step_xla while saving (showing 1 of 1). These functions will not be directly callable after loading.\n"
     ]
    },
    {
     "name": "stdout",
     "output_type": "stream",
     "text": [
      "INFO:tensorflow:Assets written to: models\\assets\n"
     ]
    },
    {
     "name": "stderr",
     "output_type": "stream",
     "text": [
      "INFO:tensorflow:Assets written to: models\\assets\n",
      "wandb: Adding directory to artifact (.\\models)... Done. 0.1s\n",
      "WARNING:absl:Found untraced functions such as _update_step_xla while saving (showing 1 of 1). These functions will not be directly callable after loading.\n"
     ]
    },
    {
     "name": "stdout",
     "output_type": "stream",
     "text": [
      "INFO:tensorflow:Assets written to: models\\assets\n"
     ]
    },
    {
     "name": "stderr",
     "output_type": "stream",
     "text": [
      "INFO:tensorflow:Assets written to: models\\assets\n",
      "wandb: Adding directory to artifact (.\\models)... Done. 0.0s\n",
      "WARNING:absl:Found untraced functions such as _update_step_xla while saving (showing 1 of 1). These functions will not be directly callable after loading.\n"
     ]
    },
    {
     "name": "stdout",
     "output_type": "stream",
     "text": [
      "INFO:tensorflow:Assets written to: models\\assets\n"
     ]
    },
    {
     "name": "stderr",
     "output_type": "stream",
     "text": [
      "INFO:tensorflow:Assets written to: models\\assets\n",
      "wandb: Adding directory to artifact (.\\models)... Done. 0.0s\n",
      "WARNING:absl:Found untraced functions such as _update_step_xla while saving (showing 1 of 1). These functions will not be directly callable after loading.\n"
     ]
    },
    {
     "name": "stdout",
     "output_type": "stream",
     "text": [
      "INFO:tensorflow:Assets written to: models\\assets\n"
     ]
    },
    {
     "name": "stderr",
     "output_type": "stream",
     "text": [
      "INFO:tensorflow:Assets written to: models\\assets\n",
      "wandb: Adding directory to artifact (.\\models)... Done. 0.0s\n",
      "WARNING:absl:Found untraced functions such as _update_step_xla while saving (showing 1 of 1). These functions will not be directly callable after loading.\n"
     ]
    },
    {
     "name": "stdout",
     "output_type": "stream",
     "text": [
      "INFO:tensorflow:Assets written to: models\\assets\n"
     ]
    },
    {
     "name": "stderr",
     "output_type": "stream",
     "text": [
      "INFO:tensorflow:Assets written to: models\\assets\n",
      "wandb: Adding directory to artifact (.\\models)... Done. 0.0s\n",
      "WARNING:absl:Found untraced functions such as _update_step_xla while saving (showing 1 of 1). These functions will not be directly callable after loading.\n"
     ]
    },
    {
     "name": "stdout",
     "output_type": "stream",
     "text": [
      "INFO:tensorflow:Assets written to: models\\assets\n"
     ]
    },
    {
     "name": "stderr",
     "output_type": "stream",
     "text": [
      "INFO:tensorflow:Assets written to: models\\assets\n",
      "wandb: Adding directory to artifact (.\\models)... Done. 0.1s\n",
      "WARNING:absl:Found untraced functions such as _update_step_xla while saving (showing 1 of 1). These functions will not be directly callable after loading.\n"
     ]
    },
    {
     "name": "stdout",
     "output_type": "stream",
     "text": [
      "INFO:tensorflow:Assets written to: models\\assets\n"
     ]
    },
    {
     "name": "stderr",
     "output_type": "stream",
     "text": [
      "INFO:tensorflow:Assets written to: models\\assets\n",
      "wandb: Adding directory to artifact (.\\models)... Done. 0.1s\n",
      "WARNING:absl:Found untraced functions such as _update_step_xla while saving (showing 1 of 1). These functions will not be directly callable after loading.\n"
     ]
    },
    {
     "name": "stdout",
     "output_type": "stream",
     "text": [
      "INFO:tensorflow:Assets written to: models\\assets\n"
     ]
    },
    {
     "name": "stderr",
     "output_type": "stream",
     "text": [
      "INFO:tensorflow:Assets written to: models\\assets\n",
      "wandb: Adding directory to artifact (.\\models)... Done. 0.1s\n",
      "WARNING:absl:Found untraced functions such as _update_step_xla while saving (showing 1 of 1). These functions will not be directly callable after loading.\n"
     ]
    },
    {
     "name": "stdout",
     "output_type": "stream",
     "text": [
      "INFO:tensorflow:Assets written to: models\\assets\n"
     ]
    },
    {
     "name": "stderr",
     "output_type": "stream",
     "text": [
      "INFO:tensorflow:Assets written to: models\\assets\n",
      "wandb: Adding directory to artifact (.\\models)... Done. 0.1s\n",
      "WARNING:absl:Found untraced functions such as _update_step_xla while saving (showing 1 of 1). These functions will not be directly callable after loading.\n"
     ]
    },
    {
     "name": "stdout",
     "output_type": "stream",
     "text": [
      "INFO:tensorflow:Assets written to: models\\assets\n"
     ]
    },
    {
     "name": "stderr",
     "output_type": "stream",
     "text": [
      "INFO:tensorflow:Assets written to: models\\assets\n",
      "wandb: Adding directory to artifact (.\\models)... Done. 0.0s\n",
      "WARNING:absl:Found untraced functions such as _update_step_xla while saving (showing 1 of 1). These functions will not be directly callable after loading.\n"
     ]
    },
    {
     "name": "stdout",
     "output_type": "stream",
     "text": [
      "INFO:tensorflow:Assets written to: models\\assets\n"
     ]
    },
    {
     "name": "stderr",
     "output_type": "stream",
     "text": [
      "INFO:tensorflow:Assets written to: models\\assets\n",
      "wandb: Adding directory to artifact (.\\models)... Done. 0.1s\n",
      "WARNING:absl:Found untraced functions such as _update_step_xla while saving (showing 1 of 1). These functions will not be directly callable after loading.\n"
     ]
    },
    {
     "name": "stdout",
     "output_type": "stream",
     "text": [
      "INFO:tensorflow:Assets written to: models\\assets\n"
     ]
    },
    {
     "name": "stderr",
     "output_type": "stream",
     "text": [
      "INFO:tensorflow:Assets written to: models\\assets\n",
      "wandb: Adding directory to artifact (.\\models)... Done. 0.0s\n"
     ]
    }
   ],
   "source": [
    "#model training\n",
    "history = model.fit(x_train,\n",
    "                    y_cat_train,\n",
    "                    batch_size=128,\n",
    "                    epochs=100,\n",
    "                    validation_data=(x_val,y_cat_val),\n",
    "                    callbacks=[\n",
    "                      WandbMetricsLogger(log_freq=5),\n",
    "                      WandbModelCheckpoint(\"models\")\n",
    "                    ],\n",
    "                    verbose=0)"
   ]
  },
  {
   "cell_type": "code",
   "execution_count": 12,
   "metadata": {},
   "outputs": [
    {
     "data": {
      "text/plain": "<Figure size 432x288 with 1 Axes>",
      "image/png": "[encoded data removed]"
     },
     "metadata": {
      "needs_background": "light"
     },
     "output_type": "display_data"
    },
    {
     "data": {
      "text/plain": "<Figure size 432x288 with 1 Axes>",
      "image/png": "[encoded data removed]"
     },
     "metadata": {
      "needs_background": "light"
     },
     "output_type": "display_data"
    }
   ],
   "source": [
    "import matplotlib.pyplot as plt\n",
    "\n",
    "#Plot training & validation accuracy values\n",
    "plt.plot(history.history['accuracy'])\n",
    "plt.plot(history.history['val_accuracy'])\n",
    "plt.title('Model accuracy')\n",
    "plt.ylabel('Accuracy')\n",
    "plt.xlabel('Epoch')\n",
    "plt.legend(['Train', 'Validation'], loc='upper left')\n",
    "plt.show()\n",
    "\n",
    "# Plot training & validation loss values\n",
    "plt.plot(history.history['loss'])\n",
    "plt.plot(history.history['val_loss'])\n",
    "plt.title('Model loss')\n",
    "plt.ylabel('Loss')\n",
    "plt.xlabel('Epoch')\n",
    "plt.legend(['Train', 'Validation'], loc='upper left')\n",
    "plt.show()"
   ]
  },
  {
   "cell_type": "code",
   "execution_count": 13,
   "metadata": {},
   "outputs": [
    {
     "name": "stdout",
     "output_type": "stream",
     "text": [
      "7/7 [==============================] - 0s 3ms/step - loss: 0.3645 - accuracy: 0.8100 - mse: 0.3550\n",
      "7/7 [==============================] - 0s 3ms/step\n"
     ]
    },
    {
     "data": {
      "text/plain": "array([[9.99948323e-01, 9.96326029e-01, 8.14803660e-01, 3.10699493e-02],\n       [1.88544929e-01, 9.95631933e-01, 9.24546421e-01, 4.95216809e-02],\n       [2.76555721e-08, 6.89857125e-01, 9.99861300e-01, 9.99695182e-01],\n       [4.52457682e-10, 3.55030119e-01, 9.99975502e-01, 9.99994278e-01],\n       [9.99053657e-01, 9.98063803e-01, 6.80152774e-01, 1.67139322e-02],\n       [6.14674902e-03, 9.89667416e-01, 9.79302466e-01, 2.45739341e-01],\n       [9.98385966e-01, 9.97827232e-01, 6.99226201e-01, 1.63598824e-02],\n       [9.99900877e-01, 9.96854842e-01, 7.81572104e-01, 2.62215491e-02],\n       [9.99948323e-01, 9.96326029e-01, 8.14803660e-01, 3.10699493e-02],\n       [8.70962501e-01, 9.96502697e-01, 8.42723727e-01, 2.27749739e-02],\n       [9.99948323e-01, 9.96326029e-01, 8.14803660e-01, 3.10699493e-02],\n       [4.80388850e-01, 9.96116519e-01, 8.94238591e-01, 3.34250219e-02],\n       [9.99948323e-01, 9.96326029e-01, 8.14803660e-01, 3.10699493e-02],\n       [9.99948323e-01, 9.96326029e-01, 8.14803660e-01, 3.10699493e-02],\n       [4.89345789e-01, 9.96125519e-01, 8.93431187e-01, 3.31336148e-02],\n       [5.04485698e-09, 5.55212557e-01, 9.99932289e-01, 9.99941111e-01],\n       [1.72200065e-09, 4.64260131e-01, 9.99956965e-01, 9.99979138e-01],\n       [2.61565037e-02, 9.93249536e-01, 9.63312984e-01, 1.23849303e-01],\n       [9.99948323e-01, 9.96326029e-01, 8.14803660e-01, 3.10699493e-02],\n       [1.23957703e-02, 9.91611421e-01, 9.72612917e-01, 1.77951172e-01],\n       [9.99948323e-01, 9.96326029e-01, 8.14803660e-01, 3.10699493e-02],\n       [3.03104919e-09, 5.12191713e-01, 9.99945343e-01, 9.99963999e-01],\n       [9.37331542e-02, 9.95041609e-01, 9.41460967e-01, 6.81216791e-02],\n       [3.34978402e-02, 9.93677855e-01, 9.59818065e-01, 1.10485002e-01],\n       [1.38088114e-06, 8.92982185e-01, 9.99275088e-01, 9.87147093e-01],\n       [9.94449914e-01, 9.97368455e-01, 7.37576067e-01, 1.63435936e-02],\n       [2.48840282e-04, 9.73656297e-01, 9.94218230e-01, 7.00394928e-01],\n       [7.66949286e-15, 2.10063867e-02, 9.99999881e-01, 1.00000000e+00],\n       [7.60831537e-11, 2.31058836e-01, 9.99988437e-01, 9.99998987e-01],\n       [9.99948323e-01, 9.96326029e-01, 8.14803660e-01, 3.10699493e-02],\n       [9.99948323e-01, 9.96326029e-01, 8.14803660e-01, 3.10699418e-02],\n       [9.99207616e-01, 9.98014927e-01, 6.90139353e-01, 1.72542240e-02],\n       [2.20865263e-06, 9.04560566e-01, 9.99126434e-01, 9.82002497e-01],\n       [1.32536341e-04, 9.68436301e-01, 9.95499372e-01, 7.78014541e-01],\n       [3.01007560e-04, 9.75061178e-01, 9.93764043e-01, 6.74107492e-01],\n       [9.01687026e-01, 9.96554494e-01, 8.33284795e-01, 2.15770602e-02],\n       [1.79076695e-03, 9.85140443e-01, 9.87364888e-01, 3.99742246e-01],\n       [6.91289082e-02, 9.94720638e-01, 9.47583377e-01, 7.85471126e-02],\n       [9.99948323e-01, 9.96326029e-01, 8.14803660e-01, 3.10699493e-02],\n       [5.76398306e-05, 9.59984541e-01, 9.96769190e-01, 8.56845081e-01],\n       [1.12421183e-12, 7.81287029e-02, 9.99998391e-01, 1.00000000e+00],\n       [9.99927104e-01, 9.96632516e-01, 7.96680093e-01, 2.82737110e-02],\n       [9.99948323e-01, 9.96326029e-01, 8.14803660e-01, 3.10699493e-02],\n       [3.73104303e-09, 5.29795349e-01, 9.99940336e-01, 9.99956012e-01],\n       [9.99898553e-01, 9.96870518e-01, 7.80428946e-01, 2.60764230e-02],\n       [5.13104781e-10, 3.64868492e-01, 9.99974132e-01, 9.99993563e-01],\n       [9.99948323e-01, 9.96326029e-01, 8.14803660e-01, 3.10699493e-02],\n       [9.99933183e-01, 9.96557057e-01, 8.01319242e-01, 2.89592016e-02],\n       [1.97646983e-08, 6.64941430e-01, 9.99879599e-01, 9.99779701e-01],\n       [3.17270292e-07, 8.35879385e-01, 9.99612212e-01, 9.96786654e-01],\n       [9.99753952e-01, 9.97399032e-01, 7.43126750e-01, 2.20776293e-02],\n       [9.16284009e-08, 7.69622445e-01, 9.99770224e-01, 9.99030411e-01],\n       [9.99948323e-01, 9.96326029e-01, 8.14803660e-01, 3.10699493e-02],\n       [9.99948323e-01, 9.96326029e-01, 8.14803660e-01, 3.10699493e-02],\n       [9.99948323e-01, 9.96326029e-01, 8.14803660e-01, 3.10699493e-02],\n       [9.99948323e-01, 9.96326029e-01, 8.14803660e-01, 3.10699493e-02],\n       [3.52881884e-08, 7.07278371e-01, 9.99846280e-01, 9.99614239e-01],\n       [1.63365161e-08, 6.50381029e-01, 9.99888897e-01, 9.99816716e-01],\n       [4.14951586e-07, 8.48002017e-01, 9.99565780e-01, 9.95838881e-01],\n       [9.99948323e-01, 9.96326029e-01, 8.14803660e-01, 3.10699493e-02],\n       [9.99948323e-01, 9.96326029e-01, 8.14803660e-01, 3.10699493e-02],\n       [9.99948323e-01, 9.96326029e-01, 8.14803660e-01, 3.10699493e-02],\n       [9.99421179e-01, 9.97878134e-01, 7.05524564e-01, 1.86080802e-02],\n       [3.53166444e-13, 5.79885840e-02, 9.99999106e-01, 1.00000000e+00],\n       [9.99948323e-01, 9.96326029e-01, 8.14803660e-01, 3.10699493e-02],\n       [1.14022998e-06, 8.86932790e-01, 9.99333441e-01, 9.89142001e-01],\n       [1.08888187e-08, 6.18450701e-01, 9.99906361e-01, 9.99876142e-01],\n       [8.51459277e-04, 9.81538773e-01, 9.90579844e-01, 5.14537513e-01],\n       [1.50067281e-09, 4.52663809e-01, 9.99959350e-01, 9.99981761e-01],\n       [2.72924150e-09, 5.03290951e-01, 9.99947727e-01, 9.99967456e-01],\n       [1.68362044e-06, 8.98012638e-01, 9.99215722e-01, 9.85181570e-01],\n       [2.40085967e-07, 8.22479308e-01, 9.99655187e-01, 9.97543752e-01],\n       [6.27587259e-01, 9.96258318e-01, 8.80099833e-01, 2.90576965e-02],\n       [9.99948323e-01, 9.96326029e-01, 8.14803660e-01, 3.10699493e-02],\n       [6.35442757e-06, 9.26671326e-01, 9.98670280e-01, 9.62102711e-01],\n       [9.99550045e-01, 9.97735858e-01, 7.16610909e-01, 1.99624617e-02],\n       [9.99948323e-01, 9.96326029e-01, 8.14803660e-01, 3.10699493e-02],\n       [9.25663173e-01, 9.96605396e-01, 8.23425233e-01, 2.04437897e-02],\n       [1.12927184e-01, 9.95232880e-01, 9.37286556e-01, 6.22546524e-02],\n       [9.99260426e-01, 9.97995615e-01, 6.93971455e-01, 1.74686722e-02],\n       [2.31470054e-04, 9.73102212e-01, 9.94382143e-01, 7.10064650e-01],\n       [4.01933827e-02, 9.93978083e-01, 9.57020938e-01, 1.01400964e-01],\n       [9.99948323e-01, 9.96326029e-01, 8.14803660e-01, 3.10699493e-02],\n       [9.99948323e-01, 9.96326029e-01, 8.14803660e-01, 3.10699493e-02],\n       [3.16567217e-10, 3.27774465e-01, 9.99978900e-01, 9.99995947e-01],\n       [9.99948323e-01, 9.96326029e-01, 8.14803660e-01, 3.10699493e-02],\n       [4.38284636e-01, 9.96073782e-01, 8.97984982e-01, 3.48373875e-02],\n       [3.40357947e-04, 9.75929081e-01, 9.93452251e-01, 6.56521797e-01],\n       [9.99948323e-01, 9.96326029e-01, 8.14803660e-01, 3.10699493e-02],\n       [8.06201460e-12, 1.27408981e-01, 9.99995708e-01, 9.99999881e-01],\n       [1.09284110e-01, 9.95199442e-01, 9.38047767e-01, 6.32610843e-02],\n       [9.99948323e-01, 9.96326029e-01, 8.14803660e-01, 3.10699493e-02],\n       [9.99948323e-01, 9.96326029e-01, 8.14803660e-01, 3.10699493e-02],\n       [1.74128338e-08, 6.55290782e-01, 9.99885857e-01, 9.99805033e-01],\n       [9.99948323e-01, 9.96326029e-01, 8.14803660e-01, 3.10699418e-02],\n       [7.39170611e-02, 9.94792223e-01, 9.46304083e-01, 7.61596113e-02],\n       [9.99948323e-01, 9.96326029e-01, 8.14803660e-01, 3.10699493e-02],\n       [1.89479162e-11, 1.57846749e-01, 9.99993563e-01, 9.99999762e-01],\n       [3.14953468e-08, 6.99221551e-01, 9.99853492e-01, 9.99654412e-01],\n       [9.99947131e-01, 9.96346354e-01, 8.13539147e-01, 3.08811255e-02],\n       [9.85028684e-01, 9.97036994e-01, 7.69128442e-01, 1.70579925e-02],\n       [8.89721513e-02, 9.94987488e-01, 9.42567289e-01, 6.98304102e-02],\n       [1.28490547e-06, 8.90756905e-01, 9.99297500e-01, 9.87930477e-01],\n       [4.27938503e-05, 9.56464112e-01, 9.97130632e-01, 8.78761232e-01],\n       [1.19314763e-07, 7.85131574e-01, 9.99743164e-01, 9.98748899e-01],\n       [9.99948323e-01, 9.96326029e-01, 8.14803660e-01, 3.10699493e-02],\n       [1.68392733e-01, 9.95562136e-01, 9.27510440e-01, 5.19157164e-02],\n       [9.86684654e-08, 7.74048567e-01, 9.99762893e-01, 9.98958588e-01],\n       [2.22455242e-07, 8.18666577e-01, 9.99666095e-01, 9.97717917e-01],\n       [8.72391164e-01, 9.96504843e-01, 8.42339396e-01, 2.27238052e-02],\n       [1.48440709e-08, 6.42948866e-01, 9.99893248e-01, 9.99832928e-01],\n       [9.99948323e-01, 9.96326029e-01, 8.14803660e-01, 3.10699493e-02],\n       [2.65781075e-01, 9.95849609e-01, 9.14222419e-01, 4.24994268e-02],\n       [9.99948323e-01, 9.96326029e-01, 8.14803660e-01, 3.10699493e-02],\n       [9.99948323e-01, 9.96326029e-01, 8.14803660e-01, 3.10699493e-02],\n       [1.03278166e-04, 9.66103971e-01, 9.95924652e-01, 8.04469109e-01],\n       [9.80294704e-01, 9.96948719e-01, 7.77975082e-01, 1.73616018e-02],\n       [9.99948323e-01, 9.96326029e-01, 8.14803660e-01, 3.10699493e-02],\n       [3.58766229e-05, 9.54242587e-01, 9.97325361e-01, 8.90325606e-01],\n       [9.99948323e-01, 9.96326029e-01, 8.14803660e-01, 3.10699493e-02],\n       [4.59072946e-10, 3.56159151e-01, 9.99975324e-01, 9.99994218e-01],\n       [1.15004942e-01, 9.95251417e-01, 9.36858177e-01, 6.16997816e-02],\n       [9.99948323e-01, 9.96326029e-01, 8.14803660e-01, 3.10699493e-02],\n       [8.18407716e-05, 9.63779330e-01, 9.96285141e-01, 8.26927245e-01],\n       [1.16163537e-01, 9.95261610e-01, 9.36621070e-01, 6.13961183e-02],\n       [6.80122199e-03, 9.89972413e-01, 9.78448868e-01, 2.34999582e-01],\n       [9.98208821e-01, 9.97771680e-01, 7.03562796e-01, 1.63092390e-02],\n       [2.12118934e-07, 8.16256166e-01, 9.99672711e-01, 9.97820258e-01],\n       [9.99948323e-01, 9.96326029e-01, 8.14803660e-01, 3.10699493e-02],\n       [2.15730455e-04, 9.72552121e-01, 9.94537175e-01, 7.19295025e-01],\n       [7.10377417e-12, 1.23574764e-01, 9.99995947e-01, 9.99999881e-01],\n       [6.31470978e-01, 9.96261358e-01, 8.79700780e-01, 2.89731435e-02],\n       [9.98576999e-01, 9.97892618e-01, 6.93931937e-01, 1.64213534e-02],\n       [9.93921101e-01, 9.97333348e-01, 7.40190923e-01, 1.63472965e-02],\n       [1.66411197e-03, 9.84817266e-01, 9.87731159e-01, 4.09968764e-01],\n       [8.10244679e-01, 9.96423841e-01, 8.56004775e-01, 2.46857256e-02],\n       [1.09158893e-09, 4.26051706e-01, 9.99964476e-01, 9.99986589e-01],\n       [2.03963209e-05, 9.46466625e-01, 9.97867465e-01, 9.21403706e-01],\n       [5.12544019e-03, 9.89096880e-01, 9.80751872e-01, 2.65824616e-01],\n       [8.07023258e-04, 9.81249392e-01, 9.90777791e-01, 5.23144543e-01],\n       [5.16537511e-06, 9.22684550e-01, 9.98775899e-01, 9.67102051e-01],\n       [2.20090803e-11, 1.64724648e-01, 9.99993145e-01, 9.99999702e-01],\n       [9.96141613e-01, 9.97503877e-01, 7.26975918e-01, 1.63288265e-02],\n       [9.99948323e-01, 9.96326029e-01, 8.14803660e-01, 3.10699493e-02],\n       [9.99948323e-01, 9.96326029e-01, 8.14803660e-01, 3.10699493e-02],\n       [9.99948323e-01, 9.96326029e-01, 8.14803660e-01, 3.10699493e-02],\n       [9.99893129e-01, 9.96905029e-01, 7.77875006e-01, 2.57569402e-02],\n       [8.07248231e-04, 9.81250942e-01, 9.90776777e-01, 5.23099720e-01],\n       [9.98089135e-01, 9.97745872e-01, 7.05788255e-01, 1.63003765e-02],\n       [6.91456853e-06, 9.28307116e-01, 9.98624027e-01, 9.60008264e-01],\n       [9.99272943e-01, 9.97990847e-01, 6.94917142e-01, 1.75222270e-02],\n       [9.99836981e-01, 9.97167766e-01, 7.59297073e-01, 2.36511864e-02],\n       [1.42591074e-01, 9.95460272e-01, 9.31565702e-01, 5.55326827e-02],\n       [4.38437525e-07, 8.50395739e-01, 9.99555588e-01, 9.95612502e-01],\n       [9.99948323e-01, 9.96326029e-01, 8.14803660e-01, 3.10699493e-02],\n       [6.35687272e-08, 7.46880233e-01, 9.99803007e-01, 9.99318838e-01],\n       [9.99948323e-01, 9.96326029e-01, 8.14803660e-01, 3.10699493e-02],\n       [9.84716822e-11, 2.46984109e-01, 9.99987125e-01, 9.99998689e-01],\n       [1.68180904e-07, 8.04140747e-01, 9.99703169e-01, 9.98257518e-01],\n       [3.31502676e-01, 9.95957196e-01, 9.07423198e-01, 3.88987549e-02],\n       [2.28694500e-03, 9.86170053e-01, 9.86063540e-01, 3.66304606e-01],\n       [9.99948323e-01, 9.96326029e-01, 8.14803660e-01, 3.10699493e-02],\n       [3.19096632e-02, 9.93595660e-01, 9.60530758e-01, 1.13013208e-01],\n       [2.81156510e-01, 9.95886505e-01, 9.12293673e-01, 4.13752049e-02],\n       [3.65047604e-01, 9.95995641e-01, 9.04433608e-01, 3.75261828e-02],\n       [9.99948323e-01, 9.96326029e-01, 8.14803660e-01, 3.10699493e-02],\n       [3.71174963e-07, 8.43058348e-01, 9.99585688e-01, 9.96262372e-01],\n       [9.99658108e-01, 9.97587979e-01, 7.28871465e-01, 2.09116526e-02],\n       [9.99667943e-01, 9.97571766e-01, 7.30157375e-01, 2.10127160e-02],\n       [5.66203729e-04, 9.79221165e-01, 9.91986573e-01, 5.79464376e-01],\n       [2.23492808e-03, 9.86076236e-01, 9.86191392e-01, 3.69402111e-01],\n       [9.93923843e-01, 9.97333527e-01, 7.40177989e-01, 1.63472816e-02],\n       [9.99948323e-01, 9.96326029e-01, 8.14803660e-01, 3.10699493e-02],\n       [1.61994688e-11, 1.50912285e-01, 9.99993980e-01, 9.99999762e-01],\n       [8.42613399e-01, 9.96463001e-01, 8.49564373e-01, 2.37230361e-02],\n       [1.91031035e-09, 4.73034382e-01, 9.99954998e-01, 9.99976993e-01],\n       [9.99948323e-01, 9.96326029e-01, 8.14803660e-01, 3.10699493e-02],\n       [7.46898993e-04, 9.80823517e-01, 9.91056442e-01, 5.35550475e-01],\n       [9.77525473e-01, 9.96905327e-01, 7.82138526e-01, 1.75093766e-02],\n       [3.80907983e-01, 9.96013105e-01, 9.03033674e-01, 3.69122885e-02],\n       [3.70796919e-01, 9.96002018e-01, 9.03925419e-01, 3.73012982e-02],\n       [9.98605788e-01, 9.97902989e-01, 6.93068504e-01, 1.64313372e-02],\n       [7.13475383e-05, 9.62337077e-01, 9.96482611e-01, 8.39188099e-01],\n       [1.61614309e-06, 8.96992028e-01, 9.99228358e-01, 9.85610008e-01],\n       [6.67170167e-01, 9.96289790e-01, 8.75883818e-01, 2.81882342e-02],\n       [8.79796149e-12, 1.30114749e-01, 9.99995530e-01, 9.99999881e-01],\n       [8.06101441e-01, 9.96419191e-01, 8.56750369e-01, 2.48019546e-02],\n       [9.99947608e-01, 9.96339023e-01, 8.13994586e-01, 3.09488978e-02],\n       [9.13511336e-01, 9.96578097e-01, 8.28788877e-01, 2.10464429e-02],\n       [3.81596833e-02, 9.93893802e-01, 9.57838416e-01, 1.03926115e-01],\n       [9.99948323e-01, 9.96326029e-01, 8.14803660e-01, 3.10699418e-02],\n       [2.21945040e-09, 4.85744178e-01, 9.99952078e-01, 9.99973357e-01],\n       [9.99948323e-01, 9.96326029e-01, 8.14803660e-01, 3.10699493e-02],\n       [2.08315678e-12, 9.13105831e-02, 9.99997795e-01, 9.99999940e-01],\n       [3.60313827e-11, 1.89061373e-01, 9.99991536e-01, 9.99999523e-01],\n       [9.99948323e-01, 9.96326029e-01, 8.14803660e-01, 3.10699493e-02],\n       [4.66727470e-05, 9.57519174e-01, 9.97029722e-01, 8.72693121e-01],\n       [2.12988488e-10, 2.98840582e-01, 9.99982178e-01, 9.99997258e-01],\n       [9.99948323e-01, 9.96326029e-01, 8.14803660e-01, 3.10699418e-02],\n       [1.90370812e-07, 8.10683548e-01, 9.99687254e-01, 9.98036206e-01]],\n      dtype=float32)"
     },
     "execution_count": 13,
     "metadata": {},
     "output_type": "execute_result"
    }
   ],
   "source": [
    "#prediction for test data\n",
    "score=model.evaluate(x_test,y_cat_test)\n",
    "predict = model.predict(x_test)\n",
    "predict"
   ]
  },
  {
   "cell_type": "code",
   "execution_count": 14,
   "metadata": {},
   "outputs": [
    {
     "name": "stdout",
     "output_type": "stream",
     "text": [
      "[0, 1, 2, 3, 0, 1, 0, 0, 0, 1, 0, 1, 0, 0, 1, 3, 3, 1, 0, 1, 0, 3, 1, 1, 2, 1, 2, 3, 3, 0, 0, 0, 2, 2, 2, 1, 2, 1, 0, 2, 3, 0, 0, 3, 0, 3, 0, 0, 2, 2, 0, 2, 0, 0, 0, 0, 2, 2, 2, 0, 0, 0, 0, 3, 0, 2, 2, 2, 3, 3, 2, 2, 1, 0, 2, 0, 0, 1, 1, 0, 2, 1, 0, 0, 3, 0, 1, 2, 0, 3, 1, 0, 0, 2, 0, 1, 0, 3, 2, 0, 1, 1, 2, 2, 2, 0, 1, 2, 2, 1, 2, 0, 1, 0, 0, 2, 1, 0, 2, 0, 3, 1, 0, 2, 1, 1, 0, 2, 0, 2, 3, 1, 0, 1, 2, 1, 3, 2, 1, 2, 2, 3, 1, 0, 0, 0, 0, 2, 0, 2, 0, 0, 1, 2, 0, 2, 0, 3, 2, 1, 1, 0, 1, 1, 1, 0, 2, 0, 0, 2, 2, 1, 0, 3, 1, 3, 0, 2, 1, 1, 1, 0, 2, 2, 1, 3, 1, 0, 1, 1, 0, 3, 0, 3, 3, 0, 2, 3, 0, 2]\n"
     ]
    }
   ],
   "source": [
    "predicted_test = []\n",
    "for row in predict:\n",
    "    a = max(row)\n",
    "    b=np.where(row==a)[0][0]\n",
    "    predicted_test.append(b)"
   ]
  },
  {
   "cell_type": "code",
   "execution_count": 15,
   "outputs": [
    {
     "name": "stdout",
     "output_type": "stream",
     "text": [
      "{'0': {'precision': 0.863013698630137, 'recall': 1.0, 'f1-score': 0.9264705882352942, 'support': 63}, '1': {'precision': 0.8125, 'recall': 0.7959183673469388, 'f1-score': 0.8041237113402061, 'support': 49}, '2': {'precision': 0.6346153846153846, 'recall': 0.7857142857142857, 'f1-score': 0.7021276595744681, 'support': 42}, '3': {'precision': 1.0, 'recall': 0.5869565217391305, 'f1-score': 0.7397260273972603, 'support': 46}, 'accuracy': 0.81, 'macro avg': {'precision': 0.8275322708113804, 'recall': 0.7921472937000887, 'f1-score': 0.7931119966368072, 'support': 200}, 'weighted avg': {'precision': 0.8341810458377239, 'recall': 0.81, 'f1-score': 0.8064323393844763, 'support': 200}}\n"
     ]
    },
    {
     "data": {
      "text/plain": "<sklearn.metrics._plot.confusion_matrix.ConfusionMatrixDisplay at 0x2abccedaca0>"
     },
     "execution_count": 15,
     "metadata": {},
     "output_type": "execute_result"
    },
    {
     "data": {
      "text/plain": "<Figure size 1850x1050 with 0 Axes>"
     },
     "metadata": {},
     "output_type": "display_data"
    },
    {
     "data": {
      "text/plain": "<Figure size 432x288 with 2 Axes>",
      "image/png": "[encoded data removed]"
     },
     "metadata": {
      "needs_background": "light"
     },
     "output_type": "display_data"
    }
   ],
   "source": [
    "from sklearn.metrics import confusion_matrix,ConfusionMatrixDisplay,classification_report\n",
    "report = classification_report(y_test, predicted_test, target_names=['0', '1', '2', '3'], output_dict=True)\n",
    "f = plt.figure(figsize=(10,6)) #plotting\n",
    "f.set_size_inches(18.5, 10.5)\n",
    "f.set_dpi(100)\n",
    "print(report)\n",
    "\n",
    "matrix = confusion_matrix(y_test, predicted_test)\n",
    "matrix_display = ConfusionMatrixDisplay(matrix, display_labels=['0', '1', '2', '3'])\n",
    "matrix_display.plot(cmap='Blues')"
   ],
   "metadata": {
    "collapsed": false
   }
  },
  {
   "cell_type": "code",
   "execution_count": 16,
   "outputs": [
    {
     "data": {
      "text/plain": "{'0': {'precision': 0.863013698630137,\n  'recall': 1.0,\n  'f1-score': 0.9264705882352942,\n  'support': 63},\n '1': {'precision': 0.8125,\n  'recall': 0.7959183673469388,\n  'f1-score': 0.8041237113402061,\n  'support': 49},\n '2': {'precision': 0.6346153846153846,\n  'recall': 0.7857142857142857,\n  'f1-score': 0.7021276595744681,\n  'support': 42},\n '3': {'precision': 1.0,\n  'recall': 0.5869565217391305,\n  'f1-score': 0.7397260273972603,\n  'support': 46},\n 'accuracy': 0.81,\n 'macro avg': {'precision': 0.8275322708113804,\n  'recall': 0.7921472937000887,\n  'f1-score': 0.7931119966368072,\n  'support': 200},\n 'weighted avg': {'precision': 0.8341810458377239,\n  'recall': 0.81,\n  'f1-score': 0.8064323393844763,\n  'support': 200}}"
     },
     "execution_count": 16,
     "metadata": {},
     "output_type": "execute_result"
    }
   ],
   "source": [
    "report"
   ],
   "metadata": {
    "collapsed": false
   }
  },
  {
   "cell_type": "code",
   "execution_count": 15,
   "metadata": {},
   "outputs": [
    {
     "data": {
      "text/plain": "<IPython.core.display.HTML object>",
      "text/html": "Waiting for W&B process to finish... <strong style=\"color:green\">(success).</strong>"
     },
     "metadata": {},
     "output_type": "display_data"
    },
    {
     "name": "stderr",
     "output_type": "stream",
     "text": [
      "wandb: ERROR Control-C detected -- Run data was not synced\n"
     ]
    }
   ],
   "source": [
    "wandb.finish()\n"
   ]
  },
  {
   "cell_type": "code",
   "execution_count": 15,
   "metadata": {},
   "outputs": [],
   "source": []
  }
 ],
 "metadata": {
  "kernelspec": {
   "display_name": "Python 3",
   "language": "python",
   "name": "python3"
  },
  "language_info": {
   "codemirror_mode": {
    "name": "ipython",
    "version": 3
   },
   "file_extension": ".py",
   "mimetype": "text/x-python",
   "name": "python",
   "nbconvert_exporter": "python",
   "pygments_lexer": "ipython3",
   "version": "3.8.2"
  }
 },
 "nbformat": 4,
 "nbformat_minor": 2
}
