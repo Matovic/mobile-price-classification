{
 "cells": [
  {
   "attachments": {},
   "cell_type": "markdown",
   "metadata": {},
   "source": [
    "# Mobile price classification with multilayer perceptron\n",
    "## Tensorflow\n",
    "Erik Matovič and Jakub Horvat\n",
    "\n",
    "[Dataset](https://www.kaggle.com/datasets/iabhishekofficial/mobile-price-classification?select=train.csv)\n",
    "\n",
    "Predict a price range indicating how high the price is\n",
    "\n",
    "### 0. Imports"
   ]
  },
  {
   "cell_type": "code",
   "execution_count": 1,
   "outputs": [],
   "source": [
    "from utils import split_train_val\n",
    "import tensorflow as tf\n",
    "from tensorflow import keras\n",
    "import pandas as pd\n",
    "import wandb\n",
    "from wandb.keras import WandbMetricsLogger, WandbModelCheckpoint\n",
    "from sklearn.model_selection import train_test_split\n",
    "from utils import check_null_values, print_sum_null, rescale, split_data"
   ],
   "metadata": {
    "collapsed": false
   }
  },
  {
   "cell_type": "code",
   "execution_count": 2,
   "outputs": [],
   "source": [
    "# api = wandb.Api()\n",
    "# sweep = api.sweep(\"xmatovice/uncategorized/1stel95e\") #2hfg3dq6\") #1kmqujzs\")\n",
    "#\n",
    "# best_config = sweep.best_run().config\n",
    "# pprint(best_config)\n",
    "#\n",
    "# wandb.init(config=best_config, project='uncategorized', name='NSIETE_zad1_final')\n",
    "# config = wandb.config"
   ],
   "metadata": {
    "collapsed": false
   }
  },
  {
   "cell_type": "code",
   "execution_count": 3,
   "metadata": {},
   "outputs": [
    {
     "name": "stdout",
     "output_type": "stream",
     "text": [
      "2.11.0\n",
      "Num GPUs Available:  0\n",
      "tf.Tensor(105.4964, shape=(), dtype=float32)\n",
      "[]\n"
     ]
    }
   ],
   "source": [
    "config = tf.compat.v1.ConfigProto()\n",
    "config.gpu_options.allow_growth = True\n",
    "session = tf.compat.v1.Session(config=config)\n",
    "\n",
    "print(tf.__version__)\n",
    "print(\"Num GPUs Available: \", len(tf.config.list_physical_devices('GPU')))\n",
    "print(tf.reduce_sum(tf.random.normal([1000, 1000])))\n",
    "print(tf.config.list_physical_devices('GPU'))\n"
   ]
  },
  {
   "cell_type": "code",
   "execution_count": 4,
   "outputs": [
    {
     "name": "stderr",
     "output_type": "stream",
     "text": [
      "wandb: Currently logged in as: jakub-horvat56 (testsd). Use `wandb login --relogin` to force relogin\n"
     ]
    },
    {
     "data": {
      "text/plain": "<IPython.core.display.HTML object>",
      "text/html": "wandb version 0.14.0 is available!  To upgrade, please run:\n $ pip install wandb --upgrade"
     },
     "metadata": {},
     "output_type": "display_data"
    },
    {
     "data": {
      "text/plain": "<IPython.core.display.HTML object>",
      "text/html": "Tracking run with wandb version 0.13.4"
     },
     "metadata": {},
     "output_type": "display_data"
    },
    {
     "data": {
      "text/plain": "<IPython.core.display.HTML object>",
      "text/html": "Run data is saved locally in <code>D:\\skola\\ING\\LS2023\\NSIETE\\mobile-price-classification\\src\\wandb\\run-20230328_015753-x5h75unl</code>"
     },
     "metadata": {},
     "output_type": "display_data"
    },
    {
     "data": {
      "text/plain": "<IPython.core.display.HTML object>",
      "text/html": "Syncing run <strong><a href=\"https://wandb.ai/testsd/nsiete1/runs/x5h75unl\" target=\"_blank\">electric-gorge-3</a></strong> to <a href=\"https://wandb.ai/testsd/nsiete1\" target=\"_blank\">Weights & Biases</a> (<a href=\"https://wandb.me/run\" target=\"_blank\">docs</a>)<br/>"
     },
     "metadata": {},
     "output_type": "display_data"
    }
   ],
   "source": [
    "wandb.login()\n",
    "run=wandb.init(project=\"nsiete1\")"
   ],
   "metadata": {
    "collapsed": false
   }
  },
  {
   "attachments": {},
   "cell_type": "markdown",
   "metadata": {},
   "source": [
    "### 1. Data Preprocessing\n",
    "\n",
    "Based on [exploratory data analysis](EDA.ipynb) test set does not have target variable price_range. We split our dataset into train-dev-test. We have train and test sets, but we split test set by half to dev-test sets. We will rougly have train-dev-test 67%-16.5%-16.5%. "
   ]
  },
  {
   "cell_type": "code",
   "execution_count": 5,
   "metadata": {},
   "outputs": [
    {
     "data": {
      "text/plain": "      battery_power  blue  clock_speed  dual_sim  fc  four_g  int_memory  \\\n0               842     0          2.2         0   1       0           7   \n1              1021     1          0.5         1   0       1          53   \n2               563     1          0.5         1   2       1          41   \n3               615     1          2.5         0   0       0          10   \n4              1821     1          1.2         0  13       1          44   \n...             ...   ...          ...       ...  ..     ...         ...   \n1995            794     1          0.5         1   0       1           2   \n1996           1965     1          2.6         1   0       0          39   \n1997           1911     0          0.9         1   1       1          36   \n1998           1512     0          0.9         0   4       1          46   \n1999            510     1          2.0         1   5       1          45   \n\n      m_dep  mobile_wt  n_cores  ...  px_height  px_width   ram  sc_h  sc_w  \\\n0       0.6        188        2  ...         20       756  2549     9     7   \n1       0.7        136        3  ...        905      1988  2631    17     3   \n2       0.9        145        5  ...       1263      1716  2603    11     2   \n3       0.8        131        6  ...       1216      1786  2769    16     8   \n4       0.6        141        2  ...       1208      1212  1411     8     2   \n...     ...        ...      ...  ...        ...       ...   ...   ...   ...   \n1995    0.8        106        6  ...       1222      1890   668    13     4   \n1996    0.2        187        4  ...        915      1965  2032    11    10   \n1997    0.7        108        8  ...        868      1632  3057     9     1   \n1998    0.1        145        5  ...        336       670   869    18    10   \n1999    0.9        168        6  ...        483       754  3919    19     4   \n\n      talk_time  three_g  touch_screen  wifi  price_range  \n0            19        0             0     1            1  \n1             7        1             1     0            2  \n2             9        1             1     0            2  \n3            11        1             0     0            2  \n4            15        1             1     0            1  \n...         ...      ...           ...   ...          ...  \n1995         19        1             1     0            0  \n1996         16        1             1     1            2  \n1997          5        1             1     0            3  \n1998         19        1             1     1            0  \n1999          2        1             1     1            3  \n\n[2000 rows x 21 columns]",
      "text/html": "<div>\n<style scoped>\n    .dataframe tbody tr th:only-of-type {\n        vertical-align: middle;\n    }\n\n    .dataframe tbody tr th {\n        vertical-align: top;\n    }\n\n    .dataframe thead th {\n        text-align: right;\n    }\n</style>\n<table border=\"1\" class=\"dataframe\">\n  <thead>\n    <tr style=\"text-align: right;\">\n      <th></th>\n      <th>battery_power</th>\n      <th>blue</th>\n      <th>clock_speed</th>\n      <th>dual_sim</th>\n      <th>fc</th>\n      <th>four_g</th>\n      <th>int_memory</th>\n      <th>m_dep</th>\n      <th>mobile_wt</th>\n      <th>n_cores</th>\n      <th>...</th>\n      <th>px_height</th>\n      <th>px_width</th>\n      <th>ram</th>\n      <th>sc_h</th>\n      <th>sc_w</th>\n      <th>talk_time</th>\n      <th>three_g</th>\n      <th>touch_screen</th>\n      <th>wifi</th>\n      <th>price_range</th>\n    </tr>\n  </thead>\n  <tbody>\n    <tr>\n      <th>0</th>\n      <td>842</td>\n      <td>0</td>\n      <td>2.2</td>\n      <td>0</td>\n      <td>1</td>\n      <td>0</td>\n      <td>7</td>\n      <td>0.6</td>\n      <td>188</td>\n      <td>2</td>\n      <td>...</td>\n      <td>20</td>\n      <td>756</td>\n      <td>2549</td>\n      <td>9</td>\n      <td>7</td>\n      <td>19</td>\n      <td>0</td>\n      <td>0</td>\n      <td>1</td>\n      <td>1</td>\n    </tr>\n    <tr>\n      <th>1</th>\n      <td>1021</td>\n      <td>1</td>\n      <td>0.5</td>\n      <td>1</td>\n      <td>0</td>\n      <td>1</td>\n      <td>53</td>\n      <td>0.7</td>\n      <td>136</td>\n      <td>3</td>\n      <td>...</td>\n      <td>905</td>\n      <td>1988</td>\n      <td>2631</td>\n      <td>17</td>\n      <td>3</td>\n      <td>7</td>\n      <td>1</td>\n      <td>1</td>\n      <td>0</td>\n      <td>2</td>\n    </tr>\n    <tr>\n      <th>2</th>\n      <td>563</td>\n      <td>1</td>\n      <td>0.5</td>\n      <td>1</td>\n      <td>2</td>\n      <td>1</td>\n      <td>41</td>\n      <td>0.9</td>\n      <td>145</td>\n      <td>5</td>\n      <td>...</td>\n      <td>1263</td>\n      <td>1716</td>\n      <td>2603</td>\n      <td>11</td>\n      <td>2</td>\n      <td>9</td>\n      <td>1</td>\n      <td>1</td>\n      <td>0</td>\n      <td>2</td>\n    </tr>\n    <tr>\n      <th>3</th>\n      <td>615</td>\n      <td>1</td>\n      <td>2.5</td>\n      <td>0</td>\n      <td>0</td>\n      <td>0</td>\n      <td>10</td>\n      <td>0.8</td>\n      <td>131</td>\n      <td>6</td>\n      <td>...</td>\n      <td>1216</td>\n      <td>1786</td>\n      <td>2769</td>\n      <td>16</td>\n      <td>8</td>\n      <td>11</td>\n      <td>1</td>\n      <td>0</td>\n      <td>0</td>\n      <td>2</td>\n    </tr>\n    <tr>\n      <th>4</th>\n      <td>1821</td>\n      <td>1</td>\n      <td>1.2</td>\n      <td>0</td>\n      <td>13</td>\n      <td>1</td>\n      <td>44</td>\n      <td>0.6</td>\n      <td>141</td>\n      <td>2</td>\n      <td>...</td>\n      <td>1208</td>\n      <td>1212</td>\n      <td>1411</td>\n      <td>8</td>\n      <td>2</td>\n      <td>15</td>\n      <td>1</td>\n      <td>1</td>\n      <td>0</td>\n      <td>1</td>\n    </tr>\n    <tr>\n      <th>...</th>\n      <td>...</td>\n      <td>...</td>\n      <td>...</td>\n      <td>...</td>\n      <td>...</td>\n      <td>...</td>\n      <td>...</td>\n      <td>...</td>\n      <td>...</td>\n      <td>...</td>\n      <td>...</td>\n      <td>...</td>\n      <td>...</td>\n      <td>...</td>\n      <td>...</td>\n      <td>...</td>\n      <td>...</td>\n      <td>...</td>\n      <td>...</td>\n      <td>...</td>\n      <td>...</td>\n    </tr>\n    <tr>\n      <th>1995</th>\n      <td>794</td>\n      <td>1</td>\n      <td>0.5</td>\n      <td>1</td>\n      <td>0</td>\n      <td>1</td>\n      <td>2</td>\n      <td>0.8</td>\n      <td>106</td>\n      <td>6</td>\n      <td>...</td>\n      <td>1222</td>\n      <td>1890</td>\n      <td>668</td>\n      <td>13</td>\n      <td>4</td>\n      <td>19</td>\n      <td>1</td>\n      <td>1</td>\n      <td>0</td>\n      <td>0</td>\n    </tr>\n    <tr>\n      <th>1996</th>\n      <td>1965</td>\n      <td>1</td>\n      <td>2.6</td>\n      <td>1</td>\n      <td>0</td>\n      <td>0</td>\n      <td>39</td>\n      <td>0.2</td>\n      <td>187</td>\n      <td>4</td>\n      <td>...</td>\n      <td>915</td>\n      <td>1965</td>\n      <td>2032</td>\n      <td>11</td>\n      <td>10</td>\n      <td>16</td>\n      <td>1</td>\n      <td>1</td>\n      <td>1</td>\n      <td>2</td>\n    </tr>\n    <tr>\n      <th>1997</th>\n      <td>1911</td>\n      <td>0</td>\n      <td>0.9</td>\n      <td>1</td>\n      <td>1</td>\n      <td>1</td>\n      <td>36</td>\n      <td>0.7</td>\n      <td>108</td>\n      <td>8</td>\n      <td>...</td>\n      <td>868</td>\n      <td>1632</td>\n      <td>3057</td>\n      <td>9</td>\n      <td>1</td>\n      <td>5</td>\n      <td>1</td>\n      <td>1</td>\n      <td>0</td>\n      <td>3</td>\n    </tr>\n    <tr>\n      <th>1998</th>\n      <td>1512</td>\n      <td>0</td>\n      <td>0.9</td>\n      <td>0</td>\n      <td>4</td>\n      <td>1</td>\n      <td>46</td>\n      <td>0.1</td>\n      <td>145</td>\n      <td>5</td>\n      <td>...</td>\n      <td>336</td>\n      <td>670</td>\n      <td>869</td>\n      <td>18</td>\n      <td>10</td>\n      <td>19</td>\n      <td>1</td>\n      <td>1</td>\n      <td>1</td>\n      <td>0</td>\n    </tr>\n    <tr>\n      <th>1999</th>\n      <td>510</td>\n      <td>1</td>\n      <td>2.0</td>\n      <td>1</td>\n      <td>5</td>\n      <td>1</td>\n      <td>45</td>\n      <td>0.9</td>\n      <td>168</td>\n      <td>6</td>\n      <td>...</td>\n      <td>483</td>\n      <td>754</td>\n      <td>3919</td>\n      <td>19</td>\n      <td>4</td>\n      <td>2</td>\n      <td>1</td>\n      <td>1</td>\n      <td>1</td>\n      <td>3</td>\n    </tr>\n  </tbody>\n</table>\n<p>2000 rows × 21 columns</p>\n</div>"
     },
     "execution_count": 5,
     "metadata": {},
     "output_type": "execute_result"
    }
   ],
   "source": [
    "# read datasets\n",
    "df_train = pd.read_csv('../data/train.csv', sep=',')\n",
    "df_train\n"
   ]
  },
  {
   "cell_type": "code",
   "execution_count": 6,
   "outputs": [
    {
     "data": {
      "text/plain": "      battery_power  blue  clock_speed  dual_sim  fc  four_g  int_memory  \\\nid                                                                         \n1              1043     1          1.8         1  14       0           5   \n2               841     1          0.5         1   4       1          61   \n3              1807     1          2.8         0   1       0          27   \n4              1546     0          0.5         1  18       1          25   \n5              1434     0          1.4         0  11       1          49   \n...             ...   ...          ...       ...  ..     ...         ...   \n996            1700     1          1.9         0   0       1          54   \n997             609     0          1.8         1   0       0          13   \n998            1185     0          1.4         0   1       1           8   \n999            1533     1          0.5         1   0       0          50   \n1000           1270     1          0.5         0   4       1          35   \n\n      m_dep  mobile_wt  n_cores  pc  px_height  px_width   ram  sc_h  sc_w  \\\nid                                                                           \n1       0.1        193        3  16        226      1412  3476    12     7   \n2       0.8        191        5  12        746       857  3895     6     0   \n3       0.9        186        3   4       1270      1366  2396    17    10   \n4       0.5         96        8  20        295      1752  3893    10     0   \n5       0.5        108        6  18        749       810  1773    15     8   \n...     ...        ...      ...  ..        ...       ...   ...   ...   ...   \n996     0.5        170        7  17        644       913  2121    14     8   \n997     0.9        186        4   2       1152      1632  1933     8     1   \n998     0.5         80        1  12        477       825  1223     5     0   \n999     0.4        171        2  12         38       832  2509    15    11   \n1000    0.1        140        6  19        457       608  2828     9     2   \n\n      talk_time  three_g  touch_screen  wifi  \nid                                            \n1             2        0             1     0  \n2             7        1             0     0  \n3            10        0             1     1  \n4             7        1             1     0  \n5             7        1             0     1  \n...         ...      ...           ...   ...  \n996          15        1             1     0  \n997          19        0             1     1  \n998          14        1             0     0  \n999           6        0             1     0  \n1000          3        1             0     1  \n\n[1000 rows x 20 columns]",
      "text/html": "<div>\n<style scoped>\n    .dataframe tbody tr th:only-of-type {\n        vertical-align: middle;\n    }\n\n    .dataframe tbody tr th {\n        vertical-align: top;\n    }\n\n    .dataframe thead th {\n        text-align: right;\n    }\n</style>\n<table border=\"1\" class=\"dataframe\">\n  <thead>\n    <tr style=\"text-align: right;\">\n      <th></th>\n      <th>battery_power</th>\n      <th>blue</th>\n      <th>clock_speed</th>\n      <th>dual_sim</th>\n      <th>fc</th>\n      <th>four_g</th>\n      <th>int_memory</th>\n      <th>m_dep</th>\n      <th>mobile_wt</th>\n      <th>n_cores</th>\n      <th>pc</th>\n      <th>px_height</th>\n      <th>px_width</th>\n      <th>ram</th>\n      <th>sc_h</th>\n      <th>sc_w</th>\n      <th>talk_time</th>\n      <th>three_g</th>\n      <th>touch_screen</th>\n      <th>wifi</th>\n    </tr>\n    <tr>\n      <th>id</th>\n      <th></th>\n      <th></th>\n      <th></th>\n      <th></th>\n      <th></th>\n      <th></th>\n      <th></th>\n      <th></th>\n      <th></th>\n      <th></th>\n      <th></th>\n      <th></th>\n      <th></th>\n      <th></th>\n      <th></th>\n      <th></th>\n      <th></th>\n      <th></th>\n      <th></th>\n      <th></th>\n    </tr>\n  </thead>\n  <tbody>\n    <tr>\n      <th>1</th>\n      <td>1043</td>\n      <td>1</td>\n      <td>1.8</td>\n      <td>1</td>\n      <td>14</td>\n      <td>0</td>\n      <td>5</td>\n      <td>0.1</td>\n      <td>193</td>\n      <td>3</td>\n      <td>16</td>\n      <td>226</td>\n      <td>1412</td>\n      <td>3476</td>\n      <td>12</td>\n      <td>7</td>\n      <td>2</td>\n      <td>0</td>\n      <td>1</td>\n      <td>0</td>\n    </tr>\n    <tr>\n      <th>2</th>\n      <td>841</td>\n      <td>1</td>\n      <td>0.5</td>\n      <td>1</td>\n      <td>4</td>\n      <td>1</td>\n      <td>61</td>\n      <td>0.8</td>\n      <td>191</td>\n      <td>5</td>\n      <td>12</td>\n      <td>746</td>\n      <td>857</td>\n      <td>3895</td>\n      <td>6</td>\n      <td>0</td>\n      <td>7</td>\n      <td>1</td>\n      <td>0</td>\n      <td>0</td>\n    </tr>\n    <tr>\n      <th>3</th>\n      <td>1807</td>\n      <td>1</td>\n      <td>2.8</td>\n      <td>0</td>\n      <td>1</td>\n      <td>0</td>\n      <td>27</td>\n      <td>0.9</td>\n      <td>186</td>\n      <td>3</td>\n      <td>4</td>\n      <td>1270</td>\n      <td>1366</td>\n      <td>2396</td>\n      <td>17</td>\n      <td>10</td>\n      <td>10</td>\n      <td>0</td>\n      <td>1</td>\n      <td>1</td>\n    </tr>\n    <tr>\n      <th>4</th>\n      <td>1546</td>\n      <td>0</td>\n      <td>0.5</td>\n      <td>1</td>\n      <td>18</td>\n      <td>1</td>\n      <td>25</td>\n      <td>0.5</td>\n      <td>96</td>\n      <td>8</td>\n      <td>20</td>\n      <td>295</td>\n      <td>1752</td>\n      <td>3893</td>\n      <td>10</td>\n      <td>0</td>\n      <td>7</td>\n      <td>1</td>\n      <td>1</td>\n      <td>0</td>\n    </tr>\n    <tr>\n      <th>5</th>\n      <td>1434</td>\n      <td>0</td>\n      <td>1.4</td>\n      <td>0</td>\n      <td>11</td>\n      <td>1</td>\n      <td>49</td>\n      <td>0.5</td>\n      <td>108</td>\n      <td>6</td>\n      <td>18</td>\n      <td>749</td>\n      <td>810</td>\n      <td>1773</td>\n      <td>15</td>\n      <td>8</td>\n      <td>7</td>\n      <td>1</td>\n      <td>0</td>\n      <td>1</td>\n    </tr>\n    <tr>\n      <th>...</th>\n      <td>...</td>\n      <td>...</td>\n      <td>...</td>\n      <td>...</td>\n      <td>...</td>\n      <td>...</td>\n      <td>...</td>\n      <td>...</td>\n      <td>...</td>\n      <td>...</td>\n      <td>...</td>\n      <td>...</td>\n      <td>...</td>\n      <td>...</td>\n      <td>...</td>\n      <td>...</td>\n      <td>...</td>\n      <td>...</td>\n      <td>...</td>\n      <td>...</td>\n    </tr>\n    <tr>\n      <th>996</th>\n      <td>1700</td>\n      <td>1</td>\n      <td>1.9</td>\n      <td>0</td>\n      <td>0</td>\n      <td>1</td>\n      <td>54</td>\n      <td>0.5</td>\n      <td>170</td>\n      <td>7</td>\n      <td>17</td>\n      <td>644</td>\n      <td>913</td>\n      <td>2121</td>\n      <td>14</td>\n      <td>8</td>\n      <td>15</td>\n      <td>1</td>\n      <td>1</td>\n      <td>0</td>\n    </tr>\n    <tr>\n      <th>997</th>\n      <td>609</td>\n      <td>0</td>\n      <td>1.8</td>\n      <td>1</td>\n      <td>0</td>\n      <td>0</td>\n      <td>13</td>\n      <td>0.9</td>\n      <td>186</td>\n      <td>4</td>\n      <td>2</td>\n      <td>1152</td>\n      <td>1632</td>\n      <td>1933</td>\n      <td>8</td>\n      <td>1</td>\n      <td>19</td>\n      <td>0</td>\n      <td>1</td>\n      <td>1</td>\n    </tr>\n    <tr>\n      <th>998</th>\n      <td>1185</td>\n      <td>0</td>\n      <td>1.4</td>\n      <td>0</td>\n      <td>1</td>\n      <td>1</td>\n      <td>8</td>\n      <td>0.5</td>\n      <td>80</td>\n      <td>1</td>\n      <td>12</td>\n      <td>477</td>\n      <td>825</td>\n      <td>1223</td>\n      <td>5</td>\n      <td>0</td>\n      <td>14</td>\n      <td>1</td>\n      <td>0</td>\n      <td>0</td>\n    </tr>\n    <tr>\n      <th>999</th>\n      <td>1533</td>\n      <td>1</td>\n      <td>0.5</td>\n      <td>1</td>\n      <td>0</td>\n      <td>0</td>\n      <td>50</td>\n      <td>0.4</td>\n      <td>171</td>\n      <td>2</td>\n      <td>12</td>\n      <td>38</td>\n      <td>832</td>\n      <td>2509</td>\n      <td>15</td>\n      <td>11</td>\n      <td>6</td>\n      <td>0</td>\n      <td>1</td>\n      <td>0</td>\n    </tr>\n    <tr>\n      <th>1000</th>\n      <td>1270</td>\n      <td>1</td>\n      <td>0.5</td>\n      <td>0</td>\n      <td>4</td>\n      <td>1</td>\n      <td>35</td>\n      <td>0.1</td>\n      <td>140</td>\n      <td>6</td>\n      <td>19</td>\n      <td>457</td>\n      <td>608</td>\n      <td>2828</td>\n      <td>9</td>\n      <td>2</td>\n      <td>3</td>\n      <td>1</td>\n      <td>0</td>\n      <td>1</td>\n    </tr>\n  </tbody>\n</table>\n<p>1000 rows × 20 columns</p>\n</div>"
     },
     "execution_count": 6,
     "metadata": {},
     "output_type": "execute_result"
    }
   ],
   "source": [
    "df_test = pd.read_csv('../data/test.csv', sep=',', index_col=0)\n",
    "#df_test"
   ],
   "metadata": {
    "collapsed": false
   }
  },
  {
   "cell_type": "code",
   "execution_count": 7,
   "outputs": [
    {
     "data": {
      "text/plain": "array([[8.420e+02, 0.000e+00, 2.200e+00, ..., 0.000e+00, 1.000e+00,\n        1.000e+00],\n       [1.021e+03, 1.000e+00, 5.000e-01, ..., 1.000e+00, 0.000e+00,\n        2.000e+00],\n       [5.630e+02, 1.000e+00, 5.000e-01, ..., 1.000e+00, 0.000e+00,\n        2.000e+00],\n       ...,\n       [1.911e+03, 0.000e+00, 9.000e-01, ..., 1.000e+00, 0.000e+00,\n        3.000e+00],\n       [1.512e+03, 0.000e+00, 9.000e-01, ..., 1.000e+00, 1.000e+00,\n        0.000e+00],\n       [5.100e+02, 1.000e+00, 2.000e+00, ..., 1.000e+00, 1.000e+00,\n        3.000e+00]])"
     },
     "execution_count": 7,
     "metadata": {},
     "output_type": "execute_result"
    }
   ],
   "source": [
    "df_train.values"
   ],
   "metadata": {
    "collapsed": false
   }
  },
  {
   "cell_type": "code",
   "execution_count": 8,
   "outputs": [
    {
     "data": {
      "text/plain": "array([[8.420e+02, 0.000e+00, 2.200e+00, ..., 0.000e+00, 0.000e+00,\n        1.000e+00],\n       [1.021e+03, 1.000e+00, 5.000e-01, ..., 1.000e+00, 1.000e+00,\n        0.000e+00],\n       [5.630e+02, 1.000e+00, 5.000e-01, ..., 1.000e+00, 1.000e+00,\n        0.000e+00],\n       ...,\n       [1.911e+03, 0.000e+00, 9.000e-01, ..., 1.000e+00, 1.000e+00,\n        0.000e+00],\n       [1.512e+03, 0.000e+00, 9.000e-01, ..., 1.000e+00, 1.000e+00,\n        1.000e+00],\n       [5.100e+02, 1.000e+00, 2.000e+00, ..., 1.000e+00, 1.000e+00,\n        1.000e+00]], dtype=float32)"
     },
     "execution_count": 8,
     "metadata": {},
     "output_type": "execute_result"
    }
   ],
   "source": [
    "x_train = df_train.values[:, :-1]       #vsetko okrem price range\n",
    "x_train = x_train.astype('float32')     # input data as floats\n",
    "#x_train"
   ],
   "metadata": {
    "collapsed": false
   }
  },
  {
   "cell_type": "code",
   "execution_count": 9,
   "outputs": [
    {
     "name": "stdout",
     "output_type": "stream",
     "text": [
      "[1 2 2 ... 3 0 3]\n"
     ]
    }
   ],
   "source": [
    "y_train = df_train.values[:, -1]  # price range\n",
    "y_train = y_train.astype('int')\n",
    "print(y_train)"
   ],
   "metadata": {
    "collapsed": false
   }
  },
  {
   "cell_type": "code",
   "execution_count": 10,
   "outputs": [
    {
     "name": "stdout",
     "output_type": "stream",
     "text": [
      "(1600, 20) (400, 20) (1600,) (400,)\n"
     ]
    }
   ],
   "source": [
    "x_train,x_val,y_train,y_val = train_test_split(x_train,y_train,test_size=0.2,random_state=52)\n",
    "print(x_train.shape,x_val.shape,y_train.shape,y_val.shape)\n",
    "#print(y_train,\" sad\")\n",
    "class_labels = [0, 1, 2, 3]\n",
    "y_train = tf.keras.utils.to_categorical(y_train, num_classes=len(class_labels))\n",
    "y_val = tf.keras.utils.to_categorical(y_val, num_classes=len(class_labels))\n",
    "#print(y_train)"
   ],
   "metadata": {
    "collapsed": false
   }
  },
  {
   "cell_type": "markdown",
   "source": [],
   "metadata": {
    "collapsed": false
   }
  },
  {
   "cell_type": "code",
   "execution_count": 11,
   "outputs": [
    {
     "data": {
      "text/plain": "array([[1.043e+03, 1.000e+00, 1.800e+00, ..., 0.000e+00, 1.000e+00,\n        0.000e+00],\n       [8.410e+02, 1.000e+00, 5.000e-01, ..., 1.000e+00, 0.000e+00,\n        0.000e+00],\n       [1.807e+03, 1.000e+00, 2.800e+00, ..., 0.000e+00, 1.000e+00,\n        1.000e+00],\n       ...,\n       [1.185e+03, 0.000e+00, 1.400e+00, ..., 1.000e+00, 0.000e+00,\n        0.000e+00],\n       [1.533e+03, 1.000e+00, 5.000e-01, ..., 0.000e+00, 1.000e+00,\n        0.000e+00],\n       [1.270e+03, 1.000e+00, 5.000e-01, ..., 1.000e+00, 0.000e+00,\n        1.000e+00]], dtype=float32)"
     },
     "execution_count": 11,
     "metadata": {},
     "output_type": "execute_result"
    }
   ],
   "source": [
    "x_test = df_test.values[:, :]       #vsetko okrem price range\n",
    "x_test = x_test.astype('float32')\n",
    "x_test"
   ],
   "metadata": {
    "collapsed": false
   }
  },
  {
   "cell_type": "code",
   "execution_count": 12,
   "outputs": [],
   "source": [
    "model = keras.Sequential([\n",
    "    keras.layers.Dense(256,input_shape=(20,),name='l1'),\n",
    "    # keras.layers.Dense(256, activation='relu',name='l2'),\n",
    "    # keras.layers.Dense(256, activation='relu',name='l3'),\n",
    "    # keras.layers.Dense(256, activation='sigmoid',name='l4'),\n",
    "    # keras.layers.Dense(256, activation='sigmoid',name='l5'),\n",
    "    keras.layers.Dense(4,activation='sigmoid',name='l6')\n",
    "])\n"
   ],
   "metadata": {
    "collapsed": false
   }
  },
  {
   "cell_type": "code",
   "execution_count": 14,
   "outputs": [],
   "source": [
    "lr = 0.03648030109469176\n",
    "optimizer = tf.keras.optimizers.Adam(learning_rate=lr)\n",
    "model.compile(optimizer=optimizer,\n",
    "              loss='binary_crossentropy',\n",
    "              metrics=['accuracy','mse','categorical_accuracy']\n",
    "              )\n"
   ],
   "metadata": {
    "collapsed": false
   }
  },
  {
   "cell_type": "code",
   "execution_count": 15,
   "outputs": [
    {
     "name": "stdout",
     "output_type": "stream",
     "text": [
      "Epoch 1/100\n",
      " 1/13 [=>............................] - ETA: 12s - loss: 66.8150 - accuracy: 0.3281 - mse: 0.4896 - categorical_accuracy: 0.3281"
     ]
    },
    {
     "name": "stderr",
     "output_type": "stream",
     "text": [
      "WARNING:absl:Found untraced functions such as _update_step_xla while saving (showing 1 of 1). These functions will not be directly callable after loading.\n"
     ]
    },
    {
     "name": "stdout",
     "output_type": "stream",
     "text": [
      "INFO:tensorflow:Assets written to: models\\assets\n"
     ]
    },
    {
     "name": "stderr",
     "output_type": "stream",
     "text": [
      "INFO:tensorflow:Assets written to: models\\assets\n",
      "wandb: Adding directory to artifact (.\\models)... Done. 0.0s\n"
     ]
    },
    {
     "name": "stdout",
     "output_type": "stream",
     "text": [
      "13/13 [==============================] - 2s 106ms/step - loss: 329.5345 - accuracy: 0.3619 - mse: 0.3180 - categorical_accuracy: 0.3619 - val_loss: 138.8331 - val_accuracy: 0.4000 - val_mse: 0.2613 - val_categorical_accuracy: 0.4000\n",
      "Epoch 2/100\n",
      " 1/13 [=>............................] - ETA: 0s - loss: 154.6903 - accuracy: 0.3516 - mse: 0.2676 - categorical_accuracy: 0.3516"
     ]
    },
    {
     "name": "stderr",
     "output_type": "stream",
     "text": [
      "WARNING:absl:Found untraced functions such as _update_step_xla while saving (showing 1 of 1). These functions will not be directly callable after loading.\n"
     ]
    },
    {
     "name": "stdout",
     "output_type": "stream",
     "text": [
      "INFO:tensorflow:Assets written to: models\\assets\n"
     ]
    },
    {
     "name": "stderr",
     "output_type": "stream",
     "text": [
      "INFO:tensorflow:Assets written to: models\\assets\n",
      "wandb: Adding directory to artifact (.\\models)... Done. 0.0s\n"
     ]
    },
    {
     "name": "stdout",
     "output_type": "stream",
     "text": [
      "13/13 [==============================] - 1s 67ms/step - loss: 99.4989 - accuracy: 0.3688 - mse: 0.2801 - categorical_accuracy: 0.3688 - val_loss: 40.8215 - val_accuracy: 0.5250 - val_mse: 0.2311 - val_categorical_accuracy: 0.5250\n",
      "Epoch 3/100\n",
      " 1/13 [=>............................] - ETA: 0s - loss: 39.9143 - accuracy: 0.5938 - mse: 0.2192 - categorical_accuracy: 0.5938"
     ]
    },
    {
     "name": "stderr",
     "output_type": "stream",
     "text": [
      "WARNING:absl:Found untraced functions such as _update_step_xla while saving (showing 1 of 1). These functions will not be directly callable after loading.\n"
     ]
    },
    {
     "name": "stdout",
     "output_type": "stream",
     "text": [
      "INFO:tensorflow:Assets written to: models\\assets\n"
     ]
    },
    {
     "name": "stderr",
     "output_type": "stream",
     "text": [
      "INFO:tensorflow:Assets written to: models\\assets\n",
      "wandb: Adding directory to artifact (.\\models)... Done. 0.0s\n"
     ]
    },
    {
     "name": "stdout",
     "output_type": "stream",
     "text": [
      "13/13 [==============================] - 1s 69ms/step - loss: 36.9309 - accuracy: 0.4731 - mse: 0.2753 - categorical_accuracy: 0.4731 - val_loss: 23.8925 - val_accuracy: 0.5650 - val_mse: 0.2232 - val_categorical_accuracy: 0.5650\n",
      "Epoch 4/100\n",
      " 1/13 [=>............................] - ETA: 0s - loss: 25.9375 - accuracy: 0.5547 - mse: 0.2176 - categorical_accuracy: 0.5547"
     ]
    },
    {
     "name": "stderr",
     "output_type": "stream",
     "text": [
      "WARNING:absl:Found untraced functions such as _update_step_xla while saving (showing 1 of 1). These functions will not be directly callable after loading.\n"
     ]
    },
    {
     "name": "stdout",
     "output_type": "stream",
     "text": [
      "INFO:tensorflow:Assets written to: models\\assets\n"
     ]
    },
    {
     "name": "stderr",
     "output_type": "stream",
     "text": [
      "INFO:tensorflow:Assets written to: models\\assets\n",
      "wandb: Adding directory to artifact (.\\models)... Done. 0.0s\n"
     ]
    },
    {
     "name": "stdout",
     "output_type": "stream",
     "text": [
      "13/13 [==============================] - 1s 66ms/step - loss: 18.6276 - accuracy: 0.4969 - mse: 0.2533 - categorical_accuracy: 0.4969 - val_loss: 12.9460 - val_accuracy: 0.4775 - val_mse: 0.2788 - val_categorical_accuracy: 0.4775\n",
      "Epoch 5/100\n",
      " 1/13 [=>............................] - ETA: 0s - loss: 12.4047 - accuracy: 0.4844 - mse: 0.2514 - categorical_accuracy: 0.4844"
     ]
    },
    {
     "name": "stderr",
     "output_type": "stream",
     "text": [
      "WARNING:absl:Found untraced functions such as _update_step_xla while saving (showing 1 of 1). These functions will not be directly callable after loading.\n"
     ]
    },
    {
     "name": "stdout",
     "output_type": "stream",
     "text": [
      "INFO:tensorflow:Assets written to: models\\assets\n"
     ]
    },
    {
     "name": "stderr",
     "output_type": "stream",
     "text": [
      "INFO:tensorflow:Assets written to: models\\assets\n",
      "wandb: Adding directory to artifact (.\\models)... Done. 0.0s\n"
     ]
    },
    {
     "name": "stdout",
     "output_type": "stream",
     "text": [
      "13/13 [==============================] - 1s 70ms/step - loss: 9.2180 - accuracy: 0.5350 - mse: 0.2459 - categorical_accuracy: 0.5350 - val_loss: 6.0035 - val_accuracy: 0.5850 - val_mse: 0.2097 - val_categorical_accuracy: 0.5850\n",
      "Epoch 6/100\n",
      " 1/13 [=>............................] - ETA: 0s - loss: 5.1346 - accuracy: 0.6562 - mse: 0.1986 - categorical_accuracy: 0.6562"
     ]
    },
    {
     "name": "stderr",
     "output_type": "stream",
     "text": [
      "WARNING:absl:Found untraced functions such as _update_step_xla while saving (showing 1 of 1). These functions will not be directly callable after loading.\n"
     ]
    },
    {
     "name": "stdout",
     "output_type": "stream",
     "text": [
      "INFO:tensorflow:Assets written to: models\\assets\n"
     ]
    },
    {
     "name": "stderr",
     "output_type": "stream",
     "text": [
      "INFO:tensorflow:Assets written to: models\\assets\n",
      "wandb: Adding directory to artifact (.\\models)... Done. 0.0s\n"
     ]
    },
    {
     "name": "stdout",
     "output_type": "stream",
     "text": [
      "13/13 [==============================] - 1s 70ms/step - loss: 7.3244 - accuracy: 0.5525 - mse: 0.2378 - categorical_accuracy: 0.5525 - val_loss: 10.7203 - val_accuracy: 0.5150 - val_mse: 0.2855 - val_categorical_accuracy: 0.5150\n",
      "Epoch 7/100\n",
      " 1/13 [=>............................] - ETA: 0s - loss: 10.9705 - accuracy: 0.4766 - mse: 0.2945 - categorical_accuracy: 0.4766"
     ]
    },
    {
     "name": "stderr",
     "output_type": "stream",
     "text": [
      "WARNING:absl:Found untraced functions such as _update_step_xla while saving (showing 1 of 1). These functions will not be directly callable after loading.\n"
     ]
    },
    {
     "name": "stdout",
     "output_type": "stream",
     "text": [
      "INFO:tensorflow:Assets written to: models\\assets\n"
     ]
    },
    {
     "name": "stderr",
     "output_type": "stream",
     "text": [
      "INFO:tensorflow:Assets written to: models\\assets\n",
      "wandb: Adding directory to artifact (.\\models)... Done. 0.0s\n"
     ]
    },
    {
     "name": "stdout",
     "output_type": "stream",
     "text": [
      "13/13 [==============================] - 1s 68ms/step - loss: 5.4909 - accuracy: 0.5581 - mse: 0.2328 - categorical_accuracy: 0.5581 - val_loss: 4.7812 - val_accuracy: 0.5900 - val_mse: 0.2448 - val_categorical_accuracy: 0.5900\n",
      "Epoch 8/100\n",
      " 1/13 [=>............................] - ETA: 0s - loss: 3.9242 - accuracy: 0.6406 - mse: 0.2345 - categorical_accuracy: 0.6406"
     ]
    },
    {
     "name": "stderr",
     "output_type": "stream",
     "text": [
      "WARNING:absl:Found untraced functions such as _update_step_xla while saving (showing 1 of 1). These functions will not be directly callable after loading.\n"
     ]
    },
    {
     "name": "stdout",
     "output_type": "stream",
     "text": [
      "INFO:tensorflow:Assets written to: models\\assets\n"
     ]
    },
    {
     "name": "stderr",
     "output_type": "stream",
     "text": [
      "INFO:tensorflow:Assets written to: models\\assets\n",
      "wandb: Adding directory to artifact (.\\models)... Done. 0.0s\n"
     ]
    },
    {
     "name": "stdout",
     "output_type": "stream",
     "text": [
      "13/13 [==============================] - 1s 77ms/step - loss: 4.0901 - accuracy: 0.5763 - mse: 0.2321 - categorical_accuracy: 0.5763 - val_loss: 5.5451 - val_accuracy: 0.4300 - val_mse: 0.3817 - val_categorical_accuracy: 0.4300\n",
      "Epoch 9/100\n",
      " 1/13 [=>............................] - ETA: 0s - loss: 4.8274 - accuracy: 0.4453 - mse: 0.3436 - categorical_accuracy: 0.4453"
     ]
    },
    {
     "name": "stderr",
     "output_type": "stream",
     "text": [
      "WARNING:absl:Found untraced functions such as _update_step_xla while saving (showing 1 of 1). These functions will not be directly callable after loading.\n"
     ]
    },
    {
     "name": "stdout",
     "output_type": "stream",
     "text": [
      "INFO:tensorflow:Assets written to: models\\assets\n"
     ]
    },
    {
     "name": "stderr",
     "output_type": "stream",
     "text": [
      "INFO:tensorflow:Assets written to: models\\assets\n",
      "wandb: Adding directory to artifact (.\\models)... Done. 0.0s\n"
     ]
    },
    {
     "name": "stdout",
     "output_type": "stream",
     "text": [
      "13/13 [==============================] - 1s 97ms/step - loss: 5.4463 - accuracy: 0.5256 - mse: 0.2534 - categorical_accuracy: 0.5256 - val_loss: 4.3011 - val_accuracy: 0.5600 - val_mse: 0.3235 - val_categorical_accuracy: 0.5600\n",
      "Epoch 10/100\n",
      " 1/13 [=>............................] - ETA: 0s - loss: 4.4989 - accuracy: 0.5312 - mse: 0.3295 - categorical_accuracy: 0.5312"
     ]
    },
    {
     "name": "stderr",
     "output_type": "stream",
     "text": [
      "WARNING:absl:Found untraced functions such as _update_step_xla while saving (showing 1 of 1). These functions will not be directly callable after loading.\n"
     ]
    },
    {
     "name": "stdout",
     "output_type": "stream",
     "text": [
      "INFO:tensorflow:Assets written to: models\\assets\n"
     ]
    },
    {
     "name": "stderr",
     "output_type": "stream",
     "text": [
      "INFO:tensorflow:Assets written to: models\\assets\n",
      "wandb: Adding directory to artifact (.\\models)... Done. 0.0s\n"
     ]
    },
    {
     "name": "stdout",
     "output_type": "stream",
     "text": [
      "13/13 [==============================] - 1s 92ms/step - loss: 3.0212 - accuracy: 0.5850 - mse: 0.2303 - categorical_accuracy: 0.5850 - val_loss: 2.5850 - val_accuracy: 0.5925 - val_mse: 0.2118 - val_categorical_accuracy: 0.5925\n",
      "Epoch 11/100\n",
      " 1/13 [=>............................] - ETA: 0s - loss: 2.5399 - accuracy: 0.5547 - mse: 0.2171 - categorical_accuracy: 0.5547"
     ]
    },
    {
     "name": "stderr",
     "output_type": "stream",
     "text": [
      "WARNING:absl:Found untraced functions such as _update_step_xla while saving (showing 1 of 1). These functions will not be directly callable after loading.\n"
     ]
    },
    {
     "name": "stdout",
     "output_type": "stream",
     "text": [
      "INFO:tensorflow:Assets written to: models\\assets\n"
     ]
    },
    {
     "name": "stderr",
     "output_type": "stream",
     "text": [
      "INFO:tensorflow:Assets written to: models\\assets\n",
      "wandb: Adding directory to artifact (.\\models)... Done. 0.0s\n"
     ]
    },
    {
     "name": "stdout",
     "output_type": "stream",
     "text": [
      "13/13 [==============================] - 1s 90ms/step - loss: 2.6863 - accuracy: 0.5881 - mse: 0.2225 - categorical_accuracy: 0.5881 - val_loss: 2.4367 - val_accuracy: 0.5875 - val_mse: 0.2421 - val_categorical_accuracy: 0.5875\n",
      "Epoch 12/100\n",
      " 1/13 [=>............................] - ETA: 0s - loss: 2.6578 - accuracy: 0.5391 - mse: 0.2638 - categorical_accuracy: 0.5391"
     ]
    },
    {
     "name": "stderr",
     "output_type": "stream",
     "text": [
      "WARNING:absl:Found untraced functions such as _update_step_xla while saving (showing 1 of 1). These functions will not be directly callable after loading.\n"
     ]
    },
    {
     "name": "stdout",
     "output_type": "stream",
     "text": [
      "INFO:tensorflow:Assets written to: models\\assets\n"
     ]
    },
    {
     "name": "stderr",
     "output_type": "stream",
     "text": [
      "INFO:tensorflow:Assets written to: models\\assets\n",
      "wandb: Adding directory to artifact (.\\models)... Done. 0.0s\n"
     ]
    },
    {
     "name": "stdout",
     "output_type": "stream",
     "text": [
      "13/13 [==============================] - 1s 83ms/step - loss: 3.0123 - accuracy: 0.5625 - mse: 0.2288 - categorical_accuracy: 0.5625 - val_loss: 4.1418 - val_accuracy: 0.4675 - val_mse: 0.2141 - val_categorical_accuracy: 0.4675\n",
      "Epoch 13/100\n",
      " 1/13 [=>............................] - ETA: 0s - loss: 3.2153 - accuracy: 0.4922 - mse: 0.2202 - categorical_accuracy: 0.4922"
     ]
    },
    {
     "name": "stderr",
     "output_type": "stream",
     "text": [
      "WARNING:absl:Found untraced functions such as _update_step_xla while saving (showing 1 of 1). These functions will not be directly callable after loading.\n"
     ]
    },
    {
     "name": "stdout",
     "output_type": "stream",
     "text": [
      "INFO:tensorflow:Assets written to: models\\assets\n"
     ]
    },
    {
     "name": "stderr",
     "output_type": "stream",
     "text": [
      "INFO:tensorflow:Assets written to: models\\assets\n",
      "wandb: Adding directory to artifact (.\\models)... Done. 0.0s\n"
     ]
    },
    {
     "name": "stdout",
     "output_type": "stream",
     "text": [
      "13/13 [==============================] - 1s 92ms/step - loss: 2.6704 - accuracy: 0.5475 - mse: 0.2316 - categorical_accuracy: 0.5475 - val_loss: 2.1484 - val_accuracy: 0.6275 - val_mse: 0.2021 - val_categorical_accuracy: 0.6275\n",
      "Epoch 14/100\n",
      " 1/13 [=>............................] - ETA: 0s - loss: 2.4673 - accuracy: 0.5703 - mse: 0.2317 - categorical_accuracy: 0.5703"
     ]
    },
    {
     "name": "stderr",
     "output_type": "stream",
     "text": [
      "WARNING:absl:Found untraced functions such as _update_step_xla while saving (showing 1 of 1). These functions will not be directly callable after loading.\n"
     ]
    },
    {
     "name": "stdout",
     "output_type": "stream",
     "text": [
      "INFO:tensorflow:Assets written to: models\\assets\n"
     ]
    },
    {
     "name": "stderr",
     "output_type": "stream",
     "text": [
      "INFO:tensorflow:Assets written to: models\\assets\n",
      "wandb: Adding directory to artifact (.\\models)... Done. 0.0s\n"
     ]
    },
    {
     "name": "stdout",
     "output_type": "stream",
     "text": [
      "13/13 [==============================] - 1s 80ms/step - loss: 1.9242 - accuracy: 0.5738 - mse: 0.2221 - categorical_accuracy: 0.5738 - val_loss: 1.7250 - val_accuracy: 0.5375 - val_mse: 0.2051 - val_categorical_accuracy: 0.5375\n",
      "Epoch 15/100\n",
      " 1/13 [=>............................] - ETA: 0s - loss: 1.7354 - accuracy: 0.5156 - mse: 0.2304 - categorical_accuracy: 0.5156"
     ]
    },
    {
     "name": "stderr",
     "output_type": "stream",
     "text": [
      "WARNING:absl:Found untraced functions such as _update_step_xla while saving (showing 1 of 1). These functions will not be directly callable after loading.\n"
     ]
    },
    {
     "name": "stdout",
     "output_type": "stream",
     "text": [
      "INFO:tensorflow:Assets written to: models\\assets\n"
     ]
    },
    {
     "name": "stderr",
     "output_type": "stream",
     "text": [
      "INFO:tensorflow:Assets written to: models\\assets\n",
      "wandb: Adding directory to artifact (.\\models)... Done. 0.0s\n"
     ]
    },
    {
     "name": "stdout",
     "output_type": "stream",
     "text": [
      "13/13 [==============================] - 1s 72ms/step - loss: 1.4794 - accuracy: 0.5775 - mse: 0.2112 - categorical_accuracy: 0.5775 - val_loss: 1.3249 - val_accuracy: 0.6000 - val_mse: 0.1737 - val_categorical_accuracy: 0.6000\n",
      "Epoch 16/100\n",
      " 1/13 [=>............................] - ETA: 0s - loss: 1.3687 - accuracy: 0.5234 - mse: 0.1808 - categorical_accuracy: 0.5234"
     ]
    },
    {
     "name": "stderr",
     "output_type": "stream",
     "text": [
      "WARNING:absl:Found untraced functions such as _update_step_xla while saving (showing 1 of 1). These functions will not be directly callable after loading.\n"
     ]
    },
    {
     "name": "stdout",
     "output_type": "stream",
     "text": [
      "INFO:tensorflow:Assets written to: models\\assets\n"
     ]
    },
    {
     "name": "stderr",
     "output_type": "stream",
     "text": [
      "INFO:tensorflow:Assets written to: models\\assets\n",
      "wandb: Adding directory to artifact (.\\models)... Done. 0.0s\n"
     ]
    },
    {
     "name": "stdout",
     "output_type": "stream",
     "text": [
      "13/13 [==============================] - 1s 73ms/step - loss: 1.1883 - accuracy: 0.5944 - mse: 0.1963 - categorical_accuracy: 0.5944 - val_loss: 1.1926 - val_accuracy: 0.6675 - val_mse: 0.1821 - val_categorical_accuracy: 0.6675\n",
      "Epoch 17/100\n",
      " 1/13 [=>............................] - ETA: 0s - loss: 1.2168 - accuracy: 0.6172 - mse: 0.1898 - categorical_accuracy: 0.6172"
     ]
    },
    {
     "name": "stderr",
     "output_type": "stream",
     "text": [
      "WARNING:absl:Found untraced functions such as _update_step_xla while saving (showing 1 of 1). These functions will not be directly callable after loading.\n"
     ]
    },
    {
     "name": "stdout",
     "output_type": "stream",
     "text": [
      "INFO:tensorflow:Assets written to: models\\assets\n"
     ]
    },
    {
     "name": "stderr",
     "output_type": "stream",
     "text": [
      "INFO:tensorflow:Assets written to: models\\assets\n",
      "wandb: Adding directory to artifact (.\\models)... Done. 0.0s\n"
     ]
    },
    {
     "name": "stdout",
     "output_type": "stream",
     "text": [
      "13/13 [==============================] - 1s 67ms/step - loss: 1.0341 - accuracy: 0.6006 - mse: 0.1890 - categorical_accuracy: 0.6006 - val_loss: 0.8548 - val_accuracy: 0.6450 - val_mse: 0.1677 - val_categorical_accuracy: 0.6450\n",
      "Epoch 18/100\n",
      " 1/13 [=>............................] - ETA: 0s - loss: 0.8690 - accuracy: 0.6328 - mse: 0.1882 - categorical_accuracy: 0.6328"
     ]
    },
    {
     "name": "stderr",
     "output_type": "stream",
     "text": [
      "WARNING:absl:Found untraced functions such as _update_step_xla while saving (showing 1 of 1). These functions will not be directly callable after loading.\n"
     ]
    },
    {
     "name": "stdout",
     "output_type": "stream",
     "text": [
      "INFO:tensorflow:Assets written to: models\\assets\n"
     ]
    },
    {
     "name": "stderr",
     "output_type": "stream",
     "text": [
      "INFO:tensorflow:Assets written to: models\\assets\n",
      "wandb: Adding directory to artifact (.\\models)... Done. 0.0s\n"
     ]
    },
    {
     "name": "stdout",
     "output_type": "stream",
     "text": [
      "13/13 [==============================] - 1s 73ms/step - loss: 1.1247 - accuracy: 0.5706 - mse: 0.1835 - categorical_accuracy: 0.5706 - val_loss: 1.2176 - val_accuracy: 0.6050 - val_mse: 0.1979 - val_categorical_accuracy: 0.6050\n",
      "Epoch 19/100\n",
      " 1/13 [=>............................] - ETA: 0s - loss: 0.7888 - accuracy: 0.7188 - mse: 0.1718 - categorical_accuracy: 0.7188"
     ]
    },
    {
     "name": "stderr",
     "output_type": "stream",
     "text": [
      "WARNING:absl:Found untraced functions such as _update_step_xla while saving (showing 1 of 1). These functions will not be directly callable after loading.\n"
     ]
    },
    {
     "name": "stdout",
     "output_type": "stream",
     "text": [
      "INFO:tensorflow:Assets written to: models\\assets\n"
     ]
    },
    {
     "name": "stderr",
     "output_type": "stream",
     "text": [
      "INFO:tensorflow:Assets written to: models\\assets\n",
      "wandb: Adding directory to artifact (.\\models)... Done. 0.0s\n"
     ]
    },
    {
     "name": "stdout",
     "output_type": "stream",
     "text": [
      "13/13 [==============================] - 1s 87ms/step - loss: 0.9209 - accuracy: 0.5987 - mse: 0.1711 - categorical_accuracy: 0.5987 - val_loss: 0.9738 - val_accuracy: 0.5400 - val_mse: 0.1608 - val_categorical_accuracy: 0.5400\n",
      "Epoch 20/100\n",
      " 1/13 [=>............................] - ETA: 0s - loss: 1.2910 - accuracy: 0.3750 - mse: 0.2008 - categorical_accuracy: 0.3750"
     ]
    },
    {
     "name": "stderr",
     "output_type": "stream",
     "text": [
      "WARNING:absl:Found untraced functions such as _update_step_xla while saving (showing 1 of 1). These functions will not be directly callable after loading.\n"
     ]
    },
    {
     "name": "stdout",
     "output_type": "stream",
     "text": [
      "INFO:tensorflow:Assets written to: models\\assets\n"
     ]
    },
    {
     "name": "stderr",
     "output_type": "stream",
     "text": [
      "INFO:tensorflow:Assets written to: models\\assets\n",
      "wandb: Adding directory to artifact (.\\models)... Done. 0.0s\n"
     ]
    },
    {
     "name": "stdout",
     "output_type": "stream",
     "text": [
      "13/13 [==============================] - 1s 84ms/step - loss: 0.8028 - accuracy: 0.6031 - mse: 0.1607 - categorical_accuracy: 0.6031 - val_loss: 0.7759 - val_accuracy: 0.6500 - val_mse: 0.1545 - val_categorical_accuracy: 0.6500\n",
      "Epoch 21/100\n",
      " 1/13 [=>............................] - ETA: 0s - loss: 0.7430 - accuracy: 0.6406 - mse: 0.1612 - categorical_accuracy: 0.6406"
     ]
    },
    {
     "name": "stderr",
     "output_type": "stream",
     "text": [
      "WARNING:absl:Found untraced functions such as _update_step_xla while saving (showing 1 of 1). These functions will not be directly callable after loading.\n"
     ]
    },
    {
     "name": "stdout",
     "output_type": "stream",
     "text": [
      "INFO:tensorflow:Assets written to: models\\assets\n"
     ]
    },
    {
     "name": "stderr",
     "output_type": "stream",
     "text": [
      "INFO:tensorflow:Assets written to: models\\assets\n",
      "wandb: Adding directory to artifact (.\\models)... Done. 0.0s\n"
     ]
    },
    {
     "name": "stdout",
     "output_type": "stream",
     "text": [
      "13/13 [==============================] - 1s 107ms/step - loss: 0.8056 - accuracy: 0.5913 - mse: 0.1723 - categorical_accuracy: 0.5913 - val_loss: 2.9107 - val_accuracy: 0.4200 - val_mse: 0.2412 - val_categorical_accuracy: 0.4200\n",
      "Epoch 22/100\n",
      " 1/13 [=>............................] - ETA: 0s - loss: 2.5426 - accuracy: 0.4297 - mse: 0.2324 - categorical_accuracy: 0.4297"
     ]
    },
    {
     "name": "stderr",
     "output_type": "stream",
     "text": [
      "WARNING:absl:Found untraced functions such as _update_step_xla while saving (showing 1 of 1). These functions will not be directly callable after loading.\n"
     ]
    },
    {
     "name": "stdout",
     "output_type": "stream",
     "text": [
      "INFO:tensorflow:Assets written to: models\\assets\n"
     ]
    },
    {
     "name": "stderr",
     "output_type": "stream",
     "text": [
      "INFO:tensorflow:Assets written to: models\\assets\n",
      "wandb: Adding directory to artifact (.\\models)... Done. 0.0s\n"
     ]
    },
    {
     "name": "stdout",
     "output_type": "stream",
     "text": [
      "13/13 [==============================] - 1s 73ms/step - loss: 1.3183 - accuracy: 0.5562 - mse: 0.1870 - categorical_accuracy: 0.5562 - val_loss: 1.0475 - val_accuracy: 0.6050 - val_mse: 0.1646 - val_categorical_accuracy: 0.6050\n",
      "Epoch 23/100\n",
      " 1/13 [=>............................] - ETA: 0s - loss: 1.1350 - accuracy: 0.6328 - mse: 0.1611 - categorical_accuracy: 0.6328"
     ]
    },
    {
     "name": "stderr",
     "output_type": "stream",
     "text": [
      "WARNING:absl:Found untraced functions such as _update_step_xla while saving (showing 1 of 1). These functions will not be directly callable after loading.\n"
     ]
    },
    {
     "name": "stdout",
     "output_type": "stream",
     "text": [
      "INFO:tensorflow:Assets written to: models\\assets\n"
     ]
    },
    {
     "name": "stderr",
     "output_type": "stream",
     "text": [
      "INFO:tensorflow:Assets written to: models\\assets\n",
      "wandb: Adding directory to artifact (.\\models)... Done. 0.0s\n"
     ]
    },
    {
     "name": "stdout",
     "output_type": "stream",
     "text": [
      "13/13 [==============================] - 1s 70ms/step - loss: 0.8769 - accuracy: 0.6094 - mse: 0.1660 - categorical_accuracy: 0.6094 - val_loss: 0.9016 - val_accuracy: 0.6450 - val_mse: 0.1724 - val_categorical_accuracy: 0.6450\n",
      "Epoch 24/100\n",
      " 1/13 [=>............................] - ETA: 0s - loss: 0.9306 - accuracy: 0.5234 - mse: 0.1897 - categorical_accuracy: 0.5234"
     ]
    },
    {
     "name": "stderr",
     "output_type": "stream",
     "text": [
      "WARNING:absl:Found untraced functions such as _update_step_xla while saving (showing 1 of 1). These functions will not be directly callable after loading.\n"
     ]
    },
    {
     "name": "stdout",
     "output_type": "stream",
     "text": [
      "INFO:tensorflow:Assets written to: models\\assets\n"
     ]
    },
    {
     "name": "stderr",
     "output_type": "stream",
     "text": [
      "INFO:tensorflow:Assets written to: models\\assets\n",
      "wandb: Adding directory to artifact (.\\models)... Done. 0.0s\n"
     ]
    },
    {
     "name": "stdout",
     "output_type": "stream",
     "text": [
      "13/13 [==============================] - 1s 72ms/step - loss: 0.7607 - accuracy: 0.6012 - mse: 0.1683 - categorical_accuracy: 0.6012 - val_loss: 0.6955 - val_accuracy: 0.6250 - val_mse: 0.1631 - val_categorical_accuracy: 0.6250\n",
      "Epoch 25/100\n",
      " 1/13 [=>............................] - ETA: 0s - loss: 0.6174 - accuracy: 0.6641 - mse: 0.1467 - categorical_accuracy: 0.6641"
     ]
    },
    {
     "name": "stderr",
     "output_type": "stream",
     "text": [
      "WARNING:absl:Found untraced functions such as _update_step_xla while saving (showing 1 of 1). These functions will not be directly callable after loading.\n"
     ]
    },
    {
     "name": "stdout",
     "output_type": "stream",
     "text": [
      "INFO:tensorflow:Assets written to: models\\assets\n"
     ]
    },
    {
     "name": "stderr",
     "output_type": "stream",
     "text": [
      "INFO:tensorflow:Assets written to: models\\assets\n",
      "wandb: Adding directory to artifact (.\\models)... Done. 0.0s\n"
     ]
    },
    {
     "name": "stdout",
     "output_type": "stream",
     "text": [
      "13/13 [==============================] - 1s 71ms/step - loss: 0.5645 - accuracy: 0.6394 - mse: 0.1457 - categorical_accuracy: 0.6394 - val_loss: 0.6439 - val_accuracy: 0.5800 - val_mse: 0.1828 - val_categorical_accuracy: 0.5800\n",
      "Epoch 26/100\n",
      " 1/13 [=>............................] - ETA: 0s - loss: 0.5588 - accuracy: 0.5938 - mse: 0.1681 - categorical_accuracy: 0.5938"
     ]
    },
    {
     "name": "stderr",
     "output_type": "stream",
     "text": [
      "WARNING:absl:Found untraced functions such as _update_step_xla while saving (showing 1 of 1). These functions will not be directly callable after loading.\n"
     ]
    },
    {
     "name": "stdout",
     "output_type": "stream",
     "text": [
      "INFO:tensorflow:Assets written to: models\\assets\n"
     ]
    },
    {
     "name": "stderr",
     "output_type": "stream",
     "text": [
      "INFO:tensorflow:Assets written to: models\\assets\n",
      "wandb: Adding directory to artifact (.\\models)... Done. 0.0s\n"
     ]
    },
    {
     "name": "stdout",
     "output_type": "stream",
     "text": [
      "13/13 [==============================] - 1s 72ms/step - loss: 0.5202 - accuracy: 0.6363 - mse: 0.1535 - categorical_accuracy: 0.6363 - val_loss: 0.5691 - val_accuracy: 0.6575 - val_mse: 0.1621 - val_categorical_accuracy: 0.6575\n",
      "Epoch 27/100\n",
      " 1/13 [=>............................] - ETA: 0s - loss: 0.6371 - accuracy: 0.5625 - mse: 0.1804 - categorical_accuracy: 0.5625"
     ]
    },
    {
     "name": "stderr",
     "output_type": "stream",
     "text": [
      "WARNING:absl:Found untraced functions such as _update_step_xla while saving (showing 1 of 1). These functions will not be directly callable after loading.\n"
     ]
    },
    {
     "name": "stdout",
     "output_type": "stream",
     "text": [
      "INFO:tensorflow:Assets written to: models\\assets\n"
     ]
    },
    {
     "name": "stderr",
     "output_type": "stream",
     "text": [
      "INFO:tensorflow:Assets written to: models\\assets\n",
      "wandb: Adding directory to artifact (.\\models)... Done. 0.0s\n"
     ]
    },
    {
     "name": "stdout",
     "output_type": "stream",
     "text": [
      "13/13 [==============================] - 1s 77ms/step - loss: 0.5737 - accuracy: 0.6012 - mse: 0.1659 - categorical_accuracy: 0.6012 - val_loss: 0.5942 - val_accuracy: 0.5950 - val_mse: 0.1610 - val_categorical_accuracy: 0.5950\n",
      "Epoch 28/100\n",
      " 1/13 [=>............................] - ETA: 0s - loss: 0.6441 - accuracy: 0.5078 - mse: 0.1782 - categorical_accuracy: 0.5078"
     ]
    },
    {
     "name": "stderr",
     "output_type": "stream",
     "text": [
      "WARNING:absl:Found untraced functions such as _update_step_xla while saving (showing 1 of 1). These functions will not be directly callable after loading.\n"
     ]
    },
    {
     "name": "stdout",
     "output_type": "stream",
     "text": [
      "INFO:tensorflow:Assets written to: models\\assets\n"
     ]
    },
    {
     "name": "stderr",
     "output_type": "stream",
     "text": [
      "INFO:tensorflow:Assets written to: models\\assets\n",
      "wandb: Adding directory to artifact (.\\models)... Done. 0.0s\n"
     ]
    },
    {
     "name": "stdout",
     "output_type": "stream",
     "text": [
      "13/13 [==============================] - 1s 88ms/step - loss: 0.5543 - accuracy: 0.5900 - mse: 0.1612 - categorical_accuracy: 0.5900 - val_loss: 0.5270 - val_accuracy: 0.6175 - val_mse: 0.1510 - val_categorical_accuracy: 0.6175\n",
      "Epoch 29/100\n",
      " 1/13 [=>............................] - ETA: 0s - loss: 0.5492 - accuracy: 0.6172 - mse: 0.1527 - categorical_accuracy: 0.6172"
     ]
    },
    {
     "name": "stderr",
     "output_type": "stream",
     "text": [
      "WARNING:absl:Found untraced functions such as _update_step_xla while saving (showing 1 of 1). These functions will not be directly callable after loading.\n"
     ]
    },
    {
     "name": "stdout",
     "output_type": "stream",
     "text": [
      "INFO:tensorflow:Assets written to: models\\assets\n"
     ]
    },
    {
     "name": "stderr",
     "output_type": "stream",
     "text": [
      "INFO:tensorflow:Assets written to: models\\assets\n",
      "wandb: Adding directory to artifact (.\\models)... Done. 0.0s\n"
     ]
    },
    {
     "name": "stdout",
     "output_type": "stream",
     "text": [
      "13/13 [==============================] - 1s 79ms/step - loss: 0.5486 - accuracy: 0.6313 - mse: 0.1623 - categorical_accuracy: 0.6313 - val_loss: 0.5345 - val_accuracy: 0.6800 - val_mse: 0.1509 - val_categorical_accuracy: 0.6800\n",
      "Epoch 30/100\n",
      " 1/13 [=>............................] - ETA: 0s - loss: 0.5229 - accuracy: 0.6328 - mse: 0.1511 - categorical_accuracy: 0.6328"
     ]
    },
    {
     "name": "stderr",
     "output_type": "stream",
     "text": [
      "WARNING:absl:Found untraced functions such as _update_step_xla while saving (showing 1 of 1). These functions will not be directly callable after loading.\n"
     ]
    },
    {
     "name": "stdout",
     "output_type": "stream",
     "text": [
      "INFO:tensorflow:Assets written to: models\\assets\n"
     ]
    },
    {
     "name": "stderr",
     "output_type": "stream",
     "text": [
      "INFO:tensorflow:Assets written to: models\\assets\n",
      "wandb: Adding directory to artifact (.\\models)... Done. 0.0s\n"
     ]
    },
    {
     "name": "stdout",
     "output_type": "stream",
     "text": [
      "13/13 [==============================] - 1s 69ms/step - loss: 0.4957 - accuracy: 0.6288 - mse: 0.1522 - categorical_accuracy: 0.6288 - val_loss: 0.5499 - val_accuracy: 0.6250 - val_mse: 0.1582 - val_categorical_accuracy: 0.6250\n",
      "Epoch 31/100\n",
      " 1/13 [=>............................] - ETA: 0s - loss: 0.4533 - accuracy: 0.6484 - mse: 0.1476 - categorical_accuracy: 0.6484"
     ]
    },
    {
     "name": "stderr",
     "output_type": "stream",
     "text": [
      "WARNING:absl:Found untraced functions such as _update_step_xla while saving (showing 1 of 1). These functions will not be directly callable after loading.\n"
     ]
    },
    {
     "name": "stdout",
     "output_type": "stream",
     "text": [
      "INFO:tensorflow:Assets written to: models\\assets\n"
     ]
    },
    {
     "name": "stderr",
     "output_type": "stream",
     "text": [
      "INFO:tensorflow:Assets written to: models\\assets\n",
      "wandb: Adding directory to artifact (.\\models)... Done. 0.0s\n"
     ]
    },
    {
     "name": "stdout",
     "output_type": "stream",
     "text": [
      "13/13 [==============================] - 1s 88ms/step - loss: 0.5144 - accuracy: 0.6294 - mse: 0.1490 - categorical_accuracy: 0.6294 - val_loss: 0.4958 - val_accuracy: 0.6225 - val_mse: 0.1453 - val_categorical_accuracy: 0.6225\n",
      "Epoch 32/100\n",
      " 1/13 [=>............................] - ETA: 0s - loss: 0.5258 - accuracy: 0.5859 - mse: 0.1413 - categorical_accuracy: 0.5859"
     ]
    },
    {
     "name": "stderr",
     "output_type": "stream",
     "text": [
      "WARNING:absl:Found untraced functions such as _update_step_xla while saving (showing 1 of 1). These functions will not be directly callable after loading.\n"
     ]
    },
    {
     "name": "stdout",
     "output_type": "stream",
     "text": [
      "INFO:tensorflow:Assets written to: models\\assets\n"
     ]
    },
    {
     "name": "stderr",
     "output_type": "stream",
     "text": [
      "INFO:tensorflow:Assets written to: models\\assets\n",
      "wandb: Adding directory to artifact (.\\models)... Done. 0.0s\n"
     ]
    },
    {
     "name": "stdout",
     "output_type": "stream",
     "text": [
      "13/13 [==============================] - 1s 74ms/step - loss: 0.4744 - accuracy: 0.6419 - mse: 0.1424 - categorical_accuracy: 0.6419 - val_loss: 0.5631 - val_accuracy: 0.6375 - val_mse: 0.1513 - val_categorical_accuracy: 0.6375\n",
      "Epoch 33/100\n",
      " 1/13 [=>............................] - ETA: 0s - loss: 0.5926 - accuracy: 0.5391 - mse: 0.1602 - categorical_accuracy: 0.5391"
     ]
    },
    {
     "name": "stderr",
     "output_type": "stream",
     "text": [
      "WARNING:absl:Found untraced functions such as _update_step_xla while saving (showing 1 of 1). These functions will not be directly callable after loading.\n"
     ]
    },
    {
     "name": "stdout",
     "output_type": "stream",
     "text": [
      "INFO:tensorflow:Assets written to: models\\assets\n"
     ]
    },
    {
     "name": "stderr",
     "output_type": "stream",
     "text": [
      "INFO:tensorflow:Assets written to: models\\assets\n",
      "wandb: Adding directory to artifact (.\\models)... Done. 0.0s\n"
     ]
    },
    {
     "name": "stdout",
     "output_type": "stream",
     "text": [
      "13/13 [==============================] - 1s 75ms/step - loss: 0.4980 - accuracy: 0.6244 - mse: 0.1521 - categorical_accuracy: 0.6244 - val_loss: 0.5850 - val_accuracy: 0.5800 - val_mse: 0.1655 - val_categorical_accuracy: 0.5800\n",
      "Epoch 34/100\n",
      " 1/13 [=>............................] - ETA: 0s - loss: 0.5734 - accuracy: 0.5547 - mse: 0.1659 - categorical_accuracy: 0.5547"
     ]
    },
    {
     "name": "stderr",
     "output_type": "stream",
     "text": [
      "WARNING:absl:Found untraced functions such as _update_step_xla while saving (showing 1 of 1). These functions will not be directly callable after loading.\n"
     ]
    },
    {
     "name": "stdout",
     "output_type": "stream",
     "text": [
      "INFO:tensorflow:Assets written to: models\\assets\n"
     ]
    },
    {
     "name": "stderr",
     "output_type": "stream",
     "text": [
      "INFO:tensorflow:Assets written to: models\\assets\n",
      "wandb: Adding directory to artifact (.\\models)... Done. 0.0s\n"
     ]
    },
    {
     "name": "stdout",
     "output_type": "stream",
     "text": [
      "13/13 [==============================] - 1s 71ms/step - loss: 0.5016 - accuracy: 0.6056 - mse: 0.1497 - categorical_accuracy: 0.6056 - val_loss: 0.5083 - val_accuracy: 0.6425 - val_mse: 0.1569 - val_categorical_accuracy: 0.6425\n",
      "Epoch 35/100\n",
      " 1/13 [=>............................] - ETA: 0s - loss: 0.5091 - accuracy: 0.6016 - mse: 0.1548 - categorical_accuracy: 0.6016"
     ]
    },
    {
     "name": "stderr",
     "output_type": "stream",
     "text": [
      "WARNING:absl:Found untraced functions such as _update_step_xla while saving (showing 1 of 1). These functions will not be directly callable after loading.\n"
     ]
    },
    {
     "name": "stdout",
     "output_type": "stream",
     "text": [
      "INFO:tensorflow:Assets written to: models\\assets\n"
     ]
    },
    {
     "name": "stderr",
     "output_type": "stream",
     "text": [
      "INFO:tensorflow:Assets written to: models\\assets\n",
      "wandb: Adding directory to artifact (.\\models)... Done. 0.0s\n"
     ]
    },
    {
     "name": "stdout",
     "output_type": "stream",
     "text": [
      "13/13 [==============================] - 1s 72ms/step - loss: 0.4892 - accuracy: 0.6250 - mse: 0.1518 - categorical_accuracy: 0.6250 - val_loss: 0.6548 - val_accuracy: 0.5225 - val_mse: 0.1684 - val_categorical_accuracy: 0.5225\n",
      "Epoch 36/100\n",
      " 1/13 [=>............................] - ETA: 0s - loss: 0.6286 - accuracy: 0.4688 - mse: 0.1806 - categorical_accuracy: 0.4688"
     ]
    },
    {
     "name": "stderr",
     "output_type": "stream",
     "text": [
      "WARNING:absl:Found untraced functions such as _update_step_xla while saving (showing 1 of 1). These functions will not be directly callable after loading.\n"
     ]
    },
    {
     "name": "stdout",
     "output_type": "stream",
     "text": [
      "INFO:tensorflow:Assets written to: models\\assets\n"
     ]
    },
    {
     "name": "stderr",
     "output_type": "stream",
     "text": [
      "INFO:tensorflow:Assets written to: models\\assets\n",
      "wandb: Adding directory to artifact (.\\models)... Done. 0.0s\n"
     ]
    },
    {
     "name": "stdout",
     "output_type": "stream",
     "text": [
      "13/13 [==============================] - 1s 89ms/step - loss: 0.4763 - accuracy: 0.6369 - mse: 0.1455 - categorical_accuracy: 0.6369 - val_loss: 0.3936 - val_accuracy: 0.6650 - val_mse: 0.1238 - val_categorical_accuracy: 0.6650\n",
      "Epoch 37/100\n",
      " 1/13 [=>............................] - ETA: 0s - loss: 0.3608 - accuracy: 0.6641 - mse: 0.1198 - categorical_accuracy: 0.6641"
     ]
    },
    {
     "name": "stderr",
     "output_type": "stream",
     "text": [
      "WARNING:absl:Found untraced functions such as _update_step_xla while saving (showing 1 of 1). These functions will not be directly callable after loading.\n"
     ]
    },
    {
     "name": "stdout",
     "output_type": "stream",
     "text": [
      "INFO:tensorflow:Assets written to: models\\assets\n"
     ]
    },
    {
     "name": "stderr",
     "output_type": "stream",
     "text": [
      "INFO:tensorflow:Assets written to: models\\assets\n",
      "wandb: Adding directory to artifact (.\\models)... Done. 0.0s\n"
     ]
    },
    {
     "name": "stdout",
     "output_type": "stream",
     "text": [
      "13/13 [==============================] - 1s 104ms/step - loss: 0.4033 - accuracy: 0.6612 - mse: 0.1318 - categorical_accuracy: 0.6612 - val_loss: 0.4008 - val_accuracy: 0.6500 - val_mse: 0.1300 - val_categorical_accuracy: 0.6500\n",
      "Epoch 38/100\n",
      " 1/13 [=>............................] - ETA: 0s - loss: 0.3833 - accuracy: 0.6875 - mse: 0.1174 - categorical_accuracy: 0.6875"
     ]
    },
    {
     "name": "stderr",
     "output_type": "stream",
     "text": [
      "WARNING:absl:Found untraced functions such as _update_step_xla while saving (showing 1 of 1). These functions will not be directly callable after loading.\n"
     ]
    },
    {
     "name": "stdout",
     "output_type": "stream",
     "text": [
      "INFO:tensorflow:Assets written to: models\\assets\n"
     ]
    },
    {
     "name": "stderr",
     "output_type": "stream",
     "text": [
      "INFO:tensorflow:Assets written to: models\\assets\n",
      "wandb: Adding directory to artifact (.\\models)... Done. 0.0s\n"
     ]
    },
    {
     "name": "stdout",
     "output_type": "stream",
     "text": [
      "13/13 [==============================] - 1s 64ms/step - loss: 0.4216 - accuracy: 0.6456 - mse: 0.1383 - categorical_accuracy: 0.6456 - val_loss: 0.4144 - val_accuracy: 0.6200 - val_mse: 0.1378 - val_categorical_accuracy: 0.6200\n",
      "Epoch 39/100\n",
      " 1/13 [=>............................] - ETA: 0s - loss: 0.4076 - accuracy: 0.6875 - mse: 0.1330 - categorical_accuracy: 0.6875"
     ]
    },
    {
     "name": "stderr",
     "output_type": "stream",
     "text": [
      "WARNING:absl:Found untraced functions such as _update_step_xla while saving (showing 1 of 1). These functions will not be directly callable after loading.\n"
     ]
    },
    {
     "name": "stdout",
     "output_type": "stream",
     "text": [
      "INFO:tensorflow:Assets written to: models\\assets\n"
     ]
    },
    {
     "name": "stderr",
     "output_type": "stream",
     "text": [
      "INFO:tensorflow:Assets written to: models\\assets\n",
      "wandb: Adding directory to artifact (.\\models)... Done. 0.0s\n"
     ]
    },
    {
     "name": "stdout",
     "output_type": "stream",
     "text": [
      "13/13 [==============================] - 1s 69ms/step - loss: 0.4176 - accuracy: 0.6531 - mse: 0.1365 - categorical_accuracy: 0.6531 - val_loss: 0.4080 - val_accuracy: 0.6775 - val_mse: 0.1299 - val_categorical_accuracy: 0.6775\n",
      "Epoch 40/100\n",
      " 1/13 [=>............................] - ETA: 0s - loss: 0.4422 - accuracy: 0.6328 - mse: 0.1384 - categorical_accuracy: 0.6328"
     ]
    },
    {
     "name": "stderr",
     "output_type": "stream",
     "text": [
      "WARNING:absl:Found untraced functions such as _update_step_xla while saving (showing 1 of 1). These functions will not be directly callable after loading.\n"
     ]
    },
    {
     "name": "stdout",
     "output_type": "stream",
     "text": [
      "INFO:tensorflow:Assets written to: models\\assets\n"
     ]
    },
    {
     "name": "stderr",
     "output_type": "stream",
     "text": [
      "INFO:tensorflow:Assets written to: models\\assets\n",
      "wandb: Adding directory to artifact (.\\models)... Done. 0.0s\n"
     ]
    },
    {
     "name": "stdout",
     "output_type": "stream",
     "text": [
      "13/13 [==============================] - 1s 72ms/step - loss: 0.4140 - accuracy: 0.6575 - mse: 0.1348 - categorical_accuracy: 0.6575 - val_loss: 0.4455 - val_accuracy: 0.6250 - val_mse: 0.1397 - val_categorical_accuracy: 0.6250\n",
      "Epoch 41/100\n",
      " 1/13 [=>............................] - ETA: 0s - loss: 0.4428 - accuracy: 0.6484 - mse: 0.1414 - categorical_accuracy: 0.6484"
     ]
    },
    {
     "name": "stderr",
     "output_type": "stream",
     "text": [
      "WARNING:absl:Found untraced functions such as _update_step_xla while saving (showing 1 of 1). These functions will not be directly callable after loading.\n"
     ]
    },
    {
     "name": "stdout",
     "output_type": "stream",
     "text": [
      "INFO:tensorflow:Assets written to: models\\assets\n"
     ]
    },
    {
     "name": "stderr",
     "output_type": "stream",
     "text": [
      "INFO:tensorflow:Assets written to: models\\assets\n",
      "wandb: Adding directory to artifact (.\\models)... Done. 0.0s\n"
     ]
    },
    {
     "name": "stdout",
     "output_type": "stream",
     "text": [
      "13/13 [==============================] - 1s 70ms/step - loss: 0.4177 - accuracy: 0.6550 - mse: 0.1360 - categorical_accuracy: 0.6550 - val_loss: 0.3960 - val_accuracy: 0.6525 - val_mse: 0.1290 - val_categorical_accuracy: 0.6525\n",
      "Epoch 42/100\n",
      " 1/13 [=>............................] - ETA: 0s - loss: 0.4405 - accuracy: 0.6172 - mse: 0.1419 - categorical_accuracy: 0.6172"
     ]
    },
    {
     "name": "stderr",
     "output_type": "stream",
     "text": [
      "WARNING:absl:Found untraced functions such as _update_step_xla while saving (showing 1 of 1). These functions will not be directly callable after loading.\n"
     ]
    },
    {
     "name": "stdout",
     "output_type": "stream",
     "text": [
      "INFO:tensorflow:Assets written to: models\\assets\n"
     ]
    },
    {
     "name": "stderr",
     "output_type": "stream",
     "text": [
      "INFO:tensorflow:Assets written to: models\\assets\n",
      "wandb: Adding directory to artifact (.\\models)... Done. 0.0s\n"
     ]
    },
    {
     "name": "stdout",
     "output_type": "stream",
     "text": [
      "13/13 [==============================] - 1s 69ms/step - loss: 0.3958 - accuracy: 0.6687 - mse: 0.1308 - categorical_accuracy: 0.6687 - val_loss: 0.3982 - val_accuracy: 0.6825 - val_mse: 0.1292 - val_categorical_accuracy: 0.6825\n",
      "Epoch 43/100\n",
      " 1/13 [=>............................] - ETA: 0s - loss: 0.4271 - accuracy: 0.6797 - mse: 0.1316 - categorical_accuracy: 0.6797"
     ]
    },
    {
     "name": "stderr",
     "output_type": "stream",
     "text": [
      "WARNING:absl:Found untraced functions such as _update_step_xla while saving (showing 1 of 1). These functions will not be directly callable after loading.\n"
     ]
    },
    {
     "name": "stdout",
     "output_type": "stream",
     "text": [
      "INFO:tensorflow:Assets written to: models\\assets\n"
     ]
    },
    {
     "name": "stderr",
     "output_type": "stream",
     "text": [
      "INFO:tensorflow:Assets written to: models\\assets\n",
      "wandb: Adding directory to artifact (.\\models)... Done. 0.0s\n"
     ]
    },
    {
     "name": "stdout",
     "output_type": "stream",
     "text": [
      "13/13 [==============================] - 1s 69ms/step - loss: 0.3843 - accuracy: 0.6800 - mse: 0.1272 - categorical_accuracy: 0.6800 - val_loss: 0.3818 - val_accuracy: 0.6600 - val_mse: 0.1256 - val_categorical_accuracy: 0.6600\n",
      "Epoch 44/100\n",
      " 1/13 [=>............................] - ETA: 0s - loss: 0.3619 - accuracy: 0.7500 - mse: 0.1206 - categorical_accuracy: 0.7500"
     ]
    },
    {
     "name": "stderr",
     "output_type": "stream",
     "text": [
      "WARNING:absl:Found untraced functions such as _update_step_xla while saving (showing 1 of 1). These functions will not be directly callable after loading.\n"
     ]
    },
    {
     "name": "stdout",
     "output_type": "stream",
     "text": [
      "INFO:tensorflow:Assets written to: models\\assets\n"
     ]
    },
    {
     "name": "stderr",
     "output_type": "stream",
     "text": [
      "INFO:tensorflow:Assets written to: models\\assets\n",
      "wandb: Adding directory to artifact (.\\models)... Done. 0.0s\n"
     ]
    },
    {
     "name": "stdout",
     "output_type": "stream",
     "text": [
      "13/13 [==============================] - 1s 87ms/step - loss: 0.3857 - accuracy: 0.6775 - mse: 0.1285 - categorical_accuracy: 0.6775 - val_loss: 0.3819 - val_accuracy: 0.6725 - val_mse: 0.1247 - val_categorical_accuracy: 0.6725\n",
      "Epoch 45/100\n",
      " 1/13 [=>............................] - ETA: 0s - loss: 0.4083 - accuracy: 0.6875 - mse: 0.1333 - categorical_accuracy: 0.6875"
     ]
    },
    {
     "name": "stderr",
     "output_type": "stream",
     "text": [
      "WARNING:absl:Found untraced functions such as _update_step_xla while saving (showing 1 of 1). These functions will not be directly callable after loading.\n"
     ]
    },
    {
     "name": "stdout",
     "output_type": "stream",
     "text": [
      "INFO:tensorflow:Assets written to: models\\assets\n"
     ]
    },
    {
     "name": "stderr",
     "output_type": "stream",
     "text": [
      "INFO:tensorflow:Assets written to: models\\assets\n",
      "wandb: Adding directory to artifact (.\\models)... Done. 0.0s\n"
     ]
    },
    {
     "name": "stdout",
     "output_type": "stream",
     "text": [
      "13/13 [==============================] - 1s 70ms/step - loss: 0.3897 - accuracy: 0.6894 - mse: 0.1288 - categorical_accuracy: 0.6894 - val_loss: 0.4020 - val_accuracy: 0.6400 - val_mse: 0.1318 - val_categorical_accuracy: 0.6400\n",
      "Epoch 46/100\n",
      " 1/13 [=>............................] - ETA: 0s - loss: 0.3821 - accuracy: 0.6797 - mse: 0.1262 - categorical_accuracy: 0.6797"
     ]
    },
    {
     "name": "stderr",
     "output_type": "stream",
     "text": [
      "WARNING:absl:Found untraced functions such as _update_step_xla while saving (showing 1 of 1). These functions will not be directly callable after loading.\n"
     ]
    },
    {
     "name": "stdout",
     "output_type": "stream",
     "text": [
      "INFO:tensorflow:Assets written to: models\\assets\n"
     ]
    },
    {
     "name": "stderr",
     "output_type": "stream",
     "text": [
      "INFO:tensorflow:Assets written to: models\\assets\n",
      "wandb: Adding directory to artifact (.\\models)... Done. 0.0s\n"
     ]
    },
    {
     "name": "stdout",
     "output_type": "stream",
     "text": [
      "13/13 [==============================] - 1s 67ms/step - loss: 0.3816 - accuracy: 0.6881 - mse: 0.1268 - categorical_accuracy: 0.6881 - val_loss: 0.3790 - val_accuracy: 0.6600 - val_mse: 0.1270 - val_categorical_accuracy: 0.6600\n",
      "Epoch 47/100\n",
      " 1/13 [=>............................] - ETA: 0s - loss: 0.3843 - accuracy: 0.6797 - mse: 0.1302 - categorical_accuracy: 0.6797"
     ]
    },
    {
     "name": "stderr",
     "output_type": "stream",
     "text": [
      "WARNING:absl:Found untraced functions such as _update_step_xla while saving (showing 1 of 1). These functions will not be directly callable after loading.\n"
     ]
    },
    {
     "name": "stdout",
     "output_type": "stream",
     "text": [
      "INFO:tensorflow:Assets written to: models\\assets\n"
     ]
    },
    {
     "name": "stderr",
     "output_type": "stream",
     "text": [
      "INFO:tensorflow:Assets written to: models\\assets\n",
      "wandb: Adding directory to artifact (.\\models)... Done. 0.0s\n"
     ]
    },
    {
     "name": "stdout",
     "output_type": "stream",
     "text": [
      "13/13 [==============================] - 1s 65ms/step - loss: 0.3778 - accuracy: 0.6744 - mse: 0.1254 - categorical_accuracy: 0.6744 - val_loss: 0.3687 - val_accuracy: 0.6875 - val_mse: 0.1234 - val_categorical_accuracy: 0.6875\n",
      "Epoch 48/100\n",
      " 1/13 [=>............................] - ETA: 0s - loss: 0.4171 - accuracy: 0.6250 - mse: 0.1407 - categorical_accuracy: 0.6250"
     ]
    },
    {
     "name": "stderr",
     "output_type": "stream",
     "text": [
      "WARNING:absl:Found untraced functions such as _update_step_xla while saving (showing 1 of 1). These functions will not be directly callable after loading.\n"
     ]
    },
    {
     "name": "stdout",
     "output_type": "stream",
     "text": [
      "INFO:tensorflow:Assets written to: models\\assets\n"
     ]
    },
    {
     "name": "stderr",
     "output_type": "stream",
     "text": [
      "INFO:tensorflow:Assets written to: models\\assets\n",
      "wandb: Adding directory to artifact (.\\models)... Done. 0.0s\n"
     ]
    },
    {
     "name": "stdout",
     "output_type": "stream",
     "text": [
      "13/13 [==============================] - 1s 77ms/step - loss: 0.3722 - accuracy: 0.7038 - mse: 0.1240 - categorical_accuracy: 0.7038 - val_loss: 0.3611 - val_accuracy: 0.7100 - val_mse: 0.1178 - val_categorical_accuracy: 0.7100\n",
      "Epoch 49/100\n",
      " 1/13 [=>............................] - ETA: 0s - loss: 0.3925 - accuracy: 0.6172 - mse: 0.1272 - categorical_accuracy: 0.6172"
     ]
    },
    {
     "name": "stderr",
     "output_type": "stream",
     "text": [
      "WARNING:absl:Found untraced functions such as _update_step_xla while saving (showing 1 of 1). These functions will not be directly callable after loading.\n"
     ]
    },
    {
     "name": "stdout",
     "output_type": "stream",
     "text": [
      "INFO:tensorflow:Assets written to: models\\assets\n"
     ]
    },
    {
     "name": "stderr",
     "output_type": "stream",
     "text": [
      "INFO:tensorflow:Assets written to: models\\assets\n",
      "wandb: Adding directory to artifact (.\\models)... Done. 0.0s\n"
     ]
    },
    {
     "name": "stdout",
     "output_type": "stream",
     "text": [
      "13/13 [==============================] - 1s 70ms/step - loss: 0.3893 - accuracy: 0.6694 - mse: 0.1301 - categorical_accuracy: 0.6694 - val_loss: 0.4138 - val_accuracy: 0.6600 - val_mse: 0.1347 - val_categorical_accuracy: 0.6600\n",
      "Epoch 50/100\n",
      " 1/13 [=>............................] - ETA: 0s - loss: 0.4477 - accuracy: 0.6406 - mse: 0.1478 - categorical_accuracy: 0.6406"
     ]
    },
    {
     "name": "stderr",
     "output_type": "stream",
     "text": [
      "WARNING:absl:Found untraced functions such as _update_step_xla while saving (showing 1 of 1). These functions will not be directly callable after loading.\n"
     ]
    },
    {
     "name": "stdout",
     "output_type": "stream",
     "text": [
      "INFO:tensorflow:Assets written to: models\\assets\n"
     ]
    },
    {
     "name": "stderr",
     "output_type": "stream",
     "text": [
      "INFO:tensorflow:Assets written to: models\\assets\n",
      "wandb: Adding directory to artifact (.\\models)... Done. 0.0s\n"
     ]
    },
    {
     "name": "stdout",
     "output_type": "stream",
     "text": [
      "13/13 [==============================] - 1s 68ms/step - loss: 0.3948 - accuracy: 0.6606 - mse: 0.1307 - categorical_accuracy: 0.6606 - val_loss: 0.3681 - val_accuracy: 0.6950 - val_mse: 0.1211 - val_categorical_accuracy: 0.6950\n",
      "Epoch 51/100\n",
      " 1/13 [=>............................] - ETA: 0s - loss: 0.3801 - accuracy: 0.6406 - mse: 0.1254 - categorical_accuracy: 0.6406"
     ]
    },
    {
     "name": "stderr",
     "output_type": "stream",
     "text": [
      "WARNING:absl:Found untraced functions such as _update_step_xla while saving (showing 1 of 1). These functions will not be directly callable after loading.\n"
     ]
    },
    {
     "name": "stdout",
     "output_type": "stream",
     "text": [
      "INFO:tensorflow:Assets written to: models\\assets\n"
     ]
    },
    {
     "name": "stderr",
     "output_type": "stream",
     "text": [
      "INFO:tensorflow:Assets written to: models\\assets\n",
      "wandb: Adding directory to artifact (.\\models)... Done. 0.0s\n"
     ]
    },
    {
     "name": "stdout",
     "output_type": "stream",
     "text": [
      "13/13 [==============================] - 1s 72ms/step - loss: 0.3750 - accuracy: 0.6969 - mse: 0.1257 - categorical_accuracy: 0.6969 - val_loss: 0.3662 - val_accuracy: 0.6650 - val_mse: 0.1183 - val_categorical_accuracy: 0.6650\n",
      "Epoch 52/100\n",
      " 1/13 [=>............................] - ETA: 0s - loss: 0.3614 - accuracy: 0.7188 - mse: 0.1180 - categorical_accuracy: 0.7188"
     ]
    },
    {
     "name": "stderr",
     "output_type": "stream",
     "text": [
      "WARNING:absl:Found untraced functions such as _update_step_xla while saving (showing 1 of 1). These functions will not be directly callable after loading.\n"
     ]
    },
    {
     "name": "stdout",
     "output_type": "stream",
     "text": [
      "INFO:tensorflow:Assets written to: models\\assets\n"
     ]
    },
    {
     "name": "stderr",
     "output_type": "stream",
     "text": [
      "INFO:tensorflow:Assets written to: models\\assets\n",
      "wandb: Adding directory to artifact (.\\models)... Done. 0.0s\n"
     ]
    },
    {
     "name": "stdout",
     "output_type": "stream",
     "text": [
      "13/13 [==============================] - 1s 68ms/step - loss: 0.3714 - accuracy: 0.7081 - mse: 0.1233 - categorical_accuracy: 0.7081 - val_loss: 0.4069 - val_accuracy: 0.7450 - val_mse: 0.1361 - val_categorical_accuracy: 0.7450\n",
      "Epoch 53/100\n",
      " 1/13 [=>............................] - ETA: 0s - loss: 0.3902 - accuracy: 0.7500 - mse: 0.1328 - categorical_accuracy: 0.7500"
     ]
    },
    {
     "name": "stderr",
     "output_type": "stream",
     "text": [
      "WARNING:absl:Found untraced functions such as _update_step_xla while saving (showing 1 of 1). These functions will not be directly callable after loading.\n"
     ]
    },
    {
     "name": "stdout",
     "output_type": "stream",
     "text": [
      "INFO:tensorflow:Assets written to: models\\assets\n"
     ]
    },
    {
     "name": "stderr",
     "output_type": "stream",
     "text": [
      "INFO:tensorflow:Assets written to: models\\assets\n",
      "wandb: Adding directory to artifact (.\\models)... Done. 0.0s\n"
     ]
    },
    {
     "name": "stdout",
     "output_type": "stream",
     "text": [
      "13/13 [==============================] - 1s 65ms/step - loss: 0.3812 - accuracy: 0.7031 - mse: 0.1263 - categorical_accuracy: 0.7031 - val_loss: 0.3620 - val_accuracy: 0.7100 - val_mse: 0.1210 - val_categorical_accuracy: 0.7100\n",
      "Epoch 54/100\n",
      " 1/13 [=>............................] - ETA: 0s - loss: 0.3797 - accuracy: 0.6953 - mse: 0.1263 - categorical_accuracy: 0.6953"
     ]
    },
    {
     "name": "stderr",
     "output_type": "stream",
     "text": [
      "WARNING:absl:Found untraced functions such as _update_step_xla while saving (showing 1 of 1). These functions will not be directly callable after loading.\n"
     ]
    },
    {
     "name": "stdout",
     "output_type": "stream",
     "text": [
      "INFO:tensorflow:Assets written to: models\\assets\n"
     ]
    },
    {
     "name": "stderr",
     "output_type": "stream",
     "text": [
      "INFO:tensorflow:Assets written to: models\\assets\n",
      "wandb: Adding directory to artifact (.\\models)... Done. 0.0s\n"
     ]
    },
    {
     "name": "stdout",
     "output_type": "stream",
     "text": [
      "13/13 [==============================] - 1s 68ms/step - loss: 0.3656 - accuracy: 0.7044 - mse: 0.1224 - categorical_accuracy: 0.7044 - val_loss: 0.3830 - val_accuracy: 0.6400 - val_mse: 0.1277 - val_categorical_accuracy: 0.6400\n",
      "Epoch 55/100\n",
      " 1/13 [=>............................] - ETA: 0s - loss: 0.3988 - accuracy: 0.6484 - mse: 0.1325 - categorical_accuracy: 0.6484"
     ]
    },
    {
     "name": "stderr",
     "output_type": "stream",
     "text": [
      "WARNING:absl:Found untraced functions such as _update_step_xla while saving (showing 1 of 1). These functions will not be directly callable after loading.\n"
     ]
    },
    {
     "name": "stdout",
     "output_type": "stream",
     "text": [
      "INFO:tensorflow:Assets written to: models\\assets\n"
     ]
    },
    {
     "name": "stderr",
     "output_type": "stream",
     "text": [
      "INFO:tensorflow:Assets written to: models\\assets\n",
      "wandb: Adding directory to artifact (.\\models)... Done. 0.0s\n"
     ]
    },
    {
     "name": "stdout",
     "output_type": "stream",
     "text": [
      "13/13 [==============================] - 1s 69ms/step - loss: 0.3932 - accuracy: 0.6556 - mse: 0.1305 - categorical_accuracy: 0.6556 - val_loss: 0.3761 - val_accuracy: 0.6925 - val_mse: 0.1264 - val_categorical_accuracy: 0.6925\n",
      "Epoch 56/100\n",
      " 1/13 [=>............................] - ETA: 0s - loss: 0.3850 - accuracy: 0.6719 - mse: 0.1301 - categorical_accuracy: 0.6719"
     ]
    },
    {
     "name": "stderr",
     "output_type": "stream",
     "text": [
      "WARNING:absl:Found untraced functions such as _update_step_xla while saving (showing 1 of 1). These functions will not be directly callable after loading.\n"
     ]
    },
    {
     "name": "stdout",
     "output_type": "stream",
     "text": [
      "INFO:tensorflow:Assets written to: models\\assets\n"
     ]
    },
    {
     "name": "stderr",
     "output_type": "stream",
     "text": [
      "INFO:tensorflow:Assets written to: models\\assets\n",
      "wandb: Adding directory to artifact (.\\models)... Done. 0.0s\n"
     ]
    },
    {
     "name": "stdout",
     "output_type": "stream",
     "text": [
      "13/13 [==============================] - 1s 66ms/step - loss: 0.3856 - accuracy: 0.6631 - mse: 0.1295 - categorical_accuracy: 0.6631 - val_loss: 0.3508 - val_accuracy: 0.7100 - val_mse: 0.1165 - val_categorical_accuracy: 0.7100\n",
      "Epoch 57/100\n",
      " 1/13 [=>............................] - ETA: 0s - loss: 0.3594 - accuracy: 0.6797 - mse: 0.1201 - categorical_accuracy: 0.6797"
     ]
    },
    {
     "name": "stderr",
     "output_type": "stream",
     "text": [
      "WARNING:absl:Found untraced functions such as _update_step_xla while saving (showing 1 of 1). These functions will not be directly callable after loading.\n"
     ]
    },
    {
     "name": "stdout",
     "output_type": "stream",
     "text": [
      "INFO:tensorflow:Assets written to: models\\assets\n"
     ]
    },
    {
     "name": "stderr",
     "output_type": "stream",
     "text": [
      "INFO:tensorflow:Assets written to: models\\assets\n",
      "wandb: Adding directory to artifact (.\\models)... Done. 0.0s\n"
     ]
    },
    {
     "name": "stdout",
     "output_type": "stream",
     "text": [
      "13/13 [==============================] - 1s 69ms/step - loss: 0.3578 - accuracy: 0.7125 - mse: 0.1198 - categorical_accuracy: 0.7125 - val_loss: 0.3422 - val_accuracy: 0.7275 - val_mse: 0.1123 - val_categorical_accuracy: 0.7275\n",
      "Epoch 58/100\n",
      " 1/13 [=>............................] - ETA: 0s - loss: 0.3609 - accuracy: 0.6875 - mse: 0.1193 - categorical_accuracy: 0.6875"
     ]
    },
    {
     "name": "stderr",
     "output_type": "stream",
     "text": [
      "WARNING:absl:Found untraced functions such as _update_step_xla while saving (showing 1 of 1). These functions will not be directly callable after loading.\n"
     ]
    },
    {
     "name": "stdout",
     "output_type": "stream",
     "text": [
      "INFO:tensorflow:Assets written to: models\\assets\n"
     ]
    },
    {
     "name": "stderr",
     "output_type": "stream",
     "text": [
      "INFO:tensorflow:Assets written to: models\\assets\n",
      "wandb: Adding directory to artifact (.\\models)... Done. 0.0s\n"
     ]
    },
    {
     "name": "stdout",
     "output_type": "stream",
     "text": [
      "13/13 [==============================] - 1s 71ms/step - loss: 0.3780 - accuracy: 0.6781 - mse: 0.1257 - categorical_accuracy: 0.6781 - val_loss: 0.3606 - val_accuracy: 0.7350 - val_mse: 0.1216 - val_categorical_accuracy: 0.7350\n",
      "Epoch 59/100\n",
      " 1/13 [=>............................] - ETA: 0s - loss: 0.3836 - accuracy: 0.6797 - mse: 0.1304 - categorical_accuracy: 0.6797"
     ]
    },
    {
     "name": "stderr",
     "output_type": "stream",
     "text": [
      "WARNING:absl:Found untraced functions such as _update_step_xla while saving (showing 1 of 1). These functions will not be directly callable after loading.\n"
     ]
    },
    {
     "name": "stdout",
     "output_type": "stream",
     "text": [
      "INFO:tensorflow:Assets written to: models\\assets\n"
     ]
    },
    {
     "name": "stderr",
     "output_type": "stream",
     "text": [
      "INFO:tensorflow:Assets written to: models\\assets\n",
      "wandb: Adding directory to artifact (.\\models)... Done. 0.0s\n"
     ]
    },
    {
     "name": "stdout",
     "output_type": "stream",
     "text": [
      "13/13 [==============================] - 1s 69ms/step - loss: 0.3841 - accuracy: 0.6981 - mse: 0.1274 - categorical_accuracy: 0.6981 - val_loss: 0.3806 - val_accuracy: 0.6925 - val_mse: 0.1286 - val_categorical_accuracy: 0.6925\n",
      "Epoch 60/100\n",
      " 1/13 [=>............................] - ETA: 0s - loss: 0.4042 - accuracy: 0.6719 - mse: 0.1371 - categorical_accuracy: 0.6719"
     ]
    },
    {
     "name": "stderr",
     "output_type": "stream",
     "text": [
      "WARNING:absl:Found untraced functions such as _update_step_xla while saving (showing 1 of 1). These functions will not be directly callable after loading.\n"
     ]
    },
    {
     "name": "stdout",
     "output_type": "stream",
     "text": [
      "INFO:tensorflow:Assets written to: models\\assets\n"
     ]
    },
    {
     "name": "stderr",
     "output_type": "stream",
     "text": [
      "INFO:tensorflow:Assets written to: models\\assets\n",
      "wandb: Adding directory to artifact (.\\models)... Done. 0.0s\n"
     ]
    },
    {
     "name": "stdout",
     "output_type": "stream",
     "text": [
      "13/13 [==============================] - 1s 68ms/step - loss: 0.3905 - accuracy: 0.6888 - mse: 0.1304 - categorical_accuracy: 0.6888 - val_loss: 0.3956 - val_accuracy: 0.6525 - val_mse: 0.1318 - val_categorical_accuracy: 0.6525\n",
      "Epoch 61/100\n",
      " 1/13 [=>............................] - ETA: 0s - loss: 0.4337 - accuracy: 0.5859 - mse: 0.1460 - categorical_accuracy: 0.5859"
     ]
    },
    {
     "name": "stderr",
     "output_type": "stream",
     "text": [
      "WARNING:absl:Found untraced functions such as _update_step_xla while saving (showing 1 of 1). These functions will not be directly callable after loading.\n"
     ]
    },
    {
     "name": "stdout",
     "output_type": "stream",
     "text": [
      "INFO:tensorflow:Assets written to: models\\assets\n"
     ]
    },
    {
     "name": "stderr",
     "output_type": "stream",
     "text": [
      "INFO:tensorflow:Assets written to: models\\assets\n",
      "wandb: Adding directory to artifact (.\\models)... Done. 0.0s\n"
     ]
    },
    {
     "name": "stdout",
     "output_type": "stream",
     "text": [
      "13/13 [==============================] - 1s 85ms/step - loss: 0.3727 - accuracy: 0.6963 - mse: 0.1256 - categorical_accuracy: 0.6963 - val_loss: 0.3732 - val_accuracy: 0.6800 - val_mse: 0.1222 - val_categorical_accuracy: 0.6800\n",
      "Epoch 62/100\n",
      " 1/13 [=>............................] - ETA: 0s - loss: 0.3920 - accuracy: 0.6484 - mse: 0.1317 - categorical_accuracy: 0.6484"
     ]
    },
    {
     "name": "stderr",
     "output_type": "stream",
     "text": [
      "WARNING:absl:Found untraced functions such as _update_step_xla while saving (showing 1 of 1). These functions will not be directly callable after loading.\n"
     ]
    },
    {
     "name": "stdout",
     "output_type": "stream",
     "text": [
      "INFO:tensorflow:Assets written to: models\\assets\n"
     ]
    },
    {
     "name": "stderr",
     "output_type": "stream",
     "text": [
      "INFO:tensorflow:Assets written to: models\\assets\n",
      "wandb: Adding directory to artifact (.\\models)... Done. 0.0s\n"
     ]
    },
    {
     "name": "stdout",
     "output_type": "stream",
     "text": [
      "13/13 [==============================] - 1s 68ms/step - loss: 0.3789 - accuracy: 0.6888 - mse: 0.1261 - categorical_accuracy: 0.6888 - val_loss: 0.3745 - val_accuracy: 0.7175 - val_mse: 0.1251 - val_categorical_accuracy: 0.7175\n",
      "Epoch 63/100\n",
      " 1/13 [=>............................] - ETA: 0s - loss: 0.4199 - accuracy: 0.6406 - mse: 0.1392 - categorical_accuracy: 0.6406"
     ]
    },
    {
     "name": "stderr",
     "output_type": "stream",
     "text": [
      "WARNING:absl:Found untraced functions such as _update_step_xla while saving (showing 1 of 1). These functions will not be directly callable after loading.\n"
     ]
    },
    {
     "name": "stdout",
     "output_type": "stream",
     "text": [
      "INFO:tensorflow:Assets written to: models\\assets\n"
     ]
    },
    {
     "name": "stderr",
     "output_type": "stream",
     "text": [
      "INFO:tensorflow:Assets written to: models\\assets\n",
      "wandb: Adding directory to artifact (.\\models)... Done. 0.0s\n"
     ]
    },
    {
     "name": "stdout",
     "output_type": "stream",
     "text": [
      "13/13 [==============================] - 1s 67ms/step - loss: 0.3663 - accuracy: 0.6906 - mse: 0.1221 - categorical_accuracy: 0.6906 - val_loss: 0.3506 - val_accuracy: 0.7000 - val_mse: 0.1149 - val_categorical_accuracy: 0.7000\n",
      "Epoch 64/100\n",
      " 1/13 [=>............................] - ETA: 0s - loss: 0.3559 - accuracy: 0.7344 - mse: 0.1153 - categorical_accuracy: 0.7344"
     ]
    },
    {
     "name": "stderr",
     "output_type": "stream",
     "text": [
      "WARNING:absl:Found untraced functions such as _update_step_xla while saving (showing 1 of 1). These functions will not be directly callable after loading.\n"
     ]
    },
    {
     "name": "stdout",
     "output_type": "stream",
     "text": [
      "INFO:tensorflow:Assets written to: models\\assets\n"
     ]
    },
    {
     "name": "stderr",
     "output_type": "stream",
     "text": [
      "INFO:tensorflow:Assets written to: models\\assets\n",
      "wandb: Adding directory to artifact (.\\models)... Done. 0.0s\n"
     ]
    },
    {
     "name": "stdout",
     "output_type": "stream",
     "text": [
      "13/13 [==============================] - 1s 67ms/step - loss: 0.3632 - accuracy: 0.6931 - mse: 0.1211 - categorical_accuracy: 0.6931 - val_loss: 0.3690 - val_accuracy: 0.6800 - val_mse: 0.1245 - val_categorical_accuracy: 0.6800\n",
      "Epoch 65/100\n",
      " 1/13 [=>............................] - ETA: 0s - loss: 0.3531 - accuracy: 0.7344 - mse: 0.1195 - categorical_accuracy: 0.7344"
     ]
    },
    {
     "name": "stderr",
     "output_type": "stream",
     "text": [
      "WARNING:absl:Found untraced functions such as _update_step_xla while saving (showing 1 of 1). These functions will not be directly callable after loading.\n"
     ]
    },
    {
     "name": "stdout",
     "output_type": "stream",
     "text": [
      "INFO:tensorflow:Assets written to: models\\assets\n"
     ]
    },
    {
     "name": "stderr",
     "output_type": "stream",
     "text": [
      "INFO:tensorflow:Assets written to: models\\assets\n",
      "wandb: Adding directory to artifact (.\\models)... Done. 0.0s\n"
     ]
    },
    {
     "name": "stdout",
     "output_type": "stream",
     "text": [
      "13/13 [==============================] - 1s 67ms/step - loss: 0.3626 - accuracy: 0.7075 - mse: 0.1206 - categorical_accuracy: 0.7075 - val_loss: 0.3991 - val_accuracy: 0.7325 - val_mse: 0.1368 - val_categorical_accuracy: 0.7325\n",
      "Epoch 66/100\n",
      " 1/13 [=>............................] - ETA: 0s - loss: 0.3790 - accuracy: 0.7969 - mse: 0.1274 - categorical_accuracy: 0.7969"
     ]
    },
    {
     "name": "stderr",
     "output_type": "stream",
     "text": [
      "WARNING:absl:Found untraced functions such as _update_step_xla while saving (showing 1 of 1). These functions will not be directly callable after loading.\n"
     ]
    },
    {
     "name": "stdout",
     "output_type": "stream",
     "text": [
      "INFO:tensorflow:Assets written to: models\\assets\n"
     ]
    },
    {
     "name": "stderr",
     "output_type": "stream",
     "text": [
      "INFO:tensorflow:Assets written to: models\\assets\n",
      "wandb: Adding directory to artifact (.\\models)... Done. 0.0s\n"
     ]
    },
    {
     "name": "stdout",
     "output_type": "stream",
     "text": [
      "13/13 [==============================] - 1s 64ms/step - loss: 0.3781 - accuracy: 0.7013 - mse: 0.1261 - categorical_accuracy: 0.7013 - val_loss: 0.3719 - val_accuracy: 0.6975 - val_mse: 0.1246 - val_categorical_accuracy: 0.6975\n",
      "Epoch 67/100\n",
      " 1/13 [=>............................] - ETA: 0s - loss: 0.3841 - accuracy: 0.6875 - mse: 0.1307 - categorical_accuracy: 0.6875"
     ]
    },
    {
     "name": "stderr",
     "output_type": "stream",
     "text": [
      "WARNING:absl:Found untraced functions such as _update_step_xla while saving (showing 1 of 1). These functions will not be directly callable after loading.\n"
     ]
    },
    {
     "name": "stdout",
     "output_type": "stream",
     "text": [
      "INFO:tensorflow:Assets written to: models\\assets\n"
     ]
    },
    {
     "name": "stderr",
     "output_type": "stream",
     "text": [
      "INFO:tensorflow:Assets written to: models\\assets\n",
      "wandb: Adding directory to artifact (.\\models)... Done. 0.0s\n"
     ]
    },
    {
     "name": "stdout",
     "output_type": "stream",
     "text": [
      "13/13 [==============================] - 1s 66ms/step - loss: 0.3712 - accuracy: 0.6862 - mse: 0.1244 - categorical_accuracy: 0.6862 - val_loss: 0.3576 - val_accuracy: 0.7400 - val_mse: 0.1194 - val_categorical_accuracy: 0.7400\n",
      "Epoch 68/100\n",
      " 1/13 [=>............................] - ETA: 0s - loss: 0.3449 - accuracy: 0.7656 - mse: 0.1155 - categorical_accuracy: 0.7656"
     ]
    },
    {
     "name": "stderr",
     "output_type": "stream",
     "text": [
      "WARNING:absl:Found untraced functions such as _update_step_xla while saving (showing 1 of 1). These functions will not be directly callable after loading.\n"
     ]
    },
    {
     "name": "stdout",
     "output_type": "stream",
     "text": [
      "INFO:tensorflow:Assets written to: models\\assets\n"
     ]
    },
    {
     "name": "stderr",
     "output_type": "stream",
     "text": [
      "INFO:tensorflow:Assets written to: models\\assets\n",
      "wandb: Adding directory to artifact (.\\models)... Done. 0.0s\n"
     ]
    },
    {
     "name": "stdout",
     "output_type": "stream",
     "text": [
      "13/13 [==============================] - 1s 69ms/step - loss: 0.3637 - accuracy: 0.7125 - mse: 0.1224 - categorical_accuracy: 0.7125 - val_loss: 0.3461 - val_accuracy: 0.7200 - val_mse: 0.1137 - val_categorical_accuracy: 0.7200\n",
      "Epoch 69/100\n",
      " 1/13 [=>............................] - ETA: 0s - loss: 0.3551 - accuracy: 0.7109 - mse: 0.1188 - categorical_accuracy: 0.7109"
     ]
    },
    {
     "name": "stderr",
     "output_type": "stream",
     "text": [
      "WARNING:absl:Found untraced functions such as _update_step_xla while saving (showing 1 of 1). These functions will not be directly callable after loading.\n"
     ]
    },
    {
     "name": "stdout",
     "output_type": "stream",
     "text": [
      "INFO:tensorflow:Assets written to: models\\assets\n"
     ]
    },
    {
     "name": "stderr",
     "output_type": "stream",
     "text": [
      "INFO:tensorflow:Assets written to: models\\assets\n",
      "wandb: Adding directory to artifact (.\\models)... Done. 0.0s\n"
     ]
    },
    {
     "name": "stdout",
     "output_type": "stream",
     "text": [
      "13/13 [==============================] - 1s 67ms/step - loss: 0.3594 - accuracy: 0.7113 - mse: 0.1202 - categorical_accuracy: 0.7113 - val_loss: 0.3522 - val_accuracy: 0.7375 - val_mse: 0.1172 - val_categorical_accuracy: 0.7375\n",
      "Epoch 70/100\n",
      " 1/13 [=>............................] - ETA: 0s - loss: 0.3441 - accuracy: 0.7188 - mse: 0.1135 - categorical_accuracy: 0.7188"
     ]
    },
    {
     "name": "stderr",
     "output_type": "stream",
     "text": [
      "WARNING:absl:Found untraced functions such as _update_step_xla while saving (showing 1 of 1). These functions will not be directly callable after loading.\n"
     ]
    },
    {
     "name": "stdout",
     "output_type": "stream",
     "text": [
      "INFO:tensorflow:Assets written to: models\\assets\n"
     ]
    },
    {
     "name": "stderr",
     "output_type": "stream",
     "text": [
      "INFO:tensorflow:Assets written to: models\\assets\n",
      "wandb: Adding directory to artifact (.\\models)... Done. 0.0s\n"
     ]
    },
    {
     "name": "stdout",
     "output_type": "stream",
     "text": [
      "13/13 [==============================] - 1s 66ms/step - loss: 0.3754 - accuracy: 0.7025 - mse: 0.1256 - categorical_accuracy: 0.7025 - val_loss: 0.3529 - val_accuracy: 0.7150 - val_mse: 0.1171 - val_categorical_accuracy: 0.7150\n",
      "Epoch 71/100\n",
      " 1/13 [=>............................] - ETA: 0s - loss: 0.3199 - accuracy: 0.7422 - mse: 0.1047 - categorical_accuracy: 0.7422"
     ]
    },
    {
     "name": "stderr",
     "output_type": "stream",
     "text": [
      "WARNING:absl:Found untraced functions such as _update_step_xla while saving (showing 1 of 1). These functions will not be directly callable after loading.\n"
     ]
    },
    {
     "name": "stdout",
     "output_type": "stream",
     "text": [
      "INFO:tensorflow:Assets written to: models\\assets\n"
     ]
    },
    {
     "name": "stderr",
     "output_type": "stream",
     "text": [
      "INFO:tensorflow:Assets written to: models\\assets\n",
      "wandb: Adding directory to artifact (.\\models)... Done. 0.0s\n"
     ]
    },
    {
     "name": "stdout",
     "output_type": "stream",
     "text": [
      "13/13 [==============================] - 1s 68ms/step - loss: 0.3566 - accuracy: 0.7219 - mse: 0.1189 - categorical_accuracy: 0.7219 - val_loss: 0.3484 - val_accuracy: 0.6925 - val_mse: 0.1154 - val_categorical_accuracy: 0.6925\n",
      "Epoch 72/100\n",
      " 1/13 [=>............................] - ETA: 0s - loss: 0.3484 - accuracy: 0.7266 - mse: 0.1153 - categorical_accuracy: 0.7266"
     ]
    },
    {
     "name": "stderr",
     "output_type": "stream",
     "text": [
      "WARNING:absl:Found untraced functions such as _update_step_xla while saving (showing 1 of 1). These functions will not be directly callable after loading.\n"
     ]
    },
    {
     "name": "stdout",
     "output_type": "stream",
     "text": [
      "INFO:tensorflow:Assets written to: models\\assets\n"
     ]
    },
    {
     "name": "stderr",
     "output_type": "stream",
     "text": [
      "INFO:tensorflow:Assets written to: models\\assets\n",
      "wandb: Adding directory to artifact (.\\models)... Done. 0.0s\n"
     ]
    },
    {
     "name": "stdout",
     "output_type": "stream",
     "text": [
      "13/13 [==============================] - 1s 64ms/step - loss: 0.3564 - accuracy: 0.7075 - mse: 0.1188 - categorical_accuracy: 0.7075 - val_loss: 0.3480 - val_accuracy: 0.7525 - val_mse: 0.1183 - val_categorical_accuracy: 0.7525\n",
      "Epoch 73/100\n",
      " 1/13 [=>............................] - ETA: 0s - loss: 0.3543 - accuracy: 0.6953 - mse: 0.1214 - categorical_accuracy: 0.6953"
     ]
    },
    {
     "name": "stderr",
     "output_type": "stream",
     "text": [
      "WARNING:absl:Found untraced functions such as _update_step_xla while saving (showing 1 of 1). These functions will not be directly callable after loading.\n"
     ]
    },
    {
     "name": "stdout",
     "output_type": "stream",
     "text": [
      "INFO:tensorflow:Assets written to: models\\assets\n"
     ]
    },
    {
     "name": "stderr",
     "output_type": "stream",
     "text": [
      "INFO:tensorflow:Assets written to: models\\assets\n",
      "wandb: Adding directory to artifact (.\\models)... Done. 0.0s\n"
     ]
    },
    {
     "name": "stdout",
     "output_type": "stream",
     "text": [
      "13/13 [==============================] - 1s 74ms/step - loss: 0.3584 - accuracy: 0.7156 - mse: 0.1200 - categorical_accuracy: 0.7156 - val_loss: 0.3488 - val_accuracy: 0.7425 - val_mse: 0.1171 - val_categorical_accuracy: 0.7425\n",
      "Epoch 74/100\n",
      " 1/13 [=>............................] - ETA: 0s - loss: 0.3597 - accuracy: 0.7266 - mse: 0.1226 - categorical_accuracy: 0.7266"
     ]
    },
    {
     "name": "stderr",
     "output_type": "stream",
     "text": [
      "WARNING:absl:Found untraced functions such as _update_step_xla while saving (showing 1 of 1). These functions will not be directly callable after loading.\n"
     ]
    },
    {
     "name": "stdout",
     "output_type": "stream",
     "text": [
      "INFO:tensorflow:Assets written to: models\\assets\n"
     ]
    },
    {
     "name": "stderr",
     "output_type": "stream",
     "text": [
      "INFO:tensorflow:Assets written to: models\\assets\n",
      "wandb: Adding directory to artifact (.\\models)... Done. 0.0s\n"
     ]
    },
    {
     "name": "stdout",
     "output_type": "stream",
     "text": [
      "13/13 [==============================] - 1s 69ms/step - loss: 0.3553 - accuracy: 0.7038 - mse: 0.1187 - categorical_accuracy: 0.7038 - val_loss: 0.3561 - val_accuracy: 0.7475 - val_mse: 0.1203 - val_categorical_accuracy: 0.7475\n",
      "Epoch 75/100\n",
      " 1/13 [=>............................] - ETA: 0s - loss: 0.3496 - accuracy: 0.7266 - mse: 0.1186 - categorical_accuracy: 0.7266"
     ]
    },
    {
     "name": "stderr",
     "output_type": "stream",
     "text": [
      "WARNING:absl:Found untraced functions such as _update_step_xla while saving (showing 1 of 1). These functions will not be directly callable after loading.\n"
     ]
    },
    {
     "name": "stdout",
     "output_type": "stream",
     "text": [
      "INFO:tensorflow:Assets written to: models\\assets\n"
     ]
    },
    {
     "name": "stderr",
     "output_type": "stream",
     "text": [
      "INFO:tensorflow:Assets written to: models\\assets\n",
      "wandb: Adding directory to artifact (.\\models)... Done. 0.0s\n"
     ]
    },
    {
     "name": "stdout",
     "output_type": "stream",
     "text": [
      "13/13 [==============================] - 1s 70ms/step - loss: 0.3644 - accuracy: 0.7063 - mse: 0.1221 - categorical_accuracy: 0.7063 - val_loss: 0.3692 - val_accuracy: 0.7475 - val_mse: 0.1256 - val_categorical_accuracy: 0.7475\n",
      "Epoch 76/100\n",
      " 1/13 [=>............................] - ETA: 0s - loss: 0.3670 - accuracy: 0.6641 - mse: 0.1236 - categorical_accuracy: 0.6641"
     ]
    },
    {
     "name": "stderr",
     "output_type": "stream",
     "text": [
      "WARNING:absl:Found untraced functions such as _update_step_xla while saving (showing 1 of 1). These functions will not be directly callable after loading.\n"
     ]
    },
    {
     "name": "stdout",
     "output_type": "stream",
     "text": [
      "INFO:tensorflow:Assets written to: models\\assets\n"
     ]
    },
    {
     "name": "stderr",
     "output_type": "stream",
     "text": [
      "INFO:tensorflow:Assets written to: models\\assets\n",
      "wandb: Adding directory to artifact (.\\models)... Done. 0.0s\n"
     ]
    },
    {
     "name": "stdout",
     "output_type": "stream",
     "text": [
      "13/13 [==============================] - 1s 70ms/step - loss: 0.3705 - accuracy: 0.7025 - mse: 0.1240 - categorical_accuracy: 0.7025 - val_loss: 0.3549 - val_accuracy: 0.7000 - val_mse: 0.1135 - val_categorical_accuracy: 0.7000\n",
      "Epoch 77/100\n",
      " 1/13 [=>............................] - ETA: 0s - loss: 0.3494 - accuracy: 0.7812 - mse: 0.1128 - categorical_accuracy: 0.7812"
     ]
    },
    {
     "name": "stderr",
     "output_type": "stream",
     "text": [
      "WARNING:absl:Found untraced functions such as _update_step_xla while saving (showing 1 of 1). These functions will not be directly callable after loading.\n"
     ]
    },
    {
     "name": "stdout",
     "output_type": "stream",
     "text": [
      "INFO:tensorflow:Assets written to: models\\assets\n"
     ]
    },
    {
     "name": "stderr",
     "output_type": "stream",
     "text": [
      "INFO:tensorflow:Assets written to: models\\assets\n",
      "wandb: Adding directory to artifact (.\\models)... Done. 0.0s\n"
     ]
    },
    {
     "name": "stdout",
     "output_type": "stream",
     "text": [
      "13/13 [==============================] - 1s 84ms/step - loss: 0.3661 - accuracy: 0.7119 - mse: 0.1206 - categorical_accuracy: 0.7119 - val_loss: 0.3732 - val_accuracy: 0.6575 - val_mse: 0.1268 - val_categorical_accuracy: 0.6575\n",
      "Epoch 78/100\n",
      " 1/13 [=>............................] - ETA: 0s - loss: 0.3769 - accuracy: 0.6484 - mse: 0.1279 - categorical_accuracy: 0.6484"
     ]
    },
    {
     "name": "stderr",
     "output_type": "stream",
     "text": [
      "WARNING:absl:Found untraced functions such as _update_step_xla while saving (showing 1 of 1). These functions will not be directly callable after loading.\n"
     ]
    },
    {
     "name": "stdout",
     "output_type": "stream",
     "text": [
      "INFO:tensorflow:Assets written to: models\\assets\n"
     ]
    },
    {
     "name": "stderr",
     "output_type": "stream",
     "text": [
      "INFO:tensorflow:Assets written to: models\\assets\n",
      "wandb: Adding directory to artifact (.\\models)... Done. 0.0s\n"
     ]
    },
    {
     "name": "stdout",
     "output_type": "stream",
     "text": [
      "13/13 [==============================] - 1s 64ms/step - loss: 0.3624 - accuracy: 0.7081 - mse: 0.1208 - categorical_accuracy: 0.7081 - val_loss: 0.3449 - val_accuracy: 0.7600 - val_mse: 0.1166 - val_categorical_accuracy: 0.7600\n",
      "Epoch 79/100\n",
      " 1/13 [=>............................] - ETA: 0s - loss: 0.3459 - accuracy: 0.7109 - mse: 0.1177 - categorical_accuracy: 0.7109"
     ]
    },
    {
     "name": "stderr",
     "output_type": "stream",
     "text": [
      "WARNING:absl:Found untraced functions such as _update_step_xla while saving (showing 1 of 1). These functions will not be directly callable after loading.\n"
     ]
    },
    {
     "name": "stdout",
     "output_type": "stream",
     "text": [
      "INFO:tensorflow:Assets written to: models\\assets\n"
     ]
    },
    {
     "name": "stderr",
     "output_type": "stream",
     "text": [
      "INFO:tensorflow:Assets written to: models\\assets\n",
      "wandb: Adding directory to artifact (.\\models)... Done. 0.0s\n"
     ]
    },
    {
     "name": "stdout",
     "output_type": "stream",
     "text": [
      "13/13 [==============================] - 1s 67ms/step - loss: 0.3650 - accuracy: 0.7038 - mse: 0.1226 - categorical_accuracy: 0.7038 - val_loss: 0.3567 - val_accuracy: 0.7225 - val_mse: 0.1214 - val_categorical_accuracy: 0.7225\n",
      "Epoch 80/100\n",
      " 1/13 [=>............................] - ETA: 0s - loss: 0.3414 - accuracy: 0.7188 - mse: 0.1159 - categorical_accuracy: 0.7188"
     ]
    },
    {
     "name": "stderr",
     "output_type": "stream",
     "text": [
      "WARNING:absl:Found untraced functions such as _update_step_xla while saving (showing 1 of 1). These functions will not be directly callable after loading.\n"
     ]
    },
    {
     "name": "stdout",
     "output_type": "stream",
     "text": [
      "INFO:tensorflow:Assets written to: models\\assets\n"
     ]
    },
    {
     "name": "stderr",
     "output_type": "stream",
     "text": [
      "INFO:tensorflow:Assets written to: models\\assets\n",
      "wandb: Adding directory to artifact (.\\models)... Done. 0.0s\n"
     ]
    },
    {
     "name": "stdout",
     "output_type": "stream",
     "text": [
      "13/13 [==============================] - 1s 67ms/step - loss: 0.3555 - accuracy: 0.7219 - mse: 0.1185 - categorical_accuracy: 0.7219 - val_loss: 0.3628 - val_accuracy: 0.6650 - val_mse: 0.1202 - val_categorical_accuracy: 0.6650\n",
      "Epoch 81/100\n",
      " 1/13 [=>............................] - ETA: 0s - loss: 0.3877 - accuracy: 0.6250 - mse: 0.1298 - categorical_accuracy: 0.6250"
     ]
    },
    {
     "name": "stderr",
     "output_type": "stream",
     "text": [
      "WARNING:absl:Found untraced functions such as _update_step_xla while saving (showing 1 of 1). These functions will not be directly callable after loading.\n"
     ]
    },
    {
     "name": "stdout",
     "output_type": "stream",
     "text": [
      "INFO:tensorflow:Assets written to: models\\assets\n"
     ]
    },
    {
     "name": "stderr",
     "output_type": "stream",
     "text": [
      "INFO:tensorflow:Assets written to: models\\assets\n",
      "wandb: Adding directory to artifact (.\\models)... Done. 0.0s\n"
     ]
    },
    {
     "name": "stdout",
     "output_type": "stream",
     "text": [
      "13/13 [==============================] - 1s 67ms/step - loss: 0.3672 - accuracy: 0.7131 - mse: 0.1230 - categorical_accuracy: 0.7131 - val_loss: 0.3499 - val_accuracy: 0.7175 - val_mse: 0.1154 - val_categorical_accuracy: 0.7175\n",
      "Epoch 82/100\n",
      " 1/13 [=>............................] - ETA: 0s - loss: 0.3639 - accuracy: 0.7031 - mse: 0.1217 - categorical_accuracy: 0.7031"
     ]
    },
    {
     "name": "stderr",
     "output_type": "stream",
     "text": [
      "WARNING:absl:Found untraced functions such as _update_step_xla while saving (showing 1 of 1). These functions will not be directly callable after loading.\n"
     ]
    },
    {
     "name": "stdout",
     "output_type": "stream",
     "text": [
      "INFO:tensorflow:Assets written to: models\\assets\n"
     ]
    },
    {
     "name": "stderr",
     "output_type": "stream",
     "text": [
      "INFO:tensorflow:Assets written to: models\\assets\n",
      "wandb: Adding directory to artifact (.\\models)... Done. 0.0s\n"
     ]
    },
    {
     "name": "stdout",
     "output_type": "stream",
     "text": [
      "13/13 [==============================] - 1s 71ms/step - loss: 0.3571 - accuracy: 0.7319 - mse: 0.1195 - categorical_accuracy: 0.7319 - val_loss: 0.3882 - val_accuracy: 0.6525 - val_mse: 0.1299 - val_categorical_accuracy: 0.6525\n",
      "Epoch 83/100\n",
      " 1/13 [=>............................] - ETA: 0s - loss: 0.3720 - accuracy: 0.6797 - mse: 0.1271 - categorical_accuracy: 0.6797"
     ]
    },
    {
     "name": "stderr",
     "output_type": "stream",
     "text": [
      "WARNING:absl:Found untraced functions such as _update_step_xla while saving (showing 1 of 1). These functions will not be directly callable after loading.\n"
     ]
    },
    {
     "name": "stdout",
     "output_type": "stream",
     "text": [
      "INFO:tensorflow:Assets written to: models\\assets\n"
     ]
    },
    {
     "name": "stderr",
     "output_type": "stream",
     "text": [
      "INFO:tensorflow:Assets written to: models\\assets\n",
      "wandb: Adding directory to artifact (.\\models)... Done. 0.0s\n"
     ]
    },
    {
     "name": "stdout",
     "output_type": "stream",
     "text": [
      "13/13 [==============================] - 1s 71ms/step - loss: 0.3645 - accuracy: 0.7150 - mse: 0.1229 - categorical_accuracy: 0.7150 - val_loss: 0.3436 - val_accuracy: 0.7075 - val_mse: 0.1124 - val_categorical_accuracy: 0.7075\n",
      "Epoch 84/100\n",
      " 1/13 [=>............................] - ETA: 0s - loss: 0.3110 - accuracy: 0.7422 - mse: 0.0987 - categorical_accuracy: 0.7422"
     ]
    },
    {
     "name": "stderr",
     "output_type": "stream",
     "text": [
      "WARNING:absl:Found untraced functions such as _update_step_xla while saving (showing 1 of 1). These functions will not be directly callable after loading.\n"
     ]
    },
    {
     "name": "stdout",
     "output_type": "stream",
     "text": [
      "INFO:tensorflow:Assets written to: models\\assets\n"
     ]
    },
    {
     "name": "stderr",
     "output_type": "stream",
     "text": [
      "INFO:tensorflow:Assets written to: models\\assets\n",
      "wandb: Adding directory to artifact (.\\models)... Done. 0.0s\n"
     ]
    },
    {
     "name": "stdout",
     "output_type": "stream",
     "text": [
      "13/13 [==============================] - 1s 70ms/step - loss: 0.3610 - accuracy: 0.6956 - mse: 0.1211 - categorical_accuracy: 0.6956 - val_loss: 0.3628 - val_accuracy: 0.6875 - val_mse: 0.1216 - val_categorical_accuracy: 0.6875\n",
      "Epoch 85/100\n",
      " 1/13 [=>............................] - ETA: 0s - loss: 0.3667 - accuracy: 0.6953 - mse: 0.1225 - categorical_accuracy: 0.6953"
     ]
    },
    {
     "name": "stderr",
     "output_type": "stream",
     "text": [
      "WARNING:absl:Found untraced functions such as _update_step_xla while saving (showing 1 of 1). These functions will not be directly callable after loading.\n"
     ]
    },
    {
     "name": "stdout",
     "output_type": "stream",
     "text": [
      "INFO:tensorflow:Assets written to: models\\assets\n"
     ]
    },
    {
     "name": "stderr",
     "output_type": "stream",
     "text": [
      "INFO:tensorflow:Assets written to: models\\assets\n",
      "wandb: Adding directory to artifact (.\\models)... Done. 0.0s\n"
     ]
    },
    {
     "name": "stdout",
     "output_type": "stream",
     "text": [
      "13/13 [==============================] - 1s 72ms/step - loss: 0.3459 - accuracy: 0.7494 - mse: 0.1152 - categorical_accuracy: 0.7494 - val_loss: 0.3493 - val_accuracy: 0.7500 - val_mse: 0.1189 - val_categorical_accuracy: 0.7500\n",
      "Epoch 86/100\n",
      " 1/13 [=>............................] - ETA: 0s - loss: 0.3404 - accuracy: 0.7734 - mse: 0.1134 - categorical_accuracy: 0.7734"
     ]
    },
    {
     "name": "stderr",
     "output_type": "stream",
     "text": [
      "WARNING:absl:Found untraced functions such as _update_step_xla while saving (showing 1 of 1). These functions will not be directly callable after loading.\n"
     ]
    },
    {
     "name": "stdout",
     "output_type": "stream",
     "text": [
      "INFO:tensorflow:Assets written to: models\\assets\n"
     ]
    },
    {
     "name": "stderr",
     "output_type": "stream",
     "text": [
      "INFO:tensorflow:Assets written to: models\\assets\n",
      "wandb: Adding directory to artifact (.\\models)... Done. 0.0s\n"
     ]
    },
    {
     "name": "stdout",
     "output_type": "stream",
     "text": [
      "13/13 [==============================] - 1s 76ms/step - loss: 0.3519 - accuracy: 0.7113 - mse: 0.1176 - categorical_accuracy: 0.7113 - val_loss: 0.3500 - val_accuracy: 0.7250 - val_mse: 0.1148 - val_categorical_accuracy: 0.7250\n",
      "Epoch 87/100\n",
      " 1/13 [=>............................] - ETA: 0s - loss: 0.3329 - accuracy: 0.7500 - mse: 0.1101 - categorical_accuracy: 0.7500"
     ]
    },
    {
     "name": "stderr",
     "output_type": "stream",
     "text": [
      "WARNING:absl:Found untraced functions such as _update_step_xla while saving (showing 1 of 1). These functions will not be directly callable after loading.\n"
     ]
    },
    {
     "name": "stdout",
     "output_type": "stream",
     "text": [
      "INFO:tensorflow:Assets written to: models\\assets\n"
     ]
    },
    {
     "name": "stderr",
     "output_type": "stream",
     "text": [
      "INFO:tensorflow:Assets written to: models\\assets\n",
      "wandb: Adding directory to artifact (.\\models)... Done. 0.0s\n"
     ]
    },
    {
     "name": "stdout",
     "output_type": "stream",
     "text": [
      "13/13 [==============================] - 1s 72ms/step - loss: 0.3503 - accuracy: 0.7419 - mse: 0.1172 - categorical_accuracy: 0.7419 - val_loss: 0.3473 - val_accuracy: 0.7650 - val_mse: 0.1157 - val_categorical_accuracy: 0.7650\n",
      "Epoch 88/100\n",
      " 1/13 [=>............................] - ETA: 0s - loss: 0.3462 - accuracy: 0.7344 - mse: 0.1168 - categorical_accuracy: 0.7344"
     ]
    },
    {
     "name": "stderr",
     "output_type": "stream",
     "text": [
      "WARNING:absl:Found untraced functions such as _update_step_xla while saving (showing 1 of 1). These functions will not be directly callable after loading.\n"
     ]
    },
    {
     "name": "stdout",
     "output_type": "stream",
     "text": [
      "INFO:tensorflow:Assets written to: models\\assets\n"
     ]
    },
    {
     "name": "stderr",
     "output_type": "stream",
     "text": [
      "INFO:tensorflow:Assets written to: models\\assets\n",
      "wandb: Adding directory to artifact (.\\models)... Done. 0.0s\n"
     ]
    },
    {
     "name": "stdout",
     "output_type": "stream",
     "text": [
      "13/13 [==============================] - 1s 69ms/step - loss: 0.3581 - accuracy: 0.7206 - mse: 0.1202 - categorical_accuracy: 0.7206 - val_loss: 0.3364 - val_accuracy: 0.7750 - val_mse: 0.1117 - val_categorical_accuracy: 0.7750\n",
      "Epoch 89/100\n",
      " 1/13 [=>............................] - ETA: 0s - loss: 0.3341 - accuracy: 0.8125 - mse: 0.1113 - categorical_accuracy: 0.8125"
     ]
    },
    {
     "name": "stderr",
     "output_type": "stream",
     "text": [
      "WARNING:absl:Found untraced functions such as _update_step_xla while saving (showing 1 of 1). These functions will not be directly callable after loading.\n"
     ]
    },
    {
     "name": "stdout",
     "output_type": "stream",
     "text": [
      "INFO:tensorflow:Assets written to: models\\assets\n"
     ]
    },
    {
     "name": "stderr",
     "output_type": "stream",
     "text": [
      "INFO:tensorflow:Assets written to: models\\assets\n",
      "wandb: Adding directory to artifact (.\\models)... Done. 0.0s\n"
     ]
    },
    {
     "name": "stdout",
     "output_type": "stream",
     "text": [
      "13/13 [==============================] - 1s 74ms/step - loss: 0.3720 - accuracy: 0.6888 - mse: 0.1250 - categorical_accuracy: 0.6888 - val_loss: 0.3524 - val_accuracy: 0.6925 - val_mse: 0.1180 - val_categorical_accuracy: 0.6925\n",
      "Epoch 90/100\n",
      " 1/13 [=>............................] - ETA: 0s - loss: 0.3833 - accuracy: 0.6562 - mse: 0.1299 - categorical_accuracy: 0.6562"
     ]
    },
    {
     "name": "stderr",
     "output_type": "stream",
     "text": [
      "WARNING:absl:Found untraced functions such as _update_step_xla while saving (showing 1 of 1). These functions will not be directly callable after loading.\n"
     ]
    },
    {
     "name": "stdout",
     "output_type": "stream",
     "text": [
      "INFO:tensorflow:Assets written to: models\\assets\n"
     ]
    },
    {
     "name": "stderr",
     "output_type": "stream",
     "text": [
      "INFO:tensorflow:Assets written to: models\\assets\n",
      "wandb: Adding directory to artifact (.\\models)... Done. 0.0s\n"
     ]
    },
    {
     "name": "stdout",
     "output_type": "stream",
     "text": [
      "13/13 [==============================] - 1s 73ms/step - loss: 0.3598 - accuracy: 0.7081 - mse: 0.1208 - categorical_accuracy: 0.7081 - val_loss: 0.3468 - val_accuracy: 0.7475 - val_mse: 0.1181 - val_categorical_accuracy: 0.7475\n",
      "Epoch 91/100\n",
      " 1/13 [=>............................] - ETA: 0s - loss: 0.3460 - accuracy: 0.7031 - mse: 0.1180 - categorical_accuracy: 0.7031"
     ]
    },
    {
     "name": "stderr",
     "output_type": "stream",
     "text": [
      "WARNING:absl:Found untraced functions such as _update_step_xla while saving (showing 1 of 1). These functions will not be directly callable after loading.\n"
     ]
    },
    {
     "name": "stdout",
     "output_type": "stream",
     "text": [
      "INFO:tensorflow:Assets written to: models\\assets\n"
     ]
    },
    {
     "name": "stderr",
     "output_type": "stream",
     "text": [
      "INFO:tensorflow:Assets written to: models\\assets\n",
      "wandb: Adding directory to artifact (.\\models)... Done. 0.0s\n"
     ]
    },
    {
     "name": "stdout",
     "output_type": "stream",
     "text": [
      "13/13 [==============================] - 1s 69ms/step - loss: 0.3591 - accuracy: 0.7038 - mse: 0.1201 - categorical_accuracy: 0.7038 - val_loss: 0.3437 - val_accuracy: 0.7525 - val_mse: 0.1167 - val_categorical_accuracy: 0.7525\n",
      "Epoch 92/100\n",
      " 1/13 [=>............................] - ETA: 0s - loss: 0.3447 - accuracy: 0.7188 - mse: 0.1160 - categorical_accuracy: 0.7188"
     ]
    },
    {
     "name": "stderr",
     "output_type": "stream",
     "text": [
      "WARNING:absl:Found untraced functions such as _update_step_xla while saving (showing 1 of 1). These functions will not be directly callable after loading.\n"
     ]
    },
    {
     "name": "stdout",
     "output_type": "stream",
     "text": [
      "INFO:tensorflow:Assets written to: models\\assets\n"
     ]
    },
    {
     "name": "stderr",
     "output_type": "stream",
     "text": [
      "INFO:tensorflow:Assets written to: models\\assets\n",
      "wandb: Adding directory to artifact (.\\models)... Done. 0.0s\n"
     ]
    },
    {
     "name": "stdout",
     "output_type": "stream",
     "text": [
      "13/13 [==============================] - 1s 65ms/step - loss: 0.3591 - accuracy: 0.7144 - mse: 0.1197 - categorical_accuracy: 0.7144 - val_loss: 0.3459 - val_accuracy: 0.7325 - val_mse: 0.1159 - val_categorical_accuracy: 0.7325\n",
      "Epoch 93/100\n",
      " 1/13 [=>............................] - ETA: 0s - loss: 0.3550 - accuracy: 0.7188 - mse: 0.1196 - categorical_accuracy: 0.7188"
     ]
    },
    {
     "name": "stderr",
     "output_type": "stream",
     "text": [
      "WARNING:absl:Found untraced functions such as _update_step_xla while saving (showing 1 of 1). These functions will not be directly callable after loading.\n"
     ]
    },
    {
     "name": "stdout",
     "output_type": "stream",
     "text": [
      "INFO:tensorflow:Assets written to: models\\assets\n"
     ]
    },
    {
     "name": "stderr",
     "output_type": "stream",
     "text": [
      "INFO:tensorflow:Assets written to: models\\assets\n",
      "wandb: Adding directory to artifact (.\\models)... Done. 0.0s\n"
     ]
    },
    {
     "name": "stdout",
     "output_type": "stream",
     "text": [
      "13/13 [==============================] - 1s 70ms/step - loss: 0.3492 - accuracy: 0.7350 - mse: 0.1167 - categorical_accuracy: 0.7350 - val_loss: 0.3428 - val_accuracy: 0.7775 - val_mse: 0.1144 - val_categorical_accuracy: 0.7775\n",
      "Epoch 94/100\n",
      " 1/13 [=>............................] - ETA: 0s - loss: 0.3485 - accuracy: 0.7656 - mse: 0.1179 - categorical_accuracy: 0.7656"
     ]
    },
    {
     "name": "stderr",
     "output_type": "stream",
     "text": [
      "WARNING:absl:Found untraced functions such as _update_step_xla while saving (showing 1 of 1). These functions will not be directly callable after loading.\n"
     ]
    },
    {
     "name": "stdout",
     "output_type": "stream",
     "text": [
      "INFO:tensorflow:Assets written to: models\\assets\n"
     ]
    },
    {
     "name": "stderr",
     "output_type": "stream",
     "text": [
      "INFO:tensorflow:Assets written to: models\\assets\n",
      "wandb: Adding directory to artifact (.\\models)... Done. 0.0s\n"
     ]
    },
    {
     "name": "stdout",
     "output_type": "stream",
     "text": [
      "13/13 [==============================] - 1s 90ms/step - loss: 0.3567 - accuracy: 0.7212 - mse: 0.1191 - categorical_accuracy: 0.7212 - val_loss: 0.3932 - val_accuracy: 0.6650 - val_mse: 0.1296 - val_categorical_accuracy: 0.6650\n",
      "Epoch 95/100\n",
      " 1/13 [=>............................] - ETA: 0s - loss: 0.4186 - accuracy: 0.6250 - mse: 0.1404 - categorical_accuracy: 0.6250"
     ]
    },
    {
     "name": "stderr",
     "output_type": "stream",
     "text": [
      "WARNING:absl:Found untraced functions such as _update_step_xla while saving (showing 1 of 1). These functions will not be directly callable after loading.\n"
     ]
    },
    {
     "name": "stdout",
     "output_type": "stream",
     "text": [
      "INFO:tensorflow:Assets written to: models\\assets\n"
     ]
    },
    {
     "name": "stderr",
     "output_type": "stream",
     "text": [
      "INFO:tensorflow:Assets written to: models\\assets\n",
      "wandb: Adding directory to artifact (.\\models)... Done. 0.0s\n"
     ]
    },
    {
     "name": "stdout",
     "output_type": "stream",
     "text": [
      "13/13 [==============================] - 1s 69ms/step - loss: 0.3634 - accuracy: 0.7194 - mse: 0.1221 - categorical_accuracy: 0.7194 - val_loss: 0.3450 - val_accuracy: 0.7800 - val_mse: 0.1154 - val_categorical_accuracy: 0.7800\n",
      "Epoch 96/100\n",
      " 1/13 [=>............................] - ETA: 0s - loss: 0.3418 - accuracy: 0.7812 - mse: 0.1128 - categorical_accuracy: 0.7812"
     ]
    },
    {
     "name": "stderr",
     "output_type": "stream",
     "text": [
      "WARNING:absl:Found untraced functions such as _update_step_xla while saving (showing 1 of 1). These functions will not be directly callable after loading.\n"
     ]
    },
    {
     "name": "stdout",
     "output_type": "stream",
     "text": [
      "INFO:tensorflow:Assets written to: models\\assets\n"
     ]
    },
    {
     "name": "stderr",
     "output_type": "stream",
     "text": [
      "INFO:tensorflow:Assets written to: models\\assets\n",
      "wandb: Adding directory to artifact (.\\models)... Done. 0.0s\n"
     ]
    },
    {
     "name": "stdout",
     "output_type": "stream",
     "text": [
      "13/13 [==============================] - 1s 69ms/step - loss: 0.3543 - accuracy: 0.7275 - mse: 0.1191 - categorical_accuracy: 0.7275 - val_loss: 0.3497 - val_accuracy: 0.7125 - val_mse: 0.1176 - val_categorical_accuracy: 0.7125\n",
      "Epoch 97/100\n",
      " 1/13 [=>............................] - ETA: 0s - loss: 0.3331 - accuracy: 0.7656 - mse: 0.1101 - categorical_accuracy: 0.7656"
     ]
    },
    {
     "name": "stderr",
     "output_type": "stream",
     "text": [
      "WARNING:absl:Found untraced functions such as _update_step_xla while saving (showing 1 of 1). These functions will not be directly callable after loading.\n"
     ]
    },
    {
     "name": "stdout",
     "output_type": "stream",
     "text": [
      "INFO:tensorflow:Assets written to: models\\assets\n"
     ]
    },
    {
     "name": "stderr",
     "output_type": "stream",
     "text": [
      "INFO:tensorflow:Assets written to: models\\assets\n",
      "wandb: Adding directory to artifact (.\\models)... Done. 0.0s\n"
     ]
    },
    {
     "name": "stdout",
     "output_type": "stream",
     "text": [
      "13/13 [==============================] - 1s 71ms/step - loss: 0.3439 - accuracy: 0.7381 - mse: 0.1147 - categorical_accuracy: 0.7381 - val_loss: 0.3490 - val_accuracy: 0.7725 - val_mse: 0.1194 - val_categorical_accuracy: 0.7725\n",
      "Epoch 98/100\n",
      " 1/13 [=>............................] - ETA: 0s - loss: 0.3314 - accuracy: 0.8438 - mse: 0.1122 - categorical_accuracy: 0.8438"
     ]
    },
    {
     "name": "stderr",
     "output_type": "stream",
     "text": [
      "WARNING:absl:Found untraced functions such as _update_step_xla while saving (showing 1 of 1). These functions will not be directly callable after loading.\n"
     ]
    },
    {
     "name": "stdout",
     "output_type": "stream",
     "text": [
      "INFO:tensorflow:Assets written to: models\\assets\n"
     ]
    },
    {
     "name": "stderr",
     "output_type": "stream",
     "text": [
      "INFO:tensorflow:Assets written to: models\\assets\n",
      "wandb: Adding directory to artifact (.\\models)... Done. 0.0s\n"
     ]
    },
    {
     "name": "stdout",
     "output_type": "stream",
     "text": [
      "13/13 [==============================] - 1s 74ms/step - loss: 0.3485 - accuracy: 0.7469 - mse: 0.1171 - categorical_accuracy: 0.7469 - val_loss: 0.3383 - val_accuracy: 0.7275 - val_mse: 0.1108 - val_categorical_accuracy: 0.7275\n",
      "Epoch 99/100\n",
      " 1/13 [=>............................] - ETA: 0s - loss: 0.3681 - accuracy: 0.6797 - mse: 0.1224 - categorical_accuracy: 0.6797"
     ]
    },
    {
     "name": "stderr",
     "output_type": "stream",
     "text": [
      "WARNING:absl:Found untraced functions such as _update_step_xla while saving (showing 1 of 1). These functions will not be directly callable after loading.\n"
     ]
    },
    {
     "name": "stdout",
     "output_type": "stream",
     "text": [
      "INFO:tensorflow:Assets written to: models\\assets\n"
     ]
    },
    {
     "name": "stderr",
     "output_type": "stream",
     "text": [
      "INFO:tensorflow:Assets written to: models\\assets\n",
      "wandb: Adding directory to artifact (.\\models)... Done. 0.0s\n"
     ]
    },
    {
     "name": "stdout",
     "output_type": "stream",
     "text": [
      "13/13 [==============================] - 1s 70ms/step - loss: 0.3497 - accuracy: 0.7275 - mse: 0.1172 - categorical_accuracy: 0.7275 - val_loss: 0.3464 - val_accuracy: 0.7350 - val_mse: 0.1160 - val_categorical_accuracy: 0.7350\n",
      "Epoch 100/100\n",
      " 1/13 [=>............................] - ETA: 0s - loss: 0.3470 - accuracy: 0.7500 - mse: 0.1159 - categorical_accuracy: 0.7500"
     ]
    },
    {
     "name": "stderr",
     "output_type": "stream",
     "text": [
      "WARNING:absl:Found untraced functions such as _update_step_xla while saving (showing 1 of 1). These functions will not be directly callable after loading.\n"
     ]
    },
    {
     "name": "stdout",
     "output_type": "stream",
     "text": [
      "INFO:tensorflow:Assets written to: models\\assets\n"
     ]
    },
    {
     "name": "stderr",
     "output_type": "stream",
     "text": [
      "INFO:tensorflow:Assets written to: models\\assets\n",
      "wandb: Adding directory to artifact (.\\models)... Done. 0.0s\n"
     ]
    },
    {
     "name": "stdout",
     "output_type": "stream",
     "text": [
      "13/13 [==============================] - 1s 69ms/step - loss: 0.3523 - accuracy: 0.7300 - mse: 0.1185 - categorical_accuracy: 0.7300 - val_loss: 0.3745 - val_accuracy: 0.6725 - val_mse: 0.1232 - val_categorical_accuracy: 0.6725\n"
     ]
    }
   ],
   "source": [
    "tf.debugging.enable_traceback_filtering()\n",
    "history = model.fit(x_train,y_train,batch_size=128,epochs=100,validation_data=(x_val,y_val),\n",
    "                    callbacks=[\n",
    "                      WandbMetricsLogger(log_freq=5),\n",
    "                      WandbModelCheckpoint(\"models\")\n",
    "                    ])"
   ],
   "metadata": {
    "collapsed": false
   }
  },
  {
   "cell_type": "code",
   "execution_count": 16,
   "outputs": [
    {
     "data": {
      "text/plain": "<Figure size 432x288 with 1 Axes>",
      "image/png": "[encoded data removed]"
     },
     "metadata": {
      "needs_background": "light"
     },
     "output_type": "display_data"
    },
    {
     "data": {
      "text/plain": "<Figure size 432x288 with 1 Axes>",
      "image/png": "[encoded data removed]"
     },
     "metadata": {
      "needs_background": "light"
     },
     "output_type": "display_data"
    },
    {
     "data": {
      "text/plain": "<Figure size 432x288 with 1 Axes>",
      "image/png": "[encoded data removed]"
     },
     "metadata": {
      "needs_background": "light"
     },
     "output_type": "display_data"
    }
   ],
   "source": [
    "import matplotlib.pyplot as plt\n",
    "\n",
    "#Plot training & validation accuracy values\n",
    "plt.plot(history.history['accuracy'])\n",
    "plt.plot(history.history['val_accuracy'])\n",
    "plt.title('Model accuracy')\n",
    "plt.ylabel('Accuracy')\n",
    "plt.xlabel('Epoch')\n",
    "plt.legend(['Train', 'Validation'], loc='upper left')\n",
    "plt.show()\n",
    "\n",
    "# Plot training & validation loss values\n",
    "plt.plot(history.history['loss'])\n",
    "plt.plot(history.history['val_loss'])\n",
    "plt.title('Model loss')\n",
    "plt.ylabel('Loss')\n",
    "plt.xlabel('Epoch')\n",
    "plt.legend(['Train', 'Validation'], loc='upper left')\n",
    "plt.show()\n",
    "\n",
    "# Plot training & validation categorical accuracy\n",
    "plt.plot(history.history['categorical_accuracy'])\n",
    "plt.plot(history.history['val_categorical_accuracy'])\n",
    "plt.title('Model categorical accuracy')\n",
    "plt.ylabel('Categorical accuracy')\n",
    "plt.xlabel('Epoch')\n",
    "plt.legend(['Train', 'Validation'], loc='upper left')\n",
    "plt.show()"
   ],
   "metadata": {
    "collapsed": false
   }
  },
  {
   "cell_type": "code",
   "execution_count": null,
   "outputs": [],
   "source": [
    "#run=wandb.init(project=\"nsiete1\")\n"
   ],
   "metadata": {
    "collapsed": false
   }
  },
  {
   "cell_type": "code",
   "execution_count": null,
   "outputs": [],
   "source": [
    "wandb.finish()\n"
   ],
   "metadata": {
    "collapsed": false
   }
  }
 ],
 "metadata": {
  "kernelspec": {
   "display_name": "tp",
   "language": "python",
   "name": "python3"
  },
  "language_info": {
   "codemirror_mode": {
    "name": "ipython",
    "version": 3
   },
   "file_extension": ".py",
   "mimetype": "text/x-python",
   "name": "python",
   "nbconvert_exporter": "python",
   "pygments_lexer": "ipython3",
   "version": "3.8.16"
  },
  "orig_nbformat": 4
 },
 "nbformat": 4,
 "nbformat_minor": 2
}
