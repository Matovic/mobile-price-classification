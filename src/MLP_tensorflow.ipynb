{
 "cells": [
  {
   "cell_type": "markdown",
   "metadata": {},
   "source": [
    "# Mobile price classification with multilayer perceptron\n",
    "## Tensorflow\n",
    "Erik Matovič and Jakub Horvat\n",
    "\n",
    "[Dataset](https://www.kaggle.com/datasets/iabhishekofficial/mobile-price-classification?select=train.csv)\n",
    "\n",
    "Predict a price range indicating how high the price is\n",
    "\n",
    "### 0. Imports"
   ]
  },
  {
   "cell_type": "code",
   "execution_count": 17,
   "metadata": {},
   "outputs": [],
   "source": [
    "from utils import split_train_val\n",
    "import tensorflow as tf\n",
    "from tensorflow import keras\n",
    "import pandas as pd\n",
    "import wandb\n",
    "from wandb.keras import WandbMetricsLogger, WandbModelCheckpoint\n",
    "from sklearn.model_selection import train_test_split\n",
    "from utils import check_null_values, print_sum_null, rescale, split_data\n",
    "import numpy as np"
   ]
  },
  {
   "cell_type": "code",
   "execution_count": 18,
   "metadata": {},
   "outputs": [
    {
     "name": "stdout",
     "output_type": "stream",
     "text": [
      "2.11.0\n",
      "Num GPUs Available:  0\n",
      "tf.Tensor(581.69745, shape=(), dtype=float32)\n",
      "[]\n"
     ]
    }
   ],
   "source": [
    "config = tf.compat.v1.ConfigProto()\n",
    "config.gpu_options.allow_growth = True\n",
    "session = tf.compat.v1.Session(config=config)\n",
    "\n",
    "print(tf.__version__)\n",
    "print(\"Num GPUs Available: \", len(tf.config.list_physical_devices('GPU')))\n",
    "print(tf.reduce_sum(tf.random.normal([1000, 1000])))\n",
    "print(tf.config.list_physical_devices('GPU'))\n"
   ]
  },
  {
   "cell_type": "code",
   "execution_count": 19,
   "metadata": {},
   "outputs": [
    {
     "data": {
      "text/plain": "<IPython.core.display.HTML object>",
      "text/html": "wandb version 0.14.0 is available!  To upgrade, please run:\n $ pip install wandb --upgrade"
     },
     "metadata": {},
     "output_type": "display_data"
    },
    {
     "data": {
      "text/plain": "<IPython.core.display.HTML object>",
      "text/html": "Tracking run with wandb version 0.13.4"
     },
     "metadata": {},
     "output_type": "display_data"
    },
    {
     "data": {
      "text/plain": "<IPython.core.display.HTML object>",
      "text/html": "Run data is saved locally in <code>D:\\skola\\ING\\LS2023\\NSIETE\\mobile-price-classification\\src\\wandb\\run-20230329_143731-3bk66525</code>"
     },
     "metadata": {},
     "output_type": "display_data"
    },
    {
     "data": {
      "text/plain": "<IPython.core.display.HTML object>",
      "text/html": "Syncing run <strong><a href=\"https://wandb.ai/testsd/nsiete1/runs/3bk66525\" target=\"_blank\">ethereal-sea-66</a></strong> to <a href=\"https://wandb.ai/testsd/nsiete1\" target=\"_blank\">Weights & Biases</a> (<a href=\"https://wandb.me/run\" target=\"_blank\">docs</a>)<br/>"
     },
     "metadata": {},
     "output_type": "display_data"
    }
   ],
   "source": [
    "wandb.login()\n",
    "run=wandb.init(project=\"nsiete1\")"
   ]
  },
  {
   "cell_type": "markdown",
   "metadata": {},
   "source": [
    "### 1. Data Preprocessing\n",
    "\n",
    "Based on [exploratory data analysis](EDA.ipynb) test set does not have target variable price_range. We split our dataset into train-dev-test."
   ]
  },
  {
   "cell_type": "code",
   "execution_count": 20,
   "metadata": {},
   "outputs": [
    {
     "name": "stdout",
     "output_type": "stream",
     "text": [
      "(1800, 21) (200, 21)\n"
     ]
    }
   ],
   "source": [
    "# read datasets\n",
    "df_train = pd.read_csv('../data/train.csv', sep=',')\n",
    "df_test = df_train[-200:]\n",
    "df_train = df_train[:-200]\n",
    "print(df_train.shape,df_test.shape)\n"
   ]
  },
  {
   "cell_type": "code",
   "execution_count": 21,
   "metadata": {},
   "outputs": [
    {
     "name": "stdout",
     "output_type": "stream",
     "text": [
      "[1 2 2 ... 0 1 2]\n"
     ]
    }
   ],
   "source": [
    "x_train = df_train.values[:, :-1]       #vsetko okrem price range\n",
    "x_train = x_train.astype('float32')     # input data as floats\n",
    "#x_train\n",
    "y_train = df_train.values[:, -1]  # price range\n",
    "y_train = y_train.astype('int')\n",
    "print(y_train)"
   ]
  },
  {
   "cell_type": "code",
   "execution_count": 22,
   "metadata": {},
   "outputs": [
    {
     "name": "stdout",
     "output_type": "stream",
     "text": [
      "[0 1 3 3 1 2 1 0 0 1 0 1 0 0 1 3 3 1 0 2 0 3 1 2 2 1 2 3 3 0 0 1 2 2 2 1 2\n",
      " 1 0 2 3 0 0 3 0 3 0 0 3 3 0 3 0 0 0 0 3 3 2 0 0 0 0 3 0 2 3 2 3 3 2 3 1 0\n",
      " 2 0 0 1 1 1 2 2 0 0 3 0 1 2 0 3 1 0 0 3 0 1 0 3 3 0 1 2 2 2 3 0 1 3 3 1 3\n",
      " 0 1 0 0 2 1 0 2 0 3 1 0 2 1 2 1 3 0 2 3 1 1 1 2 1 3 2 2 2 2 3 1 0 0 0 0 2\n",
      " 1 2 1 0 1 3 0 3 0 3 3 1 2 0 2 1 1 0 2 1 0 2 2 1 0 3 1 3 0 2 1 1 1 1 2 2 1\n",
      " 3 1 0 1 1 0 3 0 3 3 0 2 3 0 3]\n"
     ]
    }
   ],
   "source": [
    "x_test = df_test.values[:, :-1]       #vsetko okrem price range\n",
    "x_test = x_test.astype('float32')     # input data as floats\n",
    "#x_test\n",
    "y_test = df_test.values[:, -1]  # price range\n",
    "y_test = y_test.astype('int')\n",
    "print(y_test)"
   ]
  },
  {
   "cell_type": "code",
   "execution_count": 23,
   "metadata": {},
   "outputs": [
    {
     "name": "stdout",
     "output_type": "stream",
     "text": [
      "(1620, 20) (180, 20) (1620,) (180,)\n",
      "[[0. 1. 0. 0.]\n",
      " [0. 0. 1. 0.]\n",
      " [0. 0. 1. 0.]\n",
      " ...\n",
      " [0. 0. 0. 1.]\n",
      " [0. 0. 1. 0.]\n",
      " [0. 0. 1. 0.]]\n"
     ]
    }
   ],
   "source": [
    "x_train,x_val,y_train,y_val = train_test_split(x_train,y_train,test_size=0.1,shuffle=False) #,random_state=52\n",
    "print(x_train.shape,x_val.shape,y_train.shape,y_val.shape)\n",
    "class_labels = [0, 1, 2, 3]\n",
    "y_cat_train = tf.keras.utils.to_categorical(y_train, num_classes=len(class_labels))\n",
    "y_cat_val = tf.keras.utils.to_categorical(y_val, num_classes=len(class_labels))\n",
    "y_cat_test = tf.keras.utils.to_categorical(y_test, num_classes=len(class_labels))\n",
    "print(y_cat_train)"
   ]
  },
  {
   "cell_type": "code",
   "execution_count": 24,
   "metadata": {},
   "outputs": [],
   "source": [
    "#Define Layers and Dropout of MLP\n",
    "hidden_size = 256\n",
    "model = keras.Sequential([\n",
    "    keras.layers.Dense(hidden_size,input_shape=(20,),activation='relu'),\n",
    "    keras.layers.Dropout(0.05),\n",
    "    keras.layers.Dense(hidden_size,activation='relu'),\n",
    "    keras.layers.Dropout(0.05),\n",
    "    keras.layers.Dense(hidden_size,activation='relu'),\n",
    "    keras.layers.Dropout(0.05),\n",
    "    keras.layers.Dense(hidden_size,activation='relu'),\n",
    "    keras.layers.Dropout(0.05),\n",
    "    keras.layers.Dense(4,activation='sigmoid') #activation='sigmoid'\n",
    "])\n"
   ]
  },
  {
   "cell_type": "code",
   "execution_count": 25,
   "metadata": {},
   "outputs": [],
   "source": [
    "#best learning rate\n",
    "lr = 0.03648030109469176\n",
    "#definition of optimizer\n",
    "optimizer = tf.keras.optimizers.Adam(learning_rate=lr)\n",
    "#configuration of model for training\n",
    "model.compile(optimizer=optimizer,\n",
    "              loss='categorical_crossentropy',\n",
    "              metrics=['accuracy','mse']\n",
    "              )"
   ]
  },
  {
   "cell_type": "code",
   "execution_count": 26,
   "metadata": {},
   "outputs": [
    {
     "name": "stderr",
     "output_type": "stream",
     "text": [
      "WARNING:absl:Found untraced functions such as _update_step_xla while saving (showing 1 of 1). These functions will not be directly callable after loading.\n"
     ]
    },
    {
     "name": "stdout",
     "output_type": "stream",
     "text": [
      "INFO:tensorflow:Assets written to: models\\assets\n"
     ]
    },
    {
     "name": "stderr",
     "output_type": "stream",
     "text": [
      "INFO:tensorflow:Assets written to: models\\assets\n",
      "wandb: Adding directory to artifact (.\\models)... Done. 0.1s\n",
      "WARNING:absl:Found untraced functions such as _update_step_xla while saving (showing 1 of 1). These functions will not be directly callable after loading.\n"
     ]
    },
    {
     "name": "stdout",
     "output_type": "stream",
     "text": [
      "INFO:tensorflow:Assets written to: models\\assets\n"
     ]
    },
    {
     "name": "stderr",
     "output_type": "stream",
     "text": [
      "INFO:tensorflow:Assets written to: models\\assets\n",
      "wandb: Adding directory to artifact (.\\models)... Done. 0.1s\n",
      "WARNING:absl:Found untraced functions such as _update_step_xla while saving (showing 1 of 1). These functions will not be directly callable after loading.\n"
     ]
    },
    {
     "name": "stdout",
     "output_type": "stream",
     "text": [
      "INFO:tensorflow:Assets written to: models\\assets\n"
     ]
    },
    {
     "name": "stderr",
     "output_type": "stream",
     "text": [
      "INFO:tensorflow:Assets written to: models\\assets\n",
      "wandb: Adding directory to artifact (.\\models)... Done. 0.0s\n",
      "WARNING:absl:Found untraced functions such as _update_step_xla while saving (showing 1 of 1). These functions will not be directly callable after loading.\n"
     ]
    },
    {
     "name": "stdout",
     "output_type": "stream",
     "text": [
      "INFO:tensorflow:Assets written to: models\\assets\n"
     ]
    },
    {
     "name": "stderr",
     "output_type": "stream",
     "text": [
      "INFO:tensorflow:Assets written to: models\\assets\n",
      "wandb: Adding directory to artifact (.\\models)... Done. 0.0s\n",
      "WARNING:absl:Found untraced functions such as _update_step_xla while saving (showing 1 of 1). These functions will not be directly callable after loading.\n"
     ]
    },
    {
     "name": "stdout",
     "output_type": "stream",
     "text": [
      "INFO:tensorflow:Assets written to: models\\assets\n"
     ]
    },
    {
     "name": "stderr",
     "output_type": "stream",
     "text": [
      "INFO:tensorflow:Assets written to: models\\assets\n",
      "wandb: Adding directory to artifact (.\\models)... Done. 0.0s\n",
      "WARNING:absl:Found untraced functions such as _update_step_xla while saving (showing 1 of 1). These functions will not be directly callable after loading.\n"
     ]
    },
    {
     "name": "stdout",
     "output_type": "stream",
     "text": [
      "INFO:tensorflow:Assets written to: models\\assets\n"
     ]
    },
    {
     "name": "stderr",
     "output_type": "stream",
     "text": [
      "INFO:tensorflow:Assets written to: models\\assets\n",
      "wandb: Adding directory to artifact (.\\models)... Done. 0.0s\n",
      "WARNING:absl:Found untraced functions such as _update_step_xla while saving (showing 1 of 1). These functions will not be directly callable after loading.\n"
     ]
    },
    {
     "name": "stdout",
     "output_type": "stream",
     "text": [
      "INFO:tensorflow:Assets written to: models\\assets\n"
     ]
    },
    {
     "name": "stderr",
     "output_type": "stream",
     "text": [
      "INFO:tensorflow:Assets written to: models\\assets\n",
      "wandb: Adding directory to artifact (.\\models)... Done. 0.0s\n",
      "WARNING:absl:Found untraced functions such as _update_step_xla while saving (showing 1 of 1). These functions will not be directly callable after loading.\n"
     ]
    },
    {
     "name": "stdout",
     "output_type": "stream",
     "text": [
      "INFO:tensorflow:Assets written to: models\\assets\n"
     ]
    },
    {
     "name": "stderr",
     "output_type": "stream",
     "text": [
      "INFO:tensorflow:Assets written to: models\\assets\n",
      "wandb: Adding directory to artifact (.\\models)... Done. 0.0s\n",
      "WARNING:absl:Found untraced functions such as _update_step_xla while saving (showing 1 of 1). These functions will not be directly callable after loading.\n"
     ]
    },
    {
     "name": "stdout",
     "output_type": "stream",
     "text": [
      "INFO:tensorflow:Assets written to: models\\assets\n"
     ]
    },
    {
     "name": "stderr",
     "output_type": "stream",
     "text": [
      "INFO:tensorflow:Assets written to: models\\assets\n",
      "wandb: Adding directory to artifact (.\\models)... Done. 0.0s\n",
      "WARNING:absl:Found untraced functions such as _update_step_xla while saving (showing 1 of 1). These functions will not be directly callable after loading.\n"
     ]
    },
    {
     "name": "stdout",
     "output_type": "stream",
     "text": [
      "INFO:tensorflow:Assets written to: models\\assets\n"
     ]
    },
    {
     "name": "stderr",
     "output_type": "stream",
     "text": [
      "INFO:tensorflow:Assets written to: models\\assets\n",
      "wandb: Adding directory to artifact (.\\models)... Done. 0.0s\n",
      "WARNING:absl:Found untraced functions such as _update_step_xla while saving (showing 1 of 1). These functions will not be directly callable after loading.\n"
     ]
    },
    {
     "name": "stdout",
     "output_type": "stream",
     "text": [
      "INFO:tensorflow:Assets written to: models\\assets\n"
     ]
    },
    {
     "name": "stderr",
     "output_type": "stream",
     "text": [
      "INFO:tensorflow:Assets written to: models\\assets\n",
      "wandb: Adding directory to artifact (.\\models)... Done. 0.0s\n",
      "WARNING:absl:Found untraced functions such as _update_step_xla while saving (showing 1 of 1). These functions will not be directly callable after loading.\n"
     ]
    },
    {
     "name": "stdout",
     "output_type": "stream",
     "text": [
      "INFO:tensorflow:Assets written to: models\\assets\n"
     ]
    },
    {
     "name": "stderr",
     "output_type": "stream",
     "text": [
      "INFO:tensorflow:Assets written to: models\\assets\n",
      "wandb: Adding directory to artifact (.\\models)... Done. 0.0s\n",
      "WARNING:absl:Found untraced functions such as _update_step_xla while saving (showing 1 of 1). These functions will not be directly callable after loading.\n"
     ]
    },
    {
     "name": "stdout",
     "output_type": "stream",
     "text": [
      "INFO:tensorflow:Assets written to: models\\assets\n"
     ]
    },
    {
     "name": "stderr",
     "output_type": "stream",
     "text": [
      "INFO:tensorflow:Assets written to: models\\assets\n",
      "wandb: Adding directory to artifact (.\\models)... Done. 0.0s\n",
      "WARNING:absl:Found untraced functions such as _update_step_xla while saving (showing 1 of 1). These functions will not be directly callable after loading.\n"
     ]
    },
    {
     "name": "stdout",
     "output_type": "stream",
     "text": [
      "INFO:tensorflow:Assets written to: models\\assets\n"
     ]
    },
    {
     "name": "stderr",
     "output_type": "stream",
     "text": [
      "INFO:tensorflow:Assets written to: models\\assets\n",
      "wandb: Adding directory to artifact (.\\models)... Done. 0.1s\n",
      "WARNING:absl:Found untraced functions such as _update_step_xla while saving (showing 1 of 1). These functions will not be directly callable after loading.\n"
     ]
    },
    {
     "name": "stdout",
     "output_type": "stream",
     "text": [
      "INFO:tensorflow:Assets written to: models\\assets\n"
     ]
    },
    {
     "name": "stderr",
     "output_type": "stream",
     "text": [
      "INFO:tensorflow:Assets written to: models\\assets\n",
      "wandb: Adding directory to artifact (.\\models)... Done. 0.0s\n",
      "WARNING:absl:Found untraced functions such as _update_step_xla while saving (showing 1 of 1). These functions will not be directly callable after loading.\n"
     ]
    },
    {
     "name": "stdout",
     "output_type": "stream",
     "text": [
      "INFO:tensorflow:Assets written to: models\\assets\n"
     ]
    },
    {
     "name": "stderr",
     "output_type": "stream",
     "text": [
      "INFO:tensorflow:Assets written to: models\\assets\n",
      "wandb: Adding directory to artifact (.\\models)... Done. 0.0s\n",
      "WARNING:absl:Found untraced functions such as _update_step_xla while saving (showing 1 of 1). These functions will not be directly callable after loading.\n"
     ]
    },
    {
     "name": "stdout",
     "output_type": "stream",
     "text": [
      "INFO:tensorflow:Assets written to: models\\assets\n"
     ]
    },
    {
     "name": "stderr",
     "output_type": "stream",
     "text": [
      "INFO:tensorflow:Assets written to: models\\assets\n",
      "wandb: Adding directory to artifact (.\\models)... Done. 0.0s\n",
      "WARNING:absl:Found untraced functions such as _update_step_xla while saving (showing 1 of 1). These functions will not be directly callable after loading.\n"
     ]
    },
    {
     "name": "stdout",
     "output_type": "stream",
     "text": [
      "INFO:tensorflow:Assets written to: models\\assets\n"
     ]
    },
    {
     "name": "stderr",
     "output_type": "stream",
     "text": [
      "INFO:tensorflow:Assets written to: models\\assets\n",
      "wandb: Adding directory to artifact (.\\models)... Done. 0.0s\n",
      "WARNING:absl:Found untraced functions such as _update_step_xla while saving (showing 1 of 1). These functions will not be directly callable after loading.\n"
     ]
    },
    {
     "name": "stdout",
     "output_type": "stream",
     "text": [
      "INFO:tensorflow:Assets written to: models\\assets\n"
     ]
    },
    {
     "name": "stderr",
     "output_type": "stream",
     "text": [
      "INFO:tensorflow:Assets written to: models\\assets\n",
      "wandb: Adding directory to artifact (.\\models)... Done. 0.0s\n",
      "WARNING:absl:Found untraced functions such as _update_step_xla while saving (showing 1 of 1). These functions will not be directly callable after loading.\n"
     ]
    },
    {
     "name": "stdout",
     "output_type": "stream",
     "text": [
      "INFO:tensorflow:Assets written to: models\\assets\n"
     ]
    },
    {
     "name": "stderr",
     "output_type": "stream",
     "text": [
      "INFO:tensorflow:Assets written to: models\\assets\n",
      "wandb: Adding directory to artifact (.\\models)... Done. 0.0s\n",
      "WARNING:absl:Found untraced functions such as _update_step_xla while saving (showing 1 of 1). These functions will not be directly callable after loading.\n"
     ]
    },
    {
     "name": "stdout",
     "output_type": "stream",
     "text": [
      "INFO:tensorflow:Assets written to: models\\assets\n"
     ]
    },
    {
     "name": "stderr",
     "output_type": "stream",
     "text": [
      "INFO:tensorflow:Assets written to: models\\assets\n",
      "wandb: Adding directory to artifact (.\\models)... Done. 0.0s\n",
      "WARNING:absl:Found untraced functions such as _update_step_xla while saving (showing 1 of 1). These functions will not be directly callable after loading.\n"
     ]
    },
    {
     "name": "stdout",
     "output_type": "stream",
     "text": [
      "INFO:tensorflow:Assets written to: models\\assets\n"
     ]
    },
    {
     "name": "stderr",
     "output_type": "stream",
     "text": [
      "INFO:tensorflow:Assets written to: models\\assets\n",
      "wandb: Adding directory to artifact (.\\models)... Done. 0.0s\n",
      "WARNING:absl:Found untraced functions such as _update_step_xla while saving (showing 1 of 1). These functions will not be directly callable after loading.\n"
     ]
    },
    {
     "name": "stdout",
     "output_type": "stream",
     "text": [
      "INFO:tensorflow:Assets written to: models\\assets\n"
     ]
    },
    {
     "name": "stderr",
     "output_type": "stream",
     "text": [
      "INFO:tensorflow:Assets written to: models\\assets\n",
      "wandb: Adding directory to artifact (.\\models)... Done. 0.0s\n",
      "WARNING:absl:Found untraced functions such as _update_step_xla while saving (showing 1 of 1). These functions will not be directly callable after loading.\n"
     ]
    },
    {
     "name": "stdout",
     "output_type": "stream",
     "text": [
      "INFO:tensorflow:Assets written to: models\\assets\n"
     ]
    },
    {
     "name": "stderr",
     "output_type": "stream",
     "text": [
      "INFO:tensorflow:Assets written to: models\\assets\n",
      "wandb: Adding directory to artifact (.\\models)... Done. 0.0s\n",
      "WARNING:absl:Found untraced functions such as _update_step_xla while saving (showing 1 of 1). These functions will not be directly callable after loading.\n"
     ]
    },
    {
     "name": "stdout",
     "output_type": "stream",
     "text": [
      "INFO:tensorflow:Assets written to: models\\assets\n"
     ]
    },
    {
     "name": "stderr",
     "output_type": "stream",
     "text": [
      "INFO:tensorflow:Assets written to: models\\assets\n",
      "wandb: Adding directory to artifact (.\\models)... Done. 0.0s\n",
      "WARNING:absl:Found untraced functions such as _update_step_xla while saving (showing 1 of 1). These functions will not be directly callable after loading.\n"
     ]
    },
    {
     "name": "stdout",
     "output_type": "stream",
     "text": [
      "INFO:tensorflow:Assets written to: models\\assets\n"
     ]
    },
    {
     "name": "stderr",
     "output_type": "stream",
     "text": [
      "INFO:tensorflow:Assets written to: models\\assets\n",
      "wandb: Adding directory to artifact (.\\models)... Done. 0.0s\n",
      "WARNING:absl:Found untraced functions such as _update_step_xla while saving (showing 1 of 1). These functions will not be directly callable after loading.\n"
     ]
    },
    {
     "name": "stdout",
     "output_type": "stream",
     "text": [
      "INFO:tensorflow:Assets written to: models\\assets\n"
     ]
    },
    {
     "name": "stderr",
     "output_type": "stream",
     "text": [
      "INFO:tensorflow:Assets written to: models\\assets\n",
      "wandb: Adding directory to artifact (.\\models)... Done. 0.0s\n",
      "WARNING:absl:Found untraced functions such as _update_step_xla while saving (showing 1 of 1). These functions will not be directly callable after loading.\n"
     ]
    },
    {
     "name": "stdout",
     "output_type": "stream",
     "text": [
      "INFO:tensorflow:Assets written to: models\\assets\n"
     ]
    },
    {
     "name": "stderr",
     "output_type": "stream",
     "text": [
      "INFO:tensorflow:Assets written to: models\\assets\n",
      "wandb: Adding directory to artifact (.\\models)... Done. 0.0s\n",
      "WARNING:absl:Found untraced functions such as _update_step_xla while saving (showing 1 of 1). These functions will not be directly callable after loading.\n"
     ]
    },
    {
     "name": "stdout",
     "output_type": "stream",
     "text": [
      "INFO:tensorflow:Assets written to: models\\assets\n"
     ]
    },
    {
     "name": "stderr",
     "output_type": "stream",
     "text": [
      "INFO:tensorflow:Assets written to: models\\assets\n",
      "wandb: Adding directory to artifact (.\\models)... Done. 0.0s\n",
      "WARNING:absl:Found untraced functions such as _update_step_xla while saving (showing 1 of 1). These functions will not be directly callable after loading.\n"
     ]
    },
    {
     "name": "stdout",
     "output_type": "stream",
     "text": [
      "INFO:tensorflow:Assets written to: models\\assets\n"
     ]
    },
    {
     "name": "stderr",
     "output_type": "stream",
     "text": [
      "INFO:tensorflow:Assets written to: models\\assets\n",
      "wandb: Adding directory to artifact (.\\models)... Done. 0.0s\n",
      "WARNING:absl:Found untraced functions such as _update_step_xla while saving (showing 1 of 1). These functions will not be directly callable after loading.\n"
     ]
    },
    {
     "name": "stdout",
     "output_type": "stream",
     "text": [
      "INFO:tensorflow:Assets written to: models\\assets\n"
     ]
    },
    {
     "name": "stderr",
     "output_type": "stream",
     "text": [
      "INFO:tensorflow:Assets written to: models\\assets\n",
      "wandb: Adding directory to artifact (.\\models)... Done. 0.0s\n",
      "WARNING:absl:Found untraced functions such as _update_step_xla while saving (showing 1 of 1). These functions will not be directly callable after loading.\n"
     ]
    },
    {
     "name": "stdout",
     "output_type": "stream",
     "text": [
      "INFO:tensorflow:Assets written to: models\\assets\n"
     ]
    },
    {
     "name": "stderr",
     "output_type": "stream",
     "text": [
      "INFO:tensorflow:Assets written to: models\\assets\n",
      "wandb: Adding directory to artifact (.\\models)... Done. 0.0s\n",
      "WARNING:absl:Found untraced functions such as _update_step_xla while saving (showing 1 of 1). These functions will not be directly callable after loading.\n"
     ]
    },
    {
     "name": "stdout",
     "output_type": "stream",
     "text": [
      "INFO:tensorflow:Assets written to: models\\assets\n"
     ]
    },
    {
     "name": "stderr",
     "output_type": "stream",
     "text": [
      "INFO:tensorflow:Assets written to: models\\assets\n",
      "wandb: Adding directory to artifact (.\\models)... Done. 0.0s\n",
      "WARNING:absl:Found untraced functions such as _update_step_xla while saving (showing 1 of 1). These functions will not be directly callable after loading.\n"
     ]
    },
    {
     "name": "stdout",
     "output_type": "stream",
     "text": [
      "INFO:tensorflow:Assets written to: models\\assets\n"
     ]
    },
    {
     "name": "stderr",
     "output_type": "stream",
     "text": [
      "INFO:tensorflow:Assets written to: models\\assets\n",
      "wandb: Adding directory to artifact (.\\models)... Done. 0.0s\n",
      "WARNING:absl:Found untraced functions such as _update_step_xla while saving (showing 1 of 1). These functions will not be directly callable after loading.\n"
     ]
    },
    {
     "name": "stdout",
     "output_type": "stream",
     "text": [
      "INFO:tensorflow:Assets written to: models\\assets\n"
     ]
    },
    {
     "name": "stderr",
     "output_type": "stream",
     "text": [
      "INFO:tensorflow:Assets written to: models\\assets\n",
      "wandb: Adding directory to artifact (.\\models)... Done. 0.0s\n",
      "WARNING:absl:Found untraced functions such as _update_step_xla while saving (showing 1 of 1). These functions will not be directly callable after loading.\n"
     ]
    },
    {
     "name": "stdout",
     "output_type": "stream",
     "text": [
      "INFO:tensorflow:Assets written to: models\\assets\n"
     ]
    },
    {
     "name": "stderr",
     "output_type": "stream",
     "text": [
      "INFO:tensorflow:Assets written to: models\\assets\n",
      "wandb: Adding directory to artifact (.\\models)... Done. 0.0s\n",
      "WARNING:absl:Found untraced functions such as _update_step_xla while saving (showing 1 of 1). These functions will not be directly callable after loading.\n"
     ]
    },
    {
     "name": "stdout",
     "output_type": "stream",
     "text": [
      "INFO:tensorflow:Assets written to: models\\assets\n"
     ]
    },
    {
     "name": "stderr",
     "output_type": "stream",
     "text": [
      "INFO:tensorflow:Assets written to: models\\assets\n",
      "wandb: Adding directory to artifact (.\\models)... Done. 0.0s\n",
      "WARNING:absl:Found untraced functions such as _update_step_xla while saving (showing 1 of 1). These functions will not be directly callable after loading.\n"
     ]
    },
    {
     "name": "stdout",
     "output_type": "stream",
     "text": [
      "INFO:tensorflow:Assets written to: models\\assets\n"
     ]
    },
    {
     "name": "stderr",
     "output_type": "stream",
     "text": [
      "INFO:tensorflow:Assets written to: models\\assets\n",
      "wandb: Adding directory to artifact (.\\models)... Done. 0.1s\n",
      "WARNING:absl:Found untraced functions such as _update_step_xla while saving (showing 1 of 1). These functions will not be directly callable after loading.\n"
     ]
    },
    {
     "name": "stdout",
     "output_type": "stream",
     "text": [
      "INFO:tensorflow:Assets written to: models\\assets\n"
     ]
    },
    {
     "name": "stderr",
     "output_type": "stream",
     "text": [
      "INFO:tensorflow:Assets written to: models\\assets\n",
      "wandb: Adding directory to artifact (.\\models)... Done. 0.0s\n",
      "WARNING:absl:Found untraced functions such as _update_step_xla while saving (showing 1 of 1). These functions will not be directly callable after loading.\n"
     ]
    },
    {
     "name": "stdout",
     "output_type": "stream",
     "text": [
      "INFO:tensorflow:Assets written to: models\\assets\n"
     ]
    },
    {
     "name": "stderr",
     "output_type": "stream",
     "text": [
      "INFO:tensorflow:Assets written to: models\\assets\n",
      "wandb: Adding directory to artifact (.\\models)... Done. 0.0s\n",
      "WARNING:absl:Found untraced functions such as _update_step_xla while saving (showing 1 of 1). These functions will not be directly callable after loading.\n"
     ]
    },
    {
     "name": "stdout",
     "output_type": "stream",
     "text": [
      "INFO:tensorflow:Assets written to: models\\assets\n"
     ]
    },
    {
     "name": "stderr",
     "output_type": "stream",
     "text": [
      "INFO:tensorflow:Assets written to: models\\assets\n",
      "wandb: Adding directory to artifact (.\\models)... Done. 0.0s\n",
      "WARNING:absl:Found untraced functions such as _update_step_xla while saving (showing 1 of 1). These functions will not be directly callable after loading.\n"
     ]
    },
    {
     "name": "stdout",
     "output_type": "stream",
     "text": [
      "INFO:tensorflow:Assets written to: models\\assets\n"
     ]
    },
    {
     "name": "stderr",
     "output_type": "stream",
     "text": [
      "INFO:tensorflow:Assets written to: models\\assets\n",
      "wandb: Adding directory to artifact (.\\models)... Done. 0.0s\n",
      "WARNING:absl:Found untraced functions such as _update_step_xla while saving (showing 1 of 1). These functions will not be directly callable after loading.\n"
     ]
    },
    {
     "name": "stdout",
     "output_type": "stream",
     "text": [
      "INFO:tensorflow:Assets written to: models\\assets\n"
     ]
    },
    {
     "name": "stderr",
     "output_type": "stream",
     "text": [
      "INFO:tensorflow:Assets written to: models\\assets\n",
      "wandb: Adding directory to artifact (.\\models)... Done. 0.1s\n",
      "WARNING:absl:Found untraced functions such as _update_step_xla while saving (showing 1 of 1). These functions will not be directly callable after loading.\n"
     ]
    },
    {
     "name": "stdout",
     "output_type": "stream",
     "text": [
      "INFO:tensorflow:Assets written to: models\\assets\n"
     ]
    },
    {
     "name": "stderr",
     "output_type": "stream",
     "text": [
      "INFO:tensorflow:Assets written to: models\\assets\n",
      "wandb: Adding directory to artifact (.\\models)... Done. 0.1s\n",
      "WARNING:absl:Found untraced functions such as _update_step_xla while saving (showing 1 of 1). These functions will not be directly callable after loading.\n"
     ]
    },
    {
     "name": "stdout",
     "output_type": "stream",
     "text": [
      "INFO:tensorflow:Assets written to: models\\assets\n"
     ]
    },
    {
     "name": "stderr",
     "output_type": "stream",
     "text": [
      "INFO:tensorflow:Assets written to: models\\assets\n",
      "wandb: Adding directory to artifact (.\\models)... Done. 0.0s\n",
      "WARNING:absl:Found untraced functions such as _update_step_xla while saving (showing 1 of 1). These functions will not be directly callable after loading.\n"
     ]
    },
    {
     "name": "stdout",
     "output_type": "stream",
     "text": [
      "INFO:tensorflow:Assets written to: models\\assets\n"
     ]
    },
    {
     "name": "stderr",
     "output_type": "stream",
     "text": [
      "INFO:tensorflow:Assets written to: models\\assets\n",
      "wandb: Adding directory to artifact (.\\models)... Done. 0.0s\n",
      "WARNING:absl:Found untraced functions such as _update_step_xla while saving (showing 1 of 1). These functions will not be directly callable after loading.\n"
     ]
    },
    {
     "name": "stdout",
     "output_type": "stream",
     "text": [
      "INFO:tensorflow:Assets written to: models\\assets\n"
     ]
    },
    {
     "name": "stderr",
     "output_type": "stream",
     "text": [
      "INFO:tensorflow:Assets written to: models\\assets\n",
      "wandb: Adding directory to artifact (.\\models)... Done. 0.0s\n",
      "WARNING:absl:Found untraced functions such as _update_step_xla while saving (showing 1 of 1). These functions will not be directly callable after loading.\n"
     ]
    },
    {
     "name": "stdout",
     "output_type": "stream",
     "text": [
      "INFO:tensorflow:Assets written to: models\\assets\n"
     ]
    },
    {
     "name": "stderr",
     "output_type": "stream",
     "text": [
      "INFO:tensorflow:Assets written to: models\\assets\n",
      "wandb: Adding directory to artifact (.\\models)... Done. 0.0s\n",
      "WARNING:absl:Found untraced functions such as _update_step_xla while saving (showing 1 of 1). These functions will not be directly callable after loading.\n"
     ]
    },
    {
     "name": "stdout",
     "output_type": "stream",
     "text": [
      "INFO:tensorflow:Assets written to: models\\assets\n"
     ]
    },
    {
     "name": "stderr",
     "output_type": "stream",
     "text": [
      "INFO:tensorflow:Assets written to: models\\assets\n",
      "wandb: Adding directory to artifact (.\\models)... Done. 0.0s\n",
      "WARNING:absl:Found untraced functions such as _update_step_xla while saving (showing 1 of 1). These functions will not be directly callable after loading.\n"
     ]
    },
    {
     "name": "stdout",
     "output_type": "stream",
     "text": [
      "INFO:tensorflow:Assets written to: models\\assets\n"
     ]
    },
    {
     "name": "stderr",
     "output_type": "stream",
     "text": [
      "INFO:tensorflow:Assets written to: models\\assets\n",
      "wandb: Adding directory to artifact (.\\models)... Done. 0.1s\n",
      "WARNING:absl:Found untraced functions such as _update_step_xla while saving (showing 1 of 1). These functions will not be directly callable after loading.\n"
     ]
    },
    {
     "name": "stdout",
     "output_type": "stream",
     "text": [
      "INFO:tensorflow:Assets written to: models\\assets\n"
     ]
    },
    {
     "name": "stderr",
     "output_type": "stream",
     "text": [
      "INFO:tensorflow:Assets written to: models\\assets\n",
      "wandb: Adding directory to artifact (.\\models)... Done. 0.1s\n",
      "WARNING:absl:Found untraced functions such as _update_step_xla while saving (showing 1 of 1). These functions will not be directly callable after loading.\n"
     ]
    },
    {
     "name": "stdout",
     "output_type": "stream",
     "text": [
      "INFO:tensorflow:Assets written to: models\\assets\n"
     ]
    },
    {
     "name": "stderr",
     "output_type": "stream",
     "text": [
      "INFO:tensorflow:Assets written to: models\\assets\n",
      "wandb: Adding directory to artifact (.\\models)... Done. 0.0s\n",
      "WARNING:absl:Found untraced functions such as _update_step_xla while saving (showing 1 of 1). These functions will not be directly callable after loading.\n"
     ]
    },
    {
     "name": "stdout",
     "output_type": "stream",
     "text": [
      "INFO:tensorflow:Assets written to: models\\assets\n"
     ]
    },
    {
     "name": "stderr",
     "output_type": "stream",
     "text": [
      "INFO:tensorflow:Assets written to: models\\assets\n",
      "wandb: Adding directory to artifact (.\\models)... Done. 0.0s\n",
      "WARNING:absl:Found untraced functions such as _update_step_xla while saving (showing 1 of 1). These functions will not be directly callable after loading.\n"
     ]
    },
    {
     "name": "stdout",
     "output_type": "stream",
     "text": [
      "INFO:tensorflow:Assets written to: models\\assets\n"
     ]
    },
    {
     "name": "stderr",
     "output_type": "stream",
     "text": [
      "INFO:tensorflow:Assets written to: models\\assets\n",
      "wandb: Adding directory to artifact (.\\models)... Done. 0.1s\n",
      "WARNING:absl:Found untraced functions such as _update_step_xla while saving (showing 1 of 1). These functions will not be directly callable after loading.\n"
     ]
    },
    {
     "name": "stdout",
     "output_type": "stream",
     "text": [
      "INFO:tensorflow:Assets written to: models\\assets\n"
     ]
    },
    {
     "name": "stderr",
     "output_type": "stream",
     "text": [
      "INFO:tensorflow:Assets written to: models\\assets\n",
      "wandb: Adding directory to artifact (.\\models)... Done. 0.0s\n",
      "WARNING:absl:Found untraced functions such as _update_step_xla while saving (showing 1 of 1). These functions will not be directly callable after loading.\n"
     ]
    },
    {
     "name": "stdout",
     "output_type": "stream",
     "text": [
      "INFO:tensorflow:Assets written to: models\\assets\n"
     ]
    },
    {
     "name": "stderr",
     "output_type": "stream",
     "text": [
      "INFO:tensorflow:Assets written to: models\\assets\n",
      "wandb: Adding directory to artifact (.\\models)... Done. 0.0s\n",
      "WARNING:absl:Found untraced functions such as _update_step_xla while saving (showing 1 of 1). These functions will not be directly callable after loading.\n"
     ]
    },
    {
     "name": "stdout",
     "output_type": "stream",
     "text": [
      "INFO:tensorflow:Assets written to: models\\assets\n"
     ]
    },
    {
     "name": "stderr",
     "output_type": "stream",
     "text": [
      "INFO:tensorflow:Assets written to: models\\assets\n",
      "wandb: Adding directory to artifact (.\\models)... Done. 0.0s\n",
      "WARNING:absl:Found untraced functions such as _update_step_xla while saving (showing 1 of 1). These functions will not be directly callable after loading.\n"
     ]
    },
    {
     "name": "stdout",
     "output_type": "stream",
     "text": [
      "INFO:tensorflow:Assets written to: models\\assets\n"
     ]
    },
    {
     "name": "stderr",
     "output_type": "stream",
     "text": [
      "INFO:tensorflow:Assets written to: models\\assets\n",
      "wandb: Adding directory to artifact (.\\models)... Done. 0.0s\n",
      "WARNING:absl:Found untraced functions such as _update_step_xla while saving (showing 1 of 1). These functions will not be directly callable after loading.\n"
     ]
    },
    {
     "name": "stdout",
     "output_type": "stream",
     "text": [
      "INFO:tensorflow:Assets written to: models\\assets\n"
     ]
    },
    {
     "name": "stderr",
     "output_type": "stream",
     "text": [
      "INFO:tensorflow:Assets written to: models\\assets\n",
      "wandb: Adding directory to artifact (.\\models)... Done. 0.0s\n",
      "WARNING:absl:Found untraced functions such as _update_step_xla while saving (showing 1 of 1). These functions will not be directly callable after loading.\n"
     ]
    },
    {
     "name": "stdout",
     "output_type": "stream",
     "text": [
      "INFO:tensorflow:Assets written to: models\\assets\n"
     ]
    },
    {
     "name": "stderr",
     "output_type": "stream",
     "text": [
      "INFO:tensorflow:Assets written to: models\\assets\n",
      "wandb: Adding directory to artifact (.\\models)... Done. 0.0s\n",
      "WARNING:absl:Found untraced functions such as _update_step_xla while saving (showing 1 of 1). These functions will not be directly callable after loading.\n"
     ]
    },
    {
     "name": "stdout",
     "output_type": "stream",
     "text": [
      "INFO:tensorflow:Assets written to: models\\assets\n"
     ]
    },
    {
     "name": "stderr",
     "output_type": "stream",
     "text": [
      "INFO:tensorflow:Assets written to: models\\assets\n",
      "wandb: Adding directory to artifact (.\\models)... Done. 0.0s\n",
      "WARNING:absl:Found untraced functions such as _update_step_xla while saving (showing 1 of 1). These functions will not be directly callable after loading.\n"
     ]
    },
    {
     "name": "stdout",
     "output_type": "stream",
     "text": [
      "INFO:tensorflow:Assets written to: models\\assets\n"
     ]
    },
    {
     "name": "stderr",
     "output_type": "stream",
     "text": [
      "INFO:tensorflow:Assets written to: models\\assets\n",
      "wandb: Adding directory to artifact (.\\models)... Done. 0.0s\n",
      "WARNING:absl:Found untraced functions such as _update_step_xla while saving (showing 1 of 1). These functions will not be directly callable after loading.\n"
     ]
    },
    {
     "name": "stdout",
     "output_type": "stream",
     "text": [
      "INFO:tensorflow:Assets written to: models\\assets\n"
     ]
    },
    {
     "name": "stderr",
     "output_type": "stream",
     "text": [
      "INFO:tensorflow:Assets written to: models\\assets\n",
      "wandb: Adding directory to artifact (.\\models)... Done. 0.0s\n",
      "WARNING:absl:Found untraced functions such as _update_step_xla while saving (showing 1 of 1). These functions will not be directly callable after loading.\n"
     ]
    },
    {
     "name": "stdout",
     "output_type": "stream",
     "text": [
      "INFO:tensorflow:Assets written to: models\\assets\n"
     ]
    },
    {
     "name": "stderr",
     "output_type": "stream",
     "text": [
      "INFO:tensorflow:Assets written to: models\\assets\n",
      "wandb: Adding directory to artifact (.\\models)... Done. 0.0s\n",
      "WARNING:absl:Found untraced functions such as _update_step_xla while saving (showing 1 of 1). These functions will not be directly callable after loading.\n"
     ]
    },
    {
     "name": "stdout",
     "output_type": "stream",
     "text": [
      "INFO:tensorflow:Assets written to: models\\assets\n"
     ]
    },
    {
     "name": "stderr",
     "output_type": "stream",
     "text": [
      "INFO:tensorflow:Assets written to: models\\assets\n",
      "wandb: Adding directory to artifact (.\\models)... Done. 0.0s\n",
      "WARNING:absl:Found untraced functions such as _update_step_xla while saving (showing 1 of 1). These functions will not be directly callable after loading.\n"
     ]
    },
    {
     "name": "stdout",
     "output_type": "stream",
     "text": [
      "INFO:tensorflow:Assets written to: models\\assets\n"
     ]
    },
    {
     "name": "stderr",
     "output_type": "stream",
     "text": [
      "INFO:tensorflow:Assets written to: models\\assets\n",
      "wandb: Adding directory to artifact (.\\models)... Done. 0.0s\n",
      "WARNING:absl:Found untraced functions such as _update_step_xla while saving (showing 1 of 1). These functions will not be directly callable after loading.\n"
     ]
    },
    {
     "name": "stdout",
     "output_type": "stream",
     "text": [
      "INFO:tensorflow:Assets written to: models\\assets\n"
     ]
    },
    {
     "name": "stderr",
     "output_type": "stream",
     "text": [
      "INFO:tensorflow:Assets written to: models\\assets\n",
      "wandb: Adding directory to artifact (.\\models)... Done. 0.0s\n",
      "WARNING:absl:Found untraced functions such as _update_step_xla while saving (showing 1 of 1). These functions will not be directly callable after loading.\n"
     ]
    },
    {
     "name": "stdout",
     "output_type": "stream",
     "text": [
      "INFO:tensorflow:Assets written to: models\\assets\n"
     ]
    },
    {
     "name": "stderr",
     "output_type": "stream",
     "text": [
      "INFO:tensorflow:Assets written to: models\\assets\n",
      "wandb: Adding directory to artifact (.\\models)... Done. 0.0s\n",
      "WARNING:absl:Found untraced functions such as _update_step_xla while saving (showing 1 of 1). These functions will not be directly callable after loading.\n"
     ]
    },
    {
     "name": "stdout",
     "output_type": "stream",
     "text": [
      "INFO:tensorflow:Assets written to: models\\assets\n"
     ]
    },
    {
     "name": "stderr",
     "output_type": "stream",
     "text": [
      "INFO:tensorflow:Assets written to: models\\assets\n",
      "wandb: Adding directory to artifact (.\\models)... Done. 0.0s\n",
      "WARNING:absl:Found untraced functions such as _update_step_xla while saving (showing 1 of 1). These functions will not be directly callable after loading.\n"
     ]
    },
    {
     "name": "stdout",
     "output_type": "stream",
     "text": [
      "INFO:tensorflow:Assets written to: models\\assets\n"
     ]
    },
    {
     "name": "stderr",
     "output_type": "stream",
     "text": [
      "INFO:tensorflow:Assets written to: models\\assets\n",
      "wandb: Adding directory to artifact (.\\models)... Done. 0.0s\n",
      "WARNING:absl:Found untraced functions such as _update_step_xla while saving (showing 1 of 1). These functions will not be directly callable after loading.\n"
     ]
    },
    {
     "name": "stdout",
     "output_type": "stream",
     "text": [
      "INFO:tensorflow:Assets written to: models\\assets\n"
     ]
    },
    {
     "name": "stderr",
     "output_type": "stream",
     "text": [
      "INFO:tensorflow:Assets written to: models\\assets\n",
      "wandb: Adding directory to artifact (.\\models)... Done. 0.0s\n",
      "WARNING:absl:Found untraced functions such as _update_step_xla while saving (showing 1 of 1). These functions will not be directly callable after loading.\n"
     ]
    },
    {
     "name": "stdout",
     "output_type": "stream",
     "text": [
      "INFO:tensorflow:Assets written to: models\\assets\n"
     ]
    },
    {
     "name": "stderr",
     "output_type": "stream",
     "text": [
      "INFO:tensorflow:Assets written to: models\\assets\n",
      "wandb: Adding directory to artifact (.\\models)... Done. 0.0s\n",
      "WARNING:absl:Found untraced functions such as _update_step_xla while saving (showing 1 of 1). These functions will not be directly callable after loading.\n"
     ]
    },
    {
     "name": "stdout",
     "output_type": "stream",
     "text": [
      "INFO:tensorflow:Assets written to: models\\assets\n"
     ]
    },
    {
     "name": "stderr",
     "output_type": "stream",
     "text": [
      "INFO:tensorflow:Assets written to: models\\assets\n",
      "wandb: Adding directory to artifact (.\\models)... Done. 0.0s\n",
      "WARNING:absl:Found untraced functions such as _update_step_xla while saving (showing 1 of 1). These functions will not be directly callable after loading.\n"
     ]
    },
    {
     "name": "stdout",
     "output_type": "stream",
     "text": [
      "INFO:tensorflow:Assets written to: models\\assets\n"
     ]
    },
    {
     "name": "stderr",
     "output_type": "stream",
     "text": [
      "INFO:tensorflow:Assets written to: models\\assets\n",
      "wandb: Adding directory to artifact (.\\models)... Done. 0.0s\n",
      "WARNING:absl:Found untraced functions such as _update_step_xla while saving (showing 1 of 1). These functions will not be directly callable after loading.\n"
     ]
    },
    {
     "name": "stdout",
     "output_type": "stream",
     "text": [
      "INFO:tensorflow:Assets written to: models\\assets\n"
     ]
    },
    {
     "name": "stderr",
     "output_type": "stream",
     "text": [
      "INFO:tensorflow:Assets written to: models\\assets\n",
      "wandb: Adding directory to artifact (.\\models)... Done. 0.0s\n",
      "WARNING:absl:Found untraced functions such as _update_step_xla while saving (showing 1 of 1). These functions will not be directly callable after loading.\n"
     ]
    },
    {
     "name": "stdout",
     "output_type": "stream",
     "text": [
      "INFO:tensorflow:Assets written to: models\\assets\n"
     ]
    },
    {
     "name": "stderr",
     "output_type": "stream",
     "text": [
      "INFO:tensorflow:Assets written to: models\\assets\n",
      "wandb: Adding directory to artifact (.\\models)... Done. 0.0s\n",
      "WARNING:absl:Found untraced functions such as _update_step_xla while saving (showing 1 of 1). These functions will not be directly callable after loading.\n"
     ]
    },
    {
     "name": "stdout",
     "output_type": "stream",
     "text": [
      "INFO:tensorflow:Assets written to: models\\assets\n"
     ]
    },
    {
     "name": "stderr",
     "output_type": "stream",
     "text": [
      "INFO:tensorflow:Assets written to: models\\assets\n",
      "wandb: Adding directory to artifact (.\\models)... Done. 0.0s\n",
      "WARNING:absl:Found untraced functions such as _update_step_xla while saving (showing 1 of 1). These functions will not be directly callable after loading.\n"
     ]
    },
    {
     "name": "stdout",
     "output_type": "stream",
     "text": [
      "INFO:tensorflow:Assets written to: models\\assets\n"
     ]
    },
    {
     "name": "stderr",
     "output_type": "stream",
     "text": [
      "INFO:tensorflow:Assets written to: models\\assets\n",
      "wandb: Adding directory to artifact (.\\models)... Done. 0.0s\n",
      "WARNING:absl:Found untraced functions such as _update_step_xla while saving (showing 1 of 1). These functions will not be directly callable after loading.\n"
     ]
    },
    {
     "name": "stdout",
     "output_type": "stream",
     "text": [
      "INFO:tensorflow:Assets written to: models\\assets\n"
     ]
    },
    {
     "name": "stderr",
     "output_type": "stream",
     "text": [
      "INFO:tensorflow:Assets written to: models\\assets\n",
      "wandb: Adding directory to artifact (.\\models)... Done. 0.0s\n",
      "WARNING:absl:Found untraced functions such as _update_step_xla while saving (showing 1 of 1). These functions will not be directly callable after loading.\n"
     ]
    },
    {
     "name": "stdout",
     "output_type": "stream",
     "text": [
      "INFO:tensorflow:Assets written to: models\\assets\n"
     ]
    },
    {
     "name": "stderr",
     "output_type": "stream",
     "text": [
      "INFO:tensorflow:Assets written to: models\\assets\n",
      "wandb: Adding directory to artifact (.\\models)... Done. 0.0s\n",
      "WARNING:absl:Found untraced functions such as _update_step_xla while saving (showing 1 of 1). These functions will not be directly callable after loading.\n"
     ]
    },
    {
     "name": "stdout",
     "output_type": "stream",
     "text": [
      "INFO:tensorflow:Assets written to: models\\assets\n"
     ]
    },
    {
     "name": "stderr",
     "output_type": "stream",
     "text": [
      "INFO:tensorflow:Assets written to: models\\assets\n",
      "wandb: Adding directory to artifact (.\\models)... Done. 0.1s\n",
      "WARNING:absl:Found untraced functions such as _update_step_xla while saving (showing 1 of 1). These functions will not be directly callable after loading.\n"
     ]
    },
    {
     "name": "stdout",
     "output_type": "stream",
     "text": [
      "INFO:tensorflow:Assets written to: models\\assets\n"
     ]
    },
    {
     "name": "stderr",
     "output_type": "stream",
     "text": [
      "INFO:tensorflow:Assets written to: models\\assets\n",
      "wandb: Adding directory to artifact (.\\models)... Done. 0.0s\n",
      "WARNING:absl:Found untraced functions such as _update_step_xla while saving (showing 1 of 1). These functions will not be directly callable after loading.\n"
     ]
    },
    {
     "name": "stdout",
     "output_type": "stream",
     "text": [
      "INFO:tensorflow:Assets written to: models\\assets\n"
     ]
    },
    {
     "name": "stderr",
     "output_type": "stream",
     "text": [
      "INFO:tensorflow:Assets written to: models\\assets\n",
      "wandb: Adding directory to artifact (.\\models)... Done. 0.0s\n",
      "WARNING:absl:Found untraced functions such as _update_step_xla while saving (showing 1 of 1). These functions will not be directly callable after loading.\n"
     ]
    },
    {
     "name": "stdout",
     "output_type": "stream",
     "text": [
      "INFO:tensorflow:Assets written to: models\\assets\n"
     ]
    },
    {
     "name": "stderr",
     "output_type": "stream",
     "text": [
      "INFO:tensorflow:Assets written to: models\\assets\n",
      "wandb: Adding directory to artifact (.\\models)... Done. 0.0s\n",
      "WARNING:absl:Found untraced functions such as _update_step_xla while saving (showing 1 of 1). These functions will not be directly callable after loading.\n"
     ]
    },
    {
     "name": "stdout",
     "output_type": "stream",
     "text": [
      "INFO:tensorflow:Assets written to: models\\assets\n"
     ]
    },
    {
     "name": "stderr",
     "output_type": "stream",
     "text": [
      "INFO:tensorflow:Assets written to: models\\assets\n",
      "wandb: Adding directory to artifact (.\\models)... Done. 0.0s\n",
      "WARNING:absl:Found untraced functions such as _update_step_xla while saving (showing 1 of 1). These functions will not be directly callable after loading.\n"
     ]
    },
    {
     "name": "stdout",
     "output_type": "stream",
     "text": [
      "INFO:tensorflow:Assets written to: models\\assets\n"
     ]
    },
    {
     "name": "stderr",
     "output_type": "stream",
     "text": [
      "INFO:tensorflow:Assets written to: models\\assets\n",
      "wandb: Adding directory to artifact (.\\models)... Done. 0.0s\n",
      "WARNING:absl:Found untraced functions such as _update_step_xla while saving (showing 1 of 1). These functions will not be directly callable after loading.\n"
     ]
    },
    {
     "name": "stdout",
     "output_type": "stream",
     "text": [
      "INFO:tensorflow:Assets written to: models\\assets\n"
     ]
    },
    {
     "name": "stderr",
     "output_type": "stream",
     "text": [
      "INFO:tensorflow:Assets written to: models\\assets\n",
      "wandb: Adding directory to artifact (.\\models)... Done. 0.1s\n",
      "WARNING:absl:Found untraced functions such as _update_step_xla while saving (showing 1 of 1). These functions will not be directly callable after loading.\n"
     ]
    },
    {
     "name": "stdout",
     "output_type": "stream",
     "text": [
      "INFO:tensorflow:Assets written to: models\\assets\n"
     ]
    },
    {
     "name": "stderr",
     "output_type": "stream",
     "text": [
      "INFO:tensorflow:Assets written to: models\\assets\n",
      "wandb: Adding directory to artifact (.\\models)... Done. 0.0s\n",
      "WARNING:absl:Found untraced functions such as _update_step_xla while saving (showing 1 of 1). These functions will not be directly callable after loading.\n"
     ]
    },
    {
     "name": "stdout",
     "output_type": "stream",
     "text": [
      "INFO:tensorflow:Assets written to: models\\assets\n"
     ]
    },
    {
     "name": "stderr",
     "output_type": "stream",
     "text": [
      "INFO:tensorflow:Assets written to: models\\assets\n",
      "wandb: Adding directory to artifact (.\\models)... Done. 0.0s\n",
      "WARNING:absl:Found untraced functions such as _update_step_xla while saving (showing 1 of 1). These functions will not be directly callable after loading.\n"
     ]
    },
    {
     "name": "stdout",
     "output_type": "stream",
     "text": [
      "INFO:tensorflow:Assets written to: models\\assets\n"
     ]
    },
    {
     "name": "stderr",
     "output_type": "stream",
     "text": [
      "INFO:tensorflow:Assets written to: models\\assets\n",
      "wandb: Adding directory to artifact (.\\models)... Done. 0.0s\n",
      "WARNING:absl:Found untraced functions such as _update_step_xla while saving (showing 1 of 1). These functions will not be directly callable after loading.\n"
     ]
    },
    {
     "name": "stdout",
     "output_type": "stream",
     "text": [
      "INFO:tensorflow:Assets written to: models\\assets\n"
     ]
    },
    {
     "name": "stderr",
     "output_type": "stream",
     "text": [
      "INFO:tensorflow:Assets written to: models\\assets\n",
      "wandb: Adding directory to artifact (.\\models)... Done. 0.0s\n",
      "WARNING:absl:Found untraced functions such as _update_step_xla while saving (showing 1 of 1). These functions will not be directly callable after loading.\n"
     ]
    },
    {
     "name": "stdout",
     "output_type": "stream",
     "text": [
      "INFO:tensorflow:Assets written to: models\\assets\n"
     ]
    },
    {
     "name": "stderr",
     "output_type": "stream",
     "text": [
      "INFO:tensorflow:Assets written to: models\\assets\n",
      "wandb: Adding directory to artifact (.\\models)... Done. 0.0s\n",
      "WARNING:absl:Found untraced functions such as _update_step_xla while saving (showing 1 of 1). These functions will not be directly callable after loading.\n"
     ]
    },
    {
     "name": "stdout",
     "output_type": "stream",
     "text": [
      "INFO:tensorflow:Assets written to: models\\assets\n"
     ]
    },
    {
     "name": "stderr",
     "output_type": "stream",
     "text": [
      "INFO:tensorflow:Assets written to: models\\assets\n",
      "wandb: Adding directory to artifact (.\\models)... Done. 0.0s\n",
      "WARNING:absl:Found untraced functions such as _update_step_xla while saving (showing 1 of 1). These functions will not be directly callable after loading.\n"
     ]
    },
    {
     "name": "stdout",
     "output_type": "stream",
     "text": [
      "INFO:tensorflow:Assets written to: models\\assets\n"
     ]
    },
    {
     "name": "stderr",
     "output_type": "stream",
     "text": [
      "INFO:tensorflow:Assets written to: models\\assets\n",
      "wandb: Adding directory to artifact (.\\models)... Done. 0.0s\n",
      "WARNING:absl:Found untraced functions such as _update_step_xla while saving (showing 1 of 1). These functions will not be directly callable after loading.\n"
     ]
    },
    {
     "name": "stdout",
     "output_type": "stream",
     "text": [
      "INFO:tensorflow:Assets written to: models\\assets\n"
     ]
    },
    {
     "name": "stderr",
     "output_type": "stream",
     "text": [
      "INFO:tensorflow:Assets written to: models\\assets\n",
      "wandb: Adding directory to artifact (.\\models)... Done. 0.0s\n",
      "WARNING:absl:Found untraced functions such as _update_step_xla while saving (showing 1 of 1). These functions will not be directly callable after loading.\n"
     ]
    },
    {
     "name": "stdout",
     "output_type": "stream",
     "text": [
      "INFO:tensorflow:Assets written to: models\\assets\n"
     ]
    },
    {
     "name": "stderr",
     "output_type": "stream",
     "text": [
      "INFO:tensorflow:Assets written to: models\\assets\n",
      "wandb: Adding directory to artifact (.\\models)... Done. 0.0s\n",
      "WARNING:absl:Found untraced functions such as _update_step_xla while saving (showing 1 of 1). These functions will not be directly callable after loading.\n"
     ]
    },
    {
     "name": "stdout",
     "output_type": "stream",
     "text": [
      "INFO:tensorflow:Assets written to: models\\assets\n"
     ]
    },
    {
     "name": "stderr",
     "output_type": "stream",
     "text": [
      "INFO:tensorflow:Assets written to: models\\assets\n",
      "wandb: Adding directory to artifact (.\\models)... Done. 0.0s\n",
      "WARNING:absl:Found untraced functions such as _update_step_xla while saving (showing 1 of 1). These functions will not be directly callable after loading.\n"
     ]
    },
    {
     "name": "stdout",
     "output_type": "stream",
     "text": [
      "INFO:tensorflow:Assets written to: models\\assets\n"
     ]
    },
    {
     "name": "stderr",
     "output_type": "stream",
     "text": [
      "INFO:tensorflow:Assets written to: models\\assets\n",
      "wandb: Adding directory to artifact (.\\models)... Done. 0.0s\n",
      "WARNING:absl:Found untraced functions such as _update_step_xla while saving (showing 1 of 1). These functions will not be directly callable after loading.\n"
     ]
    },
    {
     "name": "stdout",
     "output_type": "stream",
     "text": [
      "INFO:tensorflow:Assets written to: models\\assets\n"
     ]
    },
    {
     "name": "stderr",
     "output_type": "stream",
     "text": [
      "INFO:tensorflow:Assets written to: models\\assets\n",
      "wandb: Adding directory to artifact (.\\models)... Done. 0.0s\n",
      "WARNING:absl:Found untraced functions such as _update_step_xla while saving (showing 1 of 1). These functions will not be directly callable after loading.\n"
     ]
    },
    {
     "name": "stdout",
     "output_type": "stream",
     "text": [
      "INFO:tensorflow:Assets written to: models\\assets\n"
     ]
    },
    {
     "name": "stderr",
     "output_type": "stream",
     "text": [
      "INFO:tensorflow:Assets written to: models\\assets\n",
      "wandb: Adding directory to artifact (.\\models)... Done. 0.0s\n"
     ]
    }
   ],
   "source": [
    "#model training\n",
    "history = model.fit(x_train,\n",
    "                    y_cat_train,\n",
    "                    batch_size=128,\n",
    "                    epochs=100,\n",
    "                    validation_data=(x_val,y_cat_val),\n",
    "                    callbacks=[\n",
    "                      WandbMetricsLogger(log_freq=5),\n",
    "                      WandbModelCheckpoint(\"models\")\n",
    "                    ],\n",
    "                    verbose=0)"
   ]
  },
  {
   "cell_type": "code",
   "execution_count": 27,
   "metadata": {},
   "outputs": [
    {
     "data": {
      "text/plain": "<Figure size 432x288 with 1 Axes>",
      "image/png": "[encoded data removed]"
     },
     "metadata": {
      "needs_background": "light"
     },
     "output_type": "display_data"
    },
    {
     "data": {
      "text/plain": "<Figure size 432x288 with 1 Axes>",
      "image/png": "[encoded data removed]"
     },
     "metadata": {
      "needs_background": "light"
     },
     "output_type": "display_data"
    }
   ],
   "source": [
    "import matplotlib.pyplot as plt\n",
    "\n",
    "#Plot training & validation accuracy values\n",
    "plt.plot(history.history['accuracy'])\n",
    "plt.plot(history.history['val_accuracy'])\n",
    "plt.title('Model accuracy')\n",
    "plt.ylabel('Accuracy')\n",
    "plt.xlabel('Epoch')\n",
    "plt.legend(['Train', 'Validation'], loc='upper left')\n",
    "plt.show()\n",
    "\n",
    "# Plot training & validation loss values\n",
    "plt.plot(history.history['loss'])\n",
    "plt.plot(history.history['val_loss'])\n",
    "plt.title('Model loss')\n",
    "plt.ylabel('Loss')\n",
    "plt.xlabel('Epoch')\n",
    "plt.legend(['Train', 'Validation'], loc='upper left')\n",
    "plt.show()"
   ]
  },
  {
   "cell_type": "code",
   "execution_count": 28,
   "metadata": {},
   "outputs": [
    {
     "name": "stdout",
     "output_type": "stream",
     "text": [
      "7/7 [==============================] - 0s 2ms/step - loss: 0.5687 - accuracy: 0.7250 - mse: 0.2982\n",
      "7/7 [==============================] - 0s 2ms/step\n"
     ]
    },
    {
     "data": {
      "text/plain": "array([[9.99998152e-01, 9.97794569e-01, 1.60981178e-01, 4.21191305e-01],\n       [6.96122706e-01, 9.92304981e-01, 8.20523202e-01, 3.96209471e-02],\n       [1.15132816e-02, 7.04707265e-01, 9.95899022e-01, 9.64594007e-01],\n       [2.73189810e-03, 3.20626915e-01, 9.98844445e-01, 9.98965740e-01],\n       [9.99950349e-01, 9.95988846e-01, 2.93708324e-01, 1.78949207e-01],\n       [1.42846271e-01, 9.76854801e-01, 9.50830042e-01, 1.62155241e-01],\n       [9.97859299e-01, 9.94338393e-01, 5.94819605e-01, 6.64985999e-02],\n       [9.99991179e-01, 9.97105837e-01, 2.13452503e-01, 2.90767401e-01],\n       [9.99997675e-01, 9.97505903e-01, 1.63374886e-01, 4.15815294e-01],\n       [8.18711817e-01, 9.92258430e-01, 7.88973689e-01, 4.07465212e-02],\n       [9.99988496e-01, 9.95374799e-01, 1.92973956e-01, 3.44604015e-01],\n       [7.02103198e-01, 9.92320597e-01, 8.19404960e-01, 3.96264456e-02],\n       [9.99997973e-01, 9.97658491e-01, 1.62020460e-01, 4.18974280e-01],\n       [9.99998212e-01, 9.97816622e-01, 1.61169395e-01, 4.20365304e-01],\n       [8.22546780e-01, 9.92236495e-01, 7.87523627e-01, 4.08383161e-02],\n       [4.84732771e-03, 4.73522007e-01, 9.98085439e-01, 9.95726645e-01],\n       [3.37867043e-03, 3.74704570e-01, 9.98606801e-01, 9.98250127e-01],\n       [4.07409012e-01, 9.91004586e-01, 8.72496784e-01, 4.38481458e-02],\n       [9.99996662e-01, 9.97044742e-01, 1.68721780e-01, 4.02104169e-01],\n       [2.10338801e-01, 9.85653758e-01, 9.25917447e-01, 8.08340460e-02],\n       [9.99996603e-01, 9.97039139e-01, 1.68824732e-01, 4.01818663e-01],\n       [4.19503450e-03, 4.33230937e-01, 9.98314321e-01, 9.97010827e-01],\n       [6.56016827e-01, 9.92203772e-01, 8.27603400e-01, 3.95855680e-02],\n       [5.11467993e-01, 9.91684675e-01, 8.53049397e-01, 4.08790559e-02],\n       [1.29934885e-02, 7.32100725e-01, 9.95446146e-01, 9.53398049e-01],\n       [9.54626918e-01, 9.90883231e-01, 7.17491329e-01, 4.91227247e-02],\n       [8.54412094e-02, 9.58506048e-01, 9.70725656e-01, 3.39170873e-01],\n       [1.55455695e-04, 1.66325103e-02, 9.99926567e-01, 9.99999523e-01],\n       [1.11529371e-03, 1.44658387e-01, 9.99492705e-01, 9.99896586e-01],\n       [9.99997020e-01, 9.97184753e-01, 1.66952491e-01, 4.06729579e-01],\n       [9.99977767e-01, 9.96562898e-01, 2.50090659e-01, 2.28604853e-01],\n       [9.99388218e-01, 9.94683206e-01, 5.17507911e-01, 8.23059231e-02],\n       [3.22239622e-02, 8.83168638e-01, 9.89130080e-01, 7.68558741e-01],\n       [9.45867002e-02, 9.62894976e-01, 9.67617452e-01, 2.98325598e-01],\n       [5.61453253e-02, 9.34659600e-01, 9.80882287e-01, 5.31598687e-01],\n       [9.15263355e-01, 9.91177499e-01, 7.47817457e-01, 4.48072553e-02],\n       [1.94595963e-01, 9.84161675e-01, 9.31881845e-01, 9.37926248e-02],\n       [2.98142523e-01, 9.89101410e-01, 8.99413049e-01, 5.33510670e-02],\n       [9.99998093e-01, 9.97736394e-01, 1.61305428e-01, 4.20646608e-01],\n       [1.06176846e-01, 9.67390001e-01, 9.63649094e-01, 2.55065292e-01],\n       [5.56831656e-04, 6.95437193e-02, 9.99741614e-01, 9.99984264e-01],\n       [9.99821007e-01, 9.95086312e-01, 3.91566575e-01, 1.20709836e-01],\n       [9.99994993e-01, 9.96594429e-01, 1.76544353e-01, 3.80979717e-01],\n       [3.22157145e-03, 3.62250328e-01, 9.98663962e-01, 9.98444676e-01],\n       [9.99939084e-01, 9.95832324e-01, 3.07818145e-01, 1.67865351e-01],\n       [2.35086214e-03, 2.85033643e-01, 9.98987496e-01, 9.99286830e-01],\n       [9.99998212e-01, 9.97955441e-01, 1.64807335e-01, 4.07174110e-01],\n       [9.99995708e-01, 9.97506917e-01, 1.90136299e-01, 3.41082722e-01],\n       [1.10632153e-02, 6.95325255e-01, 9.96037066e-01, 9.67720449e-01],\n       [1.24492319e-02, 7.22611010e-01, 9.95614231e-01, 9.57594872e-01],\n       [9.99959946e-01, 9.96148646e-01, 2.80165404e-01, 1.91274136e-01],\n       [9.45793185e-03, 6.56588972e-01, 9.96546805e-01, 9.77864683e-01],\n       [9.99998033e-01, 9.97683942e-01, 1.61789060e-01, 4.19514596e-01],\n       [9.99998212e-01, 9.97835636e-01, 1.61333472e-01, 4.19645905e-01],\n       [9.99998271e-01, 9.97941196e-01, 1.62273958e-01, 4.15540546e-01],\n       [9.99997973e-01, 9.97668028e-01, 1.61934093e-01, 4.19175714e-01],\n       [6.78341975e-03, 5.67756176e-01, 9.97425139e-01, 9.90204751e-01],\n       [4.32987558e-03, 4.41991955e-01, 9.98266637e-01, 9.96767521e-01],\n       [9.18419473e-03, 6.49060726e-01, 9.96635258e-01, 9.79395747e-01],\n       [9.99993443e-01, 9.96241570e-01, 1.82150766e-01, 3.66544664e-01],\n       [9.99998212e-01, 9.97801602e-01, 1.61041260e-01, 4.20927674e-01],\n       [9.99997437e-01, 9.97390389e-01, 1.64617419e-01, 4.12694603e-01],\n       [9.96560216e-01, 9.93925989e-01, 6.10948980e-01, 6.35766014e-02],\n       [3.34575423e-04, 3.94543037e-02, 9.99842465e-01, 9.99996066e-01],\n       [9.99995172e-01, 9.97439802e-01, 1.93678677e-01, 3.33035946e-01],\n       [2.08154488e-02, 8.21860969e-01, 9.92904365e-01, 8.87580752e-01],\n       [4.28778678e-03, 4.39283162e-01, 9.98281538e-01, 9.96844709e-01],\n       [1.54569030e-01, 9.78938639e-01, 9.46633577e-01, 1.42046779e-01],\n       [3.50930658e-03, 3.84750485e-01, 9.98559475e-01, 9.98077929e-01],\n       [4.69624065e-03, 4.64643955e-01, 9.98138070e-01, 9.96048450e-01],\n       [1.86577570e-02, 8.03293228e-01, 9.93600190e-01, 9.07884359e-01],\n       [2.40316279e-02, 8.44173908e-01, 9.91872549e-01, 8.54986846e-01],\n       [8.25770915e-01, 9.92217839e-01, 7.86279500e-01, 4.09168787e-02],\n       [9.99992013e-01, 9.97155547e-01, 2.09994391e-01, 2.97893703e-01],\n       [2.15000194e-02, 8.27088892e-01, 9.92684245e-01, 8.80858183e-01],\n       [9.99734461e-01, 9.94937241e-01, 4.31786150e-01, 1.06596716e-01],\n       [9.99994695e-01, 9.96513486e-01, 1.77867442e-01, 3.77520949e-01],\n       [7.65160203e-01, 9.92495954e-01, 8.06282997e-01, 3.96890305e-02],\n       [5.10031462e-01, 9.91676688e-01, 8.53319883e-01, 4.09101583e-02],\n       [9.99553382e-01, 9.94739115e-01, 4.85541284e-01, 9.03945863e-02],\n       [7.70831555e-02, 9.53608990e-01, 9.73550975e-01, 3.82679880e-01],\n       [2.84399241e-01, 9.88743663e-01, 9.03199613e-01, 5.55637144e-02],\n       [9.99995530e-01, 9.96718466e-01, 1.74471289e-01, 3.86464834e-01],\n       [9.99998212e-01, 9.97805774e-01, 1.61076650e-01, 4.20772195e-01],\n       [1.89563318e-03, 2.37766623e-01, 9.99167383e-01, 9.99587655e-01],\n       [9.99994576e-01, 9.97367561e-01, 1.97423935e-01, 3.24753046e-01],\n       [5.26756704e-01, 9.91769850e-01, 8.50142181e-01, 4.05491069e-02],\n       [7.07056969e-02, 9.49028432e-01, 9.75775421e-01, 4.22057331e-01],\n       [9.99997258e-01, 9.97307599e-01, 1.65575624e-01, 4.10235345e-01],\n       [1.00964762e-03, 1.30772144e-01, 9.99539435e-01, 9.99921083e-01],\n       [5.21095872e-01, 9.91738439e-01, 8.51224959e-01, 4.06710692e-02],\n       [9.99990702e-01, 9.95763600e-01, 1.88300222e-01, 3.50321025e-01],\n       [9.99989390e-01, 9.95531917e-01, 1.90640986e-01, 3.46210778e-01],\n       [5.69314416e-03, 5.18778265e-01, 9.97793794e-01, 9.93641734e-01],\n       [9.99997675e-01, 9.97834623e-01, 1.71504840e-01, 3.87285560e-01],\n       [3.00288081e-01, 9.89155352e-01, 8.98819625e-01, 5.30185066e-02],\n       [9.99998093e-01, 9.97938752e-01, 1.66451529e-01, 4.02078748e-01],\n       [1.13175262e-03, 1.46803200e-01, 9.99485433e-01, 9.99892414e-01],\n       [1.20391836e-02, 7.15018809e-01, 9.95738626e-01, 9.60743845e-01],\n       [9.99985456e-01, 9.96830821e-01, 2.30976626e-01, 2.57401466e-01],\n       [9.09716904e-01, 9.91314292e-01, 7.49237955e-01, 4.42662314e-02],\n       [4.55246121e-01, 9.91363406e-01, 8.63361895e-01, 4.21369039e-02],\n       [2.01475117e-02, 8.16470861e-01, 9.93119419e-01, 8.94014776e-01],\n       [5.99490106e-02, 9.39066291e-01, 9.79556262e-01, 5.00476897e-01],\n       [7.58111849e-03, 5.98248780e-01, 9.97159660e-01, 9.87123013e-01],\n       [9.99996364e-01, 9.97597575e-01, 1.84736058e-01, 3.53814751e-01],\n       [6.26333237e-01, 9.92131591e-01, 8.32454979e-01, 3.95606719e-02],\n       [1.10630849e-02, 6.95322514e-01, 9.96037126e-01, 9.67721343e-01],\n       [7.88892340e-03, 6.09000683e-01, 9.97058094e-01, 9.85800624e-01],\n       [8.75340581e-01, 9.91837621e-01, 7.64381111e-01, 4.24061157e-02],\n       [8.45463667e-03, 6.27463341e-01, 9.96872544e-01, 9.83172119e-01],\n       [9.99998271e-01, 9.97958302e-01, 1.63420767e-01, 4.11629498e-01],\n       [5.28972983e-01, 9.91782188e-01, 8.49716187e-01, 4.05014195e-02],\n       [9.99997914e-01, 9.97626007e-01, 1.62312463e-01, 4.18293387e-01],\n       [9.99997914e-01, 9.97640908e-01, 1.62178889e-01, 4.18604791e-01],\n       [7.47046769e-02, 9.52015817e-01, 9.74357784e-01, 3.96370530e-01],\n       [9.80661273e-01, 9.92053568e-01, 6.82064295e-01, 5.36140203e-02],\n       [9.99998033e-01, 9.97930169e-01, 1.66908130e-01, 4.00712818e-01],\n       [7.02708513e-02, 9.48683441e-01, 9.75929201e-01, 4.24960166e-01],\n       [9.99997675e-01, 9.97492671e-01, 1.63491085e-01, 4.15543646e-01],\n       [2.08395440e-03, 2.58098930e-01, 9.99090791e-01, 9.99472737e-01],\n       [2.26192623e-01, 9.86590922e-01, 9.20585692e-01, 7.22240061e-02],\n       [9.99998271e-01, 9.97876465e-01, 1.61691219e-01, 4.18080688e-01],\n       [5.21175265e-02, 9.29319680e-01, 9.82280493e-01, 5.66489160e-01],\n       [3.67560655e-01, 9.90494847e-01, 8.81369650e-01, 4.62129042e-02],\n       [2.85306931e-01, 9.88767982e-01, 9.02950227e-01, 5.54129668e-02],\n       [9.97318208e-01, 9.94146109e-01, 6.02508783e-01, 6.50954470e-02],\n       [2.24550646e-02, 8.33924353e-01, 9.92377639e-01, 8.71275842e-01],\n       [9.99998271e-01, 9.97909546e-01, 1.61986545e-01, 4.16791916e-01],\n       [1.25409439e-01, 9.73038256e-01, 9.56980109e-01, 1.99572906e-01],\n       [9.00068437e-04, 1.16168000e-01, 9.99588072e-01, 9.99942183e-01],\n       [6.80451751e-01, 9.92264748e-01, 8.23371768e-01, 3.96068506e-02],\n       [9.95387316e-01, 9.93655682e-01, 6.20821774e-01, 6.18271343e-02],\n       [9.78514016e-01, 9.91918981e-01, 6.86519086e-01, 5.30451760e-02],\n       [1.28736347e-01, 9.73845720e-01, 9.55814779e-01, 1.91621363e-01],\n       [9.03160214e-01, 9.91464078e-01, 7.50812888e-01, 4.36713435e-02],\n       [4.47299844e-03, 4.51036751e-01, 9.98216271e-01, 9.96496797e-01],\n       [4.98220250e-02, 9.25907075e-01, 9.83074605e-01, 5.87239087e-01],\n       [1.46151721e-01, 9.77476120e-01, 9.49652016e-01, 1.56126037e-01],\n       [9.47882086e-02, 9.62982357e-01, 9.67548788e-01, 2.97497004e-01],\n       [3.30860168e-02, 8.86253893e-01, 9.88835990e-01, 7.59358585e-01],\n       [1.55354512e-03, 1.98750556e-01, 9.99307990e-01, 9.99753952e-01],\n       [9.96821821e-01, 9.93996859e-01, 6.08273208e-01, 6.40557557e-02],\n       [9.99998152e-01, 9.97785389e-01, 1.60909906e-01, 4.21511889e-01],\n       [9.99978602e-01, 9.96588469e-01, 2.48196766e-01, 2.31221884e-01],\n       [9.99997854e-01, 9.97879922e-01, 1.69555664e-01, 3.92882198e-01],\n       [9.98391569e-01, 9.94573236e-01, 5.85004032e-01, 6.83179721e-02],\n       [1.17212527e-01, 9.70855057e-01, 9.59836185e-01, 2.21087530e-01],\n       [9.91800189e-01, 9.93063390e-01, 6.44854426e-01, 5.84306009e-02],\n       [2.37932391e-02, 8.42700064e-01, 9.91948843e-01, 8.57484698e-01],\n       [9.98672068e-01, 9.94751036e-01, 5.78436613e-01, 6.97034076e-02],\n       [9.99990225e-01, 9.97053206e-01, 2.17092678e-01, 2.83464044e-01],\n       [5.37280500e-01, 9.91825342e-01, 8.48140478e-01, 4.03383523e-02],\n       [1.05295926e-02, 6.83436036e-01, 9.96203005e-01, 9.71260965e-01],\n       [9.99998212e-01, 9.97956991e-01, 1.64049923e-01, 4.09602344e-01],\n       [9.24917962e-03, 6.50874913e-01, 9.96614218e-01, 9.79037941e-01],\n       [9.99989271e-01, 9.95513380e-01, 1.90919697e-01, 3.46017987e-01],\n       [1.56106532e-03, 1.99637398e-01, 9.99304831e-01, 9.99750853e-01],\n       [2.08874047e-02, 8.22424114e-01, 9.92881179e-01, 8.86880279e-01],\n       [6.57937467e-01, 9.92208481e-01, 8.27279210e-01, 3.95872109e-02],\n       [9.02079567e-02, 9.60902214e-01, 9.69107985e-01, 3.17067415e-01],\n       [9.99997258e-01, 9.97740149e-01, 1.76255345e-01, 3.74627262e-01],\n       [2.73159176e-01, 9.88434374e-01, 9.06280220e-01, 5.74880056e-02],\n       [5.02244174e-01, 9.91632998e-01, 8.54778409e-01, 4.10790890e-02],\n       [8.39576960e-01, 9.92133737e-01, 7.80671656e-01, 4.12686318e-02],\n       [9.99997854e-01, 9.97585058e-01, 1.62675768e-01, 4.17448342e-01],\n       [1.70252919e-02, 7.86696315e-01, 9.94129002e-01, 9.22248602e-01],\n       [9.99992311e-01, 9.97173488e-01, 2.08742246e-01, 3.00520211e-01],\n       [9.99930084e-01, 9.95728135e-01, 3.17552090e-01, 1.60748199e-01],\n       [1.06965013e-01, 9.67660904e-01, 9.63377953e-01, 2.52423853e-01],\n       [1.19013339e-01, 9.71360266e-01, 9.59210515e-01, 2.16111004e-01],\n       [9.36897993e-01, 9.90523398e-01, 7.41245151e-01, 4.73660342e-02],\n       [9.99998152e-01, 9.97765660e-01, 1.61031008e-01, 4.21290576e-01],\n       [9.92732355e-04, 1.28530324e-01, 9.99546945e-01, 9.99924600e-01],\n       [8.03825974e-01, 9.92339671e-01, 7.94323206e-01, 4.04055603e-02],\n       [3.33448476e-03, 3.71243715e-01, 9.98622835e-01, 9.98306215e-01],\n       [9.99996185e-01, 9.96899307e-01, 1.71340197e-01, 3.94903481e-01],\n       [8.51784497e-02, 9.58366334e-01, 9.70814705e-01, 3.40443701e-01],\n       [9.11407769e-01, 9.91273642e-01, 7.48814046e-01, 4.44272421e-02],\n       [6.80431604e-01, 9.92264748e-01, 8.23375344e-01, 3.96068320e-02],\n       [6.79917514e-01, 9.92263436e-01, 8.23466897e-01, 3.96063775e-02],\n       [9.97174978e-01, 9.94100809e-01, 6.04277372e-01, 6.47753552e-02],\n       [8.68565962e-02, 9.59244311e-01, 9.70245838e-01, 3.32413852e-01],\n       [1.71194170e-02, 7.87723184e-01, 9.94098485e-01, 9.21445608e-01],\n       [7.37038612e-01, 9.92414951e-01, 8.12471211e-01, 3.96599174e-02],\n       [1.24440342e-03, 1.61172315e-01, 9.99436855e-01, 9.99861658e-01],\n       [7.67088711e-01, 9.92501736e-01, 8.05834711e-01, 3.96911129e-02],\n       [9.99747753e-01, 9.94957149e-01, 4.26484942e-01, 1.08350769e-01],\n       [8.90541673e-01, 9.91670847e-01, 7.56239355e-01, 4.30135541e-02],\n       [1.75903916e-01, 9.82019007e-01, 9.38856423e-01, 1.13111541e-01],\n       [9.99998271e-01, 9.97951627e-01, 1.62369534e-01, 4.15125221e-01],\n       [3.76851507e-03, 4.03887063e-01, 9.98466194e-01, 9.97707307e-01],\n       [9.99998271e-01, 9.97938275e-01, 1.62246928e-01, 4.15658295e-01],\n       [4.77378140e-04, 5.87091111e-02, 9.99777496e-01, 9.99989629e-01],\n       [1.07930705e-03, 1.39951110e-01, 9.99508619e-01, 9.99905407e-01],\n       [9.99998271e-01, 9.97875690e-01, 1.61684111e-01, 4.18111622e-01],\n       [1.25616372e-01, 9.73089695e-01, 9.56907749e-01, 1.99065804e-01],\n       [2.32893438e-03, 2.82893628e-01, 9.98995781e-01, 9.99303222e-01],\n       [9.99998271e-01, 9.97875094e-01, 1.61678806e-01, 4.18135017e-01],\n       [9.59170237e-03, 6.60162389e-01, 9.96503651e-01, 9.77093518e-01]],\n      dtype=float32)"
     },
     "execution_count": 28,
     "metadata": {},
     "output_type": "execute_result"
    }
   ],
   "source": [
    "#prediction for test data\n",
    "score=model.evaluate(x_test,y_cat_test)\n",
    "predict = model.predict(x_test)\n",
    "predict"
   ]
  },
  {
   "cell_type": "code",
   "execution_count": 29,
   "metadata": {},
   "outputs": [],
   "source": [
    "predicted_test = []\n",
    "for row in predict:\n",
    "    a = max(row)\n",
    "    b=np.where(row==a)[0][0]\n",
    "    predicted_test.append(b)"
   ]
  },
  {
   "cell_type": "code",
   "execution_count": 30,
   "outputs": [
    {
     "name": "stdout",
     "output_type": "stream",
     "text": [
      "{'0': {'precision': 0.863013698630137, 'recall': 1.0, 'f1-score': 0.9264705882352942, 'support': 63}, '1': {'precision': 0.6964285714285714, 'recall': 0.7959183673469388, 'f1-score': 0.7428571428571428, 'support': 49}, '2': {'precision': 0.4716981132075472, 'recall': 0.5952380952380952, 'f1-score': 0.5263157894736842, 'support': 42}, '3': {'precision': 1.0, 'recall': 0.391304347826087, 'f1-score': 0.5625, 'support': 46}, 'accuracy': 0.725, 'macro avg': {'precision': 0.757785095816564, 'recall': 0.6956152026027802, 'f1-score': 0.6895358801415302, 'support': 200}, 'weighted avg': {'precision': 0.7715309188420781, 'recall': 0.725, 'f1-score': 0.7137395510835912, 'support': 200}}\n"
     ]
    },
    {
     "data": {
      "text/plain": "<sklearn.metrics._plot.confusion_matrix.ConfusionMatrixDisplay at 0x2614c29d2e0>"
     },
     "execution_count": 30,
     "metadata": {},
     "output_type": "execute_result"
    },
    {
     "data": {
      "text/plain": "<Figure size 1850x1050 with 0 Axes>"
     },
     "metadata": {},
     "output_type": "display_data"
    },
    {
     "data": {
      "text/plain": "<Figure size 432x288 with 2 Axes>",
      "image/png": "[encoded data removed]"
     },
     "metadata": {
      "needs_background": "light"
     },
     "output_type": "display_data"
    }
   ],
   "source": [
    "from sklearn.metrics import confusion_matrix,ConfusionMatrixDisplay,classification_report\n",
    "report = classification_report(y_test, predicted_test, target_names=['0', '1', '2', '3'], output_dict=True)\n",
    "f = plt.figure(figsize=(10,6)) #plotting\n",
    "f.set_size_inches(18.5, 10.5)\n",
    "f.set_dpi(100)\n",
    "print(report)\n",
    "\n",
    "matrix = confusion_matrix(y_test, predicted_test)\n",
    "matrix_display = ConfusionMatrixDisplay(matrix, display_labels=['0', '1', '2', '3'])\n",
    "matrix_display.plot(cmap='Blues')"
   ],
   "metadata": {
    "collapsed": false
   }
  },
  {
   "cell_type": "code",
   "execution_count": 31,
   "outputs": [
    {
     "data": {
      "text/plain": "{'0': {'precision': 0.863013698630137,\n  'recall': 1.0,\n  'f1-score': 0.9264705882352942,\n  'support': 63},\n '1': {'precision': 0.6964285714285714,\n  'recall': 0.7959183673469388,\n  'f1-score': 0.7428571428571428,\n  'support': 49},\n '2': {'precision': 0.4716981132075472,\n  'recall': 0.5952380952380952,\n  'f1-score': 0.5263157894736842,\n  'support': 42},\n '3': {'precision': 1.0,\n  'recall': 0.391304347826087,\n  'f1-score': 0.5625,\n  'support': 46},\n 'accuracy': 0.725,\n 'macro avg': {'precision': 0.757785095816564,\n  'recall': 0.6956152026027802,\n  'f1-score': 0.6895358801415302,\n  'support': 200},\n 'weighted avg': {'precision': 0.7715309188420781,\n  'recall': 0.725,\n  'f1-score': 0.7137395510835912,\n  'support': 200}}"
     },
     "execution_count": 31,
     "metadata": {},
     "output_type": "execute_result"
    }
   ],
   "source": [
    "report"
   ],
   "metadata": {
    "collapsed": false
   }
  },
  {
   "cell_type": "code",
   "execution_count": 32,
   "metadata": {},
   "outputs": [
    {
     "data": {
      "text/plain": "<IPython.core.display.HTML object>",
      "text/html": "Waiting for W&B process to finish... <strong style=\"color:green\">(success).</strong>"
     },
     "metadata": {},
     "output_type": "display_data"
    },
    {
     "data": {
      "text/plain": "<IPython.core.display.HTML object>",
      "text/html": "<style>\n    table.wandb td:nth-child(1) { padding: 0 10px; text-align: left ; width: auto;} td:nth-child(2) {text-align: left ; width: 100%}\n    .wandb-row { display: flex; flex-direction: row; flex-wrap: wrap; justify-content: flex-start; width: 100% }\n    .wandb-col { display: flex; flex-direction: column; flex-basis: 100%; flex: 1; padding: 10px; }\n    </style>\n<div class=\"wandb-row\"><div class=\"wandb-col\"><h3>Run history:</h3><br/><table class=\"wandb\"><tr><td>accuracy</td><td>▁▂▄▅▆▆▇▇▇▇▇███▅▇▇▇█▇▇█▇▇▇███▇██▆▇▇▇█████</td></tr><tr><td>batch/accuracy</td><td>▁▂▂▅▅▇▇▆▆▇▆▇▇█▅▇▆▇█▆▇█▇▇▇▇▇█▆██▆▇▇▇██▇██</td></tr><tr><td>batch/batch_step</td><td>▁▁▁▁▂▂▂▂▂▃▃▃▃▃▃▄▄▄▄▄▅▅▅▅▅▅▆▆▆▆▆▆▇▇▇▇▇███</td></tr><tr><td>batch/loss</td><td>█▂▂▁▁▁▁▁▁▁▁▁▁▁▁▁▁▁▁▁▁▁▁▁▁▁▁▁▁▁▁▁▁▁▁▁▁▁▁▁</td></tr><tr><td>batch/mse</td><td>██▃▃▃▃▂▃▂▂▂▁▁▁▃▃▃▂▂▃▃▂▂▂▂▂▂▂▃▃▃▃▂▃▃▃▃▃▃▃</td></tr><tr><td>epoch</td><td>▁▁▁▁▂▂▂▂▂▃▃▃▃▃▃▄▄▄▄▄▅▅▅▅▅▅▆▆▆▆▆▇▇▇▇▇▇███</td></tr><tr><td>loss</td><td>█▁▁▁▁▁▁▁▁▁▁▁▁▁▁▁▁▁▁▁▁▁▁▁▁▁▁▁▁▁▁▁▁▁▁▁▁▁▁▁</td></tr><tr><td>mse</td><td>█▄▃▂▂▂▂▂▁▁▁▁▁▁▂▂▂▂▂▂▂▂▂▂▂▂▂▂▂▂▂▂▂▂▂▂▂▂▂▂</td></tr><tr><td>val_accuracy</td><td>▁▃▄▆▇▇▆▇▇▇▇▆█▂▆▆█▇▇▆▆▇█▆▅▆█▇▇▇▃▇███▇▇▇▇▆</td></tr><tr><td>val_loss</td><td>█▂▂▂▁▁▁▁▁▁▁▁▁▂▂▁▁▁▁▁▁▁▁▁▂▁▁▁▁▁▂▁▁▁▁▁▁▁▁▁</td></tr><tr><td>val_mse</td><td>█▆▄▃▃▃▂▃▂▁▁▁▁▃▃▃▃▃▃▂▂▂▂▃▃▃▃▂▂▃▄▃▃▃▃▄▃▃▃▃</td></tr></table><br/></div><div class=\"wandb-col\"><h3>Run summary:</h3><br/><table class=\"wandb\"><tr><td>accuracy</td><td>0.81358</td></tr><tr><td>batch/accuracy</td><td>0.81392</td></tr><tr><td>batch/batch_step</td><td>1495</td></tr><tr><td>batch/loss</td><td>0.41824</td></tr><tr><td>batch/mse</td><td>0.31326</td></tr><tr><td>epoch</td><td>99</td></tr><tr><td>loss</td><td>0.4318</td></tr><tr><td>mse</td><td>0.31261</td></tr><tr><td>val_accuracy</td><td>0.69444</td></tr><tr><td>val_loss</td><td>0.7229</td></tr><tr><td>val_mse</td><td>0.30318</td></tr></table><br/></div></div>"
     },
     "metadata": {},
     "output_type": "display_data"
    },
    {
     "data": {
      "text/plain": "<IPython.core.display.HTML object>",
      "text/html": "Synced <strong style=\"color:#cdcd00\">ethereal-sea-66</strong>: <a href=\"https://wandb.ai/testsd/nsiete1/runs/3bk66525\" target=\"_blank\">https://wandb.ai/testsd/nsiete1/runs/3bk66525</a><br/>Synced 5 W&B file(s), 0 media file(s), 401 artifact file(s) and 0 other file(s)"
     },
     "metadata": {},
     "output_type": "display_data"
    },
    {
     "data": {
      "text/plain": "<IPython.core.display.HTML object>",
      "text/html": "Find logs at: <code>.\\wandb\\run-20230329_143731-3bk66525\\logs</code>"
     },
     "metadata": {},
     "output_type": "display_data"
    }
   ],
   "source": [
    "wandb.finish()\n"
   ]
  }
 ],
 "metadata": {
  "kernelspec": {
   "display_name": "Python 3",
   "language": "python",
   "name": "python3"
  },
  "language_info": {
   "codemirror_mode": {
    "name": "ipython",
    "version": 3
   },
   "file_extension": ".py",
   "mimetype": "text/x-python",
   "name": "python",
   "nbconvert_exporter": "python",
   "pygments_lexer": "ipython3",
   "version": "3.8.2"
  }
 },
 "nbformat": 4,
 "nbformat_minor": 2
}
