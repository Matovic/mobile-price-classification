{
 "cells": [
  {
   "attachments": {},
   "cell_type": "markdown",
   "metadata": {},
   "source": [
    "# Mobile price classification with multilayer perceptron\n",
    "## PyTorch\n",
    "Erik Matovič and Jakub Horvat\n",
    "\n",
    "[Dataset](https://www.kaggle.com/datasets/iabhishekofficial/mobile-price-classification?select=train.csv)\n",
    "\n",
    "### 0. Imports"
   ]
  },
  {
   "cell_type": "code",
   "execution_count": 25,
   "metadata": {},
   "outputs": [
    {
     "name": "stdout",
     "output_type": "stream",
     "text": [
      "True cuda:0\n"
     ]
    }
   ],
   "source": [
    "import wandb\n",
    "from pprint import pprint\n",
    "import numpy as np\n",
    "import pandas as pd\n",
    "import torch \n",
    "import torch.nn as nn\n",
    "from torch import optim\n",
    "from torch.utils.data import DataLoader, TensorDataset\n",
    "from utils import split_train_val\n",
    "from typing import Tuple, List\n",
    "import warnings\n",
    "warnings.filterwarnings('ignore')\n",
    "from sklearn.metrics import classification_report, accuracy_score\n",
    "\n",
    "# CUDA for PyTorch\n",
    "use_cuda = torch.cuda.is_available()\n",
    "device = torch.device(\"cuda:0\" if use_cuda else \"cpu\")\n",
    "torch.backends.cudnn.benchmark = True\n",
    "print(use_cuda, device)"
   ]
  },
  {
   "cell_type": "code",
   "execution_count": 26,
   "metadata": {},
   "outputs": [
    {
     "data": {
      "text/plain": [
       "True"
      ]
     },
     "execution_count": 26,
     "metadata": {},
     "output_type": "execute_result"
    }
   ],
   "source": [
    "wandb.login()"
   ]
  },
  {
   "attachments": {},
   "cell_type": "markdown",
   "metadata": {},
   "source": [
    "### 2. Data transformation\n",
    " - no null values\n",
    " - load train and test datasets & from test dataset make validation and test dataset"
   ]
  },
  {
   "cell_type": "code",
   "execution_count": 27,
   "metadata": {},
   "outputs": [
    {
     "data": {
      "text/html": [
       "<div>\n",
       "<style scoped>\n",
       "    .dataframe tbody tr th:only-of-type {\n",
       "        vertical-align: middle;\n",
       "    }\n",
       "\n",
       "    .dataframe tbody tr th {\n",
       "        vertical-align: top;\n",
       "    }\n",
       "\n",
       "    .dataframe thead th {\n",
       "        text-align: right;\n",
       "    }\n",
       "</style>\n",
       "<table border=\"1\" class=\"dataframe\">\n",
       "  <thead>\n",
       "    <tr style=\"text-align: right;\">\n",
       "      <th></th>\n",
       "      <th>battery_power</th>\n",
       "      <th>blue</th>\n",
       "      <th>clock_speed</th>\n",
       "      <th>dual_sim</th>\n",
       "      <th>fc</th>\n",
       "      <th>four_g</th>\n",
       "      <th>int_memory</th>\n",
       "      <th>m_dep</th>\n",
       "      <th>mobile_wt</th>\n",
       "      <th>n_cores</th>\n",
       "      <th>...</th>\n",
       "      <th>px_height</th>\n",
       "      <th>px_width</th>\n",
       "      <th>ram</th>\n",
       "      <th>sc_h</th>\n",
       "      <th>sc_w</th>\n",
       "      <th>talk_time</th>\n",
       "      <th>three_g</th>\n",
       "      <th>touch_screen</th>\n",
       "      <th>wifi</th>\n",
       "      <th>price_range</th>\n",
       "    </tr>\n",
       "  </thead>\n",
       "  <tbody>\n",
       "    <tr>\n",
       "      <th>0</th>\n",
       "      <td>842</td>\n",
       "      <td>0</td>\n",
       "      <td>2.2</td>\n",
       "      <td>0</td>\n",
       "      <td>1</td>\n",
       "      <td>0</td>\n",
       "      <td>7</td>\n",
       "      <td>0.6</td>\n",
       "      <td>188</td>\n",
       "      <td>2</td>\n",
       "      <td>...</td>\n",
       "      <td>20</td>\n",
       "      <td>756</td>\n",
       "      <td>2549</td>\n",
       "      <td>9</td>\n",
       "      <td>7</td>\n",
       "      <td>19</td>\n",
       "      <td>0</td>\n",
       "      <td>0</td>\n",
       "      <td>1</td>\n",
       "      <td>1</td>\n",
       "    </tr>\n",
       "    <tr>\n",
       "      <th>1</th>\n",
       "      <td>1021</td>\n",
       "      <td>1</td>\n",
       "      <td>0.5</td>\n",
       "      <td>1</td>\n",
       "      <td>0</td>\n",
       "      <td>1</td>\n",
       "      <td>53</td>\n",
       "      <td>0.7</td>\n",
       "      <td>136</td>\n",
       "      <td>3</td>\n",
       "      <td>...</td>\n",
       "      <td>905</td>\n",
       "      <td>1988</td>\n",
       "      <td>2631</td>\n",
       "      <td>17</td>\n",
       "      <td>3</td>\n",
       "      <td>7</td>\n",
       "      <td>1</td>\n",
       "      <td>1</td>\n",
       "      <td>0</td>\n",
       "      <td>2</td>\n",
       "    </tr>\n",
       "    <tr>\n",
       "      <th>2</th>\n",
       "      <td>563</td>\n",
       "      <td>1</td>\n",
       "      <td>0.5</td>\n",
       "      <td>1</td>\n",
       "      <td>2</td>\n",
       "      <td>1</td>\n",
       "      <td>41</td>\n",
       "      <td>0.9</td>\n",
       "      <td>145</td>\n",
       "      <td>5</td>\n",
       "      <td>...</td>\n",
       "      <td>1263</td>\n",
       "      <td>1716</td>\n",
       "      <td>2603</td>\n",
       "      <td>11</td>\n",
       "      <td>2</td>\n",
       "      <td>9</td>\n",
       "      <td>1</td>\n",
       "      <td>1</td>\n",
       "      <td>0</td>\n",
       "      <td>2</td>\n",
       "    </tr>\n",
       "    <tr>\n",
       "      <th>3</th>\n",
       "      <td>615</td>\n",
       "      <td>1</td>\n",
       "      <td>2.5</td>\n",
       "      <td>0</td>\n",
       "      <td>0</td>\n",
       "      <td>0</td>\n",
       "      <td>10</td>\n",
       "      <td>0.8</td>\n",
       "      <td>131</td>\n",
       "      <td>6</td>\n",
       "      <td>...</td>\n",
       "      <td>1216</td>\n",
       "      <td>1786</td>\n",
       "      <td>2769</td>\n",
       "      <td>16</td>\n",
       "      <td>8</td>\n",
       "      <td>11</td>\n",
       "      <td>1</td>\n",
       "      <td>0</td>\n",
       "      <td>0</td>\n",
       "      <td>2</td>\n",
       "    </tr>\n",
       "    <tr>\n",
       "      <th>4</th>\n",
       "      <td>1821</td>\n",
       "      <td>1</td>\n",
       "      <td>1.2</td>\n",
       "      <td>0</td>\n",
       "      <td>13</td>\n",
       "      <td>1</td>\n",
       "      <td>44</td>\n",
       "      <td>0.6</td>\n",
       "      <td>141</td>\n",
       "      <td>2</td>\n",
       "      <td>...</td>\n",
       "      <td>1208</td>\n",
       "      <td>1212</td>\n",
       "      <td>1411</td>\n",
       "      <td>8</td>\n",
       "      <td>2</td>\n",
       "      <td>15</td>\n",
       "      <td>1</td>\n",
       "      <td>1</td>\n",
       "      <td>0</td>\n",
       "      <td>1</td>\n",
       "    </tr>\n",
       "    <tr>\n",
       "      <th>...</th>\n",
       "      <td>...</td>\n",
       "      <td>...</td>\n",
       "      <td>...</td>\n",
       "      <td>...</td>\n",
       "      <td>...</td>\n",
       "      <td>...</td>\n",
       "      <td>...</td>\n",
       "      <td>...</td>\n",
       "      <td>...</td>\n",
       "      <td>...</td>\n",
       "      <td>...</td>\n",
       "      <td>...</td>\n",
       "      <td>...</td>\n",
       "      <td>...</td>\n",
       "      <td>...</td>\n",
       "      <td>...</td>\n",
       "      <td>...</td>\n",
       "      <td>...</td>\n",
       "      <td>...</td>\n",
       "      <td>...</td>\n",
       "      <td>...</td>\n",
       "    </tr>\n",
       "    <tr>\n",
       "      <th>1795</th>\n",
       "      <td>527</td>\n",
       "      <td>0</td>\n",
       "      <td>0.7</td>\n",
       "      <td>1</td>\n",
       "      <td>4</td>\n",
       "      <td>0</td>\n",
       "      <td>53</td>\n",
       "      <td>0.9</td>\n",
       "      <td>128</td>\n",
       "      <td>1</td>\n",
       "      <td>...</td>\n",
       "      <td>67</td>\n",
       "      <td>1924</td>\n",
       "      <td>1302</td>\n",
       "      <td>13</td>\n",
       "      <td>7</td>\n",
       "      <td>13</td>\n",
       "      <td>0</td>\n",
       "      <td>0</td>\n",
       "      <td>0</td>\n",
       "      <td>0</td>\n",
       "    </tr>\n",
       "    <tr>\n",
       "      <th>1796</th>\n",
       "      <td>793</td>\n",
       "      <td>1</td>\n",
       "      <td>2.8</td>\n",
       "      <td>1</td>\n",
       "      <td>1</td>\n",
       "      <td>1</td>\n",
       "      <td>64</td>\n",
       "      <td>0.4</td>\n",
       "      <td>179</td>\n",
       "      <td>4</td>\n",
       "      <td>...</td>\n",
       "      <td>818</td>\n",
       "      <td>1006</td>\n",
       "      <td>2296</td>\n",
       "      <td>12</td>\n",
       "      <td>0</td>\n",
       "      <td>5</td>\n",
       "      <td>1</td>\n",
       "      <td>1</td>\n",
       "      <td>0</td>\n",
       "      <td>1</td>\n",
       "    </tr>\n",
       "    <tr>\n",
       "      <th>1797</th>\n",
       "      <td>873</td>\n",
       "      <td>1</td>\n",
       "      <td>0.5</td>\n",
       "      <td>1</td>\n",
       "      <td>6</td>\n",
       "      <td>0</td>\n",
       "      <td>8</td>\n",
       "      <td>0.6</td>\n",
       "      <td>152</td>\n",
       "      <td>7</td>\n",
       "      <td>...</td>\n",
       "      <td>1257</td>\n",
       "      <td>1411</td>\n",
       "      <td>575</td>\n",
       "      <td>15</td>\n",
       "      <td>8</td>\n",
       "      <td>7</td>\n",
       "      <td>1</td>\n",
       "      <td>0</td>\n",
       "      <td>1</td>\n",
       "      <td>0</td>\n",
       "    </tr>\n",
       "    <tr>\n",
       "      <th>1798</th>\n",
       "      <td>722</td>\n",
       "      <td>0</td>\n",
       "      <td>1.1</td>\n",
       "      <td>0</td>\n",
       "      <td>12</td>\n",
       "      <td>0</td>\n",
       "      <td>12</td>\n",
       "      <td>1.0</td>\n",
       "      <td>93</td>\n",
       "      <td>6</td>\n",
       "      <td>...</td>\n",
       "      <td>138</td>\n",
       "      <td>1371</td>\n",
       "      <td>2359</td>\n",
       "      <td>13</td>\n",
       "      <td>6</td>\n",
       "      <td>3</td>\n",
       "      <td>0</td>\n",
       "      <td>0</td>\n",
       "      <td>0</td>\n",
       "      <td>1</td>\n",
       "    </tr>\n",
       "    <tr>\n",
       "      <th>1799</th>\n",
       "      <td>1250</td>\n",
       "      <td>1</td>\n",
       "      <td>1.5</td>\n",
       "      <td>0</td>\n",
       "      <td>14</td>\n",
       "      <td>1</td>\n",
       "      <td>20</td>\n",
       "      <td>0.4</td>\n",
       "      <td>167</td>\n",
       "      <td>5</td>\n",
       "      <td>...</td>\n",
       "      <td>11</td>\n",
       "      <td>1020</td>\n",
       "      <td>3314</td>\n",
       "      <td>6</td>\n",
       "      <td>5</td>\n",
       "      <td>6</td>\n",
       "      <td>1</td>\n",
       "      <td>1</td>\n",
       "      <td>1</td>\n",
       "      <td>2</td>\n",
       "    </tr>\n",
       "  </tbody>\n",
       "</table>\n",
       "<p>1800 rows × 21 columns</p>\n",
       "</div>"
      ],
      "text/plain": [
       "      battery_power  blue  clock_speed  dual_sim  fc  four_g  int_memory  \\\n",
       "0               842     0          2.2         0   1       0           7   \n",
       "1              1021     1          0.5         1   0       1          53   \n",
       "2               563     1          0.5         1   2       1          41   \n",
       "3               615     1          2.5         0   0       0          10   \n",
       "4              1821     1          1.2         0  13       1          44   \n",
       "...             ...   ...          ...       ...  ..     ...         ...   \n",
       "1795            527     0          0.7         1   4       0          53   \n",
       "1796            793     1          2.8         1   1       1          64   \n",
       "1797            873     1          0.5         1   6       0           8   \n",
       "1798            722     0          1.1         0  12       0          12   \n",
       "1799           1250     1          1.5         0  14       1          20   \n",
       "\n",
       "      m_dep  mobile_wt  n_cores  ...  px_height  px_width   ram  sc_h  sc_w  \\\n",
       "0       0.6        188        2  ...         20       756  2549     9     7   \n",
       "1       0.7        136        3  ...        905      1988  2631    17     3   \n",
       "2       0.9        145        5  ...       1263      1716  2603    11     2   \n",
       "3       0.8        131        6  ...       1216      1786  2769    16     8   \n",
       "4       0.6        141        2  ...       1208      1212  1411     8     2   \n",
       "...     ...        ...      ...  ...        ...       ...   ...   ...   ...   \n",
       "1795    0.9        128        1  ...         67      1924  1302    13     7   \n",
       "1796    0.4        179        4  ...        818      1006  2296    12     0   \n",
       "1797    0.6        152        7  ...       1257      1411   575    15     8   \n",
       "1798    1.0         93        6  ...        138      1371  2359    13     6   \n",
       "1799    0.4        167        5  ...         11      1020  3314     6     5   \n",
       "\n",
       "      talk_time  three_g  touch_screen  wifi  price_range  \n",
       "0            19        0             0     1            1  \n",
       "1             7        1             1     0            2  \n",
       "2             9        1             1     0            2  \n",
       "3            11        1             0     0            2  \n",
       "4            15        1             1     0            1  \n",
       "...         ...      ...           ...   ...          ...  \n",
       "1795         13        0             0     0            0  \n",
       "1796          5        1             1     0            1  \n",
       "1797          7        1             0     1            0  \n",
       "1798          3        0             0     0            1  \n",
       "1799          6        1             1     1            2  \n",
       "\n",
       "[1800 rows x 21 columns]"
      ]
     },
     "execution_count": 27,
     "metadata": {},
     "output_type": "execute_result"
    }
   ],
   "source": [
    "# read datasets\n",
    "df_train = pd.read_csv('../data/train.csv', sep=',')\n",
    "df_test = df_train[-200:]\n",
    "df_train = df_train[:-200]\n",
    "df_train"
   ]
  },
  {
   "cell_type": "code",
   "execution_count": 28,
   "metadata": {},
   "outputs": [
    {
     "data": {
      "text/html": [
       "<div>\n",
       "<style scoped>\n",
       "    .dataframe tbody tr th:only-of-type {\n",
       "        vertical-align: middle;\n",
       "    }\n",
       "\n",
       "    .dataframe tbody tr th {\n",
       "        vertical-align: top;\n",
       "    }\n",
       "\n",
       "    .dataframe thead th {\n",
       "        text-align: right;\n",
       "    }\n",
       "</style>\n",
       "<table border=\"1\" class=\"dataframe\">\n",
       "  <thead>\n",
       "    <tr style=\"text-align: right;\">\n",
       "      <th></th>\n",
       "      <th>battery_power</th>\n",
       "      <th>blue</th>\n",
       "      <th>clock_speed</th>\n",
       "      <th>dual_sim</th>\n",
       "      <th>fc</th>\n",
       "      <th>four_g</th>\n",
       "      <th>int_memory</th>\n",
       "      <th>m_dep</th>\n",
       "      <th>mobile_wt</th>\n",
       "      <th>n_cores</th>\n",
       "      <th>...</th>\n",
       "      <th>px_height</th>\n",
       "      <th>px_width</th>\n",
       "      <th>ram</th>\n",
       "      <th>sc_h</th>\n",
       "      <th>sc_w</th>\n",
       "      <th>talk_time</th>\n",
       "      <th>three_g</th>\n",
       "      <th>touch_screen</th>\n",
       "      <th>wifi</th>\n",
       "      <th>price_range</th>\n",
       "    </tr>\n",
       "  </thead>\n",
       "  <tbody>\n",
       "    <tr>\n",
       "      <th>1800</th>\n",
       "      <td>1358</td>\n",
       "      <td>0</td>\n",
       "      <td>1.7</td>\n",
       "      <td>0</td>\n",
       "      <td>0</td>\n",
       "      <td>0</td>\n",
       "      <td>60</td>\n",
       "      <td>0.6</td>\n",
       "      <td>147</td>\n",
       "      <td>3</td>\n",
       "      <td>...</td>\n",
       "      <td>889</td>\n",
       "      <td>1635</td>\n",
       "      <td>440</td>\n",
       "      <td>14</td>\n",
       "      <td>10</td>\n",
       "      <td>13</td>\n",
       "      <td>1</td>\n",
       "      <td>0</td>\n",
       "      <td>0</td>\n",
       "      <td>0</td>\n",
       "    </tr>\n",
       "    <tr>\n",
       "      <th>1801</th>\n",
       "      <td>1035</td>\n",
       "      <td>1</td>\n",
       "      <td>1.9</td>\n",
       "      <td>1</td>\n",
       "      <td>8</td>\n",
       "      <td>0</td>\n",
       "      <td>11</td>\n",
       "      <td>1.0</td>\n",
       "      <td>173</td>\n",
       "      <td>6</td>\n",
       "      <td>...</td>\n",
       "      <td>831</td>\n",
       "      <td>1709</td>\n",
       "      <td>2002</td>\n",
       "      <td>17</td>\n",
       "      <td>8</td>\n",
       "      <td>5</td>\n",
       "      <td>1</td>\n",
       "      <td>1</td>\n",
       "      <td>0</td>\n",
       "      <td>1</td>\n",
       "    </tr>\n",
       "    <tr>\n",
       "      <th>1802</th>\n",
       "      <td>1289</td>\n",
       "      <td>0</td>\n",
       "      <td>0.8</td>\n",
       "      <td>1</td>\n",
       "      <td>3</td>\n",
       "      <td>1</td>\n",
       "      <td>16</td>\n",
       "      <td>0.9</td>\n",
       "      <td>161</td>\n",
       "      <td>6</td>\n",
       "      <td>...</td>\n",
       "      <td>713</td>\n",
       "      <td>1854</td>\n",
       "      <td>3167</td>\n",
       "      <td>14</td>\n",
       "      <td>8</td>\n",
       "      <td>20</td>\n",
       "      <td>1</td>\n",
       "      <td>1</td>\n",
       "      <td>0</td>\n",
       "      <td>3</td>\n",
       "    </tr>\n",
       "    <tr>\n",
       "      <th>1803</th>\n",
       "      <td>1445</td>\n",
       "      <td>0</td>\n",
       "      <td>2.2</td>\n",
       "      <td>1</td>\n",
       "      <td>2</td>\n",
       "      <td>0</td>\n",
       "      <td>37</td>\n",
       "      <td>0.4</td>\n",
       "      <td>82</td>\n",
       "      <td>2</td>\n",
       "      <td>...</td>\n",
       "      <td>527</td>\n",
       "      <td>1393</td>\n",
       "      <td>3480</td>\n",
       "      <td>17</td>\n",
       "      <td>16</td>\n",
       "      <td>17</td>\n",
       "      <td>1</td>\n",
       "      <td>1</td>\n",
       "      <td>1</td>\n",
       "      <td>3</td>\n",
       "    </tr>\n",
       "    <tr>\n",
       "      <th>1804</th>\n",
       "      <td>1702</td>\n",
       "      <td>1</td>\n",
       "      <td>2.3</td>\n",
       "      <td>1</td>\n",
       "      <td>12</td>\n",
       "      <td>1</td>\n",
       "      <td>47</td>\n",
       "      <td>0.6</td>\n",
       "      <td>107</td>\n",
       "      <td>2</td>\n",
       "      <td>...</td>\n",
       "      <td>1284</td>\n",
       "      <td>1643</td>\n",
       "      <td>595</td>\n",
       "      <td>10</td>\n",
       "      <td>0</td>\n",
       "      <td>19</td>\n",
       "      <td>1</td>\n",
       "      <td>0</td>\n",
       "      <td>1</td>\n",
       "      <td>1</td>\n",
       "    </tr>\n",
       "    <tr>\n",
       "      <th>...</th>\n",
       "      <td>...</td>\n",
       "      <td>...</td>\n",
       "      <td>...</td>\n",
       "      <td>...</td>\n",
       "      <td>...</td>\n",
       "      <td>...</td>\n",
       "      <td>...</td>\n",
       "      <td>...</td>\n",
       "      <td>...</td>\n",
       "      <td>...</td>\n",
       "      <td>...</td>\n",
       "      <td>...</td>\n",
       "      <td>...</td>\n",
       "      <td>...</td>\n",
       "      <td>...</td>\n",
       "      <td>...</td>\n",
       "      <td>...</td>\n",
       "      <td>...</td>\n",
       "      <td>...</td>\n",
       "      <td>...</td>\n",
       "      <td>...</td>\n",
       "    </tr>\n",
       "    <tr>\n",
       "      <th>1995</th>\n",
       "      <td>794</td>\n",
       "      <td>1</td>\n",
       "      <td>0.5</td>\n",
       "      <td>1</td>\n",
       "      <td>0</td>\n",
       "      <td>1</td>\n",
       "      <td>2</td>\n",
       "      <td>0.8</td>\n",
       "      <td>106</td>\n",
       "      <td>6</td>\n",
       "      <td>...</td>\n",
       "      <td>1222</td>\n",
       "      <td>1890</td>\n",
       "      <td>668</td>\n",
       "      <td>13</td>\n",
       "      <td>4</td>\n",
       "      <td>19</td>\n",
       "      <td>1</td>\n",
       "      <td>1</td>\n",
       "      <td>0</td>\n",
       "      <td>0</td>\n",
       "    </tr>\n",
       "    <tr>\n",
       "      <th>1996</th>\n",
       "      <td>1965</td>\n",
       "      <td>1</td>\n",
       "      <td>2.6</td>\n",
       "      <td>1</td>\n",
       "      <td>0</td>\n",
       "      <td>0</td>\n",
       "      <td>39</td>\n",
       "      <td>0.2</td>\n",
       "      <td>187</td>\n",
       "      <td>4</td>\n",
       "      <td>...</td>\n",
       "      <td>915</td>\n",
       "      <td>1965</td>\n",
       "      <td>2032</td>\n",
       "      <td>11</td>\n",
       "      <td>10</td>\n",
       "      <td>16</td>\n",
       "      <td>1</td>\n",
       "      <td>1</td>\n",
       "      <td>1</td>\n",
       "      <td>2</td>\n",
       "    </tr>\n",
       "    <tr>\n",
       "      <th>1997</th>\n",
       "      <td>1911</td>\n",
       "      <td>0</td>\n",
       "      <td>0.9</td>\n",
       "      <td>1</td>\n",
       "      <td>1</td>\n",
       "      <td>1</td>\n",
       "      <td>36</td>\n",
       "      <td>0.7</td>\n",
       "      <td>108</td>\n",
       "      <td>8</td>\n",
       "      <td>...</td>\n",
       "      <td>868</td>\n",
       "      <td>1632</td>\n",
       "      <td>3057</td>\n",
       "      <td>9</td>\n",
       "      <td>1</td>\n",
       "      <td>5</td>\n",
       "      <td>1</td>\n",
       "      <td>1</td>\n",
       "      <td>0</td>\n",
       "      <td>3</td>\n",
       "    </tr>\n",
       "    <tr>\n",
       "      <th>1998</th>\n",
       "      <td>1512</td>\n",
       "      <td>0</td>\n",
       "      <td>0.9</td>\n",
       "      <td>0</td>\n",
       "      <td>4</td>\n",
       "      <td>1</td>\n",
       "      <td>46</td>\n",
       "      <td>0.1</td>\n",
       "      <td>145</td>\n",
       "      <td>5</td>\n",
       "      <td>...</td>\n",
       "      <td>336</td>\n",
       "      <td>670</td>\n",
       "      <td>869</td>\n",
       "      <td>18</td>\n",
       "      <td>10</td>\n",
       "      <td>19</td>\n",
       "      <td>1</td>\n",
       "      <td>1</td>\n",
       "      <td>1</td>\n",
       "      <td>0</td>\n",
       "    </tr>\n",
       "    <tr>\n",
       "      <th>1999</th>\n",
       "      <td>510</td>\n",
       "      <td>1</td>\n",
       "      <td>2.0</td>\n",
       "      <td>1</td>\n",
       "      <td>5</td>\n",
       "      <td>1</td>\n",
       "      <td>45</td>\n",
       "      <td>0.9</td>\n",
       "      <td>168</td>\n",
       "      <td>6</td>\n",
       "      <td>...</td>\n",
       "      <td>483</td>\n",
       "      <td>754</td>\n",
       "      <td>3919</td>\n",
       "      <td>19</td>\n",
       "      <td>4</td>\n",
       "      <td>2</td>\n",
       "      <td>1</td>\n",
       "      <td>1</td>\n",
       "      <td>1</td>\n",
       "      <td>3</td>\n",
       "    </tr>\n",
       "  </tbody>\n",
       "</table>\n",
       "<p>200 rows × 21 columns</p>\n",
       "</div>"
      ],
      "text/plain": [
       "      battery_power  blue  clock_speed  dual_sim  fc  four_g  int_memory  \\\n",
       "1800           1358     0          1.7         0   0       0          60   \n",
       "1801           1035     1          1.9         1   8       0          11   \n",
       "1802           1289     0          0.8         1   3       1          16   \n",
       "1803           1445     0          2.2         1   2       0          37   \n",
       "1804           1702     1          2.3         1  12       1          47   \n",
       "...             ...   ...          ...       ...  ..     ...         ...   \n",
       "1995            794     1          0.5         1   0       1           2   \n",
       "1996           1965     1          2.6         1   0       0          39   \n",
       "1997           1911     0          0.9         1   1       1          36   \n",
       "1998           1512     0          0.9         0   4       1          46   \n",
       "1999            510     1          2.0         1   5       1          45   \n",
       "\n",
       "      m_dep  mobile_wt  n_cores  ...  px_height  px_width   ram  sc_h  sc_w  \\\n",
       "1800    0.6        147        3  ...        889      1635   440    14    10   \n",
       "1801    1.0        173        6  ...        831      1709  2002    17     8   \n",
       "1802    0.9        161        6  ...        713      1854  3167    14     8   \n",
       "1803    0.4         82        2  ...        527      1393  3480    17    16   \n",
       "1804    0.6        107        2  ...       1284      1643   595    10     0   \n",
       "...     ...        ...      ...  ...        ...       ...   ...   ...   ...   \n",
       "1995    0.8        106        6  ...       1222      1890   668    13     4   \n",
       "1996    0.2        187        4  ...        915      1965  2032    11    10   \n",
       "1997    0.7        108        8  ...        868      1632  3057     9     1   \n",
       "1998    0.1        145        5  ...        336       670   869    18    10   \n",
       "1999    0.9        168        6  ...        483       754  3919    19     4   \n",
       "\n",
       "      talk_time  three_g  touch_screen  wifi  price_range  \n",
       "1800         13        1             0     0            0  \n",
       "1801          5        1             1     0            1  \n",
       "1802         20        1             1     0            3  \n",
       "1803         17        1             1     1            3  \n",
       "1804         19        1             0     1            1  \n",
       "...         ...      ...           ...   ...          ...  \n",
       "1995         19        1             1     0            0  \n",
       "1996         16        1             1     1            2  \n",
       "1997          5        1             1     0            3  \n",
       "1998         19        1             1     1            0  \n",
       "1999          2        1             1     1            3  \n",
       "\n",
       "[200 rows x 21 columns]"
      ]
     },
     "execution_count": 28,
     "metadata": {},
     "output_type": "execute_result"
    }
   ],
   "source": [
    "df_test"
   ]
  },
  {
   "cell_type": "code",
   "execution_count": 29,
   "metadata": {},
   "outputs": [
    {
     "data": {
      "text/plain": [
       "array([[8.420e+02, 0.000e+00, 2.200e+00, ..., 0.000e+00, 0.000e+00,\n",
       "        1.000e+00],\n",
       "       [1.021e+03, 1.000e+00, 5.000e-01, ..., 1.000e+00, 1.000e+00,\n",
       "        0.000e+00],\n",
       "       [5.630e+02, 1.000e+00, 5.000e-01, ..., 1.000e+00, 1.000e+00,\n",
       "        0.000e+00],\n",
       "       ...,\n",
       "       [8.730e+02, 1.000e+00, 5.000e-01, ..., 1.000e+00, 0.000e+00,\n",
       "        1.000e+00],\n",
       "       [7.220e+02, 0.000e+00, 1.100e+00, ..., 0.000e+00, 0.000e+00,\n",
       "        0.000e+00],\n",
       "       [1.250e+03, 1.000e+00, 1.500e+00, ..., 1.000e+00, 1.000e+00,\n",
       "        1.000e+00]], dtype=float32)"
      ]
     },
     "execution_count": 29,
     "metadata": {},
     "output_type": "execute_result"
    }
   ],
   "source": [
    "X_train = df_train.values[:, :-1]       # store the inputs\n",
    "X_train = X_train.astype('float32')     # input data as floats\n",
    "X_train"
   ]
  },
  {
   "cell_type": "code",
   "execution_count": 30,
   "metadata": {},
   "outputs": [
    {
     "data": {
      "text/plain": [
       "array([[1.358e+03, 0.000e+00, 1.700e+00, ..., 1.000e+00, 0.000e+00,\n",
       "        0.000e+00],\n",
       "       [1.035e+03, 1.000e+00, 1.900e+00, ..., 1.000e+00, 1.000e+00,\n",
       "        0.000e+00],\n",
       "       [1.289e+03, 0.000e+00, 8.000e-01, ..., 1.000e+00, 1.000e+00,\n",
       "        0.000e+00],\n",
       "       ...,\n",
       "       [1.911e+03, 0.000e+00, 9.000e-01, ..., 1.000e+00, 1.000e+00,\n",
       "        0.000e+00],\n",
       "       [1.512e+03, 0.000e+00, 9.000e-01, ..., 1.000e+00, 1.000e+00,\n",
       "        1.000e+00],\n",
       "       [5.100e+02, 1.000e+00, 2.000e+00, ..., 1.000e+00, 1.000e+00,\n",
       "        1.000e+00]], dtype=float32)"
      ]
     },
     "execution_count": 30,
     "metadata": {},
     "output_type": "execute_result"
    }
   ],
   "source": [
    "X_test = df_test.values[:, :-1]       # store the inputs\n",
    "X_test = X_test.astype('float32')     # input data as floats\n",
    "X_test"
   ]
  },
  {
   "cell_type": "code",
   "execution_count": 31,
   "metadata": {},
   "outputs": [
    {
     "data": {
      "text/plain": [
       "array([1, 2, 2, ..., 0, 1, 2])"
      ]
     },
     "execution_count": 31,
     "metadata": {},
     "output_type": "execute_result"
    }
   ],
   "source": [
    "y_train = df_train.values[:, -1]  # store the outputs\n",
    "y_train = y_train.astype('int')     # input data as floats\n",
    "y_train"
   ]
  },
  {
   "cell_type": "code",
   "execution_count": 32,
   "metadata": {},
   "outputs": [
    {
     "data": {
      "text/plain": [
       "array([0, 1, 3, 3, 1, 2, 1, 0, 0, 1, 0, 1, 0, 0, 1, 3, 3, 1, 0, 2, 0, 3,\n",
       "       1, 2, 2, 1, 2, 3, 3, 0, 0, 1, 2, 2, 2, 1, 2, 1, 0, 2, 3, 0, 0, 3,\n",
       "       0, 3, 0, 0, 3, 3, 0, 3, 0, 0, 0, 0, 3, 3, 2, 0, 0, 0, 0, 3, 0, 2,\n",
       "       3, 2, 3, 3, 2, 3, 1, 0, 2, 0, 0, 1, 1, 1, 2, 2, 0, 0, 3, 0, 1, 2,\n",
       "       0, 3, 1, 0, 0, 3, 0, 1, 0, 3, 3, 0, 1, 2, 2, 2, 3, 0, 1, 3, 3, 1,\n",
       "       3, 0, 1, 0, 0, 2, 1, 0, 2, 0, 3, 1, 0, 2, 1, 2, 1, 3, 0, 2, 3, 1,\n",
       "       1, 1, 2, 1, 3, 2, 2, 2, 2, 3, 1, 0, 0, 0, 0, 2, 1, 2, 1, 0, 1, 3,\n",
       "       0, 3, 0, 3, 3, 1, 2, 0, 2, 1, 1, 0, 2, 1, 0, 2, 2, 1, 0, 3, 1, 3,\n",
       "       0, 2, 1, 1, 1, 1, 2, 2, 1, 3, 1, 0, 1, 1, 0, 3, 0, 3, 3, 0, 2, 3,\n",
       "       0, 3])"
      ]
     },
     "execution_count": 32,
     "metadata": {},
     "output_type": "execute_result"
    }
   ],
   "source": [
    "y_test = df_test.values[:, -1]  # store the outputs\n",
    "y_test = y_test.astype('int')     # input data as floats\n",
    "y_test"
   ]
  },
  {
   "cell_type": "code",
   "execution_count": 33,
   "metadata": {},
   "outputs": [
    {
     "data": {
      "text/plain": [
       "<torch.utils.data.dataset.TensorDataset at 0x7f2fdde6cd60>"
      ]
     },
     "execution_count": 33,
     "metadata": {},
     "output_type": "execute_result"
    }
   ],
   "source": [
    "# make dataset from X and y\n",
    "train_ds = TensorDataset(torch.tensor(X_train), torch.tensor(y_train, dtype=torch.long))\n",
    "train_ds"
   ]
  },
  {
   "cell_type": "code",
   "execution_count": 34,
   "metadata": {},
   "outputs": [
    {
     "data": {
      "text/plain": [
       "<torch.utils.data.dataset.TensorDataset at 0x7f2f31fc4bb0>"
      ]
     },
     "execution_count": 34,
     "metadata": {},
     "output_type": "execute_result"
    }
   ],
   "source": [
    "# make dataset from X and y\n",
    "test_ds = TensorDataset(torch.tensor(X_test), torch.tensor(y_test, dtype=torch.long))\n",
    "test_ds"
   ]
  },
  {
   "cell_type": "code",
   "execution_count": 35,
   "metadata": {},
   "outputs": [],
   "source": [
    "default_config = {\n",
    "    'dense1': 256,\n",
    "    'learning_rate': 0.01,\n",
    "    'epochs': 100,\n",
    "    'batch_size': 128\n",
    "}"
   ]
  },
  {
   "cell_type": "code",
   "execution_count": 36,
   "metadata": {},
   "outputs": [
    {
     "name": "stdout",
     "output_type": "stream",
     "text": [
      "<torch.utils.data.dataset.TensorDataset object at 0x7f2fdde6cd60>\n",
      "<torch.utils.data.dataset.TensorDataset object at 0x7f2fdde6cd60>\n"
     ]
    }
   ],
   "source": [
    "tf_train, tf_val = split_train_val(train_ds)\n",
    "\n",
    "print(tf_train.dataset)\n",
    "print(tf_val.dataset)"
   ]
  },
  {
   "attachments": {},
   "cell_type": "markdown",
   "metadata": {},
   "source": [
    "## Model"
   ]
  },
  {
   "cell_type": "code",
   "execution_count": 39,
   "metadata": {},
   "outputs": [],
   "source": [
    "class MLP(nn.Module):\n",
    "    \"\"\" \n",
    "    Model class.\n",
    "    :param Module from torch.nn\n",
    "    \"\"\"\n",
    "    def __init__(self, n_inputs: int, n_classes: int, lr: float, config) -> None:\n",
    "        \"\"\"\n",
    "        Model elements init.\n",
    "        \"\"\"\n",
    "        super(MLP, self).__init__()\n",
    "        self.n_inputs = n_inputs\n",
    "        self.n_classes = n_classes\n",
    "        self.lr = lr\n",
    "        self.hidden_size = config.dense1\n",
    "        # self.hidden_size = hidden_size\n",
    "    \n",
    "        # input to first hidden layer\n",
    "        # pridať hlbku aj šírku siete\n",
    "        # skúsiť normalizovať dáta\n",
    "        self.dense1 = nn.Linear(n_inputs, self.hidden_size)\n",
    "        self.dense2 = nn.Linear(self.hidden_size, self.hidden_size)\n",
    "        self.dense3 = nn.Linear(self.hidden_size, self.hidden_size)\n",
    "        self.dense4 = nn.Linear(self.hidden_size, self.hidden_size)\n",
    "        self.dense5 = nn.Linear(self.hidden_size, self.hidden_size)\n",
    "        self.dense6 = nn.Linear(self.hidden_size, self.n_classes)\n",
    "        \n",
    "        # activation f\n",
    "        self.relu = nn.ReLU()\n",
    "        # prv začat bez dropout, ptm pridat, pozrieť sa na parametre \n",
    "        # dropout pomaha proti preuceniu\n",
    "        self.droput = nn.Dropout(p=0.05)\n",
    " \n",
    "    def forward(self, X:torch.Tensor) -> torch.Tensor:\n",
    "        \"\"\"\n",
    "        Feed forward\n",
    "        \"\"\"\n",
    "        # print(type(X))\n",
    "        #print(self.n_inputs)\n",
    "        # input to first hidden layer\n",
    "        output = self.dense1(X)\n",
    "        output = self.relu(output)\n",
    "        output = self.droput(output)\n",
    "        \n",
    "        # second hidden layer\n",
    "        output = self.dense2(output)\n",
    "        output = self.relu(output)\n",
    "        output = self.droput(output)\n",
    "\n",
    "        # third hidden layer\n",
    "        output = self.dense3(output)\n",
    "        output = self.relu(output)\n",
    "        output = self.droput(output)\n",
    "        \n",
    "        # second hidden layer\n",
    "        output = self.dense4(output)\n",
    "        output = self.relu(output)\n",
    "        output = self.droput(output)\n",
    "        \n",
    "        # second hidden layer\n",
    "        output = self.dense5(output)\n",
    "        output = self.relu(output)\n",
    "        output = self.droput(output)\n",
    "\n",
    "        # final layer and output\n",
    "        output = self.dense6(output)\n",
    "        # print(type(output))\n",
    "\n",
    "        # print(type(output))\n",
    "        return output"
   ]
  },
  {
   "cell_type": "code",
   "execution_count": 42,
   "metadata": {},
   "outputs": [
    {
     "name": "stdout",
     "output_type": "stream",
     "text": [
      "{'early_terminate': {'min_iter': 5, 'type': 'hyperband'},\n",
      " 'method': 'bayes',\n",
      " 'metric': {'goal': 'maximize', 'name': 'validation_accuracy'},\n",
      " 'name': 'NSIETE_zad1_final',\n",
      " 'parameters': {'batch_size': {'values': [128, 256, 512, 1024]},\n",
      "                'dense1': {'values': [256, 512]},\n",
      "                'epochs': {'values': [100, 500, 1000]},\n",
      "                'learning_rate': {'max': 0.1, 'min': 0.001}}}\n",
      "Create sweep with ID: 1stel95e\n",
      "Sweep URL: https://wandb.ai/xmatovice/uncategorized/sweeps/1stel95e\n"
     ]
    }
   ],
   "source": [
    "sweep_config = {\n",
    "    'name': 'NSIETE_zad1_final',\n",
    "    'method': 'bayes',\n",
    "    'metric': {\n",
    "        'name': 'validation_accuracy', \n",
    "        'goal': 'maximize' \n",
    "    },\n",
    "    'early_terminate':{\n",
    "        'type': 'hyperband',\n",
    "        'min_iter': 5\n",
    "    },\n",
    "    'parameters': {\n",
    "        'batch_size': {\n",
    "            'values': [128, 256, 512, 1024]\n",
    "        },\n",
    "        'epochs': {\n",
    "            'values': [100, 500, 1000]\n",
    "        },\n",
    "        'learning_rate': {\n",
    "            'min': 0.001,\n",
    "            'max': 0.1\n",
    "        },\n",
    "        'dense1': {\n",
    "            'values': [256, 512]\n",
    "        },\n",
    "    }\n",
    "}\n",
    "\n",
    "pprint(sweep_config)\n",
    "\n",
    "sweep_id = wandb.sweep(sweep_config)"
   ]
  },
  {
   "cell_type": "code",
   "execution_count": 43,
   "metadata": {},
   "outputs": [],
   "source": [
    "# Calculate accuracy (a classification metric)\n",
    "def accuracy_fn(y_true, y_pred):\n",
    "    correct = torch.eq(y_true, y_pred).sum().item() # torch.eq() calculates where two tensors are equal\n",
    "    return correct\n",
    "\n",
    "\n",
    "def train_mlp(n_epochs, mlp, optimizer, loss_fn, \n",
    "              train_dl, val_dl, device, batch_size):\n",
    "    # init train lists for statistics\n",
    "    loss_train, accuracy_train = list(), list()\n",
    "\n",
    "    # init validation lists for statistics\n",
    "    loss_validation, accuracy_validation = list(), list()\n",
    "\n",
    "    # enumerate epochs\n",
    "    for epoch in range(n_epochs):\n",
    "        # init epoch train counters\n",
    "        epoch_train_accuracy, epoch_train_total, epoch_train_true, epoch_train_loss = 0, 0, 0, 0\n",
    "\n",
    "        # init epoch validation counters\n",
    "        epoch_validation_accuracy, epoch_validation_total, \\\n",
    "            epoch_validation_true, epoch_validation_loss = 0, 0, 0, 0\n",
    "\n",
    "        # enumerate mini batches\n",
    "        for idx, (X_batch, y_batch) in enumerate(train_dl):\n",
    "            X_batch, y_batch = X_batch.to(device), y_batch.to(device)\n",
    "            # clear the gradients\n",
    "            optimizer.zero_grad()\n",
    "            # compute the model output\n",
    "            # Make prediction logits with model\n",
    "            y_logits = mlp(X_batch)\n",
    "            # Perform softmax calculation on logits across dimension 1 to get prediction probabilities\n",
    "            y_pred_probs = torch.softmax(y_logits, dim=1) \n",
    "            # go from logits -> prediction probabilities -> prediction labels\n",
    "            y_pred = torch.argmax(y_pred_probs, dim=1) \n",
    "            \n",
    "            loss = loss_fn(y_logits, y_batch)\n",
    "            # credit assignment\n",
    "            loss.backward()\n",
    "            # update model weights\n",
    "            optimizer.step()\n",
    "\n",
    "            # update train counters\n",
    "            epoch_train_loss += loss.item()\n",
    "            epoch_train_true = accuracy_fn(y_batch, y_pred)\n",
    "            epoch_train_total += len(y_batch)\n",
    "        \n",
    "        # update train accuracy & loss statistics\n",
    "        epoch_train_accuracy = (epoch_train_true/epoch_train_total) * 100\n",
    "        epoch_train_loss /= (len(train_dl.dataset)/train_dl.batch_size)\n",
    "\n",
    "        # disable gradient calculation\n",
    "        with torch.no_grad():\n",
    "            # enumerate mini batches\n",
    "            for idx, (X_batch, y_batch) in enumerate(val_dl):\n",
    "                X_batch, y_batch = X_batch.to(device), y_batch.to(device)\n",
    "                # compute the models output\n",
    "                test_logits = mlp(X_batch)\n",
    "                test_pred = torch.softmax(test_logits, dim=1).argmax(dim=1)\n",
    "                # calculate loss\n",
    "                loss = loss_fn(test_logits, y_batch)\n",
    "\n",
    "                # update validation counters\n",
    "                epoch_validation_loss += loss.item()\n",
    "                epoch_validation_true = accuracy_fn(y_batch, test_pred)\n",
    "                epoch_validation_total += len(y_batch)\n",
    "        \n",
    "        # update validation accuracy & loss statistics\n",
    "        epoch_validation_accuracy = (epoch_validation_true/epoch_validation_total) * 100\n",
    "        epoch_validation_loss /= (len(val_dl.dataset)/val_dl.batch_size)\n",
    "\n",
    "        # update global epochs statistics\n",
    "        loss_train.append(epoch_train_loss)\n",
    "        accuracy_train.append(epoch_train_accuracy)\n",
    "        loss_validation.append(epoch_validation_loss)\n",
    "        accuracy_validation.append(epoch_validation_accuracy)\n",
    "\n",
    "        # log metrics to WandB\n",
    "        wandb.log({\"train loss\": epoch_train_loss, \n",
    "                  \"val_loss\": epoch_validation_loss,\n",
    "                  \"train accuracy\": epoch_train_accuracy,\n",
    "                  \"validation accuracy\": epoch_validation_accuracy})\n",
    "\n",
    "        # print\n",
    "        if epoch == (n_epochs - 1): # 99:\n",
    "            print(\n",
    "                f'Epoch {epoch}/{n_epochs}: \\\n",
    "                train loss {loss_train[-1]}, \\\n",
    "                validation loss {loss_validation[-1]}, \\\n",
    "                train accuracy {accuracy_train[-1]}, \\\n",
    "                validation accuracy {accuracy_validation[-1]}'\n",
    "            )"
   ]
  },
  {
   "cell_type": "code",
   "execution_count": 44,
   "metadata": {},
   "outputs": [],
   "source": [
    "def evaluation(mlp, test_dl):\n",
    "    y_pred_all, y_test_all = list(), list()\n",
    "\n",
    "    total = 0\n",
    "    correct = 0\n",
    "\n",
    "    with torch.no_grad():\n",
    "        for X_batch, y_batch in test_dl:\n",
    "            # outputs = mlp(X_batch)\n",
    "            # evaluate on test set\n",
    "            X_batch, y_batch = X_batch.to(device), y_batch.to(device)\n",
    "            y_hat = mlp(X_batch)\n",
    "            test_pred = torch.softmax(y_hat, dim=1).argmax(dim=1)\n",
    "            epoch_validation_true = accuracy_fn(y_batch, test_pred)\n",
    "            \n",
    "            print('Accuracy epoch: %.3f' % ((epoch_validation_true / len(y_batch)) * 100))\n",
    "            y_pred_all.extend(test_pred.cpu().numpy())\n",
    "            y_test_all.extend(y_batch.cpu().numpy())\n",
    "            #total += len(y_batch)\n",
    "            correct += epoch_validation_true\n",
    "\n",
    "    # return y_test_all, y_pred_all\n",
    "    acc = ((correct / len(test_dl.dataset)) * 100)\n",
    "    print('Accuracy total: %.3f' % acc)\n",
    "    wandb.log({'test accuracy': acc})\n",
    "\n",
    "    report = classification_report(y_test_all, y_pred_all, target_names=['0', '1', '2', '3'], output_dict=True)\n",
    "    #print(report['precision'])\n",
    "    wandb.log({\"macro avg precision\": report['macro avg']['precision'], \n",
    "                \"macro avg recall\": report['macro avg']['recall'],\n",
    "                \"macro avg f1-score\": report['macro avg']['f1-score'],\n",
    "                \"macro avg support\": report['macro avg']['support']})\n",
    "    \n",
    "    wandb.log({\"weighted avg precision\": report['weighted avg']['precision'], \n",
    "                \"weighted avg recall\": report['weighted avg']['recall'],\n",
    "                \"weighted avg f1-score\": report['weighted avg']['f1-score'],\n",
    "                \"weighted avg support\": report['weighted avg']['support']})\n",
    "    return report"
   ]
  },
  {
   "cell_type": "code",
   "execution_count": 45,
   "metadata": {},
   "outputs": [],
   "source": [
    "def wandb_sweep(): #-> Tuple[List, List, List, List]:\n",
    "    \"\"\" \n",
    "    Train the model\n",
    "    n_epochs, mlp, optimizer, loss_fn, \n",
    "              train_dl, val_dl, device, default_config\n",
    "    \"\"\"    \n",
    "    # start a new wandb run to track this script\n",
    "    wandb.init(\n",
    "        # set the wandb project where this run will be logged\n",
    "        project=\"NSIETE_zad1_final\",\n",
    "        # track hyperparameters and run metadata\n",
    "        config=default_config\n",
    "    )\n",
    "\n",
    "    config = wandb.config\n",
    "\n",
    "    learning_rate = config.learning_rate    #  # 0.001 \n",
    "    input_size = 20                         # number of features\n",
    "    # hidden_size = config.hidden_size        #  #64         # number of features in hidden state\n",
    "    num_classes = 4                 # number of output classes \n",
    "\n",
    "    n_epochs = config.epochs        \n",
    "    batch_size = config.batch_size  \n",
    "\n",
    "    train_dl = DataLoader(tf_train, batch_size=batch_size, shuffle=True, num_workers=0)\n",
    "    val_dl = DataLoader(tf_val, batch_size=batch_size, shuffle=False, num_workers=0)\n",
    "    test_dl = DataLoader(test_ds, batch_size=batch_size, shuffle=False, num_workers=0) #.astype('float32')\n",
    "\n",
    "    mlp = MLP( \n",
    "        n_inputs=input_size, \n",
    "        n_classes=num_classes,\n",
    "        lr=learning_rate,\n",
    "        config=config)\n",
    "    mlp.to(device)\n",
    "\n",
    "    loss_fn = nn.CrossEntropyLoss()\n",
    "    optimizer = optim.Adam(mlp.parameters(), lr=learning_rate)\n",
    "    train_mlp(n_epochs, mlp, optimizer, loss_fn, \n",
    "              train_dl, val_dl, device, batch_size)\n",
    "    \n",
    "    classifiaction_report = evaluation(mlp, test_dl)\n",
    "    pprint(classifiaction_report)\n",
    "    # return loss_train, accuracy_train, loss_validation, accuracy_validation"
   ]
  },
  {
   "cell_type": "code",
   "execution_count": 48,
   "metadata": {},
   "outputs": [
    {
     "name": "stderr",
     "output_type": "stream",
     "text": [
      "\u001b[34m\u001b[1mwandb\u001b[0m: Agent Starting Run: 8zwcbboa with config:\n",
      "\u001b[34m\u001b[1mwandb\u001b[0m: \tbatch_size: 256\n",
      "\u001b[34m\u001b[1mwandb\u001b[0m: \tdense1: 256\n",
      "\u001b[34m\u001b[1mwandb\u001b[0m: \tepochs: 100\n",
      "\u001b[34m\u001b[1mwandb\u001b[0m: \tlearning_rate: 0.043535698978630466\n",
      "Failed to detect the name of this notebook, you can set it manually with the WANDB_NOTEBOOK_NAME environment variable to enable code saving.\n",
      "\u001b[34m\u001b[1mwandb\u001b[0m: \u001b[33mWARNING\u001b[0m Ignored wandb.init() arg project when running a sweep.\n"
     ]
    },
    {
     "data": {
      "text/html": [
       "wandb version 0.14.0 is available!  To upgrade, please run:\n",
       " $ pip install wandb --upgrade"
      ],
      "text/plain": [
       "<IPython.core.display.HTML object>"
      ]
     },
     "metadata": {},
     "output_type": "display_data"
    },
    {
     "data": {
      "text/html": [
       "Tracking run with wandb version 0.13.10"
      ],
      "text/plain": [
       "<IPython.core.display.HTML object>"
      ]
     },
     "metadata": {},
     "output_type": "display_data"
    },
    {
     "data": {
      "text/html": [
       "Run data is saved locally in <code>/home/erik/FIIT/2_Ing/2_semester/NSIETE/cvicenia/zadanie1/src/wandb/run-20230326_190221-8zwcbboa</code>"
      ],
      "text/plain": [
       "<IPython.core.display.HTML object>"
      ]
     },
     "metadata": {},
     "output_type": "display_data"
    },
    {
     "data": {
      "text/html": [
       "Syncing run <strong><a href='https://wandb.ai/xmatovice/uncategorized/runs/8zwcbboa' target=\"_blank\">pleasant-sweep-1</a></strong> to <a href='https://wandb.ai/xmatovice/uncategorized' target=\"_blank\">Weights & Biases</a> (<a href='https://wandb.me/run' target=\"_blank\">docs</a>)<br/>Sweep page: <a href='https://wandb.ai/xmatovice/uncategorized/sweeps/1stel95e' target=\"_blank\">https://wandb.ai/xmatovice/uncategorized/sweeps/1stel95e</a>"
      ],
      "text/plain": [
       "<IPython.core.display.HTML object>"
      ]
     },
     "metadata": {},
     "output_type": "display_data"
    },
    {
     "data": {
      "text/html": [
       " View project at <a href='https://wandb.ai/xmatovice/uncategorized' target=\"_blank\">https://wandb.ai/xmatovice/uncategorized</a>"
      ],
      "text/plain": [
       "<IPython.core.display.HTML object>"
      ]
     },
     "metadata": {},
     "output_type": "display_data"
    },
    {
     "data": {
      "text/html": [
       " View sweep at <a href='https://wandb.ai/xmatovice/uncategorized/sweeps/1stel95e' target=\"_blank\">https://wandb.ai/xmatovice/uncategorized/sweeps/1stel95e</a>"
      ],
      "text/plain": [
       "<IPython.core.display.HTML object>"
      ]
     },
     "metadata": {},
     "output_type": "display_data"
    },
    {
     "data": {
      "text/html": [
       " View run at <a href='https://wandb.ai/xmatovice/uncategorized/runs/8zwcbboa' target=\"_blank\">https://wandb.ai/xmatovice/uncategorized/runs/8zwcbboa</a>"
      ],
      "text/plain": [
       "<IPython.core.display.HTML object>"
      ]
     },
     "metadata": {},
     "output_type": "display_data"
    },
    {
     "name": "stdout",
     "output_type": "stream",
     "text": [
      "Epoch 99/100:                 train loss 1.5183715066792052,                 validation loss 1.9561311509874133,                 train accuracy 1.6049382716049383,                 validation accuracy 23.88888888888889\n",
      "Accuracy epoch: 21.000\n",
      "Accuracy total: 21.000\n",
      "{'0': {'f1-score': 0.06153846153846154,\n",
      "       'precision': 1.0,\n",
      "       'recall': 0.031746031746031744,\n",
      "       'support': 63},\n",
      " '1': {'f1-score': 0.0, 'precision': 0.0, 'recall': 0.0, 'support': 49},\n",
      " '2': {'f1-score': 0.03278688524590164,\n",
      "       'precision': 0.05263157894736842,\n",
      "       'recall': 0.023809523809523808,\n",
      "       'support': 42},\n",
      " '3': {'f1-score': 0.3466666666666666,\n",
      "       'precision': 0.21787709497206703,\n",
      "       'recall': 0.8478260869565217,\n",
      "       'support': 46},\n",
      " 'accuracy': 0.21,\n",
      " 'macro avg': {'f1-score': 0.11024800336275745,\n",
      "               'precision': 0.31762716847985883,\n",
      "               'recall': 0.22584541062801933,\n",
      "               'support': 200},\n",
      " 'weighted avg': {'f1-score': 0.10600319461958806,\n",
      "                  'precision': 0.37616436342252285,\n",
      "                  'recall': 0.21,\n",
      "                  'support': 200}}\n"
     ]
    },
    {
     "data": {
      "text/html": [
       "Waiting for W&B process to finish... <strong style=\"color:green\">(success).</strong>"
      ],
      "text/plain": [
       "<IPython.core.display.HTML object>"
      ]
     },
     "metadata": {},
     "output_type": "display_data"
    },
    {
     "data": {
      "application/vnd.jupyter.widget-view+json": {
       "model_id": "147fa752869c4f2080d67c15306cff88",
       "version_major": 2,
       "version_minor": 0
      },
      "text/plain": [
       "VBox(children=(Label(value='0.003 MB of 0.003 MB uploaded (0.000 MB deduped)\\r'), FloatProgress(value=1.0, max…"
      ]
     },
     "metadata": {},
     "output_type": "display_data"
    },
    {
     "data": {
      "text/html": [
       "<style>\n",
       "    table.wandb td:nth-child(1) { padding: 0 10px; text-align: left ; width: auto;} td:nth-child(2) {text-align: left ; width: 100%}\n",
       "    .wandb-row { display: flex; flex-direction: row; flex-wrap: wrap; justify-content: flex-start; width: 100% }\n",
       "    .wandb-col { display: flex; flex-direction: column; flex-basis: 100%; flex: 1; padding: 10px; }\n",
       "    </style>\n",
       "<div class=\"wandb-row\"><div class=\"wandb-col\"><h3>Run history:</h3><br/><table class=\"wandb\"><tr><td>macro avg f1-score</td><td>▁</td></tr><tr><td>macro avg precision</td><td>▁</td></tr><tr><td>macro avg recall</td><td>▁</td></tr><tr><td>macro avg support</td><td>▁</td></tr><tr><td>test accuracy</td><td>▁</td></tr><tr><td>train accuracy</td><td>▄▅▆▁▄▂▆▃▅▄▆▄▄▄▇▆▅▅▃▃▄▃▃▅▄▅▅▃▆▆▆▄█▄▄▅▇▃▄▇</td></tr><tr><td>train loss</td><td>█▁▁▁▁▁▁▁▁▁▁▁▁▁▁▁▁▁▁▁▁▁▁▁▁▁▁▁▁▁▁▁▁▁▁▁▁▁▁▁</td></tr><tr><td>val_loss</td><td>█▁▁▁▁▁▁▁▁▁▁▁▁▁▁▁▁▁▁▁▁▁▁▁▁▁▁▁▁▁▁▁▁▁▁▁▁▁▁▁</td></tr><tr><td>validation accuracy</td><td>▂▅█▆▄▃▅▄▄▆▅▃▅▂▇▇▄▅▃▃▅▆▇▄▅▂▂▅▃▆▂▅▃▆▇▅▁▆▄▄</td></tr><tr><td>weighted avg f1-score</td><td>▁</td></tr><tr><td>weighted avg precision</td><td>▁</td></tr><tr><td>weighted avg recall</td><td>▁</td></tr><tr><td>weighted avg support</td><td>▁</td></tr></table><br/></div><div class=\"wandb-col\"><h3>Run summary:</h3><br/><table class=\"wandb\"><tr><td>macro avg f1-score</td><td>0.11025</td></tr><tr><td>macro avg precision</td><td>0.31763</td></tr><tr><td>macro avg recall</td><td>0.22585</td></tr><tr><td>macro avg support</td><td>200</td></tr><tr><td>test accuracy</td><td>21.0</td></tr><tr><td>train accuracy</td><td>1.60494</td></tr><tr><td>train loss</td><td>1.51837</td></tr><tr><td>val_loss</td><td>1.95613</td></tr><tr><td>validation accuracy</td><td>23.88889</td></tr><tr><td>weighted avg f1-score</td><td>0.106</td></tr><tr><td>weighted avg precision</td><td>0.37616</td></tr><tr><td>weighted avg recall</td><td>0.21</td></tr><tr><td>weighted avg support</td><td>200</td></tr></table><br/></div></div>"
      ],
      "text/plain": [
       "<IPython.core.display.HTML object>"
      ]
     },
     "metadata": {},
     "output_type": "display_data"
    },
    {
     "data": {
      "text/html": [
       " View run <strong style=\"color:#cdcd00\">pleasant-sweep-1</strong> at: <a href='https://wandb.ai/xmatovice/uncategorized/runs/8zwcbboa' target=\"_blank\">https://wandb.ai/xmatovice/uncategorized/runs/8zwcbboa</a><br/>Synced 6 W&B file(s), 0 media file(s), 0 artifact file(s) and 0 other file(s)"
      ],
      "text/plain": [
       "<IPython.core.display.HTML object>"
      ]
     },
     "metadata": {},
     "output_type": "display_data"
    },
    {
     "data": {
      "text/html": [
       "Find logs at: <code>./wandb/run-20230326_190221-8zwcbboa/logs</code>"
      ],
      "text/plain": [
       "<IPython.core.display.HTML object>"
      ]
     },
     "metadata": {},
     "output_type": "display_data"
    },
    {
     "name": "stderr",
     "output_type": "stream",
     "text": [
      "\u001b[34m\u001b[1mwandb\u001b[0m: Agent Starting Run: haee616o with config:\n",
      "\u001b[34m\u001b[1mwandb\u001b[0m: \tbatch_size: 1024\n",
      "\u001b[34m\u001b[1mwandb\u001b[0m: \tdense1: 512\n",
      "\u001b[34m\u001b[1mwandb\u001b[0m: \tepochs: 500\n",
      "\u001b[34m\u001b[1mwandb\u001b[0m: \tlearning_rate: 0.006145288920205471\n",
      "Failed to detect the name of this notebook, you can set it manually with the WANDB_NOTEBOOK_NAME environment variable to enable code saving.\n",
      "\u001b[34m\u001b[1mwandb\u001b[0m: \u001b[33mWARNING\u001b[0m Ignored wandb.init() arg project when running a sweep.\n"
     ]
    },
    {
     "data": {
      "text/html": [
       "wandb version 0.14.0 is available!  To upgrade, please run:\n",
       " $ pip install wandb --upgrade"
      ],
      "text/plain": [
       "<IPython.core.display.HTML object>"
      ]
     },
     "metadata": {},
     "output_type": "display_data"
    },
    {
     "data": {
      "text/html": [
       "Tracking run with wandb version 0.13.10"
      ],
      "text/plain": [
       "<IPython.core.display.HTML object>"
      ]
     },
     "metadata": {},
     "output_type": "display_data"
    },
    {
     "data": {
      "text/html": [
       "Run data is saved locally in <code>/home/erik/FIIT/2_Ing/2_semester/NSIETE/cvicenia/zadanie1/src/wandb/run-20230326_190237-haee616o</code>"
      ],
      "text/plain": [
       "<IPython.core.display.HTML object>"
      ]
     },
     "metadata": {},
     "output_type": "display_data"
    },
    {
     "data": {
      "text/html": [
       "Syncing run <strong><a href='https://wandb.ai/xmatovice/uncategorized/runs/haee616o' target=\"_blank\">mild-sweep-2</a></strong> to <a href='https://wandb.ai/xmatovice/uncategorized' target=\"_blank\">Weights & Biases</a> (<a href='https://wandb.me/run' target=\"_blank\">docs</a>)<br/>Sweep page: <a href='https://wandb.ai/xmatovice/uncategorized/sweeps/1stel95e' target=\"_blank\">https://wandb.ai/xmatovice/uncategorized/sweeps/1stel95e</a>"
      ],
      "text/plain": [
       "<IPython.core.display.HTML object>"
      ]
     },
     "metadata": {},
     "output_type": "display_data"
    },
    {
     "data": {
      "text/html": [
       " View project at <a href='https://wandb.ai/xmatovice/uncategorized' target=\"_blank\">https://wandb.ai/xmatovice/uncategorized</a>"
      ],
      "text/plain": [
       "<IPython.core.display.HTML object>"
      ]
     },
     "metadata": {},
     "output_type": "display_data"
    },
    {
     "data": {
      "text/html": [
       " View sweep at <a href='https://wandb.ai/xmatovice/uncategorized/sweeps/1stel95e' target=\"_blank\">https://wandb.ai/xmatovice/uncategorized/sweeps/1stel95e</a>"
      ],
      "text/plain": [
       "<IPython.core.display.HTML object>"
      ]
     },
     "metadata": {},
     "output_type": "display_data"
    },
    {
     "data": {
      "text/html": [
       " View run at <a href='https://wandb.ai/xmatovice/uncategorized/runs/haee616o' target=\"_blank\">https://wandb.ai/xmatovice/uncategorized/runs/haee616o</a>"
      ],
      "text/plain": [
       "<IPython.core.display.HTML object>"
      ]
     },
     "metadata": {},
     "output_type": "display_data"
    },
    {
     "name": "stdout",
     "output_type": "stream",
     "text": [
      "Epoch 499/500:                 train loss 0.514247809516059,                 validation loss 3.9795742458767362,                 train accuracy 30.925925925925924,                 validation accuracy 72.77777777777777\n",
      "Accuracy epoch: 73.000\n",
      "Accuracy total: 73.000\n",
      "{'0': {'f1-score': 0.8750000000000001,\n",
      "       'precision': 1.0,\n",
      "       'recall': 0.7777777777777778,\n",
      "       'support': 63},\n",
      " '1': {'f1-score': 0.6236559139784946,\n",
      "       'precision': 0.6590909090909091,\n",
      "       'recall': 0.5918367346938775,\n",
      "       'support': 49},\n",
      " '2': {'f1-score': 0.574468085106383,\n",
      "       'precision': 0.5192307692307693,\n",
      "       'recall': 0.6428571428571429,\n",
      "       'support': 42},\n",
      " '3': {'f1-score': 0.8118811881188119,\n",
      "       'precision': 0.7454545454545455,\n",
      "       'recall': 0.8913043478260869,\n",
      "       'support': 46},\n",
      " 'accuracy': 0.73,\n",
      " 'macro avg': {'f1-score': 0.7212512968009224,\n",
      "               'precision': 0.730944055944056,\n",
      "               'recall': 0.7259440007887212,\n",
      "               'support': 200},\n",
      " 'weighted avg': {'f1-score': 0.7357916700643983,\n",
      "                  'precision': 0.7569702797202796,\n",
      "                  'recall': 0.73,\n",
      "                  'support': 200}}\n"
     ]
    },
    {
     "data": {
      "text/html": [
       "Waiting for W&B process to finish... <strong style=\"color:green\">(success).</strong>"
      ],
      "text/plain": [
       "<IPython.core.display.HTML object>"
      ]
     },
     "metadata": {},
     "output_type": "display_data"
    },
    {
     "data": {
      "application/vnd.jupyter.widget-view+json": {
       "model_id": "2f58550bab2945c4989ee612f0433b74",
       "version_major": 2,
       "version_minor": 0
      },
      "text/plain": [
       "VBox(children=(Label(value='0.003 MB of 0.003 MB uploaded (0.000 MB deduped)\\r'), FloatProgress(value=1.0, max…"
      ]
     },
     "metadata": {},
     "output_type": "display_data"
    },
    {
     "data": {
      "text/html": [
       "<style>\n",
       "    table.wandb td:nth-child(1) { padding: 0 10px; text-align: left ; width: auto;} td:nth-child(2) {text-align: left ; width: 100%}\n",
       "    .wandb-row { display: flex; flex-direction: row; flex-wrap: wrap; justify-content: flex-start; width: 100% }\n",
       "    .wandb-col { display: flex; flex-direction: column; flex-basis: 100%; flex: 1; padding: 10px; }\n",
       "    </style>\n",
       "<div class=\"wandb-row\"><div class=\"wandb-col\"><h3>Run history:</h3><br/><table class=\"wandb\"><tr><td>macro avg f1-score</td><td>▁</td></tr><tr><td>macro avg precision</td><td>▁</td></tr><tr><td>macro avg recall</td><td>▁</td></tr><tr><td>macro avg support</td><td>▁</td></tr><tr><td>test accuracy</td><td>▁</td></tr><tr><td>train accuracy</td><td>▁▄▅▅▅▅▆▆▆▆▇▇▇▇▇▇▇▇▇▇█▇▇███▇▇▇█▇██████▇█▇</td></tr><tr><td>train loss</td><td>█▂▂▂▂▂▂▂▁▁▁▁▁▁▁▁▁▁▁▁▁▁▁▁▁▁▁▁▁▁▁▁▁▁▁▁▁▁▁▁</td></tr><tr><td>val_loss</td><td>█▂▂▂▂▂▂▂▂▂▂▂▂▁▁▁▁▁▁▁▁▁▃▁▁▂▁▁▁▁▁▁▁▁▁▁▁▁▁▂</td></tr><tr><td>validation accuracy</td><td>▁▆▅▅▅▆▆▇▇▆▇▇▇██▇▇████▇█▇▇▇▇███▇██▇█████▇</td></tr><tr><td>weighted avg f1-score</td><td>▁</td></tr><tr><td>weighted avg precision</td><td>▁</td></tr><tr><td>weighted avg recall</td><td>▁</td></tr><tr><td>weighted avg support</td><td>▁</td></tr></table><br/></div><div class=\"wandb-col\"><h3>Run summary:</h3><br/><table class=\"wandb\"><tr><td>macro avg f1-score</td><td>0.72125</td></tr><tr><td>macro avg precision</td><td>0.73094</td></tr><tr><td>macro avg recall</td><td>0.72594</td></tr><tr><td>macro avg support</td><td>200</td></tr><tr><td>test accuracy</td><td>73.0</td></tr><tr><td>train accuracy</td><td>30.92593</td></tr><tr><td>train loss</td><td>0.51425</td></tr><tr><td>val_loss</td><td>3.97957</td></tr><tr><td>validation accuracy</td><td>72.77778</td></tr><tr><td>weighted avg f1-score</td><td>0.73579</td></tr><tr><td>weighted avg precision</td><td>0.75697</td></tr><tr><td>weighted avg recall</td><td>0.73</td></tr><tr><td>weighted avg support</td><td>200</td></tr></table><br/></div></div>"
      ],
      "text/plain": [
       "<IPython.core.display.HTML object>"
      ]
     },
     "metadata": {},
     "output_type": "display_data"
    },
    {
     "data": {
      "text/html": [
       " View run <strong style=\"color:#cdcd00\">mild-sweep-2</strong> at: <a href='https://wandb.ai/xmatovice/uncategorized/runs/haee616o' target=\"_blank\">https://wandb.ai/xmatovice/uncategorized/runs/haee616o</a><br/>Synced 6 W&B file(s), 0 media file(s), 0 artifact file(s) and 0 other file(s)"
      ],
      "text/plain": [
       "<IPython.core.display.HTML object>"
      ]
     },
     "metadata": {},
     "output_type": "display_data"
    },
    {
     "data": {
      "text/html": [
       "Find logs at: <code>./wandb/run-20230326_190237-haee616o/logs</code>"
      ],
      "text/plain": [
       "<IPython.core.display.HTML object>"
      ]
     },
     "metadata": {},
     "output_type": "display_data"
    },
    {
     "name": "stderr",
     "output_type": "stream",
     "text": [
      "\u001b[34m\u001b[1mwandb\u001b[0m: Agent Starting Run: y704u78v with config:\n",
      "\u001b[34m\u001b[1mwandb\u001b[0m: \tbatch_size: 256\n",
      "\u001b[34m\u001b[1mwandb\u001b[0m: \tdense1: 512\n",
      "\u001b[34m\u001b[1mwandb\u001b[0m: \tepochs: 100\n",
      "\u001b[34m\u001b[1mwandb\u001b[0m: \tlearning_rate: 0.05180309517474907\n",
      "Failed to detect the name of this notebook, you can set it manually with the WANDB_NOTEBOOK_NAME environment variable to enable code saving.\n",
      "\u001b[34m\u001b[1mwandb\u001b[0m: \u001b[33mWARNING\u001b[0m Ignored wandb.init() arg project when running a sweep.\n"
     ]
    },
    {
     "data": {
      "text/html": [
       "wandb version 0.14.0 is available!  To upgrade, please run:\n",
       " $ pip install wandb --upgrade"
      ],
      "text/plain": [
       "<IPython.core.display.HTML object>"
      ]
     },
     "metadata": {},
     "output_type": "display_data"
    },
    {
     "data": {
      "text/html": [
       "Tracking run with wandb version 0.13.10"
      ],
      "text/plain": [
       "<IPython.core.display.HTML object>"
      ]
     },
     "metadata": {},
     "output_type": "display_data"
    },
    {
     "data": {
      "text/html": [
       "Run data is saved locally in <code>/home/erik/FIIT/2_Ing/2_semester/NSIETE/cvicenia/zadanie1/src/wandb/run-20230326_190259-y704u78v</code>"
      ],
      "text/plain": [
       "<IPython.core.display.HTML object>"
      ]
     },
     "metadata": {},
     "output_type": "display_data"
    },
    {
     "data": {
      "text/html": [
       "Syncing run <strong><a href='https://wandb.ai/xmatovice/uncategorized/runs/y704u78v' target=\"_blank\">generous-sweep-3</a></strong> to <a href='https://wandb.ai/xmatovice/uncategorized' target=\"_blank\">Weights & Biases</a> (<a href='https://wandb.me/run' target=\"_blank\">docs</a>)<br/>Sweep page: <a href='https://wandb.ai/xmatovice/uncategorized/sweeps/1stel95e' target=\"_blank\">https://wandb.ai/xmatovice/uncategorized/sweeps/1stel95e</a>"
      ],
      "text/plain": [
       "<IPython.core.display.HTML object>"
      ]
     },
     "metadata": {},
     "output_type": "display_data"
    },
    {
     "data": {
      "text/html": [
       " View project at <a href='https://wandb.ai/xmatovice/uncategorized' target=\"_blank\">https://wandb.ai/xmatovice/uncategorized</a>"
      ],
      "text/plain": [
       "<IPython.core.display.HTML object>"
      ]
     },
     "metadata": {},
     "output_type": "display_data"
    },
    {
     "data": {
      "text/html": [
       " View sweep at <a href='https://wandb.ai/xmatovice/uncategorized/sweeps/1stel95e' target=\"_blank\">https://wandb.ai/xmatovice/uncategorized/sweeps/1stel95e</a>"
      ],
      "text/plain": [
       "<IPython.core.display.HTML object>"
      ]
     },
     "metadata": {},
     "output_type": "display_data"
    },
    {
     "data": {
      "text/html": [
       " View run at <a href='https://wandb.ai/xmatovice/uncategorized/runs/y704u78v' target=\"_blank\">https://wandb.ai/xmatovice/uncategorized/runs/y704u78v</a>"
      ],
      "text/plain": [
       "<IPython.core.display.HTML object>"
      ]
     },
     "metadata": {},
     "output_type": "display_data"
    },
    {
     "name": "stdout",
     "output_type": "stream",
     "text": [
      "Epoch 99/100:                 train loss 1.5334443080572435,                 validation loss 2.0417821248372396,                 train accuracy 1.2962962962962963,                 validation accuracy 20.555555555555554\n",
      "Accuracy epoch: 23.000\n",
      "Accuracy total: 23.000\n",
      "{'0': {'f1-score': 0.0, 'precision': 0.0, 'recall': 0.0, 'support': 63},\n",
      " '1': {'f1-score': 0.0, 'precision': 0.0, 'recall': 0.0, 'support': 49},\n",
      " '2': {'f1-score': 0.0, 'precision': 0.0, 'recall': 0.0, 'support': 42},\n",
      " '3': {'f1-score': 0.3739837398373984,\n",
      "       'precision': 0.23,\n",
      "       'recall': 1.0,\n",
      "       'support': 46},\n",
      " 'accuracy': 0.23,\n",
      " 'macro avg': {'f1-score': 0.0934959349593496,\n",
      "               'precision': 0.0575,\n",
      "               'recall': 0.25,\n",
      "               'support': 200},\n",
      " 'weighted avg': {'f1-score': 0.08601626016260162,\n",
      "                  'precision': 0.0529,\n",
      "                  'recall': 0.23,\n",
      "                  'support': 200}}\n"
     ]
    },
    {
     "data": {
      "text/html": [
       "Waiting for W&B process to finish... <strong style=\"color:green\">(success).</strong>"
      ],
      "text/plain": [
       "<IPython.core.display.HTML object>"
      ]
     },
     "metadata": {},
     "output_type": "display_data"
    },
    {
     "data": {
      "application/vnd.jupyter.widget-view+json": {
       "model_id": "cd4d0c6813d545b3a109c0ca686853ee",
       "version_major": 2,
       "version_minor": 0
      },
      "text/plain": [
       "VBox(children=(Label(value='0.003 MB of 0.003 MB uploaded (0.000 MB deduped)\\r'), FloatProgress(value=1.0, max…"
      ]
     },
     "metadata": {},
     "output_type": "display_data"
    },
    {
     "data": {
      "text/html": [
       "<style>\n",
       "    table.wandb td:nth-child(1) { padding: 0 10px; text-align: left ; width: auto;} td:nth-child(2) {text-align: left ; width: 100%}\n",
       "    .wandb-row { display: flex; flex-direction: row; flex-wrap: wrap; justify-content: flex-start; width: 100% }\n",
       "    .wandb-col { display: flex; flex-direction: column; flex-basis: 100%; flex: 1; padding: 10px; }\n",
       "    </style>\n",
       "<div class=\"wandb-row\"><div class=\"wandb-col\"><h3>Run history:</h3><br/><table class=\"wandb\"><tr><td>macro avg f1-score</td><td>▁</td></tr><tr><td>macro avg precision</td><td>▁</td></tr><tr><td>macro avg recall</td><td>▁</td></tr><tr><td>macro avg support</td><td>▁</td></tr><tr><td>test accuracy</td><td>▁</td></tr><tr><td>train accuracy</td><td>█▆▃▃▆▃▄▄▄▆▄▄▄▃▃▁▅▄▄▄▇▄▆▅▄▄▇▅▆▁▄▃▄▃▂▂▅▁▄▄</td></tr><tr><td>train loss</td><td>█▁▁▁▁▁▁▁▁▁▁▁▁▁▁▁▁▁▁▁▁▁▁▁▁▁▁▁▁▁▁▁▁▁▁▁▁▁▁▁</td></tr><tr><td>val_loss</td><td>█▁▁▁▁▁▁▁▁▁▁▁▁▁▁▁▁▁▁▁▁▁▁▁▁▁▁▁▁▁▁▁▁▁▁▁▁▁▁▁</td></tr><tr><td>validation accuracy</td><td>█▃█▆▅▄▁▃▃▆▃▃▃▃▇▃▃▃▇▃▃█▃▃▆▃█▇▃▇▃▃▃▇▃▇▃▃█▃</td></tr><tr><td>weighted avg f1-score</td><td>▁</td></tr><tr><td>weighted avg precision</td><td>▁</td></tr><tr><td>weighted avg recall</td><td>▁</td></tr><tr><td>weighted avg support</td><td>▁</td></tr></table><br/></div><div class=\"wandb-col\"><h3>Run summary:</h3><br/><table class=\"wandb\"><tr><td>macro avg f1-score</td><td>0.0935</td></tr><tr><td>macro avg precision</td><td>0.0575</td></tr><tr><td>macro avg recall</td><td>0.25</td></tr><tr><td>macro avg support</td><td>200</td></tr><tr><td>test accuracy</td><td>23.0</td></tr><tr><td>train accuracy</td><td>1.2963</td></tr><tr><td>train loss</td><td>1.53344</td></tr><tr><td>val_loss</td><td>2.04178</td></tr><tr><td>validation accuracy</td><td>20.55556</td></tr><tr><td>weighted avg f1-score</td><td>0.08602</td></tr><tr><td>weighted avg precision</td><td>0.0529</td></tr><tr><td>weighted avg recall</td><td>0.23</td></tr><tr><td>weighted avg support</td><td>200</td></tr></table><br/></div></div>"
      ],
      "text/plain": [
       "<IPython.core.display.HTML object>"
      ]
     },
     "metadata": {},
     "output_type": "display_data"
    },
    {
     "data": {
      "text/html": [
       " View run <strong style=\"color:#cdcd00\">generous-sweep-3</strong> at: <a href='https://wandb.ai/xmatovice/uncategorized/runs/y704u78v' target=\"_blank\">https://wandb.ai/xmatovice/uncategorized/runs/y704u78v</a><br/>Synced 6 W&B file(s), 0 media file(s), 0 artifact file(s) and 0 other file(s)"
      ],
      "text/plain": [
       "<IPython.core.display.HTML object>"
      ]
     },
     "metadata": {},
     "output_type": "display_data"
    },
    {
     "data": {
      "text/html": [
       "Find logs at: <code>./wandb/run-20230326_190259-y704u78v/logs</code>"
      ],
      "text/plain": [
       "<IPython.core.display.HTML object>"
      ]
     },
     "metadata": {},
     "output_type": "display_data"
    },
    {
     "name": "stderr",
     "output_type": "stream",
     "text": [
      "\u001b[34m\u001b[1mwandb\u001b[0m: Agent Starting Run: c5xqk34z with config:\n",
      "\u001b[34m\u001b[1mwandb\u001b[0m: \tbatch_size: 512\n",
      "\u001b[34m\u001b[1mwandb\u001b[0m: \tdense1: 512\n",
      "\u001b[34m\u001b[1mwandb\u001b[0m: \tepochs: 1000\n",
      "\u001b[34m\u001b[1mwandb\u001b[0m: \tlearning_rate: 0.03650441447460376\n",
      "Failed to detect the name of this notebook, you can set it manually with the WANDB_NOTEBOOK_NAME environment variable to enable code saving.\n",
      "\u001b[34m\u001b[1mwandb\u001b[0m: \u001b[33mWARNING\u001b[0m Ignored wandb.init() arg project when running a sweep.\n"
     ]
    },
    {
     "data": {
      "text/html": [
       "wandb version 0.14.0 is available!  To upgrade, please run:\n",
       " $ pip install wandb --upgrade"
      ],
      "text/plain": [
       "<IPython.core.display.HTML object>"
      ]
     },
     "metadata": {},
     "output_type": "display_data"
    },
    {
     "data": {
      "text/html": [
       "Tracking run with wandb version 0.13.10"
      ],
      "text/plain": [
       "<IPython.core.display.HTML object>"
      ]
     },
     "metadata": {},
     "output_type": "display_data"
    },
    {
     "data": {
      "text/html": [
       "Run data is saved locally in <code>/home/erik/FIIT/2_Ing/2_semester/NSIETE/cvicenia/zadanie1/src/wandb/run-20230326_190314-c5xqk34z</code>"
      ],
      "text/plain": [
       "<IPython.core.display.HTML object>"
      ]
     },
     "metadata": {},
     "output_type": "display_data"
    },
    {
     "data": {
      "text/html": [
       "Syncing run <strong><a href='https://wandb.ai/xmatovice/uncategorized/runs/c5xqk34z' target=\"_blank\">sandy-sweep-4</a></strong> to <a href='https://wandb.ai/xmatovice/uncategorized' target=\"_blank\">Weights & Biases</a> (<a href='https://wandb.me/run' target=\"_blank\">docs</a>)<br/>Sweep page: <a href='https://wandb.ai/xmatovice/uncategorized/sweeps/1stel95e' target=\"_blank\">https://wandb.ai/xmatovice/uncategorized/sweeps/1stel95e</a>"
      ],
      "text/plain": [
       "<IPython.core.display.HTML object>"
      ]
     },
     "metadata": {},
     "output_type": "display_data"
    },
    {
     "data": {
      "text/html": [
       " View project at <a href='https://wandb.ai/xmatovice/uncategorized' target=\"_blank\">https://wandb.ai/xmatovice/uncategorized</a>"
      ],
      "text/plain": [
       "<IPython.core.display.HTML object>"
      ]
     },
     "metadata": {},
     "output_type": "display_data"
    },
    {
     "data": {
      "text/html": [
       " View sweep at <a href='https://wandb.ai/xmatovice/uncategorized/sweeps/1stel95e' target=\"_blank\">https://wandb.ai/xmatovice/uncategorized/sweeps/1stel95e</a>"
      ],
      "text/plain": [
       "<IPython.core.display.HTML object>"
      ]
     },
     "metadata": {},
     "output_type": "display_data"
    },
    {
     "data": {
      "text/html": [
       " View run at <a href='https://wandb.ai/xmatovice/uncategorized/runs/c5xqk34z' target=\"_blank\">https://wandb.ai/xmatovice/uncategorized/runs/c5xqk34z</a>"
      ],
      "text/plain": [
       "<IPython.core.display.HTML object>"
      ]
     },
     "metadata": {},
     "output_type": "display_data"
    },
    {
     "name": "stdout",
     "output_type": "stream",
     "text": [
      "Epoch 999/1000:                 train loss 0.5306360221203462,                 validation loss 1.4400336371527778,                 train accuracy 4.2592592592592595,                 validation accuracy 79.44444444444444\n",
      "Accuracy epoch: 84.000\n",
      "Accuracy total: 84.000\n",
      "{'0': {'f1-score': 0.9457364341085271,\n",
      "       'precision': 0.9242424242424242,\n",
      "       'recall': 0.9682539682539683,\n",
      "       'support': 63},\n",
      " '1': {'f1-score': 0.8440366972477065,\n",
      "       'precision': 0.7666666666666667,\n",
      "       'recall': 0.9387755102040817,\n",
      "       'support': 49},\n",
      " '2': {'f1-score': 0.7640449438202246,\n",
      "       'precision': 0.723404255319149,\n",
      "       'recall': 0.8095238095238095,\n",
      "       'support': 42},\n",
      " '3': {'f1-score': 0.7397260273972603,\n",
      "       'precision': 1.0,\n",
      "       'recall': 0.5869565217391305,\n",
      "       'support': 46},\n",
      " 'accuracy': 0.84,\n",
      " 'macro avg': {'f1-score': 0.8233860256434298,\n",
      "               'precision': 0.85357833655706,\n",
      "               'recall': 0.8258774524302475,\n",
      "               'support': 200},\n",
      " 'weighted avg': {'f1-score': 0.8352823920734912,\n",
      "                  'precision': 0.8608845905867183,\n",
      "                  'recall': 0.84,\n",
      "                  'support': 200}}\n"
     ]
    },
    {
     "data": {
      "text/html": [
       "Waiting for W&B process to finish... <strong style=\"color:green\">(success).</strong>"
      ],
      "text/plain": [
       "<IPython.core.display.HTML object>"
      ]
     },
     "metadata": {},
     "output_type": "display_data"
    },
    {
     "data": {
      "application/vnd.jupyter.widget-view+json": {
       "model_id": "cb7c6349fa0f4690a26800adfe7e59fd",
       "version_major": 2,
       "version_minor": 0
      },
      "text/plain": [
       "VBox(children=(Label(value='0.003 MB of 0.003 MB uploaded (0.000 MB deduped)\\r'), FloatProgress(value=1.0, max…"
      ]
     },
     "metadata": {},
     "output_type": "display_data"
    },
    {
     "data": {
      "text/html": [
       "<style>\n",
       "    table.wandb td:nth-child(1) { padding: 0 10px; text-align: left ; width: auto;} td:nth-child(2) {text-align: left ; width: 100%}\n",
       "    .wandb-row { display: flex; flex-direction: row; flex-wrap: wrap; justify-content: flex-start; width: 100% }\n",
       "    .wandb-col { display: flex; flex-direction: column; flex-basis: 100%; flex: 1; padding: 10px; }\n",
       "    </style>\n",
       "<div class=\"wandb-row\"><div class=\"wandb-col\"><h3>Run history:</h3><br/><table class=\"wandb\"><tr><td>macro avg f1-score</td><td>▁</td></tr><tr><td>macro avg precision</td><td>▁</td></tr><tr><td>macro avg recall</td><td>▁</td></tr><tr><td>macro avg support</td><td>▁</td></tr><tr><td>test accuracy</td><td>▁</td></tr><tr><td>train accuracy</td><td>▁▃▄▃▄▂▃▅▄▃▃▄▅▄▅▅▅▅▆▅▇▇▇█▇█▇▆▇▇▇▇▇▇█▇▇▇▇█</td></tr><tr><td>train loss</td><td>█▆▅▄▄▄▄▄▄▄▄▄▃▃▃▃▃▃▃▂▂▂▂▂▂▁▂▂▂▁▁▁▁▁▁▁▂▁▁▁</td></tr><tr><td>val_loss</td><td>█▂▂▂▂▂▂▂▂▂▂▂▂▁▁▁▁▂▁▁▁▁▁▁▁▁▁▁▂▁▂▁▁▁▁▁▁▁▁▁</td></tr><tr><td>validation accuracy</td><td>▁▃▃▄▄▄▃▄▄▅▅▅▆▅▆▆▆▆▇▇▆▇▇▆█▇▇▇▆█▆█▇▇▇█▇█▇█</td></tr><tr><td>weighted avg f1-score</td><td>▁</td></tr><tr><td>weighted avg precision</td><td>▁</td></tr><tr><td>weighted avg recall</td><td>▁</td></tr><tr><td>weighted avg support</td><td>▁</td></tr></table><br/></div><div class=\"wandb-col\"><h3>Run summary:</h3><br/><table class=\"wandb\"><tr><td>macro avg f1-score</td><td>0.82339</td></tr><tr><td>macro avg precision</td><td>0.85358</td></tr><tr><td>macro avg recall</td><td>0.82588</td></tr><tr><td>macro avg support</td><td>200</td></tr><tr><td>test accuracy</td><td>84.0</td></tr><tr><td>train accuracy</td><td>4.25926</td></tr><tr><td>train loss</td><td>0.53064</td></tr><tr><td>val_loss</td><td>1.44003</td></tr><tr><td>validation accuracy</td><td>79.44444</td></tr><tr><td>weighted avg f1-score</td><td>0.83528</td></tr><tr><td>weighted avg precision</td><td>0.86088</td></tr><tr><td>weighted avg recall</td><td>0.84</td></tr><tr><td>weighted avg support</td><td>200</td></tr></table><br/></div></div>"
      ],
      "text/plain": [
       "<IPython.core.display.HTML object>"
      ]
     },
     "metadata": {},
     "output_type": "display_data"
    },
    {
     "data": {
      "text/html": [
       " View run <strong style=\"color:#cdcd00\">sandy-sweep-4</strong> at: <a href='https://wandb.ai/xmatovice/uncategorized/runs/c5xqk34z' target=\"_blank\">https://wandb.ai/xmatovice/uncategorized/runs/c5xqk34z</a><br/>Synced 6 W&B file(s), 0 media file(s), 0 artifact file(s) and 0 other file(s)"
      ],
      "text/plain": [
       "<IPython.core.display.HTML object>"
      ]
     },
     "metadata": {},
     "output_type": "display_data"
    },
    {
     "data": {
      "text/html": [
       "Find logs at: <code>./wandb/run-20230326_190314-c5xqk34z/logs</code>"
      ],
      "text/plain": [
       "<IPython.core.display.HTML object>"
      ]
     },
     "metadata": {},
     "output_type": "display_data"
    },
    {
     "name": "stderr",
     "output_type": "stream",
     "text": [
      "\u001b[34m\u001b[1mwandb\u001b[0m: Agent Starting Run: zfohsc44 with config:\n",
      "\u001b[34m\u001b[1mwandb\u001b[0m: \tbatch_size: 256\n",
      "\u001b[34m\u001b[1mwandb\u001b[0m: \tdense1: 256\n",
      "\u001b[34m\u001b[1mwandb\u001b[0m: \tepochs: 1000\n",
      "\u001b[34m\u001b[1mwandb\u001b[0m: \tlearning_rate: 0.02340014652154797\n",
      "Failed to detect the name of this notebook, you can set it manually with the WANDB_NOTEBOOK_NAME environment variable to enable code saving.\n",
      "\u001b[34m\u001b[1mwandb\u001b[0m: \u001b[33mWARNING\u001b[0m Ignored wandb.init() arg project when running a sweep.\n"
     ]
    },
    {
     "data": {
      "text/html": [
       "wandb version 0.14.0 is available!  To upgrade, please run:\n",
       " $ pip install wandb --upgrade"
      ],
      "text/plain": [
       "<IPython.core.display.HTML object>"
      ]
     },
     "metadata": {},
     "output_type": "display_data"
    },
    {
     "data": {
      "text/html": [
       "Tracking run with wandb version 0.13.10"
      ],
      "text/plain": [
       "<IPython.core.display.HTML object>"
      ]
     },
     "metadata": {},
     "output_type": "display_data"
    },
    {
     "data": {
      "text/html": [
       "Run data is saved locally in <code>/home/erik/FIIT/2_Ing/2_semester/NSIETE/cvicenia/zadanie1/src/wandb/run-20230326_190346-zfohsc44</code>"
      ],
      "text/plain": [
       "<IPython.core.display.HTML object>"
      ]
     },
     "metadata": {},
     "output_type": "display_data"
    },
    {
     "data": {
      "text/html": [
       "Syncing run <strong><a href='https://wandb.ai/xmatovice/uncategorized/runs/zfohsc44' target=\"_blank\">dulcet-sweep-5</a></strong> to <a href='https://wandb.ai/xmatovice/uncategorized' target=\"_blank\">Weights & Biases</a> (<a href='https://wandb.me/run' target=\"_blank\">docs</a>)<br/>Sweep page: <a href='https://wandb.ai/xmatovice/uncategorized/sweeps/1stel95e' target=\"_blank\">https://wandb.ai/xmatovice/uncategorized/sweeps/1stel95e</a>"
      ],
      "text/plain": [
       "<IPython.core.display.HTML object>"
      ]
     },
     "metadata": {},
     "output_type": "display_data"
    },
    {
     "data": {
      "text/html": [
       " View project at <a href='https://wandb.ai/xmatovice/uncategorized' target=\"_blank\">https://wandb.ai/xmatovice/uncategorized</a>"
      ],
      "text/plain": [
       "<IPython.core.display.HTML object>"
      ]
     },
     "metadata": {},
     "output_type": "display_data"
    },
    {
     "data": {
      "text/html": [
       " View sweep at <a href='https://wandb.ai/xmatovice/uncategorized/sweeps/1stel95e' target=\"_blank\">https://wandb.ai/xmatovice/uncategorized/sweeps/1stel95e</a>"
      ],
      "text/plain": [
       "<IPython.core.display.HTML object>"
      ]
     },
     "metadata": {},
     "output_type": "display_data"
    },
    {
     "data": {
      "text/html": [
       " View run at <a href='https://wandb.ai/xmatovice/uncategorized/runs/zfohsc44' target=\"_blank\">https://wandb.ai/xmatovice/uncategorized/runs/zfohsc44</a>"
      ],
      "text/plain": [
       "<IPython.core.display.HTML object>"
      ]
     },
     "metadata": {},
     "output_type": "display_data"
    },
    {
     "name": "stdout",
     "output_type": "stream",
     "text": [
      "Epoch 999/1000:                 train loss 0.2857313344508042,                 validation loss 0.4631061130099826,                 train accuracy 4.691358024691358,                 validation accuracy 83.33333333333334\n",
      "Accuracy epoch: 86.000\n",
      "Accuracy total: 86.000\n",
      "{'0': {'f1-score': 0.9322033898305084,\n",
      "       'precision': 1.0,\n",
      "       'recall': 0.873015873015873,\n",
      "       'support': 63},\n",
      " '1': {'f1-score': 0.8367346938775511,\n",
      "       'precision': 0.8367346938775511,\n",
      "       'recall': 0.8367346938775511,\n",
      "       'support': 49},\n",
      " '2': {'f1-score': 0.7472527472527472,\n",
      "       'precision': 0.6938775510204082,\n",
      "       'recall': 0.8095238095238095,\n",
      "       'support': 42},\n",
      " '3': {'f1-score': 0.9032258064516129,\n",
      "       'precision': 0.8936170212765957,\n",
      "       'recall': 0.9130434782608695,\n",
      "       'support': 46},\n",
      " 'accuracy': 0.86,\n",
      " 'macro avg': {'f1-score': 0.8548541593531049,\n",
      "               'precision': 0.8560573165436387,\n",
      "               'recall': 0.8580794636695258,\n",
      "               'support': 200},\n",
      " 'weighted avg': {'f1-score': 0.8633090802035579,\n",
      "                  'precision': 0.8712462006079028,\n",
      "                  'recall': 0.86,\n",
      "                  'support': 200}}\n"
     ]
    },
    {
     "data": {
      "text/html": [
       "Waiting for W&B process to finish... <strong style=\"color:green\">(success).</strong>"
      ],
      "text/plain": [
       "<IPython.core.display.HTML object>"
      ]
     },
     "metadata": {},
     "output_type": "display_data"
    },
    {
     "data": {
      "application/vnd.jupyter.widget-view+json": {
       "model_id": "df00ca83b28b4c0ea9b4116e0edc9389",
       "version_major": 2,
       "version_minor": 0
      },
      "text/plain": [
       "VBox(children=(Label(value='0.003 MB of 0.003 MB uploaded (0.000 MB deduped)\\r'), FloatProgress(value=1.0, max…"
      ]
     },
     "metadata": {},
     "output_type": "display_data"
    },
    {
     "data": {
      "text/html": [
       "<style>\n",
       "    table.wandb td:nth-child(1) { padding: 0 10px; text-align: left ; width: auto;} td:nth-child(2) {text-align: left ; width: 100%}\n",
       "    .wandb-row { display: flex; flex-direction: row; flex-wrap: wrap; justify-content: flex-start; width: 100% }\n",
       "    .wandb-col { display: flex; flex-direction: column; flex-basis: 100%; flex: 1; padding: 10px; }\n",
       "    </style>\n",
       "<div class=\"wandb-row\"><div class=\"wandb-col\"><h3>Run history:</h3><br/><table class=\"wandb\"><tr><td>macro avg f1-score</td><td>▁</td></tr><tr><td>macro avg precision</td><td>▁</td></tr><tr><td>macro avg recall</td><td>▁</td></tr><tr><td>macro avg support</td><td>▁</td></tr><tr><td>test accuracy</td><td>▁</td></tr><tr><td>train accuracy</td><td>▁▃▆▆▅▆▆▇▇▇▇▆▇▇▆█▆▆▇▆▇▇█▅▆▅▇▆█▇▆▇█▇▇▇▇█▅▆</td></tr><tr><td>train loss</td><td>█▅▄▄▂▂▂▂▁▁▂▃▁▁▁▁▂▂▂▁▁▂▁▂▂▃▁▁▁▂▁▁▁▁▂▂▁▁▂▁</td></tr><tr><td>val_loss</td><td>█▅▄▅▄▂▂▂▂▂▂▃▁▂▂▁▁▂▂▁▁▂▁▅▅▂▂▂▁▂▂▂▁▁▁▅▁▁▂▂</td></tr><tr><td>validation accuracy</td><td>▁▅▆▄▅██▇▇▇▆▅█▇▇▇▇█▇██▇█▅▅█▇▇█▇▇▇▇▇█▅██▇▇</td></tr><tr><td>weighted avg f1-score</td><td>▁</td></tr><tr><td>weighted avg precision</td><td>▁</td></tr><tr><td>weighted avg recall</td><td>▁</td></tr><tr><td>weighted avg support</td><td>▁</td></tr></table><br/></div><div class=\"wandb-col\"><h3>Run summary:</h3><br/><table class=\"wandb\"><tr><td>macro avg f1-score</td><td>0.85485</td></tr><tr><td>macro avg precision</td><td>0.85606</td></tr><tr><td>macro avg recall</td><td>0.85808</td></tr><tr><td>macro avg support</td><td>200</td></tr><tr><td>test accuracy</td><td>86.0</td></tr><tr><td>train accuracy</td><td>4.69136</td></tr><tr><td>train loss</td><td>0.28573</td></tr><tr><td>val_loss</td><td>0.46311</td></tr><tr><td>validation accuracy</td><td>83.33333</td></tr><tr><td>weighted avg f1-score</td><td>0.86331</td></tr><tr><td>weighted avg precision</td><td>0.87125</td></tr><tr><td>weighted avg recall</td><td>0.86</td></tr><tr><td>weighted avg support</td><td>200</td></tr></table><br/></div></div>"
      ],
      "text/plain": [
       "<IPython.core.display.HTML object>"
      ]
     },
     "metadata": {},
     "output_type": "display_data"
    },
    {
     "data": {
      "text/html": [
       " View run <strong style=\"color:#cdcd00\">dulcet-sweep-5</strong> at: <a href='https://wandb.ai/xmatovice/uncategorized/runs/zfohsc44' target=\"_blank\">https://wandb.ai/xmatovice/uncategorized/runs/zfohsc44</a><br/>Synced 6 W&B file(s), 0 media file(s), 0 artifact file(s) and 0 other file(s)"
      ],
      "text/plain": [
       "<IPython.core.display.HTML object>"
      ]
     },
     "metadata": {},
     "output_type": "display_data"
    },
    {
     "data": {
      "text/html": [
       "Find logs at: <code>./wandb/run-20230326_190346-zfohsc44/logs</code>"
      ],
      "text/plain": [
       "<IPython.core.display.HTML object>"
      ]
     },
     "metadata": {},
     "output_type": "display_data"
    },
    {
     "name": "stderr",
     "output_type": "stream",
     "text": [
      "\u001b[34m\u001b[1mwandb\u001b[0m: Agent Starting Run: 2hfg3dq6 with config:\n",
      "\u001b[34m\u001b[1mwandb\u001b[0m: \tbatch_size: 128\n",
      "\u001b[34m\u001b[1mwandb\u001b[0m: \tdense1: 256\n",
      "\u001b[34m\u001b[1mwandb\u001b[0m: \tepochs: 100\n",
      "\u001b[34m\u001b[1mwandb\u001b[0m: \tlearning_rate: 0.03648030109469176\n",
      "Failed to detect the name of this notebook, you can set it manually with the WANDB_NOTEBOOK_NAME environment variable to enable code saving.\n",
      "\u001b[34m\u001b[1mwandb\u001b[0m: \u001b[33mWARNING\u001b[0m Ignored wandb.init() arg project when running a sweep.\n"
     ]
    },
    {
     "data": {
      "text/html": [
       "wandb version 0.14.0 is available!  To upgrade, please run:\n",
       " $ pip install wandb --upgrade"
      ],
      "text/plain": [
       "<IPython.core.display.HTML object>"
      ]
     },
     "metadata": {},
     "output_type": "display_data"
    },
    {
     "data": {
      "text/html": [
       "Tracking run with wandb version 0.13.10"
      ],
      "text/plain": [
       "<IPython.core.display.HTML object>"
      ]
     },
     "metadata": {},
     "output_type": "display_data"
    },
    {
     "data": {
      "text/html": [
       "Run data is saved locally in <code>/home/erik/FIIT/2_Ing/2_semester/NSIETE/cvicenia/zadanie1/src/wandb/run-20230326_190422-2hfg3dq6</code>"
      ],
      "text/plain": [
       "<IPython.core.display.HTML object>"
      ]
     },
     "metadata": {},
     "output_type": "display_data"
    },
    {
     "data": {
      "text/html": [
       "Syncing run <strong><a href='https://wandb.ai/xmatovice/uncategorized/runs/2hfg3dq6' target=\"_blank\">likely-sweep-6</a></strong> to <a href='https://wandb.ai/xmatovice/uncategorized' target=\"_blank\">Weights & Biases</a> (<a href='https://wandb.me/run' target=\"_blank\">docs</a>)<br/>Sweep page: <a href='https://wandb.ai/xmatovice/uncategorized/sweeps/1stel95e' target=\"_blank\">https://wandb.ai/xmatovice/uncategorized/sweeps/1stel95e</a>"
      ],
      "text/plain": [
       "<IPython.core.display.HTML object>"
      ]
     },
     "metadata": {},
     "output_type": "display_data"
    },
    {
     "data": {
      "text/html": [
       " View project at <a href='https://wandb.ai/xmatovice/uncategorized' target=\"_blank\">https://wandb.ai/xmatovice/uncategorized</a>"
      ],
      "text/plain": [
       "<IPython.core.display.HTML object>"
      ]
     },
     "metadata": {},
     "output_type": "display_data"
    },
    {
     "data": {
      "text/html": [
       " View sweep at <a href='https://wandb.ai/xmatovice/uncategorized/sweeps/1stel95e' target=\"_blank\">https://wandb.ai/xmatovice/uncategorized/sweeps/1stel95e</a>"
      ],
      "text/plain": [
       "<IPython.core.display.HTML object>"
      ]
     },
     "metadata": {},
     "output_type": "display_data"
    },
    {
     "data": {
      "text/html": [
       " View run at <a href='https://wandb.ai/xmatovice/uncategorized/runs/2hfg3dq6' target=\"_blank\">https://wandb.ai/xmatovice/uncategorized/runs/2hfg3dq6</a>"
      ],
      "text/plain": [
       "<IPython.core.display.HTML object>"
      ]
     },
     "metadata": {},
     "output_type": "display_data"
    },
    {
     "name": "stdout",
     "output_type": "stream",
     "text": [
      "Epoch 99/100:                 train loss 0.36507640885718073,                 validation loss 0.5505448235405817,                 train accuracy 4.197530864197531,                 validation accuracy 20.555555555555554\n",
      "Accuracy epoch: 86.719\n",
      "Accuracy epoch: 84.722\n",
      "Accuracy total: 86.000\n",
      "{'0': {'f1-score': 0.9523809523809523,\n",
      "       'precision': 0.9523809523809523,\n",
      "       'recall': 0.9523809523809523,\n",
      "       'support': 63},\n",
      " '1': {'f1-score': 0.8737864077669903,\n",
      "       'precision': 0.8333333333333334,\n",
      "       'recall': 0.9183673469387755,\n",
      "       'support': 49},\n",
      " '2': {'f1-score': 0.7441860465116279,\n",
      "       'precision': 0.7272727272727273,\n",
      "       'recall': 0.7619047619047619,\n",
      "       'support': 42},\n",
      " '3': {'f1-score': 0.8235294117647058,\n",
      "       'precision': 0.8974358974358975,\n",
      "       'recall': 0.7608695652173914,\n",
      "       'support': 46},\n",
      " 'accuracy': 0.86,\n",
      " 'macro avg': {'f1-score': 0.8484707046060691,\n",
      "               'precision': 0.8526057276057276,\n",
      "               'recall': 0.8483806566104704,\n",
      "               'support': 200},\n",
      " 'weighted avg': {'f1-score': 0.8597685043762369,\n",
      "                  'precision': 0.8633041958041957,\n",
      "                  'recall': 0.86,\n",
      "                  'support': 200}}\n"
     ]
    },
    {
     "data": {
      "text/html": [
       "Waiting for W&B process to finish... <strong style=\"color:green\">(success).</strong>"
      ],
      "text/plain": [
       "<IPython.core.display.HTML object>"
      ]
     },
     "metadata": {},
     "output_type": "display_data"
    },
    {
     "data": {
      "application/vnd.jupyter.widget-view+json": {
       "model_id": "7c02a254161e4bfba201c987ec0c3925",
       "version_major": 2,
       "version_minor": 0
      },
      "text/plain": [
       "VBox(children=(Label(value='0.003 MB of 0.003 MB uploaded (0.000 MB deduped)\\r'), FloatProgress(value=1.0, max…"
      ]
     },
     "metadata": {},
     "output_type": "display_data"
    },
    {
     "data": {
      "text/html": [
       "<style>\n",
       "    table.wandb td:nth-child(1) { padding: 0 10px; text-align: left ; width: auto;} td:nth-child(2) {text-align: left ; width: 100%}\n",
       "    .wandb-row { display: flex; flex-direction: row; flex-wrap: wrap; justify-content: flex-start; width: 100% }\n",
       "    .wandb-col { display: flex; flex-direction: column; flex-basis: 100%; flex: 1; padding: 10px; }\n",
       "    </style>\n",
       "<div class=\"wandb-row\"><div class=\"wandb-col\"><h3>Run history:</h3><br/><table class=\"wandb\"><tr><td>macro avg f1-score</td><td>▁</td></tr><tr><td>macro avg precision</td><td>▁</td></tr><tr><td>macro avg recall</td><td>▁</td></tr><tr><td>macro avg support</td><td>▁</td></tr><tr><td>test accuracy</td><td>▁</td></tr><tr><td>train accuracy</td><td>▁▃▃▄▄▅▅▆▆▆▆▇▇▇▆▇▇▇▅█▇█▇▇▄▇▇▇█▇▇▆▇▆▇▆▆█▇▇</td></tr><tr><td>train loss</td><td>█▁▁▁▁▁▁▁▁▁▁▁▁▁▁▁▁▁▁▁▁▁▁▁▁▁▁▁▁▁▁▁▁▁▁▁▁▁▁▁</td></tr><tr><td>val_loss</td><td>█▃▂▂▂▂▂▂▂▂▁▁▁▁▁▁▂▁▁▁▁▁▁▁▂▂▁▁▁▁▁▂▂▂▁▁▁▁▁▁</td></tr><tr><td>validation accuracy</td><td>▁▃▃▄▅▅▅▆▅▆▇█▇▇█▇▇▇▆▇▇▇██▆▆█▇▇▇▇▇▇▆▇██▆▇▆</td></tr><tr><td>weighted avg f1-score</td><td>▁</td></tr><tr><td>weighted avg precision</td><td>▁</td></tr><tr><td>weighted avg recall</td><td>▁</td></tr><tr><td>weighted avg support</td><td>▁</td></tr></table><br/></div><div class=\"wandb-col\"><h3>Run summary:</h3><br/><table class=\"wandb\"><tr><td>macro avg f1-score</td><td>0.84847</td></tr><tr><td>macro avg precision</td><td>0.85261</td></tr><tr><td>macro avg recall</td><td>0.84838</td></tr><tr><td>macro avg support</td><td>200</td></tr><tr><td>test accuracy</td><td>86.0</td></tr><tr><td>train accuracy</td><td>4.19753</td></tr><tr><td>train loss</td><td>0.36508</td></tr><tr><td>val_loss</td><td>0.55054</td></tr><tr><td>validation accuracy</td><td>20.55556</td></tr><tr><td>weighted avg f1-score</td><td>0.85977</td></tr><tr><td>weighted avg precision</td><td>0.8633</td></tr><tr><td>weighted avg recall</td><td>0.86</td></tr><tr><td>weighted avg support</td><td>200</td></tr></table><br/></div></div>"
      ],
      "text/plain": [
       "<IPython.core.display.HTML object>"
      ]
     },
     "metadata": {},
     "output_type": "display_data"
    },
    {
     "data": {
      "text/html": [
       " View run <strong style=\"color:#cdcd00\">likely-sweep-6</strong> at: <a href='https://wandb.ai/xmatovice/uncategorized/runs/2hfg3dq6' target=\"_blank\">https://wandb.ai/xmatovice/uncategorized/runs/2hfg3dq6</a><br/>Synced 6 W&B file(s), 0 media file(s), 0 artifact file(s) and 0 other file(s)"
      ],
      "text/plain": [
       "<IPython.core.display.HTML object>"
      ]
     },
     "metadata": {},
     "output_type": "display_data"
    },
    {
     "data": {
      "text/html": [
       "Find logs at: <code>./wandb/run-20230326_190422-2hfg3dq6/logs</code>"
      ],
      "text/plain": [
       "<IPython.core.display.HTML object>"
      ]
     },
     "metadata": {},
     "output_type": "display_data"
    },
    {
     "name": "stderr",
     "output_type": "stream",
     "text": [
      "\u001b[34m\u001b[1mwandb\u001b[0m: Agent Starting Run: 3wve3cbe with config:\n",
      "\u001b[34m\u001b[1mwandb\u001b[0m: \tbatch_size: 256\n",
      "\u001b[34m\u001b[1mwandb\u001b[0m: \tdense1: 256\n",
      "\u001b[34m\u001b[1mwandb\u001b[0m: \tepochs: 1000\n",
      "\u001b[34m\u001b[1mwandb\u001b[0m: \tlearning_rate: 0.0923328199364278\n",
      "Failed to detect the name of this notebook, you can set it manually with the WANDB_NOTEBOOK_NAME environment variable to enable code saving.\n",
      "\u001b[34m\u001b[1mwandb\u001b[0m: \u001b[33mWARNING\u001b[0m Ignored wandb.init() arg project when running a sweep.\n"
     ]
    },
    {
     "data": {
      "text/html": [
       "wandb version 0.14.0 is available!  To upgrade, please run:\n",
       " $ pip install wandb --upgrade"
      ],
      "text/plain": [
       "<IPython.core.display.HTML object>"
      ]
     },
     "metadata": {},
     "output_type": "display_data"
    },
    {
     "data": {
      "text/html": [
       "Tracking run with wandb version 0.13.10"
      ],
      "text/plain": [
       "<IPython.core.display.HTML object>"
      ]
     },
     "metadata": {},
     "output_type": "display_data"
    },
    {
     "data": {
      "text/html": [
       "Run data is saved locally in <code>/home/erik/FIIT/2_Ing/2_semester/NSIETE/cvicenia/zadanie1/src/wandb/run-20230326_190439-3wve3cbe</code>"
      ],
      "text/plain": [
       "<IPython.core.display.HTML object>"
      ]
     },
     "metadata": {},
     "output_type": "display_data"
    },
    {
     "data": {
      "text/html": [
       "Syncing run <strong><a href='https://wandb.ai/xmatovice/uncategorized/runs/3wve3cbe' target=\"_blank\">swept-sweep-7</a></strong> to <a href='https://wandb.ai/xmatovice/uncategorized' target=\"_blank\">Weights & Biases</a> (<a href='https://wandb.me/run' target=\"_blank\">docs</a>)<br/>Sweep page: <a href='https://wandb.ai/xmatovice/uncategorized/sweeps/1stel95e' target=\"_blank\">https://wandb.ai/xmatovice/uncategorized/sweeps/1stel95e</a>"
      ],
      "text/plain": [
       "<IPython.core.display.HTML object>"
      ]
     },
     "metadata": {},
     "output_type": "display_data"
    },
    {
     "data": {
      "text/html": [
       " View project at <a href='https://wandb.ai/xmatovice/uncategorized' target=\"_blank\">https://wandb.ai/xmatovice/uncategorized</a>"
      ],
      "text/plain": [
       "<IPython.core.display.HTML object>"
      ]
     },
     "metadata": {},
     "output_type": "display_data"
    },
    {
     "data": {
      "text/html": [
       " View sweep at <a href='https://wandb.ai/xmatovice/uncategorized/sweeps/1stel95e' target=\"_blank\">https://wandb.ai/xmatovice/uncategorized/sweeps/1stel95e</a>"
      ],
      "text/plain": [
       "<IPython.core.display.HTML object>"
      ]
     },
     "metadata": {},
     "output_type": "display_data"
    },
    {
     "data": {
      "text/html": [
       " View run at <a href='https://wandb.ai/xmatovice/uncategorized/runs/3wve3cbe' target=\"_blank\">https://wandb.ai/xmatovice/uncategorized/runs/3wve3cbe</a>"
      ],
      "text/plain": [
       "<IPython.core.display.HTML object>"
      ]
     },
     "metadata": {},
     "output_type": "display_data"
    },
    {
     "name": "stdout",
     "output_type": "stream",
     "text": [
      "Epoch 999/1000:                 train loss 1.536445203239535,                 validation loss 1.9765399509006076,                 train accuracy 0.9876543209876543,                 validation accuracy 20.555555555555554\n",
      "Accuracy epoch: 23.000\n",
      "Accuracy total: 23.000\n",
      "{'0': {'f1-score': 0.0, 'precision': 0.0, 'recall': 0.0, 'support': 63},\n",
      " '1': {'f1-score': 0.0, 'precision': 0.0, 'recall': 0.0, 'support': 49},\n",
      " '2': {'f1-score': 0.0, 'precision': 0.0, 'recall': 0.0, 'support': 42},\n",
      " '3': {'f1-score': 0.3739837398373984,\n",
      "       'precision': 0.23,\n",
      "       'recall': 1.0,\n",
      "       'support': 46},\n",
      " 'accuracy': 0.23,\n",
      " 'macro avg': {'f1-score': 0.0934959349593496,\n",
      "               'precision': 0.0575,\n",
      "               'recall': 0.25,\n",
      "               'support': 200},\n",
      " 'weighted avg': {'f1-score': 0.08601626016260162,\n",
      "                  'precision': 0.0529,\n",
      "                  'recall': 0.23,\n",
      "                  'support': 200}}\n"
     ]
    },
    {
     "data": {
      "text/html": [
       "Waiting for W&B process to finish... <strong style=\"color:green\">(success).</strong>"
      ],
      "text/plain": [
       "<IPython.core.display.HTML object>"
      ]
     },
     "metadata": {},
     "output_type": "display_data"
    },
    {
     "data": {
      "application/vnd.jupyter.widget-view+json": {
       "model_id": "df82fb0566a246fcba11209c55d802bb",
       "version_major": 2,
       "version_minor": 0
      },
      "text/plain": [
       "VBox(children=(Label(value='0.003 MB of 0.003 MB uploaded (0.000 MB deduped)\\r'), FloatProgress(value=1.0, max…"
      ]
     },
     "metadata": {},
     "output_type": "display_data"
    },
    {
     "data": {
      "text/html": [
       "<style>\n",
       "    table.wandb td:nth-child(1) { padding: 0 10px; text-align: left ; width: auto;} td:nth-child(2) {text-align: left ; width: 100%}\n",
       "    .wandb-row { display: flex; flex-direction: row; flex-wrap: wrap; justify-content: flex-start; width: 100% }\n",
       "    .wandb-col { display: flex; flex-direction: column; flex-basis: 100%; flex: 1; padding: 10px; }\n",
       "    </style>\n",
       "<div class=\"wandb-row\"><div class=\"wandb-col\"><h3>Run history:</h3><br/><table class=\"wandb\"><tr><td>macro avg f1-score</td><td>▁</td></tr><tr><td>macro avg precision</td><td>▁</td></tr><tr><td>macro avg recall</td><td>▁</td></tr><tr><td>macro avg support</td><td>▁</td></tr><tr><td>test accuracy</td><td>▁</td></tr><tr><td>train accuracy</td><td>▃▄▆▄▁▂▅▇▄▃▅▄▅▃█▁▂▅▅▂▃▄▄▂▂▆▆█▁▄▅▃▅▅▃▄▄▇▄▆</td></tr><tr><td>train loss</td><td>█▁▁▂▁▁▂▁▁▁▁▂▂▂▁▂▂▁▂▂▂▂▂▂▂▁▂▂▂▂▂▂▂▂▂▂▂▁▂▂</td></tr><tr><td>val_loss</td><td>▅▅▅▅▄▃▅▆▃▃▆▃▅▆█▅▄▄▆▄▆▄▄▃▅▃▇▇▄▂▃▁█▄▃▄▄▃▅▅</td></tr><tr><td>validation accuracy</td><td>█▁▁▁▁█▁▁▇█▁▇▁▁▁▁█▁▁▁▁▁██▁█▁▁▇█▇█▁█▇▁▇▇▁▇</td></tr><tr><td>weighted avg f1-score</td><td>▁</td></tr><tr><td>weighted avg precision</td><td>▁</td></tr><tr><td>weighted avg recall</td><td>▁</td></tr><tr><td>weighted avg support</td><td>▁</td></tr></table><br/></div><div class=\"wandb-col\"><h3>Run summary:</h3><br/><table class=\"wandb\"><tr><td>macro avg f1-score</td><td>0.0935</td></tr><tr><td>macro avg precision</td><td>0.0575</td></tr><tr><td>macro avg recall</td><td>0.25</td></tr><tr><td>macro avg support</td><td>200</td></tr><tr><td>test accuracy</td><td>23.0</td></tr><tr><td>train accuracy</td><td>0.98765</td></tr><tr><td>train loss</td><td>1.53645</td></tr><tr><td>val_loss</td><td>1.97654</td></tr><tr><td>validation accuracy</td><td>20.55556</td></tr><tr><td>weighted avg f1-score</td><td>0.08602</td></tr><tr><td>weighted avg precision</td><td>0.0529</td></tr><tr><td>weighted avg recall</td><td>0.23</td></tr><tr><td>weighted avg support</td><td>200</td></tr></table><br/></div></div>"
      ],
      "text/plain": [
       "<IPython.core.display.HTML object>"
      ]
     },
     "metadata": {},
     "output_type": "display_data"
    },
    {
     "data": {
      "text/html": [
       " View run <strong style=\"color:#cdcd00\">swept-sweep-7</strong> at: <a href='https://wandb.ai/xmatovice/uncategorized/runs/3wve3cbe' target=\"_blank\">https://wandb.ai/xmatovice/uncategorized/runs/3wve3cbe</a><br/>Synced 6 W&B file(s), 0 media file(s), 0 artifact file(s) and 0 other file(s)"
      ],
      "text/plain": [
       "<IPython.core.display.HTML object>"
      ]
     },
     "metadata": {},
     "output_type": "display_data"
    },
    {
     "data": {
      "text/html": [
       "Find logs at: <code>./wandb/run-20230326_190439-3wve3cbe/logs</code>"
      ],
      "text/plain": [
       "<IPython.core.display.HTML object>"
      ]
     },
     "metadata": {},
     "output_type": "display_data"
    },
    {
     "name": "stderr",
     "output_type": "stream",
     "text": [
      "\u001b[34m\u001b[1mwandb\u001b[0m: Agent Starting Run: mf9ml5jt with config:\n",
      "\u001b[34m\u001b[1mwandb\u001b[0m: \tbatch_size: 1024\n",
      "\u001b[34m\u001b[1mwandb\u001b[0m: \tdense1: 512\n",
      "\u001b[34m\u001b[1mwandb\u001b[0m: \tepochs: 100\n",
      "\u001b[34m\u001b[1mwandb\u001b[0m: \tlearning_rate: 0.003716246213845651\n",
      "Failed to detect the name of this notebook, you can set it manually with the WANDB_NOTEBOOK_NAME environment variable to enable code saving.\n",
      "\u001b[34m\u001b[1mwandb\u001b[0m: \u001b[33mWARNING\u001b[0m Ignored wandb.init() arg project when running a sweep.\n"
     ]
    },
    {
     "data": {
      "text/html": [
       "wandb version 0.14.0 is available!  To upgrade, please run:\n",
       " $ pip install wandb --upgrade"
      ],
      "text/plain": [
       "<IPython.core.display.HTML object>"
      ]
     },
     "metadata": {},
     "output_type": "display_data"
    },
    {
     "data": {
      "text/html": [
       "Tracking run with wandb version 0.13.10"
      ],
      "text/plain": [
       "<IPython.core.display.HTML object>"
      ]
     },
     "metadata": {},
     "output_type": "display_data"
    },
    {
     "data": {
      "text/html": [
       "Run data is saved locally in <code>/home/erik/FIIT/2_Ing/2_semester/NSIETE/cvicenia/zadanie1/src/wandb/run-20230326_190514-mf9ml5jt</code>"
      ],
      "text/plain": [
       "<IPython.core.display.HTML object>"
      ]
     },
     "metadata": {},
     "output_type": "display_data"
    },
    {
     "data": {
      "text/html": [
       "Syncing run <strong><a href='https://wandb.ai/xmatovice/uncategorized/runs/mf9ml5jt' target=\"_blank\">wobbly-sweep-8</a></strong> to <a href='https://wandb.ai/xmatovice/uncategorized' target=\"_blank\">Weights & Biases</a> (<a href='https://wandb.me/run' target=\"_blank\">docs</a>)<br/>Sweep page: <a href='https://wandb.ai/xmatovice/uncategorized/sweeps/1stel95e' target=\"_blank\">https://wandb.ai/xmatovice/uncategorized/sweeps/1stel95e</a>"
      ],
      "text/plain": [
       "<IPython.core.display.HTML object>"
      ]
     },
     "metadata": {},
     "output_type": "display_data"
    },
    {
     "data": {
      "text/html": [
       " View project at <a href='https://wandb.ai/xmatovice/uncategorized' target=\"_blank\">https://wandb.ai/xmatovice/uncategorized</a>"
      ],
      "text/plain": [
       "<IPython.core.display.HTML object>"
      ]
     },
     "metadata": {},
     "output_type": "display_data"
    },
    {
     "data": {
      "text/html": [
       " View sweep at <a href='https://wandb.ai/xmatovice/uncategorized/sweeps/1stel95e' target=\"_blank\">https://wandb.ai/xmatovice/uncategorized/sweeps/1stel95e</a>"
      ],
      "text/plain": [
       "<IPython.core.display.HTML object>"
      ]
     },
     "metadata": {},
     "output_type": "display_data"
    },
    {
     "data": {
      "text/html": [
       " View run at <a href='https://wandb.ai/xmatovice/uncategorized/runs/mf9ml5jt' target=\"_blank\">https://wandb.ai/xmatovice/uncategorized/runs/mf9ml5jt</a>"
      ],
      "text/plain": [
       "<IPython.core.display.HTML object>"
      ]
     },
     "metadata": {},
     "output_type": "display_data"
    },
    {
     "name": "stdout",
     "output_type": "stream",
     "text": [
      "Epoch 99/100:                 train loss 0.7780391363450039,                 validation loss 3.5519761827256944,                 train accuracy 24.814814814814813,                 validation accuracy 71.66666666666667\n",
      "Accuracy epoch: 64.500\n",
      "Accuracy total: 64.500\n",
      "{'0': {'f1-score': 0.8141592920353983,\n",
      "       'precision': 0.92,\n",
      "       'recall': 0.7301587301587301,\n",
      "       'support': 63},\n",
      " '1': {'f1-score': 0.568421052631579,\n",
      "       'precision': 0.5869565217391305,\n",
      "       'recall': 0.5510204081632653,\n",
      "       'support': 49},\n",
      " '2': {'f1-score': 0.4444444444444445,\n",
      "       'precision': 0.46153846153846156,\n",
      "       'recall': 0.42857142857142855,\n",
      "       'support': 42},\n",
      " '3': {'f1-score': 0.6846846846846848,\n",
      "       'precision': 0.5846153846153846,\n",
      "       'recall': 0.8260869565217391,\n",
      "       'support': 46},\n",
      " 'accuracy': 0.645,\n",
      " 'macro avg': {'f1-score': 0.6279273684490266,\n",
      "               'precision': 0.6382775919732442,\n",
      "               'recall': 0.6339593808537908,\n",
      "               'support': 200},\n",
      " 'weighted avg': {'f1-score': 0.6465341456966982,\n",
      "                  'precision': 0.6649889632107023,\n",
      "                  'recall': 0.645,\n",
      "                  'support': 200}}\n"
     ]
    },
    {
     "data": {
      "text/html": [
       "Waiting for W&B process to finish... <strong style=\"color:green\">(success).</strong>"
      ],
      "text/plain": [
       "<IPython.core.display.HTML object>"
      ]
     },
     "metadata": {},
     "output_type": "display_data"
    },
    {
     "data": {
      "application/vnd.jupyter.widget-view+json": {
       "model_id": "8c06e9f101e243f8a496058219b29d6b",
       "version_major": 2,
       "version_minor": 0
      },
      "text/plain": [
       "VBox(children=(Label(value='0.003 MB of 0.003 MB uploaded (0.000 MB deduped)\\r'), FloatProgress(value=1.0, max…"
      ]
     },
     "metadata": {},
     "output_type": "display_data"
    },
    {
     "data": {
      "text/html": [
       "<style>\n",
       "    table.wandb td:nth-child(1) { padding: 0 10px; text-align: left ; width: auto;} td:nth-child(2) {text-align: left ; width: 100%}\n",
       "    .wandb-row { display: flex; flex-direction: row; flex-wrap: wrap; justify-content: flex-start; width: 100% }\n",
       "    .wandb-col { display: flex; flex-direction: column; flex-basis: 100%; flex: 1; padding: 10px; }\n",
       "    </style>\n",
       "<div class=\"wandb-row\"><div class=\"wandb-col\"><h3>Run history:</h3><br/><table class=\"wandb\"><tr><td>macro avg f1-score</td><td>▁</td></tr><tr><td>macro avg precision</td><td>▁</td></tr><tr><td>macro avg recall</td><td>▁</td></tr><tr><td>macro avg support</td><td>▁</td></tr><tr><td>test accuracy</td><td>▁</td></tr><tr><td>train accuracy</td><td>▁▁▃▄▅▅▅▆▅▆▆▅▆▆▆▆▆▆▆▇▇▇▇▇█▇▇▇▇▇▇▇▇█▇▇▇▇▇▇</td></tr><tr><td>train loss</td><td>█▁▁▁▁▁▁▁▁▁▁▁▁▁▁▁▁▁▁▁▁▁▁▁▁▁▁▁▁▁▁▁▁▁▁▁▁▁▁▁</td></tr><tr><td>val_loss</td><td>█▁▁▁▁▁▁▁▁▁▁▁▁▁▁▁▁▁▁▁▁▁▁▁▁▁▁▁▁▁▁▁▁▁▁▁▁▁▁▁</td></tr><tr><td>validation accuracy</td><td>▁▂▄▃▅▅▅▆▅▅▅▆▆▅▇▇▇▆▇▆▇▇▇▆▇▇▇▇▇▇▇▇▇█▇█▇▇▇▇</td></tr><tr><td>weighted avg f1-score</td><td>▁</td></tr><tr><td>weighted avg precision</td><td>▁</td></tr><tr><td>weighted avg recall</td><td>▁</td></tr><tr><td>weighted avg support</td><td>▁</td></tr></table><br/></div><div class=\"wandb-col\"><h3>Run summary:</h3><br/><table class=\"wandb\"><tr><td>macro avg f1-score</td><td>0.62793</td></tr><tr><td>macro avg precision</td><td>0.63828</td></tr><tr><td>macro avg recall</td><td>0.63396</td></tr><tr><td>macro avg support</td><td>200</td></tr><tr><td>test accuracy</td><td>64.5</td></tr><tr><td>train accuracy</td><td>24.81481</td></tr><tr><td>train loss</td><td>0.77804</td></tr><tr><td>val_loss</td><td>3.55198</td></tr><tr><td>validation accuracy</td><td>71.66667</td></tr><tr><td>weighted avg f1-score</td><td>0.64653</td></tr><tr><td>weighted avg precision</td><td>0.66499</td></tr><tr><td>weighted avg recall</td><td>0.645</td></tr><tr><td>weighted avg support</td><td>200</td></tr></table><br/></div></div>"
      ],
      "text/plain": [
       "<IPython.core.display.HTML object>"
      ]
     },
     "metadata": {},
     "output_type": "display_data"
    },
    {
     "data": {
      "text/html": [
       " View run <strong style=\"color:#cdcd00\">wobbly-sweep-8</strong> at: <a href='https://wandb.ai/xmatovice/uncategorized/runs/mf9ml5jt' target=\"_blank\">https://wandb.ai/xmatovice/uncategorized/runs/mf9ml5jt</a><br/>Synced 6 W&B file(s), 0 media file(s), 0 artifact file(s) and 0 other file(s)"
      ],
      "text/plain": [
       "<IPython.core.display.HTML object>"
      ]
     },
     "metadata": {},
     "output_type": "display_data"
    },
    {
     "data": {
      "text/html": [
       "Find logs at: <code>./wandb/run-20230326_190514-mf9ml5jt/logs</code>"
      ],
      "text/plain": [
       "<IPython.core.display.HTML object>"
      ]
     },
     "metadata": {},
     "output_type": "display_data"
    },
    {
     "name": "stderr",
     "output_type": "stream",
     "text": [
      "\u001b[34m\u001b[1mwandb\u001b[0m: Agent Starting Run: 2spncfql with config:\n",
      "\u001b[34m\u001b[1mwandb\u001b[0m: \tbatch_size: 256\n",
      "\u001b[34m\u001b[1mwandb\u001b[0m: \tdense1: 512\n",
      "\u001b[34m\u001b[1mwandb\u001b[0m: \tepochs: 500\n",
      "\u001b[34m\u001b[1mwandb\u001b[0m: \tlearning_rate: 0.03650544536324531\n",
      "Failed to detect the name of this notebook, you can set it manually with the WANDB_NOTEBOOK_NAME environment variable to enable code saving.\n",
      "\u001b[34m\u001b[1mwandb\u001b[0m: \u001b[33mWARNING\u001b[0m Ignored wandb.init() arg project when running a sweep.\n"
     ]
    },
    {
     "data": {
      "text/html": [
       "wandb version 0.14.0 is available!  To upgrade, please run:\n",
       " $ pip install wandb --upgrade"
      ],
      "text/plain": [
       "<IPython.core.display.HTML object>"
      ]
     },
     "metadata": {},
     "output_type": "display_data"
    },
    {
     "data": {
      "text/html": [
       "Tracking run with wandb version 0.13.10"
      ],
      "text/plain": [
       "<IPython.core.display.HTML object>"
      ]
     },
     "metadata": {},
     "output_type": "display_data"
    },
    {
     "data": {
      "text/html": [
       "Run data is saved locally in <code>/home/erik/FIIT/2_Ing/2_semester/NSIETE/cvicenia/zadanie1/src/wandb/run-20230326_190530-2spncfql</code>"
      ],
      "text/plain": [
       "<IPython.core.display.HTML object>"
      ]
     },
     "metadata": {},
     "output_type": "display_data"
    },
    {
     "data": {
      "text/html": [
       "Syncing run <strong><a href='https://wandb.ai/xmatovice/uncategorized/runs/2spncfql' target=\"_blank\">silver-sweep-9</a></strong> to <a href='https://wandb.ai/xmatovice/uncategorized' target=\"_blank\">Weights & Biases</a> (<a href='https://wandb.me/run' target=\"_blank\">docs</a>)<br/>Sweep page: <a href='https://wandb.ai/xmatovice/uncategorized/sweeps/1stel95e' target=\"_blank\">https://wandb.ai/xmatovice/uncategorized/sweeps/1stel95e</a>"
      ],
      "text/plain": [
       "<IPython.core.display.HTML object>"
      ]
     },
     "metadata": {},
     "output_type": "display_data"
    },
    {
     "data": {
      "text/html": [
       " View project at <a href='https://wandb.ai/xmatovice/uncategorized' target=\"_blank\">https://wandb.ai/xmatovice/uncategorized</a>"
      ],
      "text/plain": [
       "<IPython.core.display.HTML object>"
      ]
     },
     "metadata": {},
     "output_type": "display_data"
    },
    {
     "data": {
      "text/html": [
       " View sweep at <a href='https://wandb.ai/xmatovice/uncategorized/sweeps/1stel95e' target=\"_blank\">https://wandb.ai/xmatovice/uncategorized/sweeps/1stel95e</a>"
      ],
      "text/plain": [
       "<IPython.core.display.HTML object>"
      ]
     },
     "metadata": {},
     "output_type": "display_data"
    },
    {
     "data": {
      "text/html": [
       " View run at <a href='https://wandb.ai/xmatovice/uncategorized/runs/2spncfql' target=\"_blank\">https://wandb.ai/xmatovice/uncategorized/runs/2spncfql</a>"
      ],
      "text/plain": [
       "<IPython.core.display.HTML object>"
      ]
     },
     "metadata": {},
     "output_type": "display_data"
    },
    {
     "name": "stdout",
     "output_type": "stream",
     "text": [
      "Epoch 499/500:                 train loss 0.42022670227804304,                 validation loss 0.6600441826714409,                 train accuracy 4.444444444444445,                 validation accuracy 79.44444444444444\n",
      "Accuracy epoch: 81.000\n",
      "Accuracy total: 81.000\n",
      "{'0': {'f1-score': 0.9344262295081968,\n",
      "       'precision': 0.9661016949152542,\n",
      "       'recall': 0.9047619047619048,\n",
      "       'support': 63},\n",
      " '1': {'f1-score': 0.7391304347826086,\n",
      "       'precision': 0.7906976744186046,\n",
      "       'recall': 0.6938775510204082,\n",
      "       'support': 49},\n",
      " '2': {'f1-score': 0.6590909090909092,\n",
      "       'precision': 0.6304347826086957,\n",
      "       'recall': 0.6904761904761905,\n",
      "       'support': 42},\n",
      " '3': {'f1-score': 0.8571428571428572,\n",
      "       'precision': 0.8076923076923077,\n",
      "       'recall': 0.9130434782608695,\n",
      "       'support': 46},\n",
      " 'accuracy': 0.81,\n",
      " 'macro avg': {'f1-score': 0.797447607631143,\n",
      "               'precision': 0.7987316149087156,\n",
      "               'recall': 0.8005397811298433,\n",
      "               'support': 200},\n",
      " 'weighted avg': {'f1-score': 0.8109831668687693,\n",
      "                  'precision': 0.8162034992479201,\n",
      "                  'recall': 0.81,\n",
      "                  'support': 200}}\n"
     ]
    },
    {
     "data": {
      "text/html": [
       "Waiting for W&B process to finish... <strong style=\"color:green\">(success).</strong>"
      ],
      "text/plain": [
       "<IPython.core.display.HTML object>"
      ]
     },
     "metadata": {},
     "output_type": "display_data"
    },
    {
     "data": {
      "application/vnd.jupyter.widget-view+json": {
       "model_id": "1866c0bcdc3949b9900281ca4943350d",
       "version_major": 2,
       "version_minor": 0
      },
      "text/plain": [
       "VBox(children=(Label(value='0.003 MB of 0.003 MB uploaded (0.000 MB deduped)\\r'), FloatProgress(value=1.0, max…"
      ]
     },
     "metadata": {},
     "output_type": "display_data"
    },
    {
     "data": {
      "text/html": [
       "<style>\n",
       "    table.wandb td:nth-child(1) { padding: 0 10px; text-align: left ; width: auto;} td:nth-child(2) {text-align: left ; width: 100%}\n",
       "    .wandb-row { display: flex; flex-direction: row; flex-wrap: wrap; justify-content: flex-start; width: 100% }\n",
       "    .wandb-col { display: flex; flex-direction: column; flex-basis: 100%; flex: 1; padding: 10px; }\n",
       "    </style>\n",
       "<div class=\"wandb-row\"><div class=\"wandb-col\"><h3>Run history:</h3><br/><table class=\"wandb\"><tr><td>macro avg f1-score</td><td>▁</td></tr><tr><td>macro avg precision</td><td>▁</td></tr><tr><td>macro avg recall</td><td>▁</td></tr><tr><td>macro avg support</td><td>▁</td></tr><tr><td>test accuracy</td><td>▁</td></tr><tr><td>train accuracy</td><td>▂▁▁▃▂▃▅▅▃▄▄▆▅▅▃▅▅▇▆▆▇▆▇▄▃▆▆▆▇▆▇▅▇▇▇▇▇▇██</td></tr><tr><td>train loss</td><td>█▂▂▁▁▁▁▁▁▁▁▁▁▁▁▁▁▁▁▁▁▁▁▁▁▁▁▁▁▁▁▁▁▁▁▁▁▁▁▁</td></tr><tr><td>val_loss</td><td>█▂▂▂▂▂▂▂▂▂▂▂▁▁▁▁▁▁▁▁▁▁▁▂▁▁▁▁▁▁▁▁▁▁▁▁▁▁▁▁</td></tr><tr><td>validation accuracy</td><td>▁▃▃▃▃▅▅▄▅▅▅▅▆▆▆▇▆▇▇▇▇▅▇▅▇▇▇▆▇█▇▇▇▇█▇█▇▇█</td></tr><tr><td>weighted avg f1-score</td><td>▁</td></tr><tr><td>weighted avg precision</td><td>▁</td></tr><tr><td>weighted avg recall</td><td>▁</td></tr><tr><td>weighted avg support</td><td>▁</td></tr></table><br/></div><div class=\"wandb-col\"><h3>Run summary:</h3><br/><table class=\"wandb\"><tr><td>macro avg f1-score</td><td>0.79745</td></tr><tr><td>macro avg precision</td><td>0.79873</td></tr><tr><td>macro avg recall</td><td>0.80054</td></tr><tr><td>macro avg support</td><td>200</td></tr><tr><td>test accuracy</td><td>81.0</td></tr><tr><td>train accuracy</td><td>4.44444</td></tr><tr><td>train loss</td><td>0.42023</td></tr><tr><td>val_loss</td><td>0.66004</td></tr><tr><td>validation accuracy</td><td>79.44444</td></tr><tr><td>weighted avg f1-score</td><td>0.81098</td></tr><tr><td>weighted avg precision</td><td>0.8162</td></tr><tr><td>weighted avg recall</td><td>0.81</td></tr><tr><td>weighted avg support</td><td>200</td></tr></table><br/></div></div>"
      ],
      "text/plain": [
       "<IPython.core.display.HTML object>"
      ]
     },
     "metadata": {},
     "output_type": "display_data"
    },
    {
     "data": {
      "text/html": [
       " View run <strong style=\"color:#cdcd00\">silver-sweep-9</strong> at: <a href='https://wandb.ai/xmatovice/uncategorized/runs/2spncfql' target=\"_blank\">https://wandb.ai/xmatovice/uncategorized/runs/2spncfql</a><br/>Synced 6 W&B file(s), 0 media file(s), 0 artifact file(s) and 0 other file(s)"
      ],
      "text/plain": [
       "<IPython.core.display.HTML object>"
      ]
     },
     "metadata": {},
     "output_type": "display_data"
    },
    {
     "data": {
      "text/html": [
       "Find logs at: <code>./wandb/run-20230326_190530-2spncfql/logs</code>"
      ],
      "text/plain": [
       "<IPython.core.display.HTML object>"
      ]
     },
     "metadata": {},
     "output_type": "display_data"
    },
    {
     "name": "stderr",
     "output_type": "stream",
     "text": [
      "\u001b[34m\u001b[1mwandb\u001b[0m: Agent Starting Run: qiteiskr with config:\n",
      "\u001b[34m\u001b[1mwandb\u001b[0m: \tbatch_size: 512\n",
      "\u001b[34m\u001b[1mwandb\u001b[0m: \tdense1: 512\n",
      "\u001b[34m\u001b[1mwandb\u001b[0m: \tepochs: 1000\n",
      "\u001b[34m\u001b[1mwandb\u001b[0m: \tlearning_rate: 0.03159096579743968\n",
      "Failed to detect the name of this notebook, you can set it manually with the WANDB_NOTEBOOK_NAME environment variable to enable code saving.\n",
      "\u001b[34m\u001b[1mwandb\u001b[0m: \u001b[33mWARNING\u001b[0m Ignored wandb.init() arg project when running a sweep.\n"
     ]
    },
    {
     "data": {
      "text/html": [
       "wandb version 0.14.0 is available!  To upgrade, please run:\n",
       " $ pip install wandb --upgrade"
      ],
      "text/plain": [
       "<IPython.core.display.HTML object>"
      ]
     },
     "metadata": {},
     "output_type": "display_data"
    },
    {
     "data": {
      "text/html": [
       "Tracking run with wandb version 0.13.10"
      ],
      "text/plain": [
       "<IPython.core.display.HTML object>"
      ]
     },
     "metadata": {},
     "output_type": "display_data"
    },
    {
     "data": {
      "text/html": [
       "Run data is saved locally in <code>/home/erik/FIIT/2_Ing/2_semester/NSIETE/cvicenia/zadanie1/src/wandb/run-20230326_190556-qiteiskr</code>"
      ],
      "text/plain": [
       "<IPython.core.display.HTML object>"
      ]
     },
     "metadata": {},
     "output_type": "display_data"
    },
    {
     "data": {
      "text/html": [
       "Syncing run <strong><a href='https://wandb.ai/xmatovice/uncategorized/runs/qiteiskr' target=\"_blank\">peachy-sweep-10</a></strong> to <a href='https://wandb.ai/xmatovice/uncategorized' target=\"_blank\">Weights & Biases</a> (<a href='https://wandb.me/run' target=\"_blank\">docs</a>)<br/>Sweep page: <a href='https://wandb.ai/xmatovice/uncategorized/sweeps/1stel95e' target=\"_blank\">https://wandb.ai/xmatovice/uncategorized/sweeps/1stel95e</a>"
      ],
      "text/plain": [
       "<IPython.core.display.HTML object>"
      ]
     },
     "metadata": {},
     "output_type": "display_data"
    },
    {
     "data": {
      "text/html": [
       " View project at <a href='https://wandb.ai/xmatovice/uncategorized' target=\"_blank\">https://wandb.ai/xmatovice/uncategorized</a>"
      ],
      "text/plain": [
       "<IPython.core.display.HTML object>"
      ]
     },
     "metadata": {},
     "output_type": "display_data"
    },
    {
     "data": {
      "text/html": [
       " View sweep at <a href='https://wandb.ai/xmatovice/uncategorized/sweeps/1stel95e' target=\"_blank\">https://wandb.ai/xmatovice/uncategorized/sweeps/1stel95e</a>"
      ],
      "text/plain": [
       "<IPython.core.display.HTML object>"
      ]
     },
     "metadata": {},
     "output_type": "display_data"
    },
    {
     "data": {
      "text/html": [
       " View run at <a href='https://wandb.ai/xmatovice/uncategorized/runs/qiteiskr' target=\"_blank\">https://wandb.ai/xmatovice/uncategorized/runs/qiteiskr</a>"
      ],
      "text/plain": [
       "<IPython.core.display.HTML object>"
      ]
     },
     "metadata": {},
     "output_type": "display_data"
    },
    {
     "name": "stdout",
     "output_type": "stream",
     "text": [
      "Epoch 999/1000:                 train loss 1.751537181712963,                 validation loss 3.9504075792100695,                 train accuracy 1.3580246913580247,                 validation accuracy 20.555555555555554\n",
      "Accuracy epoch: 23.000\n",
      "Accuracy total: 23.000\n",
      "{'0': {'f1-score': 0.0, 'precision': 0.0, 'recall': 0.0, 'support': 63},\n",
      " '1': {'f1-score': 0.0, 'precision': 0.0, 'recall': 0.0, 'support': 49},\n",
      " '2': {'f1-score': 0.0, 'precision': 0.0, 'recall': 0.0, 'support': 42},\n",
      " '3': {'f1-score': 0.3739837398373984,\n",
      "       'precision': 0.23,\n",
      "       'recall': 1.0,\n",
      "       'support': 46},\n",
      " 'accuracy': 0.23,\n",
      " 'macro avg': {'f1-score': 0.0934959349593496,\n",
      "               'precision': 0.0575,\n",
      "               'recall': 0.25,\n",
      "               'support': 200},\n",
      " 'weighted avg': {'f1-score': 0.08601626016260162,\n",
      "                  'precision': 0.0529,\n",
      "                  'recall': 0.23,\n",
      "                  'support': 200}}\n"
     ]
    },
    {
     "data": {
      "text/html": [
       "Waiting for W&B process to finish... <strong style=\"color:green\">(success).</strong>"
      ],
      "text/plain": [
       "<IPython.core.display.HTML object>"
      ]
     },
     "metadata": {},
     "output_type": "display_data"
    },
    {
     "data": {
      "application/vnd.jupyter.widget-view+json": {
       "model_id": "57fdf5e04dc94182ac924253631c2716",
       "version_major": 2,
       "version_minor": 0
      },
      "text/plain": [
       "VBox(children=(Label(value='0.003 MB of 0.003 MB uploaded (0.000 MB deduped)\\r'), FloatProgress(value=1.0, max…"
      ]
     },
     "metadata": {},
     "output_type": "display_data"
    },
    {
     "data": {
      "text/html": [
       "<style>\n",
       "    table.wandb td:nth-child(1) { padding: 0 10px; text-align: left ; width: auto;} td:nth-child(2) {text-align: left ; width: 100%}\n",
       "    .wandb-row { display: flex; flex-direction: row; flex-wrap: wrap; justify-content: flex-start; width: 100% }\n",
       "    .wandb-col { display: flex; flex-direction: column; flex-basis: 100%; flex: 1; padding: 10px; }\n",
       "    </style>\n",
       "<div class=\"wandb-row\"><div class=\"wandb-col\"><h3>Run history:</h3><br/><table class=\"wandb\"><tr><td>macro avg f1-score</td><td>▁</td></tr><tr><td>macro avg precision</td><td>▁</td></tr><tr><td>macro avg recall</td><td>▁</td></tr><tr><td>macro avg support</td><td>▁</td></tr><tr><td>test accuracy</td><td>▁</td></tr><tr><td>train accuracy</td><td>▅█▇█▆▃▂▆▄▃▂▂▃▃▄▃▁▄▃▂▄▂▃▅▃▃▂▃▄▂▅▃▃▄▂▃▃▃▄▄</td></tr><tr><td>train loss</td><td>▆▂▁▂▂██▆▆███████████████████████████████</td></tr><tr><td>val_loss</td><td>█▁▁▂▂▄▄▃▆▄▄▄▄▄▄▄▄▄▄▄▄▄▄▄▄▄▄▄▄▄▄▄▄▄▄▄▄▄▄▄</td></tr><tr><td>validation accuracy</td><td>▅█▇█▇▂▁▇▂▃▂▃▂▂▃▂▂▂▁▁▁▃▁▃▃▁▃▁▁▃▁▁▁▁▁▃▃▃▁▁</td></tr><tr><td>weighted avg f1-score</td><td>▁</td></tr><tr><td>weighted avg precision</td><td>▁</td></tr><tr><td>weighted avg recall</td><td>▁</td></tr><tr><td>weighted avg support</td><td>▁</td></tr></table><br/></div><div class=\"wandb-col\"><h3>Run summary:</h3><br/><table class=\"wandb\"><tr><td>macro avg f1-score</td><td>0.0935</td></tr><tr><td>macro avg precision</td><td>0.0575</td></tr><tr><td>macro avg recall</td><td>0.25</td></tr><tr><td>macro avg support</td><td>200</td></tr><tr><td>test accuracy</td><td>23.0</td></tr><tr><td>train accuracy</td><td>1.35802</td></tr><tr><td>train loss</td><td>1.75154</td></tr><tr><td>val_loss</td><td>3.95041</td></tr><tr><td>validation accuracy</td><td>20.55556</td></tr><tr><td>weighted avg f1-score</td><td>0.08602</td></tr><tr><td>weighted avg precision</td><td>0.0529</td></tr><tr><td>weighted avg recall</td><td>0.23</td></tr><tr><td>weighted avg support</td><td>200</td></tr></table><br/></div></div>"
      ],
      "text/plain": [
       "<IPython.core.display.HTML object>"
      ]
     },
     "metadata": {},
     "output_type": "display_data"
    },
    {
     "data": {
      "text/html": [
       " View run <strong style=\"color:#cdcd00\">peachy-sweep-10</strong> at: <a href='https://wandb.ai/xmatovice/uncategorized/runs/qiteiskr' target=\"_blank\">https://wandb.ai/xmatovice/uncategorized/runs/qiteiskr</a><br/>Synced 6 W&B file(s), 0 media file(s), 0 artifact file(s) and 0 other file(s)"
      ],
      "text/plain": [
       "<IPython.core.display.HTML object>"
      ]
     },
     "metadata": {},
     "output_type": "display_data"
    },
    {
     "data": {
      "text/html": [
       "Find logs at: <code>./wandb/run-20230326_190556-qiteiskr/logs</code>"
      ],
      "text/plain": [
       "<IPython.core.display.HTML object>"
      ]
     },
     "metadata": {},
     "output_type": "display_data"
    }
   ],
   "source": [
    "wandb.agent(sweep_id, function=wandb_sweep, count=10)"
   ]
  },
  {
   "cell_type": "code",
   "execution_count": 49,
   "metadata": {},
   "outputs": [],
   "source": [
    "wandb.finish()"
   ]
  },
  {
   "cell_type": "code",
   "execution_count": 50,
   "metadata": {},
   "outputs": [
    {
     "name": "stderr",
     "output_type": "stream",
     "text": [
      "\u001b[34m\u001b[1mwandb\u001b[0m: Sorting runs by -summary_metrics.validation_accuracy\n"
     ]
    },
    {
     "name": "stdout",
     "output_type": "stream",
     "text": [
      "2hfg3dq6\n",
      "{'batch_size': 128,\n",
      " 'dense1': 256,\n",
      " 'epochs': 100,\n",
      " 'learning_rate': 0.03648030109469176}\n"
     ]
    }
   ],
   "source": [
    "api = wandb.Api()\n",
    "sweep = api.sweep(\"xmatovice/uncategorized/sweeps/\" + sweep_id)\n",
    "\n",
    "best_run = sweep.best_run()\n",
    "print(best_run.id)\n",
    "pprint(best_run.config)"
   ]
  }
 ],
 "metadata": {
  "kernelspec": {
   "display_name": ".venv",
   "language": "python",
   "name": "python3"
  },
  "language_info": {
   "codemirror_mode": {
    "name": "ipython",
    "version": 3
   },
   "file_extension": ".py",
   "mimetype": "text/x-python",
   "name": "python",
   "nbconvert_exporter": "python",
   "pygments_lexer": "ipython3",
   "version": "3.8.16"
  },
  "orig_nbformat": 4,
  "vscode": {
   "interpreter": {
    "hash": "22572a537a013be16678bbb158e31ceea43b60ab6a76409382b26a5e76ea4d98"
   }
  }
 },
 "nbformat": 4,
 "nbformat_minor": 2
}
